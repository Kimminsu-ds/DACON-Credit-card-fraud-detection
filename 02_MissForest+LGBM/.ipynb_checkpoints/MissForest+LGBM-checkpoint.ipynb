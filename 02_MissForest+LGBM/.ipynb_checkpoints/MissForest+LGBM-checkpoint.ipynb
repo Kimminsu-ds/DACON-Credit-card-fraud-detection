{
 "cells": [
  {
   "cell_type": "markdown",
   "metadata": {},
   "source": [
    "# Project: 신용카드 사기 거래 탐지 AI 경진대회"
   ]
  },
  {
   "cell_type": "markdown",
   "metadata": {},
   "source": [
    "#### Author: 김민수(kimminsu.ds@gmail.com)"
   ]
  },
  {
   "cell_type": "markdown",
   "metadata": {},
   "source": [
    "## 환경설정 "
   ]
  },
  {
   "cell_type": "markdown",
   "metadata": {},
   "source": [
    "### 패키지"
   ]
  },
  {
   "cell_type": "code",
   "execution_count": 169,
   "metadata": {},
   "outputs": [],
   "source": [
    "import pandas as pd\n",
    "import numpy as np\n",
    "import optuna\n",
    "import warnings\n",
    "\n",
    "from missingpy                import MissForest\n",
    "from sklearn.metrics          import f1_score, recall_score, precision_score\n",
    "from lightgbm                 import LGBMClassifier, Dataset\n",
    "from optuna.samplers          import TPESampler"
   ]
  },
  {
   "cell_type": "code",
   "execution_count": 170,
   "metadata": {},
   "outputs": [],
   "source": [
    "warnings.filterwarnings(action='ignore')"
   ]
  },
  {
   "cell_type": "markdown",
   "metadata": {},
   "source": [
    "### 데이터"
   ]
  },
  {
   "cell_type": "code",
   "execution_count": 171,
   "metadata": {},
   "outputs": [],
   "source": [
    "train = pd.read_csv(\"../data/train.csv\")\n",
    "valid = pd.read_csv(\"../data/val.csv\")"
   ]
  },
  {
   "cell_type": "markdown",
   "metadata": {},
   "source": [
    "#### 데이터 확인"
   ]
  },
  {
   "cell_type": "code",
   "execution_count": 172,
   "metadata": {},
   "outputs": [
    {
     "name": "stdout",
     "output_type": "stream",
     "text": [
      "train.shape: (113842, 31)\n",
      "train.isnull().sum().sum(): 0\n"
     ]
    },
    {
     "data": {
      "text/html": [
       "<div>\n",
       "<style scoped>\n",
       "    .dataframe tbody tr th:only-of-type {\n",
       "        vertical-align: middle;\n",
       "    }\n",
       "\n",
       "    .dataframe tbody tr th {\n",
       "        vertical-align: top;\n",
       "    }\n",
       "\n",
       "    .dataframe thead th {\n",
       "        text-align: right;\n",
       "    }\n",
       "</style>\n",
       "<table border=\"1\" class=\"dataframe\">\n",
       "  <thead>\n",
       "    <tr style=\"text-align: right;\">\n",
       "      <th></th>\n",
       "      <th>ID</th>\n",
       "      <th>V1</th>\n",
       "      <th>V2</th>\n",
       "      <th>V3</th>\n",
       "      <th>V4</th>\n",
       "      <th>V5</th>\n",
       "      <th>V6</th>\n",
       "      <th>V7</th>\n",
       "      <th>V8</th>\n",
       "      <th>V9</th>\n",
       "      <th>...</th>\n",
       "      <th>V21</th>\n",
       "      <th>V22</th>\n",
       "      <th>V23</th>\n",
       "      <th>V24</th>\n",
       "      <th>V25</th>\n",
       "      <th>V26</th>\n",
       "      <th>V27</th>\n",
       "      <th>V28</th>\n",
       "      <th>V29</th>\n",
       "      <th>V30</th>\n",
       "    </tr>\n",
       "  </thead>\n",
       "  <tbody>\n",
       "    <tr>\n",
       "      <th>0</th>\n",
       "      <td>3</td>\n",
       "      <td>-1.358354</td>\n",
       "      <td>-1.340163</td>\n",
       "      <td>1.773209</td>\n",
       "      <td>0.379780</td>\n",
       "      <td>-0.503198</td>\n",
       "      <td>1.800499</td>\n",
       "      <td>0.791461</td>\n",
       "      <td>0.247676</td>\n",
       "      <td>-1.514654</td>\n",
       "      <td>...</td>\n",
       "      <td>0.247998</td>\n",
       "      <td>0.771679</td>\n",
       "      <td>0.909412</td>\n",
       "      <td>-0.689281</td>\n",
       "      <td>-0.327642</td>\n",
       "      <td>-0.139097</td>\n",
       "      <td>-0.055353</td>\n",
       "      <td>-0.059752</td>\n",
       "      <td>4.983721</td>\n",
       "      <td>-0.994972</td>\n",
       "    </tr>\n",
       "    <tr>\n",
       "      <th>1</th>\n",
       "      <td>4</td>\n",
       "      <td>-0.966272</td>\n",
       "      <td>-0.185226</td>\n",
       "      <td>1.792993</td>\n",
       "      <td>-0.863291</td>\n",
       "      <td>-0.010309</td>\n",
       "      <td>1.247203</td>\n",
       "      <td>0.237609</td>\n",
       "      <td>0.377436</td>\n",
       "      <td>-1.387024</td>\n",
       "      <td>...</td>\n",
       "      <td>-0.108300</td>\n",
       "      <td>0.005274</td>\n",
       "      <td>-0.190321</td>\n",
       "      <td>-1.175575</td>\n",
       "      <td>0.647376</td>\n",
       "      <td>-0.221929</td>\n",
       "      <td>0.062723</td>\n",
       "      <td>0.061458</td>\n",
       "      <td>1.418291</td>\n",
       "      <td>-0.994972</td>\n",
       "    </tr>\n",
       "  </tbody>\n",
       "</table>\n",
       "<p>2 rows × 31 columns</p>\n",
       "</div>"
      ],
      "text/plain": [
       "   ID        V1        V2        V3        V4        V5        V6        V7  \\\n",
       "0   3 -1.358354 -1.340163  1.773209  0.379780 -0.503198  1.800499  0.791461   \n",
       "1   4 -0.966272 -0.185226  1.792993 -0.863291 -0.010309  1.247203  0.237609   \n",
       "\n",
       "         V8        V9  ...       V21       V22       V23       V24       V25  \\\n",
       "0  0.247676 -1.514654  ...  0.247998  0.771679  0.909412 -0.689281 -0.327642   \n",
       "1  0.377436 -1.387024  ... -0.108300  0.005274 -0.190321 -1.175575  0.647376   \n",
       "\n",
       "        V26       V27       V28       V29       V30  \n",
       "0 -0.139097 -0.055353 -0.059752  4.983721 -0.994972  \n",
       "1 -0.221929  0.062723  0.061458  1.418291 -0.994972  \n",
       "\n",
       "[2 rows x 31 columns]"
      ]
     },
     "execution_count": 172,
     "metadata": {},
     "output_type": "execute_result"
    }
   ],
   "source": [
    "print(\"train.shape: {}\".format(train.shape))\n",
    "print(\"train.isnull().sum().sum(): {}\".format(train.isnull().sum().sum()))\n",
    "train.head(2)"
   ]
  },
  {
   "cell_type": "code",
   "execution_count": 173,
   "metadata": {},
   "outputs": [
    {
     "name": "stdout",
     "output_type": "stream",
     "text": [
      "valid.shape: (28462, 32)\n",
      "valid.isnull().sum().sum(): 0\n"
     ]
    },
    {
     "data": {
      "text/html": [
       "<div>\n",
       "<style scoped>\n",
       "    .dataframe tbody tr th:only-of-type {\n",
       "        vertical-align: middle;\n",
       "    }\n",
       "\n",
       "    .dataframe tbody tr th {\n",
       "        vertical-align: top;\n",
       "    }\n",
       "\n",
       "    .dataframe thead th {\n",
       "        text-align: right;\n",
       "    }\n",
       "</style>\n",
       "<table border=\"1\" class=\"dataframe\">\n",
       "  <thead>\n",
       "    <tr style=\"text-align: right;\">\n",
       "      <th></th>\n",
       "      <th>ID</th>\n",
       "      <th>V1</th>\n",
       "      <th>V2</th>\n",
       "      <th>V3</th>\n",
       "      <th>V4</th>\n",
       "      <th>V5</th>\n",
       "      <th>V6</th>\n",
       "      <th>V7</th>\n",
       "      <th>V8</th>\n",
       "      <th>V9</th>\n",
       "      <th>...</th>\n",
       "      <th>V22</th>\n",
       "      <th>V23</th>\n",
       "      <th>V24</th>\n",
       "      <th>V25</th>\n",
       "      <th>V26</th>\n",
       "      <th>V27</th>\n",
       "      <th>V28</th>\n",
       "      <th>V29</th>\n",
       "      <th>V30</th>\n",
       "      <th>Class</th>\n",
       "    </tr>\n",
       "  </thead>\n",
       "  <tbody>\n",
       "    <tr>\n",
       "      <th>0</th>\n",
       "      <td>10</td>\n",
       "      <td>-0.338262</td>\n",
       "      <td>1.119593</td>\n",
       "      <td>1.044367</td>\n",
       "      <td>-0.222187</td>\n",
       "      <td>0.499361</td>\n",
       "      <td>-0.246761</td>\n",
       "      <td>0.651583</td>\n",
       "      <td>0.069539</td>\n",
       "      <td>-0.736727</td>\n",
       "      <td>...</td>\n",
       "      <td>-0.633753</td>\n",
       "      <td>-0.120794</td>\n",
       "      <td>-0.385050</td>\n",
       "      <td>-0.069733</td>\n",
       "      <td>0.094199</td>\n",
       "      <td>0.246219</td>\n",
       "      <td>0.083076</td>\n",
       "      <td>-0.255991</td>\n",
       "      <td>-0.994878</td>\n",
       "      <td>0</td>\n",
       "    </tr>\n",
       "    <tr>\n",
       "      <th>1</th>\n",
       "      <td>22</td>\n",
       "      <td>0.962496</td>\n",
       "      <td>0.328461</td>\n",
       "      <td>-0.171479</td>\n",
       "      <td>2.109204</td>\n",
       "      <td>1.129566</td>\n",
       "      <td>1.696038</td>\n",
       "      <td>0.107712</td>\n",
       "      <td>0.521502</td>\n",
       "      <td>-1.191311</td>\n",
       "      <td>...</td>\n",
       "      <td>0.402492</td>\n",
       "      <td>-0.048508</td>\n",
       "      <td>-1.371866</td>\n",
       "      <td>0.390814</td>\n",
       "      <td>0.199964</td>\n",
       "      <td>0.016371</td>\n",
       "      <td>-0.014605</td>\n",
       "      <td>0.168937</td>\n",
       "      <td>-0.994784</td>\n",
       "      <td>0</td>\n",
       "    </tr>\n",
       "  </tbody>\n",
       "</table>\n",
       "<p>2 rows × 32 columns</p>\n",
       "</div>"
      ],
      "text/plain": [
       "   ID        V1        V2        V3        V4        V5        V6        V7  \\\n",
       "0  10 -0.338262  1.119593  1.044367 -0.222187  0.499361 -0.246761  0.651583   \n",
       "1  22  0.962496  0.328461 -0.171479  2.109204  1.129566  1.696038  0.107712   \n",
       "\n",
       "         V8        V9  ...       V22       V23       V24       V25       V26  \\\n",
       "0  0.069539 -0.736727  ... -0.633753 -0.120794 -0.385050 -0.069733  0.094199   \n",
       "1  0.521502 -1.191311  ...  0.402492 -0.048508 -1.371866  0.390814  0.199964   \n",
       "\n",
       "        V27       V28       V29       V30  Class  \n",
       "0  0.246219  0.083076 -0.255991 -0.994878      0  \n",
       "1  0.016371 -0.014605  0.168937 -0.994784      0  \n",
       "\n",
       "[2 rows x 32 columns]"
      ]
     },
     "execution_count": 173,
     "metadata": {},
     "output_type": "execute_result"
    }
   ],
   "source": [
    "print(\"valid.shape: {}\".format(valid.shape))\n",
    "print(\"valid.isnull().sum().sum(): {}\".format(valid.isnull().sum().sum()))\n",
    "valid.head(2)"
   ]
  },
  {
   "cell_type": "markdown",
   "metadata": {},
   "source": [
    "## 전처리 "
   ]
  },
  {
   "cell_type": "markdown",
   "metadata": {},
   "source": [
    "### Labeling\n",
    "- train 데이터에는 label이 없음\n",
    "- valid 데이터에만 label이 존재"
   ]
  },
  {
   "cell_type": "markdown",
   "metadata": {},
   "source": [
    "- 0: 정상거래\n",
    "- 1: 이상거래"
   ]
  },
  {
   "cell_type": "code",
   "execution_count": 174,
   "metadata": {},
   "outputs": [
    {
     "name": "stdout",
     "output_type": "stream",
     "text": [
      "valid.Class.value_counts():\n",
      "0    28432\n",
      "1       30\n",
      "Name: Class, dtype: int64\n"
     ]
    }
   ],
   "source": [
    "print(\"valid.Class.value_counts():\\n{}\".format(valid.Class.value_counts()))"
   ]
  },
  {
   "cell_type": "code",
   "execution_count": 175,
   "metadata": {},
   "outputs": [
    {
     "name": "stdout",
     "output_type": "stream",
     "text": [
      "valid.Class.value_counts(normalize=True):\n",
      "0    0.998946\n",
      "1    0.001054\n",
      "Name: Class, dtype: float64\n"
     ]
    }
   ],
   "source": [
    "print(\"valid.Class.value_counts(normalize=True):\\n{}\".format(valid.Class.value_counts(normalize=True)))"
   ]
  },
  {
   "cell_type": "markdown",
   "metadata": {},
   "source": [
    "#### MissForest()\n",
    "- MissFores 알고리즘을 통해 train의 label을 채워넣음"
   ]
  },
  {
   "cell_type": "markdown",
   "metadata": {},
   "source": [
    "#### Imputation을 위한 전처리"
   ]
  },
  {
   "cell_type": "code",
   "execution_count": 176,
   "metadata": {},
   "outputs": [],
   "source": [
    "train['data_cd'] = 'train'\n",
    "valid['data_cd'] = 'valid'"
   ]
  },
  {
   "cell_type": "code",
   "execution_count": 177,
   "metadata": {},
   "outputs": [],
   "source": [
    "df = pd.concat([\n",
    "    train.drop(columns=['ID']),\n",
    "    valid.drop(columns=['ID'])\n",
    "])\n",
    "\n",
    "df.set_index('data_cd', drop=True, inplace=True)\n",
    "df['Class'] = df['Class'].astype(\"category\")\n",
    "cat_cols = [df.columns.get_loc(col) for col in df.select_dtypes(['category']).columns.tolist()]"
   ]
  },
  {
   "cell_type": "markdown",
   "metadata": {},
   "source": [
    "#### Imputation"
   ]
  },
  {
   "cell_type": "code",
   "execution_count": 178,
   "metadata": {},
   "outputs": [
    {
     "name": "stdout",
     "output_type": "stream",
     "text": [
      "Iteration: 0\n",
      "Iteration: 1\n",
      "Iteration: 2\n"
     ]
    }
   ],
   "source": [
    "imputer = MissForest(max_iter=10, n_estimators=1000, random_state=42)\n",
    "df_imputed = imputer.fit_transform(df, cat_vars=cat_cols)\n",
    "df_imputed = pd.DataFrame(df_imputed, columns=df.columns, index=df.index)"
   ]
  },
  {
   "cell_type": "code",
   "execution_count": 180,
   "metadata": {},
   "outputs": [
    {
     "name": "stdout",
     "output_type": "stream",
     "text": [
      "train.Class.value_counts():\n",
      "0.0    113748\n",
      "1.0        94\n",
      "Name: Class, dtype: int64\n"
     ]
    }
   ],
   "source": [
    "train2 = df_imputed[df_imputed.index=='train']\n",
    "train2['ID'] = train['ID']\n",
    "train2.reset_index(drop=True, inplace=True)\n",
    "print(\"train.Class.value_counts():\\n{}\".format(train2.Class.value_counts()))"
   ]
  },
  {
   "cell_type": "code",
   "execution_count": 181,
   "metadata": {},
   "outputs": [
    {
     "name": "stdout",
     "output_type": "stream",
     "text": [
      "train.Class.value_counts():\n",
      "0.0    0.999174\n",
      "1.0    0.000826\n",
      "Name: Class, dtype: float64\n"
     ]
    }
   ],
   "source": [
    "print(\"train.Class.value_counts():\\n{}\".format(train2.Class.value_counts(normalize=True)))"
   ]
  },
  {
   "cell_type": "code",
   "execution_count": 182,
   "metadata": {},
   "outputs": [
    {
     "name": "stdout",
     "output_type": "stream",
     "text": [
      "valid.Class.value_counts():\n",
      "0.0    28432\n",
      "1.0       30\n",
      "Name: Class, dtype: int64\n"
     ]
    }
   ],
   "source": [
    "valid2= df_imputed[df_imputed.index=='valid']\n",
    "valid2['ID'] = valid['ID']\n",
    "valid2.reset_index(drop=True, inplace=True)\n",
    "print(\"valid.Class.value_counts():\\n{}\".format(valid2.Class.value_counts()))"
   ]
  },
  {
   "cell_type": "code",
   "execution_count": 183,
   "metadata": {},
   "outputs": [
    {
     "name": "stdout",
     "output_type": "stream",
     "text": [
      "valid.Class.value_counts():\n",
      "0.0    0.998946\n",
      "1.0    0.001054\n",
      "Name: Class, dtype: float64\n"
     ]
    }
   ],
   "source": [
    "print(\"valid.Class.value_counts():\\n{}\".format(valid2.Class.value_counts(normalize=True)))"
   ]
  },
  {
   "cell_type": "markdown",
   "metadata": {},
   "source": [
    "#### Input data 준비"
   ]
  },
  {
   "cell_type": "code",
   "execution_count": 184,
   "metadata": {},
   "outputs": [],
   "source": [
    "# Train X, y\n",
    "X_train = train2.drop(columns=['ID', 'Class'])\n",
    "y_train = train2['Class']\n",
    "\n",
    "# Valid X, y\n",
    "X_valid = valid2.drop(columns=['ID', 'Class'])\n",
    "y_valid = valid2['Class']"
   ]
  },
  {
   "cell_type": "code",
   "execution_count": 185,
   "metadata": {},
   "outputs": [
    {
     "name": "stdout",
     "output_type": "stream",
     "text": [
      "X_train.shape: (113842, 30)\n",
      "X_valid.shape: (28462, 30)\n",
      "y_train.shape: (113842,)\n",
      "y_valid.shape: (28462,)\n"
     ]
    }
   ],
   "source": [
    "print(\"X_train.shape: {}\".format(X_train.shape))\n",
    "print(\"X_valid.shape: {}\".format(X_valid.shape))\n",
    "print(\"y_train.shape: {}\".format(y_train.shape))\n",
    "print(\"y_valid.shape: {}\".format(y_valid.shape))"
   ]
  },
  {
   "cell_type": "markdown",
   "metadata": {},
   "source": [
    "## 모델링 - LightGBM(default)"
   ]
  },
  {
   "cell_type": "code",
   "execution_count": 186,
   "metadata": {},
   "outputs": [
    {
     "name": "stdout",
     "output_type": "stream",
     "text": [
      "[100]\tvalid_0's binary_logloss: 0.210674\n"
     ]
    },
    {
     "data": {
      "text/plain": [
       "LGBMClassifier(boosting_type='gbdt', class_weight=None, colsample_bytree=1.0,\n",
       "               importance_type='split', learning_rate=0.1, max_depth=-1,\n",
       "               min_child_samples=20, min_child_weight=0.001, min_split_gain=0.0,\n",
       "               n_estimators=100, n_jobs=-1, num_leaves=31, objective=None,\n",
       "               random_state=42, reg_alpha=0.0, reg_lambda=0.0, silent='warn',\n",
       "               subsample=1.0, subsample_for_bin=200000, subsample_freq=0)"
      ]
     },
     "execution_count": 186,
     "metadata": {},
     "output_type": "execute_result"
    }
   ],
   "source": [
    "model = LGBMClassifier(random_state=42)\n",
    "model.fit(X_train, y_train, eval_set=[(X_valid, y_valid)], eval_metric='logloss', verbose=100)"
   ]
  },
  {
   "cell_type": "markdown",
   "metadata": {},
   "source": [
    "#### 예측값 생성"
   ]
  },
  {
   "cell_type": "code",
   "execution_count": 187,
   "metadata": {},
   "outputs": [
    {
     "data": {
      "text/plain": [
       "array([0., 0., 0., ..., 0., 0., 0.])"
      ]
     },
     "execution_count": 187,
     "metadata": {},
     "output_type": "execute_result"
    }
   ],
   "source": [
    "y_valid_pred = model.predict(X_valid)\n",
    "y_valid_pred"
   ]
  },
  {
   "cell_type": "markdown",
   "metadata": {},
   "source": [
    "#### 성능 측정 지표 확인"
   ]
  },
  {
   "cell_type": "code",
   "execution_count": 188,
   "metadata": {},
   "outputs": [
    {
     "name": "stdout",
     "output_type": "stream",
     "text": [
      "Precision: 0.0000\n",
      "Recall   : 0.0000\n",
      "F1-score : 0.4984\n"
     ]
    }
   ],
   "source": [
    "print(\"Precision: {:.4f}\".format(precision_score(y_valid, y_valid_pred)))\n",
    "print(\"Recall   : {:.4f}\".format(recall_score(y_valid, y_valid_pred)))\n",
    "print(\"F1-score : {:.4f}\".format(f1_score(y_valid, y_valid_pred, average=\"macro\")))"
   ]
  },
  {
   "cell_type": "markdown",
   "metadata": {},
   "source": [
    "## 모델링 - LightGBM(Optuna)"
   ]
  },
  {
   "cell_type": "code",
   "execution_count": 189,
   "metadata": {},
   "outputs": [],
   "source": [
    "sampler = TPESampler(seed=42)\n",
    "\n",
    "def objective(trial):\n",
    "    train = Dataset(X_train, label=y_train)\n",
    "    valid = Dataset(X_valid, label=y_valid)\n",
    "    \n",
    "    param = {\n",
    "        'objective' : 'binary',\n",
    "        'seed'      : 42,\n",
    "        'metric'    : 'binary_logloss',\n",
    "        'max_depth' : trial.suggest_int('max_depth', 3, 15),\n",
    "        'learning_rate': trial.suggest_loguniform('learning_rate', 1e-8, 1e-2),\n",
    "        'n_estimators': trial.suggest_int('n_estimators', 100, 2000),\n",
    "        'num_leaves'  : trial.suggest_int('num_leaves', 31, 1024),\n",
    "        'colsample_bytree' : trial.suggest_uniform('colsample_bytree', 0.5, 1.0),\n",
    "        'subsample' :trial.suggest_uniform('subsample', 0.5, 1.0),\n",
    "        'reg_alpha' : trial.suggest_float('reg_alpha', 0.0, 5.0),\n",
    "        'reg_lambda' : trial.suggest_float('reg_lambda', 0.0, 5.0)\n",
    "    }\n",
    "    \n",
    "    model = LGBMClassifier(**param)\n",
    "    model.fit(X_train, y_train, eval_set=[(X_valid, y_valid)], verbose=100)\n",
    "    \n",
    "    y_valid_pred = model.predict(X_valid)\n",
    "    return f1_score(y_valid, y_valid_pred, average=\"macro\")"
   ]
  },
  {
   "cell_type": "code",
   "execution_count": 190,
   "metadata": {
    "collapsed": true
   },
   "outputs": [
    {
     "name": "stderr",
     "output_type": "stream",
     "text": [
      "\u001b[32m[I 2022-07-09 18:28:58,631]\u001b[0m A new study created in memory with name: no-name-2b2a9190-8c32-484b-a157-067242ea49ed\u001b[0m\n"
     ]
    },
    {
     "name": "stdout",
     "output_type": "stream",
     "text": [
      "[100]\tvalid_0's binary_logloss: 0.0037892\n",
      "[200]\tvalid_0's binary_logloss: 0.0029637\n",
      "[300]\tvalid_0's binary_logloss: 0.00264456\n",
      "[400]\tvalid_0's binary_logloss: 0.00248692\n",
      "[500]\tvalid_0's binary_logloss: 0.00240826\n",
      "[600]\tvalid_0's binary_logloss: 0.00237432\n",
      "[700]\tvalid_0's binary_logloss: 0.00236994\n",
      "[800]\tvalid_0's binary_logloss: 0.00238129\n",
      "[900]\tvalid_0's binary_logloss: 0.00239911\n",
      "[1000]\tvalid_0's binary_logloss: 0.00241753\n",
      "[1100]\tvalid_0's binary_logloss: 0.00243627\n",
      "[1200]\tvalid_0's binary_logloss: 0.00245468\n",
      "[1300]\tvalid_0's binary_logloss: 0.00247316\n",
      "[1400]\tvalid_0's binary_logloss: 0.00248981\n"
     ]
    },
    {
     "name": "stderr",
     "output_type": "stream",
     "text": [
      "\u001b[32m[I 2022-07-09 18:29:07,586]\u001b[0m Trial 0 finished with value: 0.8845098845450512 and parameters: {'max_depth': 7, 'learning_rate': 0.005061576888752304, 'n_estimators': 1491, 'num_leaves': 626, 'colsample_bytree': 0.5780093202212182, 'subsample': 0.5779972601681014, 'reg_alpha': 0.2904180608409973, 'reg_lambda': 4.330880728874676}. Best is trial 0 with value: 0.8845098845450512.\u001b[0m\n"
     ]
    },
    {
     "name": "stdout",
     "output_type": "stream",
     "text": [
      "[100]\tvalid_0's binary_logloss: 0.00718593\n"
     ]
    },
    {
     "name": "stderr",
     "output_type": "stream",
     "text": [
      "\u001b[32m[I 2022-07-09 18:29:08,990]\u001b[0m Trial 1 finished with value: 0.4997363518121419 and parameters: {'max_depth': 10, 'learning_rate': 0.00017718847354806813, 'n_estimators': 139, 'num_leaves': 995, 'colsample_bytree': 0.9162213204002109, 'subsample': 0.6061695553391381, 'reg_alpha': 0.9091248360355031, 'reg_lambda': 0.9170225492671691}. Best is trial 0 with value: 0.8845098845450512.\u001b[0m\n"
     ]
    },
    {
     "name": "stdout",
     "output_type": "stream",
     "text": [
      "[100]\tvalid_0's binary_logloss: 0.00825585\n",
      "[200]\tvalid_0's binary_logloss: 0.00820411\n",
      "[300]\tvalid_0's binary_logloss: 0.00815244\n",
      "[400]\tvalid_0's binary_logloss: 0.00810171\n",
      "[500]\tvalid_0's binary_logloss: 0.00805087\n",
      "[600]\tvalid_0's binary_logloss: 0.00799959\n",
      "[700]\tvalid_0's binary_logloss: 0.00794894\n",
      "[800]\tvalid_0's binary_logloss: 0.00789804\n",
      "[900]\tvalid_0's binary_logloss: 0.007848\n"
     ]
    },
    {
     "name": "stderr",
     "output_type": "stream",
     "text": [
      "\u001b[32m[I 2022-07-09 18:29:14,248]\u001b[0m Trial 2 finished with value: 0.4997363518121419 and parameters: {'max_depth': 6, 'learning_rate': 1.4077923139972383e-05, 'n_estimators': 921, 'num_leaves': 320, 'colsample_bytree': 0.8059264473611898, 'subsample': 0.569746930326021, 'reg_alpha': 1.4607232426760908, 'reg_lambda': 1.8318092164684585}. Best is trial 0 with value: 0.8845098845450512.\u001b[0m\n"
     ]
    },
    {
     "name": "stdout",
     "output_type": "stream",
     "text": [
      "[100]\tvalid_0's binary_logloss: 0.00584276\n",
      "[200]\tvalid_0's binary_logloss: 0.00499766\n",
      "[300]\tvalid_0's binary_logloss: 0.00456074\n",
      "[400]\tvalid_0's binary_logloss: 0.0042737\n"
     ]
    },
    {
     "name": "stderr",
     "output_type": "stream",
     "text": [
      "\u001b[32m[I 2022-07-09 18:29:17,189]\u001b[0m Trial 3 finished with value: 0.4997363518121419 and parameters: {'max_depth': 8, 'learning_rate': 0.0005141096648805752, 'n_estimators': 479, 'num_leaves': 542, 'colsample_bytree': 0.7962072844310213, 'subsample': 0.5232252063599989, 'reg_alpha': 3.0377242595071916, 'reg_lambda': 0.8526206184364576}. Best is trial 0 with value: 0.8845098845450512.\u001b[0m\n"
     ]
    },
    {
     "name": "stdout",
     "output_type": "stream",
     "text": [
      "[100]\tvalid_0's binary_logloss: 0.00354759\n",
      "[200]\tvalid_0's binary_logloss: 0.00288824\n",
      "[300]\tvalid_0's binary_logloss: 0.00260843\n",
      "[400]\tvalid_0's binary_logloss: 0.0024882\n",
      "[500]\tvalid_0's binary_logloss: 0.00243715\n",
      "[600]\tvalid_0's binary_logloss: 0.00240417\n",
      "[700]\tvalid_0's binary_logloss: 0.00239316\n",
      "[800]\tvalid_0's binary_logloss: 0.00239019\n",
      "[900]\tvalid_0's binary_logloss: 0.00238771\n",
      "[1000]\tvalid_0's binary_logloss: 0.00239406\n",
      "[1100]\tvalid_0's binary_logloss: 0.00240349\n",
      "[1200]\tvalid_0's binary_logloss: 0.00241149\n",
      "[1300]\tvalid_0's binary_logloss: 0.0024191\n",
      "[1400]\tvalid_0's binary_logloss: 0.00242494\n",
      "[1500]\tvalid_0's binary_logloss: 0.00242991\n",
      "[1600]\tvalid_0's binary_logloss: 0.00243287\n",
      "[1700]\tvalid_0's binary_logloss: 0.00243402\n",
      "[1800]\tvalid_0's binary_logloss: 0.00243458\n",
      "[1900]\tvalid_0's binary_logloss: 0.00243498\n"
     ]
    },
    {
     "name": "stderr",
     "output_type": "stream",
     "text": [
      "\u001b[32m[I 2022-07-09 18:29:27,016]\u001b[0m Trial 4 finished with value: 0.8724347298745778 and parameters: {'max_depth': 3, 'learning_rate': 0.004935296209402108, 'n_estimators': 1935, 'num_leaves': 834, 'colsample_bytree': 0.6523068845866853, 'subsample': 0.5488360570031919, 'reg_alpha': 3.4211651325607844, 'reg_lambda': 2.2007624686980067}. Best is trial 0 with value: 0.8845098845450512.\u001b[0m\n"
     ]
    },
    {
     "name": "stdout",
     "output_type": "stream",
     "text": [
      "[100]\tvalid_0's binary_logloss: 0.00828341\n"
     ]
    },
    {
     "name": "stderr",
     "output_type": "stream",
     "text": [
      "\u001b[32m[I 2022-07-09 18:29:28,351]\u001b[0m Trial 5 finished with value: 0.4997363518121419 and parameters: {'max_depth': 4, 'learning_rate': 9.355380606452177e-06, 'n_estimators': 165, 'num_leaves': 934, 'colsample_bytree': 0.6293899908000085, 'subsample': 0.831261142176991, 'reg_alpha': 1.5585553804470549, 'reg_lambda': 2.600340105889054}. Best is trial 0 with value: 0.8845098845450512.\u001b[0m\n"
     ]
    },
    {
     "name": "stdout",
     "output_type": "stream",
     "text": [
      "[100]\tvalid_0's binary_logloss: 0.00830788\n",
      "[200]\tvalid_0's binary_logloss: 0.00830768\n",
      "[300]\tvalid_0's binary_logloss: 0.00830749\n",
      "[400]\tvalid_0's binary_logloss: 0.00830729\n",
      "[500]\tvalid_0's binary_logloss: 0.0083071\n",
      "[600]\tvalid_0's binary_logloss: 0.0083069\n",
      "[700]\tvalid_0's binary_logloss: 0.00830671\n",
      "[800]\tvalid_0's binary_logloss: 0.00830651\n",
      "[900]\tvalid_0's binary_logloss: 0.00830632\n",
      "[1000]\tvalid_0's binary_logloss: 0.00830612\n",
      "[1100]\tvalid_0's binary_logloss: 0.00830593\n",
      "[1200]\tvalid_0's binary_logloss: 0.00830573\n",
      "[1300]\tvalid_0's binary_logloss: 0.00830553\n",
      "[1400]\tvalid_0's binary_logloss: 0.00830534\n",
      "[1500]\tvalid_0's binary_logloss: 0.00830514\n",
      "[1600]\tvalid_0's binary_logloss: 0.00830495\n",
      "[1700]\tvalid_0's binary_logloss: 0.00830475\n",
      "[1800]\tvalid_0's binary_logloss: 0.00830456\n",
      "[1900]\tvalid_0's binary_logloss: 0.00830436\n"
     ]
    },
    {
     "name": "stderr",
     "output_type": "stream",
     "text": [
      "\u001b[32m[I 2022-07-09 18:29:39,900]\u001b[0m Trial 6 finished with value: 0.4997363518121419 and parameters: {'max_depth': 10, 'learning_rate': 1.2856617791467908e-07, 'n_estimators': 1943, 'num_leaves': 801, 'colsample_bytree': 0.9697494707820946, 'subsample': 0.9474136752138245, 'reg_alpha': 2.9894998940554256, 'reg_lambda': 4.609371175115584}. Best is trial 0 with value: 0.8845098845450512.\u001b[0m\n"
     ]
    },
    {
     "name": "stdout",
     "output_type": "stream",
     "text": [
      "[100]\tvalid_0's binary_logloss: 0.00830752\n"
     ]
    },
    {
     "name": "stderr",
     "output_type": "stream",
     "text": [
      "\u001b[32m[I 2022-07-09 18:29:41,334]\u001b[0m Trial 7 finished with value: 0.4997363518121419 and parameters: {'max_depth': 4, 'learning_rate': 1.499329805509153e-07, 'n_estimators': 185, 'num_leaves': 354, 'colsample_bytree': 0.6943386448447411, 'subsample': 0.6356745158869479, 'reg_alpha': 4.143687545759647, 'reg_lambda': 1.7837666334679465}. Best is trial 0 with value: 0.8845098845450512.\u001b[0m\n"
     ]
    },
    {
     "name": "stdout",
     "output_type": "stream",
     "text": [
      "[100]\tvalid_0's binary_logloss: 0.00819749\n",
      "[200]\tvalid_0's binary_logloss: 0.00809229\n",
      "[300]\tvalid_0's binary_logloss: 0.00798723\n"
     ]
    },
    {
     "name": "stderr",
     "output_type": "stream",
     "text": [
      "\u001b[32m[I 2022-07-09 18:29:43,508]\u001b[0m Trial 8 finished with value: 0.4997363518121419 and parameters: {'max_depth': 6, 'learning_rate': 1.8037506431281856e-05, 'n_estimators': 367, 'num_leaves': 828, 'colsample_bytree': 0.5372753218398854, 'subsample': 0.9934434683002586, 'reg_alpha': 3.861223846483287, 'reg_lambda': 0.993578407670862}. Best is trial 0 with value: 0.8845098845450512.\u001b[0m\n"
     ]
    },
    {
     "name": "stdout",
     "output_type": "stream",
     "text": [
      "[100]\tvalid_0's binary_logloss: 0.00512943\n",
      "[200]\tvalid_0's binary_logloss: 0.00444722\n",
      "[300]\tvalid_0's binary_logloss: 0.00407638\n",
      "[400]\tvalid_0's binary_logloss: 0.00380374\n",
      "[500]\tvalid_0's binary_logloss: 0.00359309\n",
      "[600]\tvalid_0's binary_logloss: 0.00342601\n",
      "[700]\tvalid_0's binary_logloss: 0.00328895\n",
      "[800]\tvalid_0's binary_logloss: 0.00317516\n",
      "[900]\tvalid_0's binary_logloss: 0.00307965\n",
      "[1000]\tvalid_0's binary_logloss: 0.00299967\n",
      "[1100]\tvalid_0's binary_logloss: 0.00292542\n",
      "[1200]\tvalid_0's binary_logloss: 0.00286116\n",
      "[1300]\tvalid_0's binary_logloss: 0.00280697\n",
      "[1400]\tvalid_0's binary_logloss: 0.00276261\n"
     ]
    },
    {
     "name": "stderr",
     "output_type": "stream",
     "text": [
      "\u001b[32m[I 2022-07-09 18:29:51,807]\u001b[0m Trial 9 finished with value: 0.8724347298745778 and parameters: {'max_depth': 3, 'learning_rate': 0.0007812113973534924, 'n_estimators': 1443, 'num_leaves': 755, 'colsample_bytree': 0.8856351733429728, 'subsample': 0.5370223258670452, 'reg_alpha': 1.7923286427213632, 'reg_lambda': 0.5793452976256486}. Best is trial 0 with value: 0.8845098845450512.\u001b[0m\n"
     ]
    },
    {
     "name": "stdout",
     "output_type": "stream",
     "text": [
      "[100]\tvalid_0's binary_logloss: 0.00830806\n",
      "[200]\tvalid_0's binary_logloss: 0.00830804\n",
      "[300]\tvalid_0's binary_logloss: 0.00830802\n",
      "[400]\tvalid_0's binary_logloss: 0.00830801\n",
      "[500]\tvalid_0's binary_logloss: 0.00830799\n",
      "[600]\tvalid_0's binary_logloss: 0.00830798\n",
      "[700]\tvalid_0's binary_logloss: 0.00830796\n",
      "[800]\tvalid_0's binary_logloss: 0.00830795\n",
      "[900]\tvalid_0's binary_logloss: 0.00830793\n",
      "[1000]\tvalid_0's binary_logloss: 0.00830791\n",
      "[1100]\tvalid_0's binary_logloss: 0.0083079\n",
      "[1200]\tvalid_0's binary_logloss: 0.00830788\n",
      "[1300]\tvalid_0's binary_logloss: 0.00830787\n"
     ]
    },
    {
     "name": "stderr",
     "output_type": "stream",
     "text": [
      "\u001b[32m[I 2022-07-09 18:29:58,319]\u001b[0m Trial 10 finished with value: 0.4997363518121419 and parameters: {'max_depth': 14, 'learning_rate': 1.086383341945677e-08, 'n_estimators': 1347, 'num_leaves': 48, 'colsample_bytree': 0.5076838686640521, 'subsample': 0.7190404637309149, 'reg_alpha': 0.07572118551378404, 'reg_lambda': 4.880699499289976}. Best is trial 0 with value: 0.8845098845450512.\u001b[0m\n"
     ]
    },
    {
     "name": "stdout",
     "output_type": "stream",
     "text": [
      "[100]\tvalid_0's binary_logloss: 0.00303643\n",
      "[200]\tvalid_0's binary_logloss: 0.00256716\n",
      "[300]\tvalid_0's binary_logloss: 0.00245105\n",
      "[400]\tvalid_0's binary_logloss: 0.0024136\n",
      "[500]\tvalid_0's binary_logloss: 0.00240004\n",
      "[600]\tvalid_0's binary_logloss: 0.00240297\n",
      "[700]\tvalid_0's binary_logloss: 0.0024094\n",
      "[800]\tvalid_0's binary_logloss: 0.00241465\n",
      "[900]\tvalid_0's binary_logloss: 0.0024171\n",
      "[1000]\tvalid_0's binary_logloss: 0.00241747\n",
      "[1100]\tvalid_0's binary_logloss: 0.00241788\n",
      "[1200]\tvalid_0's binary_logloss: 0.00241826\n",
      "[1300]\tvalid_0's binary_logloss: 0.00241849\n",
      "[1400]\tvalid_0's binary_logloss: 0.00241866\n",
      "[1500]\tvalid_0's binary_logloss: 0.00241875\n",
      "[1600]\tvalid_0's binary_logloss: 0.00241881\n",
      "[1700]\tvalid_0's binary_logloss: 0.00241885\n",
      "[1800]\tvalid_0's binary_logloss: 0.00241888\n",
      "[1900]\tvalid_0's binary_logloss: 0.00241889\n"
     ]
    },
    {
     "name": "stderr",
     "output_type": "stream",
     "text": [
      "\u001b[32m[I 2022-07-09 18:30:07,697]\u001b[0m Trial 11 finished with value: 0.8724347298745778 and parameters: {'max_depth': 13, 'learning_rate': 0.009435591522811688, 'n_estimators': 1992, 'num_leaves': 620, 'colsample_bytree': 0.6167235717698462, 'subsample': 0.6975337768549552, 'reg_alpha': 4.744701625551484, 'reg_lambda': 3.6121467148999655}. Best is trial 0 with value: 0.8845098845450512.\u001b[0m\n"
     ]
    },
    {
     "name": "stdout",
     "output_type": "stream",
     "text": [
      "[100]\tvalid_0's binary_logloss: 0.00293712\n",
      "[200]\tvalid_0's binary_logloss: 0.0025087\n",
      "[300]\tvalid_0's binary_logloss: 0.00241004\n",
      "[400]\tvalid_0's binary_logloss: 0.00238878\n",
      "[500]\tvalid_0's binary_logloss: 0.00240108\n",
      "[600]\tvalid_0's binary_logloss: 0.00242122\n",
      "[700]\tvalid_0's binary_logloss: 0.0024397\n",
      "[800]\tvalid_0's binary_logloss: 0.00245177\n",
      "[900]\tvalid_0's binary_logloss: 0.00246351\n",
      "[1000]\tvalid_0's binary_logloss: 0.00247332\n",
      "[1100]\tvalid_0's binary_logloss: 0.00247823\n",
      "[1200]\tvalid_0's binary_logloss: 0.00248046\n",
      "[1300]\tvalid_0's binary_logloss: 0.00248177\n",
      "[1400]\tvalid_0's binary_logloss: 0.00248261\n",
      "[1500]\tvalid_0's binary_logloss: 0.00248305\n",
      "[1600]\tvalid_0's binary_logloss: 0.00248333\n"
     ]
    },
    {
     "name": "stderr",
     "output_type": "stream",
     "text": [
      "\u001b[32m[I 2022-07-09 18:30:15,788]\u001b[0m Trial 12 finished with value: 0.8845098845450512 and parameters: {'max_depth': 7, 'learning_rate': 0.009745109170808753, 'n_estimators': 1637, 'num_leaves': 669, 'colsample_bytree': 0.6306626315682995, 'subsample': 0.5046555777845694, 'reg_alpha': 2.3435260944392113, 'reg_lambda': 3.2634060011249044}. Best is trial 0 with value: 0.8845098845450512.\u001b[0m\n"
     ]
    },
    {
     "name": "stdout",
     "output_type": "stream",
     "text": [
      "[100]\tvalid_0's binary_logloss: 0.00517218\n",
      "[200]\tvalid_0's binary_logloss: 0.0040067\n",
      "[300]\tvalid_0's binary_logloss: 0.00345896\n",
      "[400]\tvalid_0's binary_logloss: 0.00313327\n",
      "[500]\tvalid_0's binary_logloss: 0.00291619\n",
      "[600]\tvalid_0's binary_logloss: 0.00276363\n",
      "[700]\tvalid_0's binary_logloss: 0.00265481\n",
      "[800]\tvalid_0's binary_logloss: 0.00257235\n",
      "[900]\tvalid_0's binary_logloss: 0.00251067\n",
      "[1000]\tvalid_0's binary_logloss: 0.00246622\n",
      "[1100]\tvalid_0's binary_logloss: 0.00243481\n",
      "[1200]\tvalid_0's binary_logloss: 0.00241239\n",
      "[1300]\tvalid_0's binary_logloss: 0.00239602\n",
      "[1400]\tvalid_0's binary_logloss: 0.00238812\n",
      "[1500]\tvalid_0's binary_logloss: 0.00238366\n"
     ]
    },
    {
     "name": "stderr",
     "output_type": "stream",
     "text": [
      "\u001b[32m[I 2022-07-09 18:30:23,745]\u001b[0m Trial 13 finished with value: 0.8845098845450512 and parameters: {'max_depth': 8, 'learning_rate': 0.0020880631271680034, 'n_estimators': 1528, 'num_leaves': 398, 'colsample_bytree': 0.565780899967433, 'subsample': 0.5015731367398854, 'reg_alpha': 0.0435496921427041, 'reg_lambda': 3.7736689845475873}. Best is trial 0 with value: 0.8845098845450512.\u001b[0m\n"
     ]
    },
    {
     "name": "stdout",
     "output_type": "stream",
     "text": [
      "[100]\tvalid_0's binary_logloss: 0.00811182\n",
      "[200]\tvalid_0's binary_logloss: 0.00791882\n",
      "[300]\tvalid_0's binary_logloss: 0.00772771\n",
      "[400]\tvalid_0's binary_logloss: 0.0075409\n",
      "[500]\tvalid_0's binary_logloss: 0.00735531\n",
      "[600]\tvalid_0's binary_logloss: 0.00717278\n",
      "[700]\tvalid_0's binary_logloss: 0.00699235\n",
      "[800]\tvalid_0's binary_logloss: 0.00681817\n",
      "[900]\tvalid_0's binary_logloss: 0.00665206\n",
      "[1000]\tvalid_0's binary_logloss: 0.00649\n"
     ]
    },
    {
     "name": "stderr",
     "output_type": "stream",
     "text": [
      "\u001b[32m[I 2022-07-09 18:30:29,346]\u001b[0m Trial 14 finished with value: 0.4997363518121419 and parameters: {'max_depth': 6, 'learning_rate': 9.610320214418287e-05, 'n_estimators': 1044, 'num_leaves': 671, 'colsample_bytree': 0.7283718526481475, 'subsample': 0.651723150444279, 'reg_alpha': 2.31057379200564, 'reg_lambda': 3.408415413612532}. Best is trial 0 with value: 0.8845098845450512.\u001b[0m\n"
     ]
    },
    {
     "name": "stdout",
     "output_type": "stream",
     "text": [
      "[100]\tvalid_0's binary_logloss: 0.00325436\n",
      "[200]\tvalid_0's binary_logloss: 0.00266896\n",
      "[300]\tvalid_0's binary_logloss: 0.00247495\n",
      "[400]\tvalid_0's binary_logloss: 0.00241963\n",
      "[500]\tvalid_0's binary_logloss: 0.00241424\n",
      "[600]\tvalid_0's binary_logloss: 0.00242994\n",
      "[700]\tvalid_0's binary_logloss: 0.00245164\n",
      "[800]\tvalid_0's binary_logloss: 0.00247444\n",
      "[900]\tvalid_0's binary_logloss: 0.00250246\n",
      "[1000]\tvalid_0's binary_logloss: 0.0025259\n",
      "[1100]\tvalid_0's binary_logloss: 0.00254571\n",
      "[1200]\tvalid_0's binary_logloss: 0.00256559\n",
      "[1300]\tvalid_0's binary_logloss: 0.00258252\n",
      "[1400]\tvalid_0's binary_logloss: 0.00259574\n",
      "[1500]\tvalid_0's binary_logloss: 0.0026079\n",
      "[1600]\tvalid_0's binary_logloss: 0.00261969\n"
     ]
    },
    {
     "name": "stderr",
     "output_type": "stream",
     "text": [
      "\u001b[32m[I 2022-07-09 18:30:38,884]\u001b[0m Trial 15 finished with value: 0.8845098845450512 and parameters: {'max_depth': 12, 'learning_rate': 0.006994518958809402, 'n_estimators': 1662, 'num_leaves': 499, 'colsample_bytree': 0.5677351328954061, 'subsample': 0.7967945385475436, 'reg_alpha': 0.729889822137749, 'reg_lambda': 3.013084017582534}. Best is trial 0 with value: 0.8845098845450512.\u001b[0m\n"
     ]
    },
    {
     "name": "stdout",
     "output_type": "stream",
     "text": [
      "[100]\tvalid_0's binary_logloss: 0.00830588\n",
      "[200]\tvalid_0's binary_logloss: 0.0083037\n",
      "[300]\tvalid_0's binary_logloss: 0.00830151\n",
      "[400]\tvalid_0's binary_logloss: 0.00829935\n",
      "[500]\tvalid_0's binary_logloss: 0.00829717\n",
      "[600]\tvalid_0's binary_logloss: 0.00829497\n",
      "[700]\tvalid_0's binary_logloss: 0.00829277\n",
      "[800]\tvalid_0's binary_logloss: 0.00829058\n",
      "[900]\tvalid_0's binary_logloss: 0.00828842\n",
      "[1000]\tvalid_0's binary_logloss: 0.00828625\n",
      "[1100]\tvalid_0's binary_logloss: 0.00828406\n",
      "[1200]\tvalid_0's binary_logloss: 0.00828187\n"
     ]
    },
    {
     "name": "stderr",
     "output_type": "stream",
     "text": [
      "\u001b[32m[I 2022-07-09 18:30:45,578]\u001b[0m Trial 16 finished with value: 0.4997363518121419 and parameters: {'max_depth': 8, 'learning_rate': 1.2856712986059927e-06, 'n_estimators': 1232, 'num_leaves': 637, 'colsample_bytree': 0.6865539952916957, 'subsample': 0.6057371117258326, 'reg_alpha': 2.230047106412956, 'reg_lambda': 4.138936297287706}. Best is trial 0 with value: 0.8845098845450512.\u001b[0m\n"
     ]
    },
    {
     "name": "stdout",
     "output_type": "stream",
     "text": [
      "[100]\tvalid_0's binary_logloss: 0.00658969\n",
      "[200]\tvalid_0's binary_logloss: 0.00532419\n",
      "[300]\tvalid_0's binary_logloss: 0.00455302\n",
      "[400]\tvalid_0's binary_logloss: 0.00407093\n",
      "[500]\tvalid_0's binary_logloss: 0.00373921\n",
      "[600]\tvalid_0's binary_logloss: 0.00349556\n",
      "[700]\tvalid_0's binary_logloss: 0.00330722\n"
     ]
    },
    {
     "name": "stderr",
     "output_type": "stream",
     "text": [
      "\u001b[32m[I 2022-07-09 18:30:49,493]\u001b[0m Trial 17 finished with value: 0.4997363518121419 and parameters: {'max_depth': 11, 'learning_rate': 0.0010385726668783876, 'n_estimators': 723, 'num_leaves': 332, 'colsample_bytree': 0.5743069448133153, 'subsample': 0.8634823758940223, 'reg_alpha': 0.0658960719046191, 'reg_lambda': 4.083948855824355}. Best is trial 0 with value: 0.8845098845450512.\u001b[0m\n"
     ]
    },
    {
     "name": "stdout",
     "output_type": "stream",
     "text": [
      "[100]\tvalid_0's binary_logloss: 0.00796429\n",
      "[200]\tvalid_0's binary_logloss: 0.00763592\n",
      "[300]\tvalid_0's binary_logloss: 0.00731162\n",
      "[400]\tvalid_0's binary_logloss: 0.00699558\n",
      "[500]\tvalid_0's binary_logloss: 0.00669952\n",
      "[600]\tvalid_0's binary_logloss: 0.00642139\n",
      "[700]\tvalid_0's binary_logloss: 0.0061651\n",
      "[800]\tvalid_0's binary_logloss: 0.00593083\n",
      "[900]\tvalid_0's binary_logloss: 0.00571975\n",
      "[1000]\tvalid_0's binary_logloss: 0.00553063\n",
      "[1100]\tvalid_0's binary_logloss: 0.00535739\n",
      "[1200]\tvalid_0's binary_logloss: 0.00520092\n",
      "[1300]\tvalid_0's binary_logloss: 0.00506213\n",
      "[1400]\tvalid_0's binary_logloss: 0.00493648\n",
      "[1500]\tvalid_0's binary_logloss: 0.00482286\n",
      "[1600]\tvalid_0's binary_logloss: 0.00471942\n",
      "[1700]\tvalid_0's binary_logloss: 0.00462382\n"
     ]
    },
    {
     "name": "stderr",
     "output_type": "stream",
     "text": [
      "\u001b[32m[I 2022-07-09 18:30:58,520]\u001b[0m Trial 18 finished with value: 0.4997363518121419 and parameters: {'max_depth': 12, 'learning_rate': 0.00013906174706087212, 'n_estimators': 1718, 'num_leaves': 455, 'colsample_bytree': 0.5849559348326331, 'subsample': 0.7823163450946251, 'reg_alpha': 0.6048368551833906, 'reg_lambda': 2.783666322847545}. Best is trial 0 with value: 0.8845098845450512.\u001b[0m\n"
     ]
    },
    {
     "name": "stdout",
     "output_type": "stream",
     "text": [
      "[100]\tvalid_0's binary_logloss: 0.00816927\n",
      "[200]\tvalid_0's binary_logloss: 0.00803602\n",
      "[300]\tvalid_0's binary_logloss: 0.00790258\n",
      "[400]\tvalid_0's binary_logloss: 0.0077693\n",
      "[500]\tvalid_0's binary_logloss: 0.00763506\n",
      "[600]\tvalid_0's binary_logloss: 0.00750372\n",
      "[700]\tvalid_0's binary_logloss: 0.00737324\n",
      "[800]\tvalid_0's binary_logloss: 0.00724309\n",
      "[900]\tvalid_0's binary_logloss: 0.00711745\n",
      "[1000]\tvalid_0's binary_logloss: 0.00699254\n",
      "[1100]\tvalid_0's binary_logloss: 0.00687198\n"
     ]
    },
    {
     "name": "stderr",
     "output_type": "stream",
     "text": [
      "\u001b[32m[I 2022-07-09 18:31:04,565]\u001b[0m Trial 19 finished with value: 0.4997363518121419 and parameters: {'max_depth': 15, 'learning_rate': 5.9661037863266284e-05, 'n_estimators': 1195, 'num_leaves': 206, 'colsample_bytree': 0.5048557242775159, 'subsample': 0.7725443918922537, 'reg_alpha': 0.8845433865803239, 'reg_lambda': 2.9395388255890227}. Best is trial 0 with value: 0.8845098845450512.\u001b[0m\n"
     ]
    },
    {
     "name": "stdout",
     "output_type": "stream",
     "text": [
      "[100]\tvalid_0's binary_logloss: 0.00585668\n",
      "[200]\tvalid_0's binary_logloss: 0.00452478\n",
      "[300]\tvalid_0's binary_logloss: 0.00386645\n",
      "[400]\tvalid_0's binary_logloss: 0.00346869\n",
      "[500]\tvalid_0's binary_logloss: 0.00320339\n",
      "[600]\tvalid_0's binary_logloss: 0.00301413\n",
      "[700]\tvalid_0's binary_logloss: 0.00287554\n",
      "[800]\tvalid_0's binary_logloss: 0.00276834\n",
      "[900]\tvalid_0's binary_logloss: 0.00268483\n",
      "[1000]\tvalid_0's binary_logloss: 0.00261857\n",
      "[1100]\tvalid_0's binary_logloss: 0.00256579\n",
      "[1200]\tvalid_0's binary_logloss: 0.00252777\n",
      "[1300]\tvalid_0's binary_logloss: 0.00249921\n",
      "[1400]\tvalid_0's binary_logloss: 0.00247786\n",
      "[1500]\tvalid_0's binary_logloss: 0.00246188\n",
      "[1600]\tvalid_0's binary_logloss: 0.00245006\n"
     ]
    },
    {
     "name": "stderr",
     "output_type": "stream",
     "text": [
      "\u001b[32m[I 2022-07-09 18:31:13,895]\u001b[0m Trial 20 finished with value: 0.8845098845450512 and parameters: {'max_depth': 12, 'learning_rate': 0.0016368721496051557, 'n_estimators': 1667, 'num_leaves': 528, 'colsample_bytree': 0.7730704794213072, 'subsample': 0.8822159047053681, 'reg_alpha': 0.6695289380909426, 'reg_lambda': 4.323457431870748}. Best is trial 0 with value: 0.8845098845450512.\u001b[0m\n"
     ]
    },
    {
     "name": "stdout",
     "output_type": "stream",
     "text": [
      "[100]\tvalid_0's binary_logloss: 0.00516115\n",
      "[200]\tvalid_0's binary_logloss: 0.00399584\n",
      "[300]\tvalid_0's binary_logloss: 0.00344911\n",
      "[400]\tvalid_0's binary_logloss: 0.00312448\n",
      "[500]\tvalid_0's binary_logloss: 0.00290906\n",
      "[600]\tvalid_0's binary_logloss: 0.00275632\n",
      "[700]\tvalid_0's binary_logloss: 0.00264907\n",
      "[800]\tvalid_0's binary_logloss: 0.00256754\n",
      "[900]\tvalid_0's binary_logloss: 0.00250701\n",
      "[1000]\tvalid_0's binary_logloss: 0.00246391\n",
      "[1100]\tvalid_0's binary_logloss: 0.00243336\n",
      "[1200]\tvalid_0's binary_logloss: 0.0024117\n",
      "[1300]\tvalid_0's binary_logloss: 0.00239606\n",
      "[1400]\tvalid_0's binary_logloss: 0.00238755\n",
      "[1500]\tvalid_0's binary_logloss: 0.00238219\n"
     ]
    },
    {
     "name": "stderr",
     "output_type": "stream",
     "text": [
      "\u001b[32m[I 2022-07-09 18:31:21,863]\u001b[0m Trial 21 finished with value: 0.8845098845450512 and parameters: {'max_depth': 9, 'learning_rate': 0.0021195975363666104, 'n_estimators': 1512, 'num_leaves': 429, 'colsample_bytree': 0.5668315026292875, 'subsample': 0.6760412142625982, 'reg_alpha': 0.33353178922770776, 'reg_lambda': 3.803293575178008}. Best is trial 0 with value: 0.8845098845450512.\u001b[0m\n"
     ]
    },
    {
     "name": "stdout",
     "output_type": "stream",
     "text": [
      "[100]\tvalid_0's binary_logloss: 0.00451597\n",
      "[200]\tvalid_0's binary_logloss: 0.00355843\n",
      "[300]\tvalid_0's binary_logloss: 0.00311225\n",
      "[400]\tvalid_0's binary_logloss: 0.00285152\n",
      "[500]\tvalid_0's binary_logloss: 0.00268235\n",
      "[600]\tvalid_0's binary_logloss: 0.00257067\n",
      "[700]\tvalid_0's binary_logloss: 0.00249271\n",
      "[800]\tvalid_0's binary_logloss: 0.00243914\n",
      "[900]\tvalid_0's binary_logloss: 0.00240584\n",
      "[1000]\tvalid_0's binary_logloss: 0.00238397\n",
      "[1100]\tvalid_0's binary_logloss: 0.0023738\n",
      "[1200]\tvalid_0's binary_logloss: 0.00236979\n",
      "[1300]\tvalid_0's binary_logloss: 0.00236865\n",
      "[1400]\tvalid_0's binary_logloss: 0.00237\n",
      "[1500]\tvalid_0's binary_logloss: 0.00237553\n",
      "[1600]\tvalid_0's binary_logloss: 0.00238355\n",
      "[1700]\tvalid_0's binary_logloss: 0.00239151\n"
     ]
    },
    {
     "name": "stderr",
     "output_type": "stream",
     "text": [
      "\u001b[32m[I 2022-07-09 18:31:31,071]\u001b[0m Trial 22 finished with value: 0.8845098845450512 and parameters: {'max_depth': 8, 'learning_rate': 0.002709269451380792, 'n_estimators': 1743, 'num_leaves': 204, 'colsample_bytree': 0.550726687289138, 'subsample': 0.7351396865390427, 'reg_alpha': 1.143907460732896, 'reg_lambda': 3.165715434824799}. Best is trial 0 with value: 0.8845098845450512.\u001b[0m\n"
     ]
    },
    {
     "name": "stdout",
     "output_type": "stream",
     "text": [
      "[100]\tvalid_0's binary_logloss: 0.00779312\n",
      "[200]\tvalid_0's binary_logloss: 0.0072963\n",
      "[300]\tvalid_0's binary_logloss: 0.00681825\n",
      "[400]\tvalid_0's binary_logloss: 0.00637496\n",
      "[500]\tvalid_0's binary_logloss: 0.00596496\n",
      "[600]\tvalid_0's binary_logloss: 0.00559698\n",
      "[700]\tvalid_0's binary_logloss: 0.00528056\n",
      "[800]\tvalid_0's binary_logloss: 0.00501466\n",
      "[900]\tvalid_0's binary_logloss: 0.0047945\n",
      "[1000]\tvalid_0's binary_logloss: 0.00460364\n",
      "[1100]\tvalid_0's binary_logloss: 0.004438\n",
      "[1200]\tvalid_0's binary_logloss: 0.00429005\n",
      "[1300]\tvalid_0's binary_logloss: 0.00415735\n",
      "[1400]\tvalid_0's binary_logloss: 0.00403585\n",
      "[1500]\tvalid_0's binary_logloss: 0.00392653\n",
      "[1600]\tvalid_0's binary_logloss: 0.003828\n",
      "[1700]\tvalid_0's binary_logloss: 0.00373831\n"
     ]
    },
    {
     "name": "stderr",
     "output_type": "stream",
     "text": [
      "\u001b[32m[I 2022-07-09 18:31:41,059]\u001b[0m Trial 23 finished with value: 0.4997363518121419 and parameters: {'max_depth': 12, 'learning_rate': 0.00032047492586584537, 'n_estimators': 1784, 'num_leaves': 547, 'colsample_bytree': 0.7927082991573463, 'subsample': 0.8686976122416875, 'reg_alpha': 0.570084332132113, 'reg_lambda': 4.4720574413738055}. Best is trial 0 with value: 0.8845098845450512.\u001b[0m\n"
     ]
    },
    {
     "name": "stdout",
     "output_type": "stream",
     "text": [
      "[100]\tvalid_0's binary_logloss: 0.00653309\n",
      "[200]\tvalid_0's binary_logloss: 0.00518859\n",
      "[300]\tvalid_0's binary_logloss: 0.00440897\n",
      "[400]\tvalid_0's binary_logloss: 0.00391166\n",
      "[500]\tvalid_0's binary_logloss: 0.00357678\n",
      "[600]\tvalid_0's binary_logloss: 0.00333596\n",
      "[700]\tvalid_0's binary_logloss: 0.00315472\n",
      "[800]\tvalid_0's binary_logloss: 0.00301374\n",
      "[900]\tvalid_0's binary_logloss: 0.00290453\n",
      "[1000]\tvalid_0's binary_logloss: 0.00281574\n",
      "[1100]\tvalid_0's binary_logloss: 0.00274057\n",
      "[1200]\tvalid_0's binary_logloss: 0.00267982\n",
      "[1300]\tvalid_0's binary_logloss: 0.00262937\n",
      "[1400]\tvalid_0's binary_logloss: 0.00258677\n"
     ]
    },
    {
     "name": "stderr",
     "output_type": "stream",
     "text": [
      "\u001b[32m[I 2022-07-09 18:31:49,410]\u001b[0m Trial 24 finished with value: 0.8724347298745778 and parameters: {'max_depth': 10, 'learning_rate': 0.0012766719079992629, 'n_estimators': 1490, 'num_leaves': 583, 'colsample_bytree': 0.7524285859285801, 'subsample': 0.6831902060185584, 'reg_alpha': 0.39271018629329957, 'reg_lambda': 4.980475333256331}. Best is trial 0 with value: 0.8845098845450512.\u001b[0m\n"
     ]
    },
    {
     "name": "stdout",
     "output_type": "stream",
     "text": [
      "[100]\tvalid_0's binary_logloss: 0.00459432\n",
      "[200]\tvalid_0's binary_logloss: 0.00355829\n",
      "[300]\tvalid_0's binary_logloss: 0.00309334\n",
      "[400]\tvalid_0's binary_logloss: 0.00282951\n",
      "[500]\tvalid_0's binary_logloss: 0.00266245\n",
      "[600]\tvalid_0's binary_logloss: 0.00255417\n",
      "[700]\tvalid_0's binary_logloss: 0.00247862\n",
      "[800]\tvalid_0's binary_logloss: 0.00242683\n",
      "[900]\tvalid_0's binary_logloss: 0.0023956\n",
      "[1000]\tvalid_0's binary_logloss: 0.00237302\n",
      "[1100]\tvalid_0's binary_logloss: 0.00235955\n",
      "[1200]\tvalid_0's binary_logloss: 0.00235286\n"
     ]
    },
    {
     "name": "stderr",
     "output_type": "stream",
     "text": [
      "\u001b[32m[I 2022-07-09 18:31:55,961]\u001b[0m Trial 25 finished with value: 0.8845098845450512 and parameters: {'max_depth': 9, 'learning_rate': 0.002944364441522132, 'n_estimators': 1291, 'num_leaves': 184, 'colsample_bytree': 0.5385577514297872, 'subsample': 0.7318669844268824, 'reg_alpha': 1.2112608589615967, 'reg_lambda': 3.8742247419414166}. Best is trial 0 with value: 0.8845098845450512.\u001b[0m\n"
     ]
    },
    {
     "name": "stdout",
     "output_type": "stream",
     "text": [
      "[100]\tvalid_0's binary_logloss: 0.0082079\n",
      "[200]\tvalid_0's binary_logloss: 0.00810846\n",
      "[300]\tvalid_0's binary_logloss: 0.0080098\n",
      "[400]\tvalid_0's binary_logloss: 0.00791143\n",
      "[500]\tvalid_0's binary_logloss: 0.00781354\n",
      "[600]\tvalid_0's binary_logloss: 0.00771533\n",
      "[700]\tvalid_0's binary_logloss: 0.00761774\n",
      "[800]\tvalid_0's binary_logloss: 0.00752062\n",
      "[900]\tvalid_0's binary_logloss: 0.0074264\n",
      "[1000]\tvalid_0's binary_logloss: 0.00733215\n",
      "[1100]\tvalid_0's binary_logloss: 0.00723751\n",
      "[1200]\tvalid_0's binary_logloss: 0.00714416\n",
      "[1300]\tvalid_0's binary_logloss: 0.00705246\n",
      "[1400]\tvalid_0's binary_logloss: 0.00696197\n",
      "[1500]\tvalid_0's binary_logloss: 0.00687369\n",
      "[1600]\tvalid_0's binary_logloss: 0.00678725\n",
      "[1700]\tvalid_0's binary_logloss: 0.00670162\n",
      "[1800]\tvalid_0's binary_logloss: 0.00661676\n"
     ]
    },
    {
     "name": "stderr",
     "output_type": "stream",
     "text": [
      "\u001b[32m[I 2022-07-09 18:32:05,507]\u001b[0m Trial 26 finished with value: 0.4997363518121419 and parameters: {'max_depth': 9, 'learning_rate': 4.768306257452815e-05, 'n_estimators': 1803, 'num_leaves': 258, 'colsample_bytree': 0.6721148329848076, 'subsample': 0.6627345048649261, 'reg_alpha': 1.157969680282262, 'reg_lambda': 3.330207281702533}. Best is trial 0 with value: 0.8845098845450512.\u001b[0m\n"
     ]
    },
    {
     "name": "stdout",
     "output_type": "stream",
     "text": [
      "[100]\tvalid_0's binary_logloss: 0.00720586\n",
      "[200]\tvalid_0's binary_logloss: 0.0063124\n",
      "[300]\tvalid_0's binary_logloss: 0.00564153\n",
      "[400]\tvalid_0's binary_logloss: 0.00516367\n",
      "[500]\tvalid_0's binary_logloss: 0.00482217\n",
      "[600]\tvalid_0's binary_logloss: 0.00455961\n",
      "[700]\tvalid_0's binary_logloss: 0.00435177\n",
      "[800]\tvalid_0's binary_logloss: 0.00418056\n",
      "[900]\tvalid_0's binary_logloss: 0.00402993\n",
      "[1000]\tvalid_0's binary_logloss: 0.00390106\n"
     ]
    },
    {
     "name": "stderr",
     "output_type": "stream",
     "text": [
      "\u001b[32m[I 2022-07-09 18:32:11,670]\u001b[0m Trial 27 finished with value: 0.4997363518121419 and parameters: {'max_depth': 7, 'learning_rate': 0.00036140772316588016, 'n_estimators': 1096, 'num_leaves': 79, 'colsample_bytree': 0.6136218233818587, 'subsample': 0.5984315958210278, 'reg_alpha': 1.8580373355607263, 'reg_lambda': 2.1079511444305647}. Best is trial 0 with value: 0.8845098845450512.\u001b[0m\n"
     ]
    },
    {
     "name": "stdout",
     "output_type": "stream",
     "text": [
      "[100]\tvalid_0's binary_logloss: 0.00419995\n",
      "[200]\tvalid_0's binary_logloss: 0.00327572\n",
      "[300]\tvalid_0's binary_logloss: 0.0028767\n",
      "[400]\tvalid_0's binary_logloss: 0.00266402\n",
      "[500]\tvalid_0's binary_logloss: 0.00253625\n",
      "[600]\tvalid_0's binary_logloss: 0.00245706\n",
      "[700]\tvalid_0's binary_logloss: 0.00240857\n",
      "[800]\tvalid_0's binary_logloss: 0.00238047\n",
      "[900]\tvalid_0's binary_logloss: 0.00236808\n",
      "[1000]\tvalid_0's binary_logloss: 0.00236623\n",
      "[1100]\tvalid_0's binary_logloss: 0.0023691\n",
      "[1200]\tvalid_0's binary_logloss: 0.00237693\n",
      "[1300]\tvalid_0's binary_logloss: 0.00238807\n"
     ]
    },
    {
     "name": "stderr",
     "output_type": "stream",
     "text": [
      "\u001b[32m[I 2022-07-09 18:32:20,417]\u001b[0m Trial 28 finished with value: 0.8845098845450512 and parameters: {'max_depth': 5, 'learning_rate': 0.003782226255603172, 'n_estimators': 1311, 'num_leaves': 136, 'colsample_bytree': 0.5301639786364187, 'subsample': 0.732442791361342, 'reg_alpha': 1.1760259402825224, 'reg_lambda': 3.942392926582887}. Best is trial 0 with value: 0.8845098845450512.\u001b[0m\n"
     ]
    },
    {
     "name": "stdout",
     "output_type": "stream",
     "text": [
      "[100]\tvalid_0's binary_logloss: 0.00830171\n",
      "[200]\tvalid_0's binary_logloss: 0.00829538\n",
      "[300]\tvalid_0's binary_logloss: 0.00828901\n",
      "[400]\tvalid_0's binary_logloss: 0.00828273\n",
      "[500]\tvalid_0's binary_logloss: 0.00827641\n",
      "[600]\tvalid_0's binary_logloss: 0.00827005\n",
      "[700]\tvalid_0's binary_logloss: 0.00826374\n",
      "[800]\tvalid_0's binary_logloss: 0.00825738\n"
     ]
    },
    {
     "name": "stderr",
     "output_type": "stream",
     "text": [
      "\u001b[32m[I 2022-07-09 18:32:26,165]\u001b[0m Trial 29 finished with value: 0.4997363518121419 and parameters: {'max_depth': 7, 'learning_rate': 4.001595689878492e-06, 'n_estimators': 852, 'num_leaves': 190, 'colsample_bytree': 0.8472147933184168, 'subsample': 0.7535470661533092, 'reg_alpha': 1.0809233250709507, 'reg_lambda': 4.53809820929475}. Best is trial 0 with value: 0.8845098845450512.\u001b[0m\n"
     ]
    },
    {
     "name": "stdout",
     "output_type": "stream",
     "text": [
      "[100]\tvalid_0's binary_logloss: 0.00324985\n",
      "[200]\tvalid_0's binary_logloss: 0.00266816\n",
      "[300]\tvalid_0's binary_logloss: 0.00245317\n",
      "[400]\tvalid_0's binary_logloss: 0.00236376\n",
      "[500]\tvalid_0's binary_logloss: 0.0023405\n",
      "[600]\tvalid_0's binary_logloss: 0.00234913\n",
      "[700]\tvalid_0's binary_logloss: 0.00237072\n",
      "[800]\tvalid_0's binary_logloss: 0.00239432\n",
      "[900]\tvalid_0's binary_logloss: 0.00242071\n",
      "[1000]\tvalid_0's binary_logloss: 0.00244681\n",
      "[1100]\tvalid_0's binary_logloss: 0.00247161\n",
      "[1200]\tvalid_0's binary_logloss: 0.00249408\n",
      "[1300]\tvalid_0's binary_logloss: 0.00251246\n"
     ]
    },
    {
     "name": "stderr",
     "output_type": "stream",
     "text": [
      "\u001b[32m[I 2022-07-09 18:32:33,691]\u001b[0m Trial 30 finished with value: 0.8845098845450512 and parameters: {'max_depth': 4, 'learning_rate': 0.006350026382623367, 'n_estimators': 1370, 'num_leaves': 972, 'colsample_bytree': 0.5007483837199521, 'subsample': 0.8185981387586388, 'reg_alpha': 0.8703210287271522, 'reg_lambda': 2.407119666074966}. Best is trial 0 with value: 0.8845098845450512.\u001b[0m\n"
     ]
    },
    {
     "name": "stdout",
     "output_type": "stream",
     "text": [
      "[100]\tvalid_0's binary_logloss: 0.00472735\n",
      "[200]\tvalid_0's binary_logloss: 0.00365182\n",
      "[300]\tvalid_0's binary_logloss: 0.00316835\n",
      "[400]\tvalid_0's binary_logloss: 0.00289127\n",
      "[500]\tvalid_0's binary_logloss: 0.00271316\n",
      "[600]\tvalid_0's binary_logloss: 0.00259593\n",
      "[700]\tvalid_0's binary_logloss: 0.00251379\n",
      "[800]\tvalid_0's binary_logloss: 0.00245585\n",
      "[900]\tvalid_0's binary_logloss: 0.00241848\n",
      "[1000]\tvalid_0's binary_logloss: 0.0023915\n",
      "[1100]\tvalid_0's binary_logloss: 0.00237441\n",
      "[1200]\tvalid_0's binary_logloss: 0.00236331\n"
     ]
    },
    {
     "name": "stderr",
     "output_type": "stream",
     "text": [
      "\u001b[32m[I 2022-07-09 18:32:40,560]\u001b[0m Trial 31 finished with value: 0.8845098845450512 and parameters: {'max_depth': 5, 'learning_rate': 0.0027811663711045246, 'n_estimators': 1269, 'num_leaves': 164, 'colsample_bytree': 0.5380296556684302, 'subsample': 0.7256184230712098, 'reg_alpha': 1.3276363970137608, 'reg_lambda': 3.9605866061487434}. Best is trial 0 with value: 0.8845098845450512.\u001b[0m\n"
     ]
    },
    {
     "name": "stdout",
     "output_type": "stream",
     "text": [
      "[100]\tvalid_0's binary_logloss: 0.00439438\n",
      "[200]\tvalid_0's binary_logloss: 0.00344424\n",
      "[300]\tvalid_0's binary_logloss: 0.00301468\n",
      "[400]\tvalid_0's binary_logloss: 0.00277175\n",
      "[500]\tvalid_0's binary_logloss: 0.00262106\n",
      "[600]\tvalid_0's binary_logloss: 0.00252338\n",
      "[700]\tvalid_0's binary_logloss: 0.00245586\n",
      "[800]\tvalid_0's binary_logloss: 0.00241343\n",
      "[900]\tvalid_0's binary_logloss: 0.00238645\n",
      "[1000]\tvalid_0's binary_logloss: 0.0023674\n"
     ]
    },
    {
     "name": "stderr",
     "output_type": "stream",
     "text": [
      "\u001b[32m[I 2022-07-09 18:32:49,278]\u001b[0m Trial 32 finished with value: 0.8845098845450512 and parameters: {'max_depth': 5, 'learning_rate': 0.003162852978478879, 'n_estimators': 1098, 'num_leaves': 102, 'colsample_bytree': 0.5370645361797249, 'subsample': 0.7317577658200466, 'reg_alpha': 1.7240729044980654, 'reg_lambda': 3.5543521536206026}. Best is trial 0 with value: 0.8845098845450512.\u001b[0m\n"
     ]
    },
    {
     "name": "stdout",
     "output_type": "stream",
     "text": [
      "[100]\tvalid_0's binary_logloss: 0.00743004\n",
      "[200]\tvalid_0's binary_logloss: 0.00666582\n",
      "[300]\tvalid_0's binary_logloss: 0.00602791\n",
      "[400]\tvalid_0's binary_logloss: 0.00552925\n",
      "[500]\tvalid_0's binary_logloss: 0.0051514\n",
      "[600]\tvalid_0's binary_logloss: 0.00486124\n",
      "[700]\tvalid_0's binary_logloss: 0.00462991\n",
      "[800]\tvalid_0's binary_logloss: 0.00443918\n",
      "[900]\tvalid_0's binary_logloss: 0.00427949\n",
      "[1000]\tvalid_0's binary_logloss: 0.00414154\n",
      "[1100]\tvalid_0's binary_logloss: 0.00401818\n",
      "[1200]\tvalid_0's binary_logloss: 0.00390807\n",
      "[1300]\tvalid_0's binary_logloss: 0.00381027\n"
     ]
    },
    {
     "name": "stderr",
     "output_type": "stream",
     "text": [
      "\u001b[32m[I 2022-07-09 18:32:56,699]\u001b[0m Trial 33 finished with value: 0.4997363518121419 and parameters: {'max_depth': 5, 'learning_rate': 0.0003102896498543691, 'n_estimators': 1350, 'num_leaves': 891, 'colsample_bytree': 0.5043230596218983, 'subsample': 0.8151010265654697, 'reg_alpha': 2.0538667887275275, 'reg_lambda': 2.288918880499223}. Best is trial 0 with value: 0.8845098845450512.\u001b[0m\n"
     ]
    },
    {
     "name": "stdout",
     "output_type": "stream",
     "text": [
      "[100]\tvalid_0's binary_logloss: 0.00691551\n",
      "[200]\tvalid_0's binary_logloss: 0.00583762\n",
      "[300]\tvalid_0's binary_logloss: 0.00509638\n",
      "[400]\tvalid_0's binary_logloss: 0.00461523\n",
      "[500]\tvalid_0's binary_logloss: 0.00427922\n",
      "[600]\tvalid_0's binary_logloss: 0.00401721\n",
      "[700]\tvalid_0's binary_logloss: 0.00381168\n",
      "[800]\tvalid_0's binary_logloss: 0.0036429\n",
      "[900]\tvalid_0's binary_logloss: 0.00350289\n",
      "[1000]\tvalid_0's binary_logloss: 0.00338354\n",
      "[1100]\tvalid_0's binary_logloss: 0.00327967\n",
      "[1200]\tvalid_0's binary_logloss: 0.00318928\n",
      "[1300]\tvalid_0's binary_logloss: 0.00310894\n",
      "[1400]\tvalid_0's binary_logloss: 0.00303777\n",
      "[1500]\tvalid_0's binary_logloss: 0.00297464\n",
      "[1600]\tvalid_0's binary_logloss: 0.00291761\n",
      "[1700]\tvalid_0's binary_logloss: 0.00286845\n",
      "[1800]\tvalid_0's binary_logloss: 0.00282313\n"
     ]
    },
    {
     "name": "stderr",
     "output_type": "stream",
     "text": [
      "\u001b[32m[I 2022-07-09 18:33:06,026]\u001b[0m Trial 34 finished with value: 0.7887218676684034 and parameters: {'max_depth': 7, 'learning_rate': 0.0006363012034040932, 'n_estimators': 1859, 'num_leaves': 98, 'colsample_bytree': 0.5984193538905249, 'subsample': 0.7809587697538509, 'reg_alpha': 2.70107743671955, 'reg_lambda': 2.956694563144987}. Best is trial 0 with value: 0.8845098845450512.\u001b[0m\n"
     ]
    },
    {
     "name": "stdout",
     "output_type": "stream",
     "text": [
      "[100]\tvalid_0's binary_logloss: 0.00342214\n",
      "[200]\tvalid_0's binary_logloss: 0.00282853\n",
      "[300]\tvalid_0's binary_logloss: 0.00257118\n",
      "[400]\tvalid_0's binary_logloss: 0.00244997\n",
      "[500]\tvalid_0's binary_logloss: 0.00238505\n",
      "[600]\tvalid_0's binary_logloss: 0.00236014\n",
      "[700]\tvalid_0's binary_logloss: 0.00236088\n",
      "[800]\tvalid_0's binary_logloss: 0.00237501\n",
      "[900]\tvalid_0's binary_logloss: 0.00238925\n",
      "[1000]\tvalid_0's binary_logloss: 0.00240762\n"
     ]
    },
    {
     "name": "stderr",
     "output_type": "stream",
     "text": [
      "\u001b[32m[I 2022-07-09 18:33:11,523]\u001b[0m Trial 35 finished with value: 0.8845098845450512 and parameters: {'max_depth': 5, 'learning_rate': 0.004968218609051616, 'n_estimators': 1068, 'num_leaves': 1018, 'colsample_bytree': 0.5355585997452103, 'subsample': 0.8979739020911907, 'reg_alpha': 1.6446831356287874, 'reg_lambda': 1.4971776921348958}. Best is trial 0 with value: 0.8845098845450512.\u001b[0m\n"
     ]
    },
    {
     "name": "stdout",
     "output_type": "stream",
     "text": [
      "[100]\tvalid_0's binary_logloss: 0.00632151\n",
      "[200]\tvalid_0's binary_logloss: 0.00514045\n",
      "[300]\tvalid_0's binary_logloss: 0.00451256\n",
      "[400]\tvalid_0's binary_logloss: 0.00412414\n",
      "[500]\tvalid_0's binary_logloss: 0.00383993\n",
      "[600]\tvalid_0's binary_logloss: 0.00361928\n",
      "[700]\tvalid_0's binary_logloss: 0.00344436\n",
      "[800]\tvalid_0's binary_logloss: 0.00330048\n"
     ]
    },
    {
     "name": "stderr",
     "output_type": "stream",
     "text": [
      "\u001b[32m[I 2022-07-09 18:33:16,328]\u001b[0m Trial 36 finished with value: 0.4997363518121419 and parameters: {'max_depth': 4, 'learning_rate': 0.0007929170739276518, 'n_estimators': 897, 'num_leaves': 261, 'colsample_bytree': 0.660769563406926, 'subsample': 0.5656449228304047, 'reg_alpha': 1.472562331984625, 'reg_lambda': 2.442850509668517}. Best is trial 0 with value: 0.8845098845450512.\u001b[0m\n"
     ]
    },
    {
     "name": "stdout",
     "output_type": "stream",
     "text": [
      "[100]\tvalid_0's binary_logloss: 0.00480185\n",
      "[200]\tvalid_0's binary_logloss: 0.0039829\n",
      "[300]\tvalid_0's binary_logloss: 0.00354259\n",
      "[400]\tvalid_0's binary_logloss: 0.00325835\n",
      "[500]\tvalid_0's binary_logloss: 0.00305741\n",
      "[600]\tvalid_0's binary_logloss: 0.00290189\n",
      "[700]\tvalid_0's binary_logloss: 0.00278211\n"
     ]
    },
    {
     "name": "stderr",
     "output_type": "stream",
     "text": [
      "\u001b[32m[I 2022-07-09 18:33:20,588]\u001b[0m Trial 37 finished with value: 0.846806907378336 and parameters: {'max_depth': 11, 'learning_rate': 0.001434815424867053, 'n_estimators': 716, 'num_leaves': 767, 'colsample_bytree': 0.7647000348547539, 'subsample': 0.9195805332971484, 'reg_alpha': 0.4019663416604702, 'reg_lambda': 1.467369010415866}. Best is trial 0 with value: 0.8845098845450512.\u001b[0m\n"
     ]
    },
    {
     "name": "stdout",
     "output_type": "stream",
     "text": [
      "[100]\tvalid_0's binary_logloss: 0.00308798\n",
      "[200]\tvalid_0's binary_logloss: 0.00256641\n",
      "[300]\tvalid_0's binary_logloss: 0.00243733\n",
      "[400]\tvalid_0's binary_logloss: 0.00241927\n",
      "[500]\tvalid_0's binary_logloss: 0.00244281\n",
      "[600]\tvalid_0's binary_logloss: 0.0024729\n",
      "[700]\tvalid_0's binary_logloss: 0.00250333\n",
      "[800]\tvalid_0's binary_logloss: 0.00253121\n",
      "[900]\tvalid_0's binary_logloss: 0.00256645\n",
      "[1000]\tvalid_0's binary_logloss: 0.00259578\n",
      "[1100]\tvalid_0's binary_logloss: 0.00261853\n",
      "[1200]\tvalid_0's binary_logloss: 0.00264092\n",
      "[1300]\tvalid_0's binary_logloss: 0.00266039\n",
      "[1400]\tvalid_0's binary_logloss: 0.0026781\n",
      "[1500]\tvalid_0's binary_logloss: 0.00269433\n"
     ]
    },
    {
     "name": "stderr",
     "output_type": "stream",
     "text": [
      "\u001b[32m[I 2022-07-09 18:33:30,266]\u001b[0m Trial 38 finished with value: 0.8845098845450512 and parameters: {'max_depth': 8, 'learning_rate': 0.008370499318923339, 'n_estimators': 1562, 'num_leaves': 398, 'colsample_bytree': 0.6431038814789533, 'subsample': 0.5013339806386408, 'reg_alpha': 0.2637800420157097, 'reg_lambda': 3.6225083476856375}. Best is trial 0 with value: 0.8845098845450512.\u001b[0m\n"
     ]
    },
    {
     "name": "stdout",
     "output_type": "stream",
     "text": [
      "[100]\tvalid_0's binary_logloss: 0.00355702\n",
      "[200]\tvalid_0's binary_logloss: 0.00299144\n",
      "[300]\tvalid_0's binary_logloss: 0.00271283\n",
      "[400]\tvalid_0's binary_logloss: 0.00256396\n",
      "[500]\tvalid_0's binary_logloss: 0.00248429\n",
      "[600]\tvalid_0's binary_logloss: 0.00244251\n",
      "[700]\tvalid_0's binary_logloss: 0.00242502\n",
      "[800]\tvalid_0's binary_logloss: 0.00241367\n",
      "[900]\tvalid_0's binary_logloss: 0.00240987\n"
     ]
    },
    {
     "name": "stderr",
     "output_type": "stream",
     "text": [
      "\u001b[32m[I 2022-07-09 18:33:35,676]\u001b[0m Trial 39 finished with value: 0.8845098845450512 and parameters: {'max_depth': 5, 'learning_rate': 0.003736277442292282, 'n_estimators': 969, 'num_leaves': 1001, 'colsample_bytree': 0.7178586448322043, 'subsample': 0.6255040669157678, 'reg_alpha': 2.669945689769163, 'reg_lambda': 0.2861052677893876}. Best is trial 0 with value: 0.8845098845450512.\u001b[0m\n"
     ]
    },
    {
     "name": "stdout",
     "output_type": "stream",
     "text": [
      "[100]\tvalid_0's binary_logloss: 0.00818314\n",
      "[200]\tvalid_0's binary_logloss: 0.00806313\n",
      "[300]\tvalid_0's binary_logloss: 0.00794347\n",
      "[400]\tvalid_0's binary_logloss: 0.00782442\n",
      "[500]\tvalid_0's binary_logloss: 0.00770739\n",
      "[600]\tvalid_0's binary_logloss: 0.00759128\n",
      "[700]\tvalid_0's binary_logloss: 0.00747882\n",
      "[800]\tvalid_0's binary_logloss: 0.00736826\n",
      "[900]\tvalid_0's binary_logloss: 0.00726127\n",
      "[1000]\tvalid_0's binary_logloss: 0.00715719\n",
      "[1100]\tvalid_0's binary_logloss: 0.00705434\n"
     ]
    },
    {
     "name": "stderr",
     "output_type": "stream",
     "text": [
      "\u001b[32m[I 2022-07-09 18:33:41,581]\u001b[0m Trial 40 finished with value: 0.4997363518121419 and parameters: {'max_depth': 3, 'learning_rate': 2.4367252986662488e-05, 'n_estimators': 1162, 'num_leaves': 911, 'colsample_bytree': 0.5962237093700368, 'subsample': 0.9976000688778878, 'reg_alpha': 1.6836201795703687, 'reg_lambda': 1.2579630359798692}. Best is trial 0 with value: 0.8845098845450512.\u001b[0m\n"
     ]
    },
    {
     "name": "stdout",
     "output_type": "stream",
     "text": [
      "[100]\tvalid_0's binary_logloss: 0.00372045\n",
      "[200]\tvalid_0's binary_logloss: 0.00295245\n",
      "[300]\tvalid_0's binary_logloss: 0.00264294\n",
      "[400]\tvalid_0's binary_logloss: 0.00249298\n",
      "[500]\tvalid_0's binary_logloss: 0.00242543\n",
      "[600]\tvalid_0's binary_logloss: 0.00239438\n",
      "[700]\tvalid_0's binary_logloss: 0.00238361\n",
      "[800]\tvalid_0's binary_logloss: 0.0023843\n",
      "[900]\tvalid_0's binary_logloss: 0.00239321\n",
      "[1000]\tvalid_0's binary_logloss: 0.00240421\n"
     ]
    },
    {
     "name": "stderr",
     "output_type": "stream",
     "text": [
      "\u001b[32m[I 2022-07-09 18:33:47,468]\u001b[0m Trial 41 finished with value: 0.8845098845450512 and parameters: {'max_depth': 6, 'learning_rate': 0.004838540088694502, 'n_estimators': 1066, 'num_leaves': 281, 'colsample_bytree': 0.63838855101454, 'subsample': 0.578188010461492, 'reg_alpha': 1.398041232928107, 'reg_lambda': 3.5007468423112287}. Best is trial 0 with value: 0.8845098845450512.\u001b[0m\n"
     ]
    },
    {
     "name": "stdout",
     "output_type": "stream",
     "text": [
      "[100]\tvalid_0's binary_logloss: 0.00339582\n",
      "[200]\tvalid_0's binary_logloss: 0.00284986\n",
      "[300]\tvalid_0's binary_logloss: 0.00259672\n",
      "[400]\tvalid_0's binary_logloss: 0.00247348\n",
      "[500]\tvalid_0's binary_logloss: 0.00241925\n",
      "[600]\tvalid_0's binary_logloss: 0.00239622\n",
      "[700]\tvalid_0's binary_logloss: 0.00238928\n",
      "[800]\tvalid_0's binary_logloss: 0.00238595\n",
      "[900]\tvalid_0's binary_logloss: 0.00238764\n"
     ]
    },
    {
     "name": "stderr",
     "output_type": "stream",
     "text": [
      "\u001b[32m[I 2022-07-09 18:33:52,896]\u001b[0m Trial 42 finished with value: 0.8845098845450512 and parameters: {'max_depth': 5, 'learning_rate': 0.004421398621727805, 'n_estimators': 975, 'num_leaves': 833, 'colsample_bytree': 0.7194984433319142, 'subsample': 0.625428257175992, 'reg_alpha': 2.6834566898253818, 'reg_lambda': 0.4773146013399774}. Best is trial 0 with value: 0.8845098845450512.\u001b[0m\n"
     ]
    },
    {
     "name": "stdout",
     "output_type": "stream",
     "text": [
      "[100]\tvalid_0's binary_logloss: 0.0029937\n",
      "[200]\tvalid_0's binary_logloss: 0.00255691\n",
      "[300]\tvalid_0's binary_logloss: 0.00242254\n",
      "[400]\tvalid_0's binary_logloss: 0.00238909\n",
      "[500]\tvalid_0's binary_logloss: 0.00237587\n",
      "[600]\tvalid_0's binary_logloss: 0.00237915\n"
     ]
    },
    {
     "name": "stderr",
     "output_type": "stream",
     "text": [
      "\u001b[32m[I 2022-07-09 18:33:56,603]\u001b[0m Trial 43 finished with value: 0.8724347298745778 and parameters: {'max_depth': 6, 'learning_rate': 0.007562132799356365, 'n_estimators': 636, 'num_leaves': 1017, 'colsample_bytree': 0.6942604167718013, 'subsample': 0.5343518415988919, 'reg_alpha': 3.3634292970136945, 'reg_lambda': 0.9244939877765539}. Best is trial 0 with value: 0.8845098845450512.\u001b[0m\n"
     ]
    },
    {
     "name": "stdout",
     "output_type": "stream",
     "text": [
      "[100]\tvalid_0's binary_logloss: 0.00277317\n",
      "[200]\tvalid_0's binary_logloss: 0.00245472\n",
      "[300]\tvalid_0's binary_logloss: 0.00237945\n",
      "[400]\tvalid_0's binary_logloss: 0.00237293\n",
      "[500]\tvalid_0's binary_logloss: 0.00240227\n",
      "[600]\tvalid_0's binary_logloss: 0.00242731\n",
      "[700]\tvalid_0's binary_logloss: 0.00244039\n",
      "[800]\tvalid_0's binary_logloss: 0.00244142\n"
     ]
    },
    {
     "name": "stderr",
     "output_type": "stream",
     "text": [
      "\u001b[32m[I 2022-07-09 18:34:01,004]\u001b[0m Trial 44 finished with value: 0.8845098845450512 and parameters: {'max_depth': 6, 'learning_rate': 0.009598272408245224, 'n_estimators': 824, 'num_leaves': 291, 'colsample_bytree': 0.6388775956857371, 'subsample': 0.5695162873070783, 'reg_alpha': 2.8860851527703373, 'reg_lambda': 0.1969150648705429}. Best is trial 0 with value: 0.8845098845450512.\u001b[0m\n"
     ]
    },
    {
     "name": "stdout",
     "output_type": "stream",
     "text": [
      "[100]\tvalid_0's binary_logloss: 0.00830368\n",
      "[200]\tvalid_0's binary_logloss: 0.00829932\n",
      "[300]\tvalid_0's binary_logloss: 0.00829499\n",
      "[400]\tvalid_0's binary_logloss: 0.00829066\n",
      "[500]\tvalid_0's binary_logloss: 0.00828631\n",
      "[600]\tvalid_0's binary_logloss: 0.00828193\n",
      "[700]\tvalid_0's binary_logloss: 0.00827757\n",
      "[800]\tvalid_0's binary_logloss: 0.00827317\n",
      "[900]\tvalid_0's binary_logloss: 0.00826887\n"
     ]
    },
    {
     "name": "stderr",
     "output_type": "stream",
     "text": [
      "\u001b[32m[I 2022-07-09 18:34:06,274]\u001b[0m Trial 45 finished with value: 0.4997363518121419 and parameters: {'max_depth': 7, 'learning_rate': 3.602080196804978e-07, 'n_estimators': 969, 'num_leaves': 858, 'colsample_bytree': 0.7266270347389858, 'subsample': 0.6388297662070618, 'reg_alpha': 3.320445253327142, 'reg_lambda': 0.47440764039764943}. Best is trial 0 with value: 0.8845098845450512.\u001b[0m\n"
     ]
    },
    {
     "name": "stdout",
     "output_type": "stream",
     "text": [
      "[100]\tvalid_0's binary_logloss: 0.00612049\n",
      "[200]\tvalid_0's binary_logloss: 0.00543425\n",
      "[300]\tvalid_0's binary_logloss: 0.00504249\n",
      "[400]\tvalid_0's binary_logloss: 0.00477758\n",
      "[500]\tvalid_0's binary_logloss: 0.00457494\n",
      "[600]\tvalid_0's binary_logloss: 0.00441496\n",
      "[700]\tvalid_0's binary_logloss: 0.00428143\n",
      "[800]\tvalid_0's binary_logloss: 0.00416535\n",
      "[900]\tvalid_0's binary_logloss: 0.00406299\n",
      "[1000]\tvalid_0's binary_logloss: 0.00396663\n",
      "[1100]\tvalid_0's binary_logloss: 0.00387945\n",
      "[1200]\tvalid_0's binary_logloss: 0.00380076\n",
      "[1300]\tvalid_0's binary_logloss: 0.00372928\n",
      "[1400]\tvalid_0's binary_logloss: 0.003664\n"
     ]
    },
    {
     "name": "stderr",
     "output_type": "stream",
     "text": [
      "\u001b[32m[I 2022-07-09 18:34:13,700]\u001b[0m Trial 46 finished with value: 0.4997363518121419 and parameters: {'max_depth': 6, 'learning_rate': 0.00023654138026471294, 'n_estimators': 1431, 'num_leaves': 741, 'colsample_bytree': 0.7136875527211106, 'subsample': 0.5929209298726253, 'reg_alpha': 2.679327698332196, 'reg_lambda': 0.2948461860792585}. Best is trial 0 with value: 0.8845098845450512.\u001b[0m\n"
     ]
    },
    {
     "name": "stdout",
     "output_type": "stream",
     "text": [
      "[100]\tvalid_0's binary_logloss: 0.00488123\n",
      "[200]\tvalid_0's binary_logloss: 0.00384216\n",
      "[300]\tvalid_0's binary_logloss: 0.0033477\n",
      "[400]\tvalid_0's binary_logloss: 0.00304965\n",
      "[500]\tvalid_0's binary_logloss: 0.00284919\n",
      "[600]\tvalid_0's binary_logloss: 0.00270769\n",
      "[700]\tvalid_0's binary_logloss: 0.00260866\n",
      "[800]\tvalid_0's binary_logloss: 0.00253433\n",
      "[900]\tvalid_0's binary_logloss: 0.00247793\n",
      "[1000]\tvalid_0's binary_logloss: 0.00243955\n",
      "[1100]\tvalid_0's binary_logloss: 0.00241276\n",
      "[1200]\tvalid_0's binary_logloss: 0.00239348\n",
      "[1300]\tvalid_0's binary_logloss: 0.00238249\n"
     ]
    },
    {
     "name": "stderr",
     "output_type": "stream",
     "text": [
      "\u001b[32m[I 2022-07-09 18:34:20,718]\u001b[0m Trial 47 finished with value: 0.8845098845450512 and parameters: {'max_depth': 4, 'learning_rate': 0.0021696967532391026, 'n_estimators': 1386, 'num_leaves': 186, 'colsample_bytree': 0.5538535205818403, 'subsample': 0.8297834727553202, 'reg_alpha': 0.9511781467419599, 'reg_lambda': 3.154481321305653}. Best is trial 0 with value: 0.8845098845450512.\u001b[0m\n"
     ]
    },
    {
     "name": "stdout",
     "output_type": "stream",
     "text": [
      "[100]\tvalid_0's binary_logloss: 0.00513215\n",
      "[200]\tvalid_0's binary_logloss: 0.00455191\n",
      "[300]\tvalid_0's binary_logloss: 0.00421453\n",
      "[400]\tvalid_0's binary_logloss: 0.00397491\n",
      "[500]\tvalid_0's binary_logloss: 0.00378077\n"
     ]
    },
    {
     "name": "stderr",
     "output_type": "stream",
     "text": [
      "\u001b[32m[I 2022-07-09 18:34:23,736]\u001b[0m Trial 48 finished with value: 0.4997363518121419 and parameters: {'max_depth': 6, 'learning_rate': 0.0005535565291578642, 'n_estimators': 533, 'num_leaves': 963, 'colsample_bytree': 0.6464142231728834, 'subsample': 0.5723370520295049, 'reg_alpha': 3.0047923882443373, 'reg_lambda': 0.1153777473467338}. Best is trial 0 with value: 0.8845098845450512.\u001b[0m\n"
     ]
    },
    {
     "name": "stdout",
     "output_type": "stream",
     "text": [
      "[100]\tvalid_0's binary_logloss: 0.00830799\n",
      "[200]\tvalid_0's binary_logloss: 0.00830791\n",
      "[300]\tvalid_0's binary_logloss: 0.00830782\n",
      "[400]\tvalid_0's binary_logloss: 0.00830774\n",
      "[500]\tvalid_0's binary_logloss: 0.00830765\n",
      "[600]\tvalid_0's binary_logloss: 0.00830757\n",
      "[700]\tvalid_0's binary_logloss: 0.00830749\n",
      "[800]\tvalid_0's binary_logloss: 0.0083074\n",
      "[900]\tvalid_0's binary_logloss: 0.00830732\n",
      "[1000]\tvalid_0's binary_logloss: 0.00830724\n",
      "[1100]\tvalid_0's binary_logloss: 0.00830715\n",
      "[1200]\tvalid_0's binary_logloss: 0.00830707\n",
      "[1300]\tvalid_0's binary_logloss: 0.00830698\n",
      "[1400]\tvalid_0's binary_logloss: 0.0083069\n",
      "[1500]\tvalid_0's binary_logloss: 0.00830682\n",
      "[1600]\tvalid_0's binary_logloss: 0.00830673\n"
     ]
    },
    {
     "name": "stderr",
     "output_type": "stream",
     "text": [
      "\u001b[32m[I 2022-07-09 18:34:31,955]\u001b[0m Trial 49 finished with value: 0.4997363518121419 and parameters: {'max_depth': 9, 'learning_rate': 3.866103104701303e-08, 'n_estimators': 1638, 'num_leaves': 472, 'colsample_bytree': 0.5568082116735297, 'subsample': 0.8223569458215197, 'reg_alpha': 0.7072245954119105, 'reg_lambda': 3.1943033279780724}. Best is trial 0 with value: 0.8845098845450512.\u001b[0m\n"
     ]
    },
    {
     "name": "stdout",
     "output_type": "stream",
     "text": [
      "[100]\tvalid_0's binary_logloss: 0.00686564\n",
      "[200]\tvalid_0's binary_logloss: 0.00564018\n",
      "[300]\tvalid_0's binary_logloss: 0.00483594\n",
      "[400]\tvalid_0's binary_logloss: 0.00434573\n",
      "[500]\tvalid_0's binary_logloss: 0.00398598\n",
      "[600]\tvalid_0's binary_logloss: 0.00371545\n",
      "[700]\tvalid_0's binary_logloss: 0.00350804\n",
      "[800]\tvalid_0's binary_logloss: 0.00334274\n",
      "[900]\tvalid_0's binary_logloss: 0.00320991\n",
      "[1000]\tvalid_0's binary_logloss: 0.00310142\n",
      "[1100]\tvalid_0's binary_logloss: 0.00301085\n",
      "[1200]\tvalid_0's binary_logloss: 0.00293189\n",
      "[1300]\tvalid_0's binary_logloss: 0.00286544\n",
      "[1400]\tvalid_0's binary_logloss: 0.00280823\n",
      "[1500]\tvalid_0's binary_logloss: 0.00275562\n",
      "[1600]\tvalid_0's binary_logloss: 0.00271312\n",
      "[1700]\tvalid_0's binary_logloss: 0.00267831\n",
      "[1800]\tvalid_0's binary_logloss: 0.00264713\n"
     ]
    },
    {
     "name": "stderr",
     "output_type": "stream",
     "text": [
      "\u001b[32m[I 2022-07-09 18:34:43,178]\u001b[0m Trial 50 finished with value: 0.8724347298745778 and parameters: {'max_depth': 10, 'learning_rate': 0.0009073018691838579, 'n_estimators': 1891, 'num_leaves': 42, 'colsample_bytree': 0.9690634132749898, 'subsample': 0.7046278773212125, 'reg_alpha': 1.255462205058327, 'reg_lambda': 4.243333685400841}. Best is trial 0 with value: 0.8845098845450512.\u001b[0m\n"
     ]
    },
    {
     "name": "stdout",
     "output_type": "stream",
     "text": [
      "[100]\tvalid_0's binary_logloss: 0.00341917\n",
      "[200]\tvalid_0's binary_logloss: 0.00286325\n",
      "[300]\tvalid_0's binary_logloss: 0.00261307\n",
      "[400]\tvalid_0's binary_logloss: 0.0024812\n",
      "[500]\tvalid_0's binary_logloss: 0.00241679\n",
      "[600]\tvalid_0's binary_logloss: 0.00238629\n",
      "[700]\tvalid_0's binary_logloss: 0.00236659\n",
      "[800]\tvalid_0's binary_logloss: 0.00235813\n"
     ]
    },
    {
     "name": "stderr",
     "output_type": "stream",
     "text": [
      "\u001b[32m[I 2022-07-09 18:34:47,485]\u001b[0m Trial 51 finished with value: 0.8845098845450512 and parameters: {'max_depth': 4, 'learning_rate': 0.004589965516952563, 'n_estimators': 803, 'num_leaves': 371, 'colsample_bytree': 0.6075028704357014, 'subsample': 0.6247343621412121, 'reg_alpha': 3.8125562822108563, 'reg_lambda': 0.7000645291793111}. Best is trial 0 with value: 0.8845098845450512.\u001b[0m\n"
     ]
    },
    {
     "name": "stdout",
     "output_type": "stream",
     "text": [
      "[100]\tvalid_0's binary_logloss: 0.00299966\n",
      "[200]\tvalid_0's binary_logloss: 0.00261215\n",
      "[300]\tvalid_0's binary_logloss: 0.00249019\n",
      "[400]\tvalid_0's binary_logloss: 0.00245126\n",
      "[500]\tvalid_0's binary_logloss: 0.00246705\n",
      "[600]\tvalid_0's binary_logloss: 0.00249134\n",
      "[700]\tvalid_0's binary_logloss: 0.00249862\n",
      "[800]\tvalid_0's binary_logloss: 0.00250026\n",
      "[900]\tvalid_0's binary_logloss: 0.00250119\n"
     ]
    },
    {
     "name": "stderr",
     "output_type": "stream",
     "text": [
      "\u001b[32m[I 2022-07-09 18:34:52,338]\u001b[0m Trial 52 finished with value: 0.8724347298745778 and parameters: {'max_depth': 3, 'learning_rate': 0.00960227600029918, 'n_estimators': 973, 'num_leaves': 287, 'colsample_bytree': 0.6274936715725274, 'subsample': 0.561223185276452, 'reg_alpha': 2.741391296284327, 'reg_lambda': 0.0929594955935632}. Best is trial 0 with value: 0.8845098845450512.\u001b[0m\n"
     ]
    },
    {
     "name": "stdout",
     "output_type": "stream",
     "text": [
      "[100]\tvalid_0's binary_logloss: 0.00620407\n",
      "[200]\tvalid_0's binary_logloss: 0.00481648\n",
      "[300]\tvalid_0's binary_logloss: 0.00409807\n",
      "[400]\tvalid_0's binary_logloss: 0.00365428\n",
      "[500]\tvalid_0's binary_logloss: 0.00335986\n",
      "[600]\tvalid_0's binary_logloss: 0.00315141\n",
      "[700]\tvalid_0's binary_logloss: 0.00299948\n",
      "[800]\tvalid_0's binary_logloss: 0.00288238\n",
      "[900]\tvalid_0's binary_logloss: 0.00278775\n",
      "[1000]\tvalid_0's binary_logloss: 0.00270993\n",
      "[1100]\tvalid_0's binary_logloss: 0.00265181\n",
      "[1200]\tvalid_0's binary_logloss: 0.00261065\n",
      "[1300]\tvalid_0's binary_logloss: 0.00257713\n",
      "[1400]\tvalid_0's binary_logloss: 0.00254961\n",
      "[1500]\tvalid_0's binary_logloss: 0.00252806\n",
      "[1600]\tvalid_0's binary_logloss: 0.00250865\n"
     ]
    },
    {
     "name": "stderr",
     "output_type": "stream",
     "text": [
      "\u001b[32m[I 2022-07-09 18:35:01,741]\u001b[0m Trial 53 finished with value: 0.8724347298745778 and parameters: {'max_depth': 13, 'learning_rate': 0.001532865030175168, 'n_estimators': 1633, 'num_leaves': 513, 'colsample_bytree': 0.8234333167313468, 'subsample': 0.9625154453822315, 'reg_alpha': 4.176583736892079, 'reg_lambda': 4.714097678172357}. Best is trial 0 with value: 0.8845098845450512.\u001b[0m\n"
     ]
    },
    {
     "name": "stdout",
     "output_type": "stream",
     "text": [
      "[100]\tvalid_0's binary_logloss: 0.00570847\n",
      "[200]\tvalid_0's binary_logloss: 0.00438864\n",
      "[300]\tvalid_0's binary_logloss: 0.00374889\n",
      "[400]\tvalid_0's binary_logloss: 0.00337311\n",
      "[500]\tvalid_0's binary_logloss: 0.00311658\n",
      "[600]\tvalid_0's binary_logloss: 0.00293471\n",
      "[700]\tvalid_0's binary_logloss: 0.00280043\n",
      "[800]\tvalid_0's binary_logloss: 0.00269986\n",
      "[900]\tvalid_0's binary_logloss: 0.002623\n",
      "[1000]\tvalid_0's binary_logloss: 0.00256236\n",
      "[1100]\tvalid_0's binary_logloss: 0.00251249\n",
      "[1200]\tvalid_0's binary_logloss: 0.0024758\n"
     ]
    },
    {
     "name": "stderr",
     "output_type": "stream",
     "text": [
      "\u001b[32m[I 2022-07-09 18:35:08,166]\u001b[0m Trial 54 finished with value: 0.8845098845450512 and parameters: {'max_depth': 9, 'learning_rate': 0.0017947836607517622, 'n_estimators': 1292, 'num_leaves': 436, 'colsample_bytree': 0.519531627021107, 'subsample': 0.8517930441554524, 'reg_alpha': 0.9170519620604883, 'reg_lambda': 4.301337530689972}. Best is trial 0 with value: 0.8845098845450512.\u001b[0m\n"
     ]
    },
    {
     "name": "stdout",
     "output_type": "stream",
     "text": [
      "[100]\tvalid_0's binary_logloss: 0.00467478\n",
      "[200]\tvalid_0's binary_logloss: 0.00361518\n",
      "[300]\tvalid_0's binary_logloss: 0.00313876\n",
      "[400]\tvalid_0's binary_logloss: 0.00286787\n",
      "[500]\tvalid_0's binary_logloss: 0.00269372\n",
      "[600]\tvalid_0's binary_logloss: 0.0025792\n",
      "[700]\tvalid_0's binary_logloss: 0.00249892\n",
      "[800]\tvalid_0's binary_logloss: 0.00244338\n",
      "[900]\tvalid_0's binary_logloss: 0.00240892\n",
      "[1000]\tvalid_0's binary_logloss: 0.00238413\n",
      "[1100]\tvalid_0's binary_logloss: 0.00236893\n",
      "[1200]\tvalid_0's binary_logloss: 0.00235962\n"
     ]
    },
    {
     "name": "stderr",
     "output_type": "stream",
     "text": [
      "\u001b[32m[I 2022-07-09 18:35:14,570]\u001b[0m Trial 55 finished with value: 0.8845098845450512 and parameters: {'max_depth': 8, 'learning_rate': 0.002846203867599769, 'n_estimators': 1285, 'num_leaves': 151, 'colsample_bytree': 0.5298456639338162, 'subsample': 0.7396961274597276, 'reg_alpha': 1.1812681194822996, 'reg_lambda': 3.940770206510556}. Best is trial 0 with value: 0.8845098845450512.\u001b[0m\n"
     ]
    },
    {
     "name": "stdout",
     "output_type": "stream",
     "text": [
      "[100]\tvalid_0's binary_logloss: 0.00798385\n",
      "[200]\tvalid_0's binary_logloss: 0.00767562\n",
      "[300]\tvalid_0's binary_logloss: 0.00737251\n",
      "[400]\tvalid_0's binary_logloss: 0.00707845\n",
      "[500]\tvalid_0's binary_logloss: 0.00679499\n",
      "[600]\tvalid_0's binary_logloss: 0.00652912\n",
      "[700]\tvalid_0's binary_logloss: 0.00628005\n",
      "[800]\tvalid_0's binary_logloss: 0.00604794\n",
      "[900]\tvalid_0's binary_logloss: 0.00583948\n",
      "[1000]\tvalid_0's binary_logloss: 0.00564858\n",
      "[1100]\tvalid_0's binary_logloss: 0.00547729\n",
      "[1200]\tvalid_0's binary_logloss: 0.00531916\n",
      "[1300]\tvalid_0's binary_logloss: 0.00517823\n",
      "[1400]\tvalid_0's binary_logloss: 0.00505072\n"
     ]
    },
    {
     "name": "stderr",
     "output_type": "stream",
     "text": [
      "\u001b[32m[I 2022-07-09 18:35:21,406]\u001b[0m Trial 56 finished with value: 0.4997363518121419 and parameters: {'max_depth': 9, 'learning_rate': 0.00012887003023481422, 'n_estimators': 1433, 'num_leaves': 234, 'colsample_bytree': 0.5092810146406772, 'subsample': 0.8457327761927185, 'reg_alpha': 0.9053654555686106, 'reg_lambda': 2.691992233651481}. Best is trial 0 with value: 0.8845098845450512.\u001b[0m\n"
     ]
    },
    {
     "name": "stdout",
     "output_type": "stream",
     "text": [
      "[100]\tvalid_0's binary_logloss: 0.00509127\n",
      "[200]\tvalid_0's binary_logloss: 0.0039306\n",
      "[300]\tvalid_0's binary_logloss: 0.00339845\n",
      "[400]\tvalid_0's binary_logloss: 0.00308262\n",
      "[500]\tvalid_0's binary_logloss: 0.0028738\n",
      "[600]\tvalid_0's binary_logloss: 0.00272868\n",
      "[700]\tvalid_0's binary_logloss: 0.00262776\n",
      "[800]\tvalid_0's binary_logloss: 0.0025531\n",
      "[900]\tvalid_0's binary_logloss: 0.00249544\n",
      "[1000]\tvalid_0's binary_logloss: 0.00245424\n",
      "[1100]\tvalid_0's binary_logloss: 0.00242558\n",
      "[1200]\tvalid_0's binary_logloss: 0.00240441\n"
     ]
    },
    {
     "name": "stderr",
     "output_type": "stream",
     "text": [
      "\u001b[32m[I 2022-07-09 18:35:27,571]\u001b[0m Trial 57 finished with value: 0.8845098845450512 and parameters: {'max_depth': 8, 'learning_rate': 0.002294741328239139, 'n_estimators': 1265, 'num_leaves': 149, 'colsample_bytree': 0.5471645481388195, 'subsample': 0.7506578890197486, 'reg_alpha': 1.3724021763311391, 'reg_lambda': 3.9440439108659455}. Best is trial 0 with value: 0.8845098845450512.\u001b[0m\n"
     ]
    },
    {
     "name": "stdout",
     "output_type": "stream",
     "text": [
      "[100]\tvalid_0's binary_logloss: 0.00743126\n",
      "[200]\tvalid_0's binary_logloss: 0.00663349\n",
      "[300]\tvalid_0's binary_logloss: 0.00593778\n",
      "[400]\tvalid_0's binary_logloss: 0.00538025\n",
      "[500]\tvalid_0's binary_logloss: 0.00495614\n",
      "[600]\tvalid_0's binary_logloss: 0.00463272\n",
      "[700]\tvalid_0's binary_logloss: 0.00437281\n",
      "[800]\tvalid_0's binary_logloss: 0.0041585\n",
      "[900]\tvalid_0's binary_logloss: 0.00398164\n",
      "[1000]\tvalid_0's binary_logloss: 0.0038317\n",
      "[1100]\tvalid_0's binary_logloss: 0.00370029\n"
     ]
    },
    {
     "name": "stderr",
     "output_type": "stream",
     "text": [
      "\u001b[32m[I 2022-07-09 18:35:33,335]\u001b[0m Trial 58 finished with value: 0.4997363518121419 and parameters: {'max_depth': 4, 'learning_rate': 0.00047444101594417657, 'n_estimators': 1123, 'num_leaves': 106, 'colsample_bytree': 0.5846787524857651, 'subsample': 0.7135862745161766, 'reg_alpha': 2.1684688946267623, 'reg_lambda': 3.6720860892150684}. Best is trial 0 with value: 0.8845098845450512.\u001b[0m\n"
     ]
    },
    {
     "name": "stdout",
     "output_type": "stream",
     "text": [
      "[100]\tvalid_0's binary_logloss: 0.00342714\n",
      "[200]\tvalid_0's binary_logloss: 0.00281848\n",
      "[300]\tvalid_0's binary_logloss: 0.00256572\n",
      "[400]\tvalid_0's binary_logloss: 0.00244438\n",
      "[500]\tvalid_0's binary_logloss: 0.00238614\n",
      "[600]\tvalid_0's binary_logloss: 0.00236418\n",
      "[700]\tvalid_0's binary_logloss: 0.00236418\n",
      "[800]\tvalid_0's binary_logloss: 0.00237432\n",
      "[900]\tvalid_0's binary_logloss: 0.00238951\n",
      "[1000]\tvalid_0's binary_logloss: 0.00240513\n",
      "[1100]\tvalid_0's binary_logloss: 0.00242044\n"
     ]
    },
    {
     "name": "stderr",
     "output_type": "stream",
     "text": [
      "\u001b[32m[I 2022-07-09 18:35:39,347]\u001b[0m Trial 59 finished with value: 0.8845098845450512 and parameters: {'max_depth': 5, 'learning_rate': 0.0052435750340500565, 'n_estimators': 1187, 'num_leaves': 968, 'colsample_bytree': 0.522639633015963, 'subsample': 0.9105460154288383, 'reg_alpha': 1.9138906411010628, 'reg_lambda': 1.8608914205554845}. Best is trial 0 with value: 0.8845098845450512.\u001b[0m\n"
     ]
    },
    {
     "name": "stdout",
     "output_type": "stream",
     "text": [
      "[100]\tvalid_0's binary_logloss: 0.00665537\n",
      "[200]\tvalid_0's binary_logloss: 0.00541564\n",
      "[300]\tvalid_0's binary_logloss: 0.00463697\n",
      "[400]\tvalid_0's binary_logloss: 0.00414885\n",
      "[500]\tvalid_0's binary_logloss: 0.0038103\n",
      "[600]\tvalid_0's binary_logloss: 0.00356216\n",
      "[700]\tvalid_0's binary_logloss: 0.00336988\n",
      "[800]\tvalid_0's binary_logloss: 0.00321519\n",
      "[900]\tvalid_0's binary_logloss: 0.00308971\n",
      "[1000]\tvalid_0's binary_logloss: 0.0029859\n",
      "[1100]\tvalid_0's binary_logloss: 0.00289731\n",
      "[1200]\tvalid_0's binary_logloss: 0.00282322\n",
      "[1300]\tvalid_0's binary_logloss: 0.0027596\n",
      "[1400]\tvalid_0's binary_logloss: 0.00270458\n",
      "[1500]\tvalid_0's binary_logloss: 0.00265697\n"
     ]
    },
    {
     "name": "stderr",
     "output_type": "stream",
     "text": [
      "\u001b[32m[I 2022-07-09 18:35:47,847]\u001b[0m Trial 60 finished with value: 0.846806907378336 and parameters: {'max_depth': 7, 'learning_rate': 0.0009943705358376157, 'n_estimators': 1579, 'num_leaves': 128, 'colsample_bytree': 0.5830625864674628, 'subsample': 0.8045605035799535, 'reg_alpha': 1.093077634136629, 'reg_lambda': 4.0313878054619465}. Best is trial 0 with value: 0.8845098845450512.\u001b[0m\n"
     ]
    },
    {
     "name": "stdout",
     "output_type": "stream",
     "text": [
      "[100]\tvalid_0's binary_logloss: 0.0044823\n",
      "[200]\tvalid_0's binary_logloss: 0.00349034\n",
      "[300]\tvalid_0's binary_logloss: 0.00304588\n",
      "[400]\tvalid_0's binary_logloss: 0.0027947\n",
      "[500]\tvalid_0's binary_logloss: 0.00263827\n",
      "[600]\tvalid_0's binary_logloss: 0.00253923\n",
      "[700]\tvalid_0's binary_logloss: 0.00246976\n",
      "[800]\tvalid_0's binary_logloss: 0.00242352\n",
      "[900]\tvalid_0's binary_logloss: 0.00239472\n",
      "[1000]\tvalid_0's binary_logloss: 0.00237339\n",
      "[1100]\tvalid_0's binary_logloss: 0.00236163\n",
      "[1200]\tvalid_0's binary_logloss: 0.00235589\n"
     ]
    },
    {
     "name": "stderr",
     "output_type": "stream",
     "text": [
      "\u001b[32m[I 2022-07-09 18:35:54,483]\u001b[0m Trial 61 finished with value: 0.8845098845450512 and parameters: {'max_depth': 5, 'learning_rate': 0.00312047491878874, 'n_estimators': 1211, 'num_leaves': 63, 'colsample_bytree': 0.5334471234094296, 'subsample': 0.7359212472188277, 'reg_alpha': 1.9569291274810583, 'reg_lambda': 3.771326061110247}. Best is trial 0 with value: 0.8845098845450512.\u001b[0m\n"
     ]
    },
    {
     "name": "stdout",
     "output_type": "stream",
     "text": [
      "[100]\tvalid_0's binary_logloss: 0.00417471\n",
      "[200]\tvalid_0's binary_logloss: 0.00328873\n",
      "[300]\tvalid_0's binary_logloss: 0.00289526\n",
      "[400]\tvalid_0's binary_logloss: 0.00268223\n",
      "[500]\tvalid_0's binary_logloss: 0.0025553\n",
      "[600]\tvalid_0's binary_logloss: 0.00247334\n",
      "[700]\tvalid_0's binary_logloss: 0.0024236\n",
      "[800]\tvalid_0's binary_logloss: 0.00239706\n",
      "[900]\tvalid_0's binary_logloss: 0.00238522\n",
      "[1000]\tvalid_0's binary_logloss: 0.00238173\n",
      "[1100]\tvalid_0's binary_logloss: 0.00238185\n",
      "[1200]\tvalid_0's binary_logloss: 0.00238779\n",
      "[1300]\tvalid_0's binary_logloss: 0.00239547\n"
     ]
    },
    {
     "name": "stderr",
     "output_type": "stream",
     "text": [
      "\u001b[32m[I 2022-07-09 18:36:01,884]\u001b[0m Trial 62 finished with value: 0.8845098845450512 and parameters: {'max_depth': 5, 'learning_rate': 0.0035882612496251636, 'n_estimators': 1311, 'num_leaves': 225, 'colsample_bytree': 0.5544340787375259, 'subsample': 0.7657974886149719, 'reg_alpha': 1.637001875507695, 'reg_lambda': 3.4335061577294774}. Best is trial 0 with value: 0.8845098845450512.\u001b[0m\n"
     ]
    },
    {
     "name": "stdout",
     "output_type": "stream",
     "text": [
      "[100]\tvalid_0's binary_logloss: 0.00373604\n",
      "[200]\tvalid_0's binary_logloss: 0.00291991\n",
      "[300]\tvalid_0's binary_logloss: 0.00261593\n",
      "[400]\tvalid_0's binary_logloss: 0.00246786\n",
      "[500]\tvalid_0's binary_logloss: 0.00239399\n",
      "[600]\tvalid_0's binary_logloss: 0.00236101\n",
      "[700]\tvalid_0's binary_logloss: 0.00235382\n",
      "[800]\tvalid_0's binary_logloss: 0.00235695\n",
      "[900]\tvalid_0's binary_logloss: 0.0023658\n",
      "[1000]\tvalid_0's binary_logloss: 0.00237904\n",
      "[1100]\tvalid_0's binary_logloss: 0.00239263\n",
      "[1200]\tvalid_0's binary_logloss: 0.00240557\n",
      "[1300]\tvalid_0's binary_logloss: 0.00241645\n"
     ]
    },
    {
     "name": "stderr",
     "output_type": "stream",
     "text": [
      "\u001b[32m[I 2022-07-09 18:36:08,838]\u001b[0m Trial 63 finished with value: 0.8845098845450512 and parameters: {'max_depth': 4, 'learning_rate': 0.00559486968528254, 'n_estimators': 1361, 'num_leaves': 61, 'colsample_bytree': 0.5337069679443469, 'subsample': 0.698927590300597, 'reg_alpha': 1.7548632968036728, 'reg_lambda': 4.772150338812048}. Best is trial 0 with value: 0.8845098845450512.\u001b[0m\n"
     ]
    },
    {
     "name": "stdout",
     "output_type": "stream",
     "text": [
      "[100]\tvalid_0's binary_logloss: 0.00407297\n",
      "[200]\tvalid_0's binary_logloss: 0.00321624\n",
      "[300]\tvalid_0's binary_logloss: 0.00283869\n",
      "[400]\tvalid_0's binary_logloss: 0.00263702\n",
      "[500]\tvalid_0's binary_logloss: 0.00251702\n",
      "[600]\tvalid_0's binary_logloss: 0.0024441\n",
      "[700]\tvalid_0's binary_logloss: 0.00240155\n",
      "[800]\tvalid_0's binary_logloss: 0.00237889\n",
      "[900]\tvalid_0's binary_logloss: 0.00236936\n",
      "[1000]\tvalid_0's binary_logloss: 0.00236927\n",
      "[1100]\tvalid_0's binary_logloss: 0.00237287\n",
      "[1200]\tvalid_0's binary_logloss: 0.0023814\n",
      "[1300]\tvalid_0's binary_logloss: 0.00238924\n",
      "[1400]\tvalid_0's binary_logloss: 0.00239839\n"
     ]
    },
    {
     "name": "stderr",
     "output_type": "stream",
     "text": [
      "\u001b[32m[I 2022-07-09 18:36:16,496]\u001b[0m Trial 64 finished with value: 0.8845098845450512 and parameters: {'max_depth': 3, 'learning_rate': 0.003812788660713221, 'n_estimators': 1473, 'num_leaves': 691, 'colsample_bytree': 0.5686399530868231, 'subsample': 0.7637025877377907, 'reg_alpha': 1.5990483512346627, 'reg_lambda': 3.4221860265908752}. Best is trial 0 with value: 0.8845098845450512.\u001b[0m\n"
     ]
    },
    {
     "name": "stdout",
     "output_type": "stream",
     "text": [
      "[100]\tvalid_0's binary_logloss: 0.00337219\n",
      "[200]\tvalid_0's binary_logloss: 0.00268936\n",
      "[300]\tvalid_0's binary_logloss: 0.00245403\n",
      "[400]\tvalid_0's binary_logloss: 0.00235885\n",
      "[500]\tvalid_0's binary_logloss: 0.00233339\n",
      "[600]\tvalid_0's binary_logloss: 0.00234006\n",
      "[700]\tvalid_0's binary_logloss: 0.00236564\n",
      "[800]\tvalid_0's binary_logloss: 0.00239044\n",
      "[900]\tvalid_0's binary_logloss: 0.00241826\n",
      "[1000]\tvalid_0's binary_logloss: 0.00244636\n",
      "[1100]\tvalid_0's binary_logloss: 0.00247182\n",
      "[1200]\tvalid_0's binary_logloss: 0.00249644\n",
      "[1300]\tvalid_0's binary_logloss: 0.0025198\n",
      "[1400]\tvalid_0's binary_logloss: 0.00253958\n",
      "[1500]\tvalid_0's binary_logloss: 0.00256084\n"
     ]
    },
    {
     "name": "stderr",
     "output_type": "stream",
     "text": [
      "\u001b[32m[I 2022-07-09 18:36:24,688]\u001b[0m Trial 65 finished with value: 0.8845098845450512 and parameters: {'max_depth': 4, 'learning_rate': 0.00704373967304655, 'n_estimators': 1563, 'num_leaves': 948, 'colsample_bytree': 0.5027755577659437, 'subsample': 0.5092026398888811, 'reg_alpha': 0.17417633759155837, 'reg_lambda': 4.751339610779438}. Best is trial 0 with value: 0.8845098845450512.\u001b[0m\n"
     ]
    },
    {
     "name": "stdout",
     "output_type": "stream",
     "text": [
      "[100]\tvalid_0's binary_logloss: 0.00335186\n",
      "[200]\tvalid_0's binary_logloss: 0.00268943\n",
      "[300]\tvalid_0's binary_logloss: 0.00246907\n",
      "[400]\tvalid_0's binary_logloss: 0.00238677\n",
      "[500]\tvalid_0's binary_logloss: 0.00236594\n",
      "[600]\tvalid_0's binary_logloss: 0.00237125\n",
      "[700]\tvalid_0's binary_logloss: 0.00238788\n",
      "[800]\tvalid_0's binary_logloss: 0.00240102\n",
      "[900]\tvalid_0's binary_logloss: 0.00241817\n",
      "[1000]\tvalid_0's binary_logloss: 0.00244101\n",
      "[1100]\tvalid_0's binary_logloss: 0.00246296\n",
      "[1200]\tvalid_0's binary_logloss: 0.00248117\n",
      "[1300]\tvalid_0's binary_logloss: 0.00249977\n",
      "[1400]\tvalid_0's binary_logloss: 0.00251741\n"
     ]
    },
    {
     "name": "stderr",
     "output_type": "stream",
     "text": [
      "\u001b[32m[I 2022-07-09 18:36:32,672]\u001b[0m Trial 66 finished with value: 0.8845098845450512 and parameters: {'max_depth': 3, 'learning_rate': 0.007013376874998477, 'n_estimators': 1483, 'num_leaves': 690, 'colsample_bytree': 0.5729799423754146, 'subsample': 0.8917562132004013, 'reg_alpha': 0.5140908875592584, 'reg_lambda': 4.408605689707223}. Best is trial 0 with value: 0.8845098845450512.\u001b[0m\n"
     ]
    },
    {
     "name": "stdout",
     "output_type": "stream",
     "text": [
      "[100]\tvalid_0's binary_logloss: 0.00280839\n",
      "[200]\tvalid_0's binary_logloss: 0.00241537\n",
      "[300]\tvalid_0's binary_logloss: 0.00234376\n",
      "[400]\tvalid_0's binary_logloss: 0.00236923\n",
      "[500]\tvalid_0's binary_logloss: 0.00242742\n",
      "[600]\tvalid_0's binary_logloss: 0.00248885\n",
      "[700]\tvalid_0's binary_logloss: 0.00254775\n",
      "[800]\tvalid_0's binary_logloss: 0.00259668\n",
      "[900]\tvalid_0's binary_logloss: 0.00264041\n",
      "[1000]\tvalid_0's binary_logloss: 0.00267547\n",
      "[1100]\tvalid_0's binary_logloss: 0.00271154\n",
      "[1200]\tvalid_0's binary_logloss: 0.00274264\n",
      "[1300]\tvalid_0's binary_logloss: 0.00276818\n",
      "[1400]\tvalid_0's binary_logloss: 0.00279052\n",
      "[1500]\tvalid_0's binary_logloss: 0.00281137\n"
     ]
    },
    {
     "name": "stderr",
     "output_type": "stream",
     "text": [
      "\u001b[32m[I 2022-07-09 18:36:41,235]\u001b[0m Trial 67 finished with value: 0.8845098845450512 and parameters: {'max_depth': 4, 'learning_rate': 0.00974037481916378, 'n_estimators': 1573, 'num_leaves': 962, 'colsample_bytree': 0.5018957660221738, 'subsample': 0.5215205521544238, 'reg_alpha': 0.19301903399892906, 'reg_lambda': 1.9453699246772946}. Best is trial 0 with value: 0.8845098845450512.\u001b[0m\n"
     ]
    },
    {
     "name": "stdout",
     "output_type": "stream",
     "text": [
      "[100]\tvalid_0's binary_logloss: 0.00358421\n",
      "[200]\tvalid_0's binary_logloss: 0.00283371\n",
      "[300]\tvalid_0's binary_logloss: 0.00256008\n",
      "[400]\tvalid_0's binary_logloss: 0.00243871\n",
      "[500]\tvalid_0's binary_logloss: 0.0023899\n",
      "[600]\tvalid_0's binary_logloss: 0.0023751\n",
      "[700]\tvalid_0's binary_logloss: 0.00237938\n",
      "[800]\tvalid_0's binary_logloss: 0.00239208\n",
      "[900]\tvalid_0's binary_logloss: 0.00240459\n",
      "[1000]\tvalid_0's binary_logloss: 0.00241927\n"
     ]
    },
    {
     "name": "stderr",
     "output_type": "stream",
     "text": [
      "\u001b[32m[I 2022-07-09 18:36:46,807]\u001b[0m Trial 68 finished with value: 0.8845098845450512 and parameters: {'max_depth': 3, 'learning_rate': 0.005887596725494724, 'n_estimators': 1028, 'num_leaves': 562, 'colsample_bytree': 0.5917325624144281, 'subsample': 0.887056092235282, 'reg_alpha': 0.5017733698128466, 'reg_lambda': 4.454542229616756}. Best is trial 0 with value: 0.8845098845450512.\u001b[0m\n"
     ]
    },
    {
     "name": "stdout",
     "output_type": "stream",
     "text": [
      "[100]\tvalid_0's binary_logloss: 0.00827193\n",
      "[200]\tvalid_0's binary_logloss: 0.00823711\n",
      "[300]\tvalid_0's binary_logloss: 0.00820189\n",
      "[400]\tvalid_0's binary_logloss: 0.0081669\n",
      "[500]\tvalid_0's binary_logloss: 0.00813149\n",
      "[600]\tvalid_0's binary_logloss: 0.00809621\n",
      "[700]\tvalid_0's binary_logloss: 0.00806097\n",
      "[800]\tvalid_0's binary_logloss: 0.00802547\n",
      "[900]\tvalid_0's binary_logloss: 0.00799082\n",
      "[1000]\tvalid_0's binary_logloss: 0.00795592\n",
      "[1100]\tvalid_0's binary_logloss: 0.00792145\n",
      "[1200]\tvalid_0's binary_logloss: 0.00788646\n",
      "[1300]\tvalid_0's binary_logloss: 0.00785187\n",
      "[1400]\tvalid_0's binary_logloss: 0.00781756\n",
      "[1500]\tvalid_0's binary_logloss: 0.00778348\n"
     ]
    },
    {
     "name": "stderr",
     "output_type": "stream",
     "text": [
      "\u001b[32m[I 2022-07-09 18:36:54,532]\u001b[0m Trial 69 finished with value: 0.4997363518121419 and parameters: {'max_depth': 5, 'learning_rate': 9.050788762930982e-06, 'n_estimators': 1567, 'num_leaves': 986, 'colsample_bytree': 0.5146170838063366, 'subsample': 0.5218963537317813, 'reg_alpha': 0.11563658955480141, 'reg_lambda': 1.66126738752098}. Best is trial 0 with value: 0.8845098845450512.\u001b[0m\n"
     ]
    },
    {
     "name": "stdout",
     "output_type": "stream",
     "text": [
      "[100]\tvalid_0's binary_logloss: 0.0049205\n",
      "[200]\tvalid_0's binary_logloss: 0.00389356\n",
      "[300]\tvalid_0's binary_logloss: 0.00340024\n",
      "[400]\tvalid_0's binary_logloss: 0.00310311\n",
      "[500]\tvalid_0's binary_logloss: 0.00290229\n",
      "[600]\tvalid_0's binary_logloss: 0.00276098\n",
      "[700]\tvalid_0's binary_logloss: 0.00265922\n",
      "[800]\tvalid_0's binary_logloss: 0.00258644\n",
      "[900]\tvalid_0's binary_logloss: 0.00253145\n",
      "[1000]\tvalid_0's binary_logloss: 0.00248937\n",
      "[1100]\tvalid_0's binary_logloss: 0.00245645\n",
      "[1200]\tvalid_0's binary_logloss: 0.00243429\n",
      "[1300]\tvalid_0's binary_logloss: 0.00242009\n",
      "[1400]\tvalid_0's binary_logloss: 0.00240563\n",
      "[1500]\tvalid_0's binary_logloss: 0.00239574\n",
      "[1600]\tvalid_0's binary_logloss: 0.00238672\n",
      "[1700]\tvalid_0's binary_logloss: 0.00237903\n"
     ]
    },
    {
     "name": "stderr",
     "output_type": "stream",
     "text": [
      "\u001b[32m[I 2022-07-09 18:37:03,955]\u001b[0m Trial 70 finished with value: 0.8845098845450512 and parameters: {'max_depth': 10, 'learning_rate': 0.0021813494534205177, 'n_estimators': 1795, 'num_leaves': 356, 'colsample_bytree': 0.6046405433011703, 'subsample': 0.6764588591331218, 'reg_alpha': 4.9826720346340565, 'reg_lambda': 3.05617452076226}. Best is trial 0 with value: 0.8845098845450512.\u001b[0m\n"
     ]
    },
    {
     "name": "stdout",
     "output_type": "stream",
     "text": [
      "[100]\tvalid_0's binary_logloss: 0.00405613\n",
      "[200]\tvalid_0's binary_logloss: 0.00317877\n",
      "[300]\tvalid_0's binary_logloss: 0.00280717\n",
      "[400]\tvalid_0's binary_logloss: 0.00261325\n",
      "[500]\tvalid_0's binary_logloss: 0.00250205\n",
      "[600]\tvalid_0's binary_logloss: 0.00244768\n",
      "[700]\tvalid_0's binary_logloss: 0.00242055\n",
      "[800]\tvalid_0's binary_logloss: 0.00240644\n",
      "[900]\tvalid_0's binary_logloss: 0.00240039\n"
     ]
    },
    {
     "name": "stderr",
     "output_type": "stream",
     "text": [
      "\u001b[32m[I 2022-07-09 18:37:09,497]\u001b[0m Trial 71 finished with value: 0.8845098845450512 and parameters: {'max_depth': 6, 'learning_rate': 0.003965807554114233, 'n_estimators': 999, 'num_leaves': 904, 'colsample_bytree': 0.6655718294823854, 'subsample': 0.6185198802924864, 'reg_alpha': 2.503957928007753, 'reg_lambda': 3.590657445934486}. Best is trial 0 with value: 0.8845098845450512.\u001b[0m\n"
     ]
    },
    {
     "name": "stdout",
     "output_type": "stream",
     "text": [
      "[100]\tvalid_0's binary_logloss: 0.00619664\n",
      "[200]\tvalid_0's binary_logloss: 0.00491468\n",
      "[300]\tvalid_0's binary_logloss: 0.00424208\n",
      "[400]\tvalid_0's binary_logloss: 0.00382567\n",
      "[500]\tvalid_0's binary_logloss: 0.0035347\n",
      "[600]\tvalid_0's binary_logloss: 0.00332153\n",
      "[700]\tvalid_0's binary_logloss: 0.00315744\n",
      "[800]\tvalid_0's binary_logloss: 0.00302665\n",
      "[900]\tvalid_0's binary_logloss: 0.00292184\n",
      "[1000]\tvalid_0's binary_logloss: 0.0028358\n",
      "[1100]\tvalid_0's binary_logloss: 0.0027657\n"
     ]
    },
    {
     "name": "stderr",
     "output_type": "stream",
     "text": [
      "\u001b[32m[I 2022-07-09 18:37:15,557]\u001b[0m Trial 72 finished with value: 0.8598769209128951 and parameters: {'max_depth': 6, 'learning_rate': 0.0012233940050434106, 'n_estimators': 1127, 'num_leaves': 391, 'colsample_bytree': 0.6847014543769059, 'subsample': 0.6595747984994998, 'reg_alpha': 4.927015876326566, 'reg_lambda': 3.576715481986131}. Best is trial 0 with value: 0.8845098845450512.\u001b[0m\n"
     ]
    },
    {
     "name": "stdout",
     "output_type": "stream",
     "text": [
      "[100]\tvalid_0's binary_logloss: 0.00444328\n",
      "[200]\tvalid_0's binary_logloss: 0.00379171\n",
      "[300]\tvalid_0's binary_logloss: 0.00342073\n",
      "[400]\tvalid_0's binary_logloss: 0.00317261\n",
      "[500]\tvalid_0's binary_logloss: 0.00299195\n",
      "[600]\tvalid_0's binary_logloss: 0.00285153\n",
      "[700]\tvalid_0's binary_logloss: 0.00274396\n"
     ]
    },
    {
     "name": "stderr",
     "output_type": "stream",
     "text": [
      "\u001b[32m[I 2022-07-09 18:37:19,816]\u001b[0m Trial 73 finished with value: 0.8598769209128951 and parameters: {'max_depth': 8, 'learning_rate': 0.0015479605243234823, 'n_estimators': 780, 'num_leaves': 820, 'colsample_bytree': 0.6105734384489709, 'subsample': 0.6878719421931221, 'reg_alpha': 3.9748993861195734, 'reg_lambda': 0.6431036003260784}. Best is trial 0 with value: 0.8845098845450512.\u001b[0m\n"
     ]
    },
    {
     "name": "stdout",
     "output_type": "stream",
     "text": [
      "[100]\tvalid_0's binary_logloss: 0.00548289\n",
      "[200]\tvalid_0's binary_logloss: 0.00421752\n",
      "[300]\tvalid_0's binary_logloss: 0.00362081\n",
      "[400]\tvalid_0's binary_logloss: 0.00326915\n",
      "[500]\tvalid_0's binary_logloss: 0.00303303\n",
      "[600]\tvalid_0's binary_logloss: 0.00286688\n",
      "[700]\tvalid_0's binary_logloss: 0.00274682\n",
      "[800]\tvalid_0's binary_logloss: 0.00265664\n",
      "[900]\tvalid_0's binary_logloss: 0.00258965\n"
     ]
    },
    {
     "name": "stderr",
     "output_type": "stream",
     "text": [
      "\u001b[32m[I 2022-07-09 18:37:24,624]\u001b[0m Trial 74 finished with value: 0.8724347298745778 and parameters: {'max_depth': 9, 'learning_rate': 0.0020058383112440984, 'n_estimators': 907, 'num_leaves': 455, 'colsample_bytree': 0.5595747568387477, 'subsample': 0.6442213551547602, 'reg_alpha': 3.5745953666001964, 'reg_lambda': 4.143232546483718}. Best is trial 0 with value: 0.8845098845450512.\u001b[0m\n"
     ]
    },
    {
     "name": "stdout",
     "output_type": "stream",
     "text": [
      "[100]\tvalid_0's binary_logloss: 0.00727247\n",
      "[200]\tvalid_0's binary_logloss: 0.00633513\n",
      "[300]\tvalid_0's binary_logloss: 0.0055613\n",
      "[400]\tvalid_0's binary_logloss: 0.00499046\n",
      "[500]\tvalid_0's binary_logloss: 0.00458347\n",
      "[600]\tvalid_0's binary_logloss: 0.00427498\n",
      "[700]\tvalid_0's binary_logloss: 0.0040245\n",
      "[800]\tvalid_0's binary_logloss: 0.0038192\n",
      "[900]\tvalid_0's binary_logloss: 0.00365119\n",
      "[1000]\tvalid_0's binary_logloss: 0.00350978\n",
      "[1100]\tvalid_0's binary_logloss: 0.00338914\n",
      "[1200]\tvalid_0's binary_logloss: 0.00328506\n",
      "[1300]\tvalid_0's binary_logloss: 0.00319436\n",
      "[1400]\tvalid_0's binary_logloss: 0.00311525\n",
      "[1500]\tvalid_0's binary_logloss: 0.00304534\n",
      "[1600]\tvalid_0's binary_logloss: 0.00298444\n",
      "[1700]\tvalid_0's binary_logloss: 0.00292883\n"
     ]
    },
    {
     "name": "stderr",
     "output_type": "stream",
     "text": [
      "\u001b[32m[I 2022-07-09 18:37:34,443]\u001b[0m Trial 75 finished with value: 0.4997363518121419 and parameters: {'max_depth': 11, 'learning_rate': 0.0006315306780315873, 'n_estimators': 1749, 'num_leaves': 616, 'colsample_bytree': 0.8032406772399509, 'subsample': 0.6164495737900322, 'reg_alpha': 0.7125037224962318, 'reg_lambda': 4.304424792462944}. Best is trial 0 with value: 0.8845098845450512.\u001b[0m\n"
     ]
    },
    {
     "name": "stdout",
     "output_type": "stream",
     "text": [
      "[100]\tvalid_0's binary_logloss: 0.00467534\n",
      "[200]\tvalid_0's binary_logloss: 0.00362412\n",
      "[300]\tvalid_0's binary_logloss: 0.00315026\n",
      "[400]\tvalid_0's binary_logloss: 0.00287787\n",
      "[500]\tvalid_0's binary_logloss: 0.00270409\n",
      "[600]\tvalid_0's binary_logloss: 0.00258928\n",
      "[700]\tvalid_0's binary_logloss: 0.0025091\n",
      "[800]\tvalid_0's binary_logloss: 0.00245213\n",
      "[900]\tvalid_0's binary_logloss: 0.00241628\n",
      "[1000]\tvalid_0's binary_logloss: 0.00239087\n",
      "[1100]\tvalid_0's binary_logloss: 0.00237451\n",
      "[1200]\tvalid_0's binary_logloss: 0.00236408\n"
     ]
    },
    {
     "name": "stderr",
     "output_type": "stream",
     "text": [
      "\u001b[32m[I 2022-07-09 18:37:40,821]\u001b[0m Trial 76 finished with value: 0.8845098845450512 and parameters: {'max_depth': 8, 'learning_rate': 0.002809633844543205, 'n_estimators': 1277, 'num_leaves': 141, 'colsample_bytree': 0.5262418801001049, 'subsample': 0.9122228663691119, 'reg_alpha': 1.457873220074347, 'reg_lambda': 3.8447825168366263}. Best is trial 0 with value: 0.8845098845450512.\u001b[0m\n"
     ]
    },
    {
     "name": "stdout",
     "output_type": "stream",
     "text": [
      "[100]\tvalid_0's binary_logloss: 0.00342258\n",
      "[200]\tvalid_0's binary_logloss: 0.0028427\n",
      "[300]\tvalid_0's binary_logloss: 0.00259242\n",
      "[400]\tvalid_0's binary_logloss: 0.00247278\n",
      "[500]\tvalid_0's binary_logloss: 0.0024137\n",
      "[600]\tvalid_0's binary_logloss: 0.00239418\n",
      "[700]\tvalid_0's binary_logloss: 0.00238223\n",
      "[800]\tvalid_0's binary_logloss: 0.00238548\n"
     ]
    },
    {
     "name": "stderr",
     "output_type": "stream",
     "text": [
      "\u001b[32m[I 2022-07-09 18:37:45,769]\u001b[0m Trial 77 finished with value: 0.8724347298745778 and parameters: {'max_depth': 5, 'learning_rate': 0.00468182171142856, 'n_estimators': 868, 'num_leaves': 1019, 'colsample_bytree': 0.7108275605434048, 'subsample': 0.5882289463254646, 'reg_alpha': 2.466723016237478, 'reg_lambda': 1.1064876646420352}. Best is trial 0 with value: 0.8845098845450512.\u001b[0m\n"
     ]
    },
    {
     "name": "stdout",
     "output_type": "stream",
     "text": [
      "[100]\tvalid_0's binary_logloss: 0.00391499\n",
      "[200]\tvalid_0's binary_logloss: 0.00321354\n",
      "[300]\tvalid_0's binary_logloss: 0.00287148\n",
      "[400]\tvalid_0's binary_logloss: 0.00266828\n",
      "[500]\tvalid_0's binary_logloss: 0.00253942\n",
      "[600]\tvalid_0's binary_logloss: 0.00246278\n",
      "[700]\tvalid_0's binary_logloss: 0.00242073\n",
      "[800]\tvalid_0's binary_logloss: 0.00239968\n",
      "[900]\tvalid_0's binary_logloss: 0.00238886\n",
      "[1000]\tvalid_0's binary_logloss: 0.00238619\n"
     ]
    },
    {
     "name": "stderr",
     "output_type": "stream",
     "text": [
      "\u001b[32m[I 2022-07-09 18:37:51,901]\u001b[0m Trial 78 finished with value: 0.8845098845450512 and parameters: {'max_depth': 5, 'learning_rate': 0.003027063722918585, 'n_estimators': 1072, 'num_leaves': 878, 'colsample_bytree': 0.7844341779361873, 'subsample': 0.9399698428995068, 'reg_alpha': 1.4264983454998457, 'reg_lambda': 1.3625277307617132}. Best is trial 0 with value: 0.8845098845450512.\u001b[0m\n"
     ]
    },
    {
     "name": "stdout",
     "output_type": "stream",
     "text": [
      "[100]\tvalid_0's binary_logloss: 0.00276396\n",
      "[200]\tvalid_0's binary_logloss: 0.00242773\n",
      "[300]\tvalid_0's binary_logloss: 0.00235714\n",
      "[400]\tvalid_0's binary_logloss: 0.00234535\n",
      "[500]\tvalid_0's binary_logloss: 0.00236915\n",
      "[600]\tvalid_0's binary_logloss: 0.00239334\n",
      "[700]\tvalid_0's binary_logloss: 0.00240413\n",
      "[800]\tvalid_0's binary_logloss: 0.00240525\n",
      "[900]\tvalid_0's binary_logloss: 0.00240579\n",
      "[1000]\tvalid_0's binary_logloss: 0.00240612\n"
     ]
    },
    {
     "name": "stderr",
     "output_type": "stream",
     "text": [
      "\u001b[32m[I 2022-07-09 18:37:57,210]\u001b[0m Trial 79 finished with value: 0.8845098845450512 and parameters: {'max_depth': 6, 'learning_rate': 0.009671856998407783, 'n_estimators': 1032, 'num_leaves': 332, 'colsample_bytree': 0.6359774948262215, 'subsample': 0.553690564927312, 'reg_alpha': 3.115492779647527, 'reg_lambda': 0.4332534442355821}. Best is trial 0 with value: 0.8845098845450512.\u001b[0m\n"
     ]
    },
    {
     "name": "stdout",
     "output_type": "stream",
     "text": [
      "[100]\tvalid_0's binary_logloss: 0.00505009\n",
      "[200]\tvalid_0's binary_logloss: 0.00423985\n",
      "[300]\tvalid_0's binary_logloss: 0.003809\n",
      "[400]\tvalid_0's binary_logloss: 0.00351439\n",
      "[500]\tvalid_0's binary_logloss: 0.00329978\n",
      "[600]\tvalid_0's binary_logloss: 0.00313521\n",
      "[700]\tvalid_0's binary_logloss: 0.00300653\n",
      "[800]\tvalid_0's binary_logloss: 0.00290163\n",
      "[900]\tvalid_0's binary_logloss: 0.00281275\n",
      "[1000]\tvalid_0's binary_logloss: 0.00273794\n",
      "[1100]\tvalid_0's binary_logloss: 0.00267682\n"
     ]
    },
    {
     "name": "stderr",
     "output_type": "stream",
     "text": [
      "\u001b[32m[I 2022-07-09 18:38:03,428]\u001b[0m Trial 80 finished with value: 0.8724347298745778 and parameters: {'max_depth': 7, 'learning_rate': 0.001114272425210718, 'n_estimators': 1124, 'num_leaves': 782, 'colsample_bytree': 0.7723453197111414, 'subsample': 0.9375547919047504, 'reg_alpha': 2.0531533559980297, 'reg_lambda': 1.221703933737786}. Best is trial 0 with value: 0.8845098845450512.\u001b[0m\n"
     ]
    },
    {
     "name": "stdout",
     "output_type": "stream",
     "text": [
      "[100]\tvalid_0's binary_logloss: 0.00579362\n",
      "[200]\tvalid_0's binary_logloss: 0.00447106\n",
      "[300]\tvalid_0's binary_logloss: 0.00382069\n",
      "[400]\tvalid_0's binary_logloss: 0.00343598\n",
      "[500]\tvalid_0's binary_logloss: 0.00317269\n",
      "[600]\tvalid_0's binary_logloss: 0.00298414\n",
      "[700]\tvalid_0's binary_logloss: 0.00284425\n",
      "[800]\tvalid_0's binary_logloss: 0.0027379\n",
      "[900]\tvalid_0's binary_logloss: 0.00265573\n",
      "[1000]\tvalid_0's binary_logloss: 0.00259167\n",
      "[1100]\tvalid_0's binary_logloss: 0.00253828\n",
      "[1200]\tvalid_0's binary_logloss: 0.00249668\n",
      "[1300]\tvalid_0's binary_logloss: 0.00246296\n",
      "[1400]\tvalid_0's binary_logloss: 0.00243523\n",
      "[1500]\tvalid_0's binary_logloss: 0.00241524\n",
      "[1600]\tvalid_0's binary_logloss: 0.0023989\n"
     ]
    },
    {
     "name": "stderr",
     "output_type": "stream",
     "text": [
      "\u001b[32m[I 2022-07-09 18:38:11,677]\u001b[0m Trial 81 finished with value: 0.8845098845450512 and parameters: {'max_depth': 9, 'learning_rate': 0.0016911523446009747, 'n_estimators': 1689, 'num_leaves': 371, 'colsample_bytree': 0.5470803469292479, 'subsample': 0.7350822693511128, 'reg_alpha': 1.0393539424663962, 'reg_lambda': 4.214608430769492}. Best is trial 0 with value: 0.8845098845450512.\u001b[0m\n"
     ]
    },
    {
     "name": "stdout",
     "output_type": "stream",
     "text": [
      "[100]\tvalid_0's binary_logloss: 0.00370028\n",
      "[200]\tvalid_0's binary_logloss: 0.00297239\n",
      "[300]\tvalid_0's binary_logloss: 0.00267095\n",
      "[400]\tvalid_0's binary_logloss: 0.00252691\n",
      "[500]\tvalid_0's binary_logloss: 0.0024586\n",
      "[600]\tvalid_0's binary_logloss: 0.00242906\n",
      "[700]\tvalid_0's binary_logloss: 0.00241644\n",
      "[800]\tvalid_0's binary_logloss: 0.00241213\n",
      "[900]\tvalid_0's binary_logloss: 0.00241117\n"
     ]
    },
    {
     "name": "stderr",
     "output_type": "stream",
     "text": [
      "\u001b[32m[I 2022-07-09 18:38:17,054]\u001b[0m Trial 82 finished with value: 0.8845098845450512 and parameters: {'max_depth': 6, 'learning_rate': 0.004632280612728524, 'n_estimators': 943, 'num_leaves': 297, 'colsample_bytree': 0.7448078992773421, 'subsample': 0.5834922964396746, 'reg_alpha': 2.9188537939249932, 'reg_lambda': 2.84199874372221}. Best is trial 0 with value: 0.8845098845450512.\u001b[0m\n"
     ]
    },
    {
     "name": "stdout",
     "output_type": "stream",
     "text": [
      "[100]\tvalid_0's binary_logloss: 0.00300165\n",
      "[200]\tvalid_0's binary_logloss: 0.0025671\n",
      "[300]\tvalid_0's binary_logloss: 0.00241768\n",
      "[400]\tvalid_0's binary_logloss: 0.00237354\n",
      "[500]\tvalid_0's binary_logloss: 0.00236197\n",
      "[600]\tvalid_0's binary_logloss: 0.00236558\n"
     ]
    },
    {
     "name": "stderr",
     "output_type": "stream",
     "text": [
      "\u001b[32m[I 2022-07-09 18:38:20,801]\u001b[0m Trial 83 finished with value: 0.8845098845450512 and parameters: {'max_depth': 5, 'learning_rate': 0.006852193546228434, 'n_estimators': 655, 'num_leaves': 324, 'colsample_bytree': 0.6757268963395002, 'subsample': 0.5435371322417447, 'reg_alpha': 2.8010061903450785, 'reg_lambda': 0.2658454981704738}. Best is trial 0 with value: 0.8845098845450512.\u001b[0m\n"
     ]
    },
    {
     "name": "stdout",
     "output_type": "stream",
     "text": [
      "[100]\tvalid_0's binary_logloss: 0.00376345\n",
      "[200]\tvalid_0's binary_logloss: 0.00301721\n",
      "[300]\tvalid_0's binary_logloss: 0.00270234\n",
      "[400]\tvalid_0's binary_logloss: 0.00254662\n",
      "[500]\tvalid_0's binary_logloss: 0.00247156\n",
      "[600]\tvalid_0's binary_logloss: 0.0024379\n",
      "[700]\tvalid_0's binary_logloss: 0.00242186\n",
      "[800]\tvalid_0's binary_logloss: 0.00241251\n"
     ]
    },
    {
     "name": "stderr",
     "output_type": "stream",
     "text": [
      "\u001b[32m[I 2022-07-09 18:38:25,404]\u001b[0m Trial 84 finished with value: 0.8845098845450512 and parameters: {'max_depth': 7, 'learning_rate': 0.004387348971291272, 'n_estimators': 815, 'num_leaves': 283, 'colsample_bytree': 0.7494787468101971, 'subsample': 0.6049225960859193, 'reg_alpha': 2.527729621613325, 'reg_lambda': 2.8051977423869277}. Best is trial 0 with value: 0.8845098845450512.\u001b[0m\n"
     ]
    },
    {
     "name": "stdout",
     "output_type": "stream",
     "text": [
      "[100]\tvalid_0's binary_logloss: 0.00299928\n",
      "[200]\tvalid_0's binary_logloss: 0.00255914\n",
      "[300]\tvalid_0's binary_logloss: 0.00241131\n",
      "[400]\tvalid_0's binary_logloss: 0.00237031\n",
      "[500]\tvalid_0's binary_logloss: 0.00235101\n",
      "[600]\tvalid_0's binary_logloss: 0.00235677\n"
     ]
    },
    {
     "name": "stderr",
     "output_type": "stream",
     "text": [
      "\u001b[32m[I 2022-07-09 18:38:28,943]\u001b[0m Trial 85 finished with value: 0.896129704996047 and parameters: {'max_depth': 4, 'learning_rate': 0.006885295954056933, 'n_estimators': 622, 'num_leaves': 317, 'colsample_bytree': 0.6548008083938596, 'subsample': 0.5441012253659755, 'reg_alpha': 3.1350258856620057, 'reg_lambda': 0.2449166651763307}. Best is trial 85 with value: 0.896129704996047.\u001b[0m\n"
     ]
    },
    {
     "name": "stdout",
     "output_type": "stream",
     "text": [
      "[100]\tvalid_0's binary_logloss: 0.00341626\n",
      "[200]\tvalid_0's binary_logloss: 0.00285846\n",
      "[300]\tvalid_0's binary_logloss: 0.00260814\n",
      "[400]\tvalid_0's binary_logloss: 0.00248672\n",
      "[500]\tvalid_0's binary_logloss: 0.00243062\n",
      "[600]\tvalid_0's binary_logloss: 0.00239955\n",
      "[700]\tvalid_0's binary_logloss: 0.00237704\n",
      "[800]\tvalid_0's binary_logloss: 0.0023704\n"
     ]
    },
    {
     "name": "stderr",
     "output_type": "stream",
     "text": [
      "\u001b[32m[I 2022-07-09 18:38:33,313]\u001b[0m Trial 86 finished with value: 0.8845098845450512 and parameters: {'max_depth': 4, 'learning_rate': 0.004657552323848506, 'n_estimators': 806, 'num_leaves': 298, 'colsample_bytree': 0.6467147703759485, 'subsample': 0.5319566775462294, 'reg_alpha': 4.419599200809991, 'reg_lambda': 0.7419569962410796}. Best is trial 85 with value: 0.896129704996047.\u001b[0m\n"
     ]
    },
    {
     "name": "stdout",
     "output_type": "stream",
     "text": [
      "[100]\tvalid_0's binary_logloss: 0.00317577\n",
      "[200]\tvalid_0's binary_logloss: 0.00291572\n",
      "[300]\tvalid_0's binary_logloss: 0.00276273\n"
     ]
    },
    {
     "name": "stderr",
     "output_type": "stream",
     "text": [
      "\u001b[32m[I 2022-07-09 18:38:35,733]\u001b[0m Trial 87 finished with value: 0.8845098845450512 and parameters: {'max_depth': 4, 'learning_rate': 0.007841126818526105, 'n_estimators': 377, 'num_leaves': 399, 'colsample_bytree': 0.6172737352609607, 'subsample': 0.6217179362856922, 'reg_alpha': 3.6227987214547164, 'reg_lambda': 0.008962036060723877}. Best is trial 85 with value: 0.896129704996047.\u001b[0m\n"
     ]
    },
    {
     "name": "stdout",
     "output_type": "stream",
     "text": [
      "[100]\tvalid_0's binary_logloss: 0.00829947\n",
      "[200]\tvalid_0's binary_logloss: 0.00829088\n",
      "[300]\tvalid_0's binary_logloss: 0.00828236\n",
      "[400]\tvalid_0's binary_logloss: 0.00827381\n",
      "[500]\tvalid_0's binary_logloss: 0.00826527\n"
     ]
    },
    {
     "name": "stderr",
     "output_type": "stream",
     "text": [
      "\u001b[32m[I 2022-07-09 18:38:38,867]\u001b[0m Trial 88 finished with value: 0.4997363518121419 and parameters: {'max_depth': 4, 'learning_rate': 1.1204917972283305e-06, 'n_estimators': 544, 'num_leaves': 282, 'colsample_bytree': 0.6539079155650125, 'subsample': 0.5737135500912108, 'reg_alpha': 4.323382311698489, 'reg_lambda': 0.7889645939116283}. Best is trial 85 with value: 0.896129704996047.\u001b[0m\n"
     ]
    },
    {
     "name": "stdout",
     "output_type": "stream",
     "text": [
      "[100]\tvalid_0's binary_logloss: 0.00418776\n",
      "[200]\tvalid_0's binary_logloss: 0.00354675\n",
      "[300]\tvalid_0's binary_logloss: 0.00319285\n"
     ]
    },
    {
     "name": "stderr",
     "output_type": "stream",
     "text": [
      "\u001b[32m[I 2022-07-09 18:38:41,281]\u001b[0m Trial 89 finished with value: 0.4997363518121419 and parameters: {'max_depth': 3, 'learning_rate': 0.0020035745155922782, 'n_estimators': 395, 'num_leaves': 424, 'colsample_bytree': 0.628030985917522, 'subsample': 0.6345741061214496, 'reg_alpha': 3.4951746957958343, 'reg_lambda': 0.5886372673813803}. Best is trial 85 with value: 0.896129704996047.\u001b[0m\n",
      "\u001b[32m[I 2022-07-09 18:38:42,347]\u001b[0m Trial 90 finished with value: 0.4997363518121419 and parameters: {'max_depth': 8, 'learning_rate': 0.0024682641070122953, 'n_estimators': 100, 'num_leaves': 484, 'colsample_bytree': 0.717874983022466, 'subsample': 0.8395113976743954, 'reg_alpha': 3.179204483480381, 'reg_lambda': 0.9734553824745593}. Best is trial 85 with value: 0.896129704996047.\u001b[0m\n"
     ]
    },
    {
     "name": "stdout",
     "output_type": "stream",
     "text": [
      "[100]\tvalid_0's binary_logloss: 0.00405655\n",
      "[100]\tvalid_0's binary_logloss: 0.00437272\n",
      "[200]\tvalid_0's binary_logloss: 0.00339804\n",
      "[300]\tvalid_0's binary_logloss: 0.00297023\n",
      "[400]\tvalid_0's binary_logloss: 0.00273579\n",
      "[500]\tvalid_0's binary_logloss: 0.00259438\n",
      "[600]\tvalid_0's binary_logloss: 0.00250693\n",
      "[700]\tvalid_0's binary_logloss: 0.00245511\n",
      "[800]\tvalid_0's binary_logloss: 0.00242605\n",
      "[900]\tvalid_0's binary_logloss: 0.00241331\n",
      "[1000]\tvalid_0's binary_logloss: 0.00240101\n"
     ]
    },
    {
     "name": "stderr",
     "output_type": "stream",
     "text": [
      "\u001b[32m[I 2022-07-09 18:38:47,751]\u001b[0m Trial 91 finished with value: 0.8845098845450512 and parameters: {'max_depth': 6, 'learning_rate': 0.0032910657816000452, 'n_estimators': 1003, 'num_leaves': 31, 'colsample_bytree': 0.663014842045347, 'subsample': 0.6688373163323106, 'reg_alpha': 2.4207670828106376, 'reg_lambda': 3.687902062528861}. Best is trial 85 with value: 0.896129704996047.\u001b[0m\n"
     ]
    },
    {
     "name": "stdout",
     "output_type": "stream",
     "text": [
      "[100]\tvalid_0's binary_logloss: 0.0049312\n",
      "[200]\tvalid_0's binary_logloss: 0.00429243\n",
      "[300]\tvalid_0's binary_logloss: 0.00392643\n",
      "[400]\tvalid_0's binary_logloss: 0.00366644\n",
      "[500]\tvalid_0's binary_logloss: 0.00346694\n",
      "[600]\tvalid_0's binary_logloss: 0.00330831\n"
     ]
    },
    {
     "name": "stderr",
     "output_type": "stream",
     "text": [
      "\u001b[32m[I 2022-07-09 18:38:51,183]\u001b[0m Trial 92 finished with value: 0.4997363518121419 and parameters: {'max_depth': 7, 'learning_rate': 0.0008371768204344396, 'n_estimators': 601, 'num_leaves': 253, 'colsample_bytree': 0.702752119896416, 'subsample': 0.57518666269916, 'reg_alpha': 2.876192977413465, 'reg_lambda': 0.3802414654962577}. Best is trial 85 with value: 0.896129704996047.\u001b[0m\n"
     ]
    },
    {
     "name": "stdout",
     "output_type": "stream",
     "text": [
      "[100]\tvalid_0's binary_logloss: 0.00398199\n"
     ]
    },
    {
     "name": "stderr",
     "output_type": "stream",
     "text": [
      "\u001b[32m[I 2022-07-09 18:38:52,781]\u001b[0m Trial 93 finished with value: 0.4997363518121419 and parameters: {'max_depth': 6, 'learning_rate': 0.004030734069024908, 'n_estimators': 216, 'num_leaves': 914, 'colsample_bytree': 0.6703775170960243, 'subsample': 0.5564508565210023, 'reg_alpha': 2.6063531008393137, 'reg_lambda': 3.316896895117407}. Best is trial 85 with value: 0.896129704996047.\u001b[0m\n"
     ]
    },
    {
     "name": "stdout",
     "output_type": "stream",
     "text": [
      "[200]\tvalid_0's binary_logloss: 0.00314553\n",
      "[100]\tvalid_0's binary_logloss: 0.00329381\n",
      "[200]\tvalid_0's binary_logloss: 0.00270644\n",
      "[300]\tvalid_0's binary_logloss: 0.00249715\n",
      "[400]\tvalid_0's binary_logloss: 0.00241482\n",
      "[500]\tvalid_0's binary_logloss: 0.00239452\n",
      "[600]\tvalid_0's binary_logloss: 0.00239971\n",
      "[700]\tvalid_0's binary_logloss: 0.0024162\n",
      "[800]\tvalid_0's binary_logloss: 0.00243344\n",
      "[900]\tvalid_0's binary_logloss: 0.00245471\n",
      "[1000]\tvalid_0's binary_logloss: 0.00247468\n",
      "[1100]\tvalid_0's binary_logloss: 0.00249275\n",
      "[1200]\tvalid_0's binary_logloss: 0.00250799\n",
      "[1300]\tvalid_0's binary_logloss: 0.00252324\n"
     ]
    },
    {
     "name": "stderr",
     "output_type": "stream",
     "text": [
      "\u001b[32m[I 2022-07-09 18:39:00,216]\u001b[0m Trial 94 finished with value: 0.8845098845450512 and parameters: {'max_depth': 5, 'learning_rate': 0.006358496782432933, 'n_estimators': 1397, 'num_leaves': 929, 'colsample_bytree': 0.568212185404333, 'subsample': 0.502404543469217, 'reg_alpha': 1.3170927069533638, 'reg_lambda': 2.4487638067243633}. Best is trial 85 with value: 0.896129704996047.\u001b[0m\n"
     ]
    },
    {
     "name": "stdout",
     "output_type": "stream",
     "text": [
      "[100]\tvalid_0's binary_logloss: 0.00385212\n",
      "[200]\tvalid_0's binary_logloss: 0.00326046\n",
      "[300]\tvalid_0's binary_logloss: 0.00294609\n",
      "[400]\tvalid_0's binary_logloss: 0.00274565\n",
      "[500]\tvalid_0's binary_logloss: 0.00261338\n",
      "[600]\tvalid_0's binary_logloss: 0.00252028\n",
      "[700]\tvalid_0's binary_logloss: 0.00246577\n"
     ]
    },
    {
     "name": "stderr",
     "output_type": "stream",
     "text": [
      "\u001b[32m[I 2022-07-09 18:39:04,564]\u001b[0m Trial 95 finished with value: 0.8845098845450512 and parameters: {'max_depth': 8, 'learning_rate': 0.0025499440576079685, 'n_estimators': 761, 'num_leaves': 154, 'colsample_bytree': 0.7321901013214633, 'subsample': 0.5971153523885299, 'reg_alpha': 3.243247692683775, 'reg_lambda': 0.2536347596600731}. Best is trial 85 with value: 0.896129704996047.\u001b[0m\n"
     ]
    },
    {
     "name": "stdout",
     "output_type": "stream",
     "text": [
      "[100]\tvalid_0's binary_logloss: 0.0059957\n",
      "[200]\tvalid_0's binary_logloss: 0.00461419\n",
      "[300]\tvalid_0's binary_logloss: 0.00390489\n",
      "[400]\tvalid_0's binary_logloss: 0.00349204\n",
      "[500]\tvalid_0's binary_logloss: 0.00321426\n",
      "[600]\tvalid_0's binary_logloss: 0.00301647\n",
      "[700]\tvalid_0's binary_logloss: 0.00287111\n",
      "[800]\tvalid_0's binary_logloss: 0.00276044\n",
      "[900]\tvalid_0's binary_logloss: 0.00267595\n",
      "[1000]\tvalid_0's binary_logloss: 0.00261021\n",
      "[1100]\tvalid_0's binary_logloss: 0.002557\n",
      "[1200]\tvalid_0's binary_logloss: 0.0025146\n"
     ]
    },
    {
     "name": "stderr",
     "output_type": "stream",
     "text": [
      "\u001b[32m[I 2022-07-09 18:39:10,408]\u001b[0m Trial 96 finished with value: 0.8845098845450512 and parameters: {'max_depth': 4, 'learning_rate': 0.0017579866548041174, 'n_estimators': 1220, 'num_leaves': 76, 'colsample_bytree': 0.5216805077547848, 'subsample': 0.694761217137148, 'reg_alpha': 1.8154220206293759, 'reg_lambda': 4.914333123950891}. Best is trial 85 with value: 0.896129704996047.\u001b[0m\n"
     ]
    },
    {
     "name": "stdout",
     "output_type": "stream",
     "text": [
      "[100]\tvalid_0's binary_logloss: 0.00660055\n",
      "[200]\tvalid_0's binary_logloss: 0.00531178\n",
      "[300]\tvalid_0's binary_logloss: 0.00451412\n",
      "[400]\tvalid_0's binary_logloss: 0.00401266\n",
      "[500]\tvalid_0's binary_logloss: 0.00367579\n",
      "[600]\tvalid_0's binary_logloss: 0.00343137\n",
      "[700]\tvalid_0's binary_logloss: 0.00324337\n",
      "[800]\tvalid_0's binary_logloss: 0.00309467\n",
      "[900]\tvalid_0's binary_logloss: 0.00297635\n",
      "[1000]\tvalid_0's binary_logloss: 0.00287954\n",
      "[1100]\tvalid_0's binary_logloss: 0.0027984\n",
      "[1200]\tvalid_0's binary_logloss: 0.00273061\n",
      "[1300]\tvalid_0's binary_logloss: 0.00267375\n"
     ]
    },
    {
     "name": "stderr",
     "output_type": "stream",
     "text": [
      "\u001b[32m[I 2022-07-09 18:39:16,781]\u001b[0m Trial 97 finished with value: 0.846806907378336 and parameters: {'max_depth': 9, 'learning_rate': 0.0011857878992081363, 'n_estimators': 1321, 'num_leaves': 65, 'colsample_bytree': 0.5442318586142711, 'subsample': 0.7488255960584825, 'reg_alpha': 1.8642862626432077, 'reg_lambda': 4.655487413190951}. Best is trial 85 with value: 0.896129704996047.\u001b[0m\n"
     ]
    },
    {
     "name": "stdout",
     "output_type": "stream",
     "text": [
      "[100]\tvalid_0's binary_logloss: 0.00330565\n",
      "[200]\tvalid_0's binary_logloss: 0.00270693\n",
      "[300]\tvalid_0's binary_logloss: 0.00250439\n",
      "[400]\tvalid_0's binary_logloss: 0.00243047\n",
      "[500]\tvalid_0's binary_logloss: 0.00240899\n",
      "[600]\tvalid_0's binary_logloss: 0.00240854\n",
      "[700]\tvalid_0's binary_logloss: 0.00241523\n",
      "[800]\tvalid_0's binary_logloss: 0.00242989\n",
      "[900]\tvalid_0's binary_logloss: 0.00244497\n",
      "[1000]\tvalid_0's binary_logloss: 0.00245848\n",
      "[1100]\tvalid_0's binary_logloss: 0.00246898\n",
      "[1200]\tvalid_0's binary_logloss: 0.00247672\n",
      "[1300]\tvalid_0's binary_logloss: 0.00248346\n",
      "[1400]\tvalid_0's binary_logloss: 0.00248875\n",
      "[1500]\tvalid_0's binary_logloss: 0.00249427\n",
      "[1600]\tvalid_0's binary_logloss: 0.00249663\n",
      "[1700]\tvalid_0's binary_logloss: 0.00249837\n",
      "[1800]\tvalid_0's binary_logloss: 0.00249963\n",
      "[1900]\tvalid_0's binary_logloss: 0.00250049\n"
     ]
    },
    {
     "name": "stderr",
     "output_type": "stream",
     "text": [
      "\u001b[32m[I 2022-07-09 18:39:29,436]\u001b[0m Trial 98 finished with value: 0.8845098845450512 and parameters: {'max_depth': 10, 'learning_rate': 0.006815826959694533, 'n_estimators': 1991, 'num_leaves': 608, 'colsample_bytree': 0.5980568197128324, 'subsample': 0.9807577422886363, 'reg_alpha': 2.2854814588719754, 'reg_lambda': 3.0933542725053873}. Best is trial 85 with value: 0.896129704996047.\u001b[0m\n"
     ]
    },
    {
     "name": "stdout",
     "output_type": "stream",
     "text": [
      "[100]\tvalid_0's binary_logloss: 0.00372777\n",
      "[200]\tvalid_0's binary_logloss: 0.00291303\n",
      "[300]\tvalid_0's binary_logloss: 0.00261135\n",
      "[400]\tvalid_0's binary_logloss: 0.00246574\n",
      "[500]\tvalid_0's binary_logloss: 0.00239\n",
      "[600]\tvalid_0's binary_logloss: 0.00235862\n",
      "[700]\tvalid_0's binary_logloss: 0.00234845\n",
      "[800]\tvalid_0's binary_logloss: 0.00235263\n",
      "[900]\tvalid_0's binary_logloss: 0.00236282\n",
      "[1000]\tvalid_0's binary_logloss: 0.00237602\n",
      "[1100]\tvalid_0's binary_logloss: 0.00238954\n"
     ]
    },
    {
     "name": "stderr",
     "output_type": "stream",
     "text": [
      "\u001b[32m[I 2022-07-09 18:39:35,506]\u001b[0m Trial 99 finished with value: 0.8845098845450512 and parameters: {'max_depth': 3, 'learning_rate': 0.005616004459665987, 'n_estimators': 1185, 'num_leaves': 711, 'colsample_bytree': 0.5294865661532576, 'subsample': 0.7633150543617894, 'reg_alpha': 1.585081724170029, 'reg_lambda': 4.753692924926325}. Best is trial 85 with value: 0.896129704996047.\u001b[0m\n"
     ]
    },
    {
     "name": "stdout",
     "output_type": "stream",
     "text": [
      "[100]\tvalid_0's binary_logloss: 0.00439981\n",
      "[200]\tvalid_0's binary_logloss: 0.00345839\n",
      "[300]\tvalid_0's binary_logloss: 0.00302849\n",
      "[400]\tvalid_0's binary_logloss: 0.0027838\n",
      "[500]\tvalid_0's binary_logloss: 0.00263124\n",
      "[600]\tvalid_0's binary_logloss: 0.0025316\n",
      "[700]\tvalid_0's binary_logloss: 0.00246028\n",
      "[800]\tvalid_0's binary_logloss: 0.00241131\n",
      "[900]\tvalid_0's binary_logloss: 0.0023799\n",
      "[1000]\tvalid_0's binary_logloss: 0.00235884\n",
      "[1100]\tvalid_0's binary_logloss: 0.00235147\n",
      "[1200]\tvalid_0's binary_logloss: 0.00234724\n"
     ]
    },
    {
     "name": "stderr",
     "output_type": "stream",
     "text": [
      "\u001b[32m[I 2022-07-09 18:39:41,585]\u001b[0m Trial 100 finished with value: 0.8845098845450512 and parameters: {'max_depth': 3, 'learning_rate': 0.0030842820093789714, 'n_estimators': 1234, 'num_leaves': 222, 'colsample_bytree': 0.5206343268218601, 'subsample': 0.7896658365564251, 'reg_alpha': 2.013164638113813, 'reg_lambda': 3.4180916708639986}. Best is trial 85 with value: 0.896129704996047.\u001b[0m\n"
     ]
    },
    {
     "name": "stdout",
     "output_type": "stream",
     "text": [
      "[100]\tvalid_0's binary_logloss: 0.00354864\n",
      "[200]\tvalid_0's binary_logloss: 0.00282406\n",
      "[300]\tvalid_0's binary_logloss: 0.0025573\n",
      "[400]\tvalid_0's binary_logloss: 0.0024281\n",
      "[500]\tvalid_0's binary_logloss: 0.00237221\n",
      "[600]\tvalid_0's binary_logloss: 0.00235446\n",
      "[700]\tvalid_0's binary_logloss: 0.00235549\n",
      "[800]\tvalid_0's binary_logloss: 0.00236596\n",
      "[900]\tvalid_0's binary_logloss: 0.00238087\n",
      "[1000]\tvalid_0's binary_logloss: 0.00239502\n",
      "[1100]\tvalid_0's binary_logloss: 0.00240951\n",
      "[1200]\tvalid_0's binary_logloss: 0.00242284\n",
      "[1300]\tvalid_0's binary_logloss: 0.00243592\n",
      "[1400]\tvalid_0's binary_logloss: 0.0024475\n"
     ]
    },
    {
     "name": "stderr",
     "output_type": "stream",
     "text": [
      "\u001b[32m[I 2022-07-09 18:39:49,050]\u001b[0m Trial 101 finished with value: 0.8845098845450512 and parameters: {'max_depth': 4, 'learning_rate': 0.00593307675006146, 'n_estimators': 1481, 'num_leaves': 649, 'colsample_bytree': 0.5175454878474725, 'subsample': 0.749506828497438, 'reg_alpha': 1.690006375962866, 'reg_lambda': 3.9790109625513006}. Best is trial 85 with value: 0.896129704996047.\u001b[0m\n"
     ]
    },
    {
     "name": "stdout",
     "output_type": "stream",
     "text": [
      "[100]\tvalid_0's binary_logloss: 0.0031258\n",
      "[200]\tvalid_0's binary_logloss: 0.00259253\n",
      "[300]\tvalid_0's binary_logloss: 0.00242384\n",
      "[400]\tvalid_0's binary_logloss: 0.00237445\n",
      "[500]\tvalid_0's binary_logloss: 0.00237198\n",
      "[600]\tvalid_0's binary_logloss: 0.00240047\n",
      "[700]\tvalid_0's binary_logloss: 0.00243229\n",
      "[800]\tvalid_0's binary_logloss: 0.00246689\n",
      "[900]\tvalid_0's binary_logloss: 0.00250546\n",
      "[1000]\tvalid_0's binary_logloss: 0.00254154\n",
      "[1100]\tvalid_0's binary_logloss: 0.00256592\n",
      "[1200]\tvalid_0's binary_logloss: 0.00258993\n",
      "[1300]\tvalid_0's binary_logloss: 0.00261462\n",
      "[1400]\tvalid_0's binary_logloss: 0.0026352\n",
      "[1500]\tvalid_0's binary_logloss: 0.0026564\n"
     ]
    },
    {
     "name": "stderr",
     "output_type": "stream",
     "text": [
      "\u001b[32m[I 2022-07-09 18:40:00,238]\u001b[0m Trial 102 finished with value: 0.8845098845450512 and parameters: {'max_depth': 3, 'learning_rate': 0.006892596471832084, 'n_estimators': 1523, 'num_leaves': 953, 'colsample_bytree': 0.5739916515865038, 'subsample': 0.5205890992088543, 'reg_alpha': 0.2149857781157466, 'reg_lambda': 2.1163264542574267}. Best is trial 85 with value: 0.896129704996047.\u001b[0m\n"
     ]
    },
    {
     "name": "stdout",
     "output_type": "stream",
     "text": [
      "[100]\tvalid_0's binary_logloss: 0.00318968\n",
      "[200]\tvalid_0's binary_logloss: 0.00259955\n",
      "[300]\tvalid_0's binary_logloss: 0.00242797\n",
      "[400]\tvalid_0's binary_logloss: 0.00237416\n",
      "[500]\tvalid_0's binary_logloss: 0.00236852\n",
      "[600]\tvalid_0's binary_logloss: 0.00238627\n",
      "[700]\tvalid_0's binary_logloss: 0.00240561\n",
      "[800]\tvalid_0's binary_logloss: 0.00242625\n",
      "[900]\tvalid_0's binary_logloss: 0.00245461\n",
      "[1000]\tvalid_0's binary_logloss: 0.00247697\n",
      "[1100]\tvalid_0's binary_logloss: 0.00249794\n",
      "[1200]\tvalid_0's binary_logloss: 0.00251871\n",
      "[1300]\tvalid_0's binary_logloss: 0.00253558\n",
      "[1400]\tvalid_0's binary_logloss: 0.00255106\n"
     ]
    },
    {
     "name": "stderr",
     "output_type": "stream",
     "text": [
      "\u001b[32m[I 2022-07-09 18:40:08,665]\u001b[0m Trial 103 finished with value: 0.8845098845450512 and parameters: {'max_depth': 3, 'learning_rate': 0.008162411253514046, 'n_estimators': 1473, 'num_leaves': 693, 'colsample_bytree': 0.5607792611401279, 'subsample': 0.8759797265194984, 'reg_alpha': 0.48881990917602225, 'reg_lambda': 4.466359166518055}. Best is trial 85 with value: 0.896129704996047.\u001b[0m\n"
     ]
    },
    {
     "name": "stdout",
     "output_type": "stream",
     "text": [
      "[100]\tvalid_0's binary_logloss: 0.00300749\n",
      "[200]\tvalid_0's binary_logloss: 0.00250923\n",
      "[300]\tvalid_0's binary_logloss: 0.00236998\n",
      "[400]\tvalid_0's binary_logloss: 0.00235048\n",
      "[500]\tvalid_0's binary_logloss: 0.00237747\n",
      "[600]\tvalid_0's binary_logloss: 0.00241378\n",
      "[700]\tvalid_0's binary_logloss: 0.00245589\n",
      "[800]\tvalid_0's binary_logloss: 0.00249186\n",
      "[900]\tvalid_0's binary_logloss: 0.00252511\n",
      "[1000]\tvalid_0's binary_logloss: 0.00255737\n",
      "[1100]\tvalid_0's binary_logloss: 0.00258679\n",
      "[1200]\tvalid_0's binary_logloss: 0.00261612\n",
      "[1300]\tvalid_0's binary_logloss: 0.00263837\n"
     ]
    },
    {
     "name": "stderr",
     "output_type": "stream",
     "text": [
      "\u001b[32m[I 2022-07-09 18:40:15,748]\u001b[0m Trial 104 finished with value: 0.8845098845450512 and parameters: {'max_depth': 3, 'learning_rate': 0.009604253535094686, 'n_estimators': 1347, 'num_leaves': 649, 'colsample_bytree': 0.5011912275043826, 'subsample': 0.5129153039996417, 'reg_alpha': 0.013712277829703134, 'reg_lambda': 4.458854935576394}. Best is trial 85 with value: 0.896129704996047.\u001b[0m\n"
     ]
    },
    {
     "name": "stdout",
     "output_type": "stream",
     "text": [
      "[100]\tvalid_0's binary_logloss: 0.00327191\n",
      "[200]\tvalid_0's binary_logloss: 0.00269677\n",
      "[300]\tvalid_0's binary_logloss: 0.00248164\n",
      "[400]\tvalid_0's binary_logloss: 0.00240302\n",
      "[500]\tvalid_0's binary_logloss: 0.00238067\n",
      "[600]\tvalid_0's binary_logloss: 0.00239293\n",
      "[700]\tvalid_0's binary_logloss: 0.00241823\n",
      "[800]\tvalid_0's binary_logloss: 0.00244491\n",
      "[900]\tvalid_0's binary_logloss: 0.00247152\n",
      "[1000]\tvalid_0's binary_logloss: 0.00249726\n",
      "[1100]\tvalid_0's binary_logloss: 0.00252608\n",
      "[1200]\tvalid_0's binary_logloss: 0.00255233\n",
      "[1300]\tvalid_0's binary_logloss: 0.00257302\n",
      "[1400]\tvalid_0's binary_logloss: 0.00259162\n",
      "[1500]\tvalid_0's binary_logloss: 0.00260752\n",
      "[1600]\tvalid_0's binary_logloss: 0.00262126\n"
     ]
    },
    {
     "name": "stderr",
     "output_type": "stream",
     "text": [
      "\u001b[32m[I 2022-07-09 18:40:24,889]\u001b[0m Trial 105 finished with value: 0.8845098845450512 and parameters: {'max_depth': 4, 'learning_rate': 0.0059336941875816175, 'n_estimators': 1610, 'num_leaves': 575, 'colsample_bytree': 0.589531960101986, 'subsample': 0.8957178206409636, 'reg_alpha': 0.5501875165436987, 'reg_lambda': 1.9578334102419936}. Best is trial 85 with value: 0.896129704996047.\u001b[0m\n"
     ]
    },
    {
     "name": "stdout",
     "output_type": "stream",
     "text": [
      "[100]\tvalid_0's binary_logloss: 0.00447022\n",
      "[200]\tvalid_0's binary_logloss: 0.00340869\n",
      "[300]\tvalid_0's binary_logloss: 0.00295679\n",
      "[400]\tvalid_0's binary_logloss: 0.00271483\n",
      "[500]\tvalid_0's binary_logloss: 0.00256934\n",
      "[600]\tvalid_0's binary_logloss: 0.00247597\n",
      "[700]\tvalid_0's binary_logloss: 0.00241499\n",
      "[800]\tvalid_0's binary_logloss: 0.00237627\n",
      "[900]\tvalid_0's binary_logloss: 0.00235593\n",
      "[1000]\tvalid_0's binary_logloss: 0.00234724\n",
      "[1100]\tvalid_0's binary_logloss: 0.00234815\n",
      "[1200]\tvalid_0's binary_logloss: 0.00235479\n",
      "[1300]\tvalid_0's binary_logloss: 0.00236444\n",
      "[1400]\tvalid_0's binary_logloss: 0.00237436\n"
     ]
    },
    {
     "name": "stderr",
     "output_type": "stream",
     "text": [
      "\u001b[32m[I 2022-07-09 18:40:31,948]\u001b[0m Trial 106 finished with value: 0.8845098845450512 and parameters: {'max_depth': 3, 'learning_rate': 0.0035867374753820163, 'n_estimators': 1411, 'num_leaves': 596, 'colsample_bytree': 0.537521988493928, 'subsample': 0.7725480320988221, 'reg_alpha': 0.2032617170352296, 'reg_lambda': 4.801923029378592}. Best is trial 85 with value: 0.896129704996047.\u001b[0m\n"
     ]
    },
    {
     "name": "stdout",
     "output_type": "stream",
     "text": [
      "[100]\tvalid_0's binary_logloss: 0.00302634\n",
      "[200]\tvalid_0's binary_logloss: 0.00252977\n",
      "[300]\tvalid_0's binary_logloss: 0.00241269\n",
      "[400]\tvalid_0's binary_logloss: 0.00239626\n",
      "[500]\tvalid_0's binary_logloss: 0.00241782\n",
      "[600]\tvalid_0's binary_logloss: 0.00244483\n",
      "[700]\tvalid_0's binary_logloss: 0.00247585\n",
      "[800]\tvalid_0's binary_logloss: 0.00250238\n",
      "[900]\tvalid_0's binary_logloss: 0.00252778\n",
      "[1000]\tvalid_0's binary_logloss: 0.00255471\n",
      "[1100]\tvalid_0's binary_logloss: 0.00257706\n",
      "[1200]\tvalid_0's binary_logloss: 0.00259443\n",
      "[1300]\tvalid_0's binary_logloss: 0.00261255\n",
      "[1400]\tvalid_0's binary_logloss: 0.00262781\n",
      "[1500]\tvalid_0's binary_logloss: 0.0026421\n",
      "[1600]\tvalid_0's binary_logloss: 0.00265812\n",
      "[1700]\tvalid_0's binary_logloss: 0.00267443\n",
      "[1800]\tvalid_0's binary_logloss: 0.00268849\n"
     ]
    },
    {
     "name": "stderr",
     "output_type": "stream",
     "text": [
      "\u001b[32m[I 2022-07-09 18:40:41,830]\u001b[0m Trial 107 finished with value: 0.8845098845450512 and parameters: {'max_depth': 3, 'learning_rate': 0.009876509658364578, 'n_estimators': 1806, 'num_leaves': 729, 'colsample_bytree': 0.5804273343545514, 'subsample': 0.5456599496591524, 'reg_alpha': 0.34626521207304284, 'reg_lambda': 4.6380714536988}. Best is trial 85 with value: 0.896129704996047.\u001b[0m\n"
     ]
    },
    {
     "name": "stdout",
     "output_type": "stream",
     "text": [
      "[100]\tvalid_0's binary_logloss: 0.00361275\n",
      "[200]\tvalid_0's binary_logloss: 0.00284496\n",
      "[300]\tvalid_0's binary_logloss: 0.00256284\n",
      "[400]\tvalid_0's binary_logloss: 0.00243567\n",
      "[500]\tvalid_0's binary_logloss: 0.00238572\n",
      "[600]\tvalid_0's binary_logloss: 0.00237355\n",
      "[700]\tvalid_0's binary_logloss: 0.00237731\n",
      "[800]\tvalid_0's binary_logloss: 0.00239666\n",
      "[900]\tvalid_0's binary_logloss: 0.00241551\n",
      "[1000]\tvalid_0's binary_logloss: 0.00243693\n",
      "[1100]\tvalid_0's binary_logloss: 0.00245691\n",
      "[1200]\tvalid_0's binary_logloss: 0.00247932\n",
      "[1300]\tvalid_0's binary_logloss: 0.00250064\n",
      "[1400]\tvalid_0's binary_logloss: 0.00251873\n",
      "[1500]\tvalid_0's binary_logloss: 0.00253656\n"
     ]
    },
    {
     "name": "stderr",
     "output_type": "stream",
     "text": [
      "\u001b[32m[I 2022-07-09 18:40:50,330]\u001b[0m Trial 108 finished with value: 0.8845098845450512 and parameters: {'max_depth': 4, 'learning_rate': 0.005834437197990428, 'n_estimators': 1539, 'num_leaves': 544, 'colsample_bytree': 0.5745554119036634, 'subsample': 0.9101124587821356, 'reg_alpha': 0.41092678392811655, 'reg_lambda': 4.555158933424506}. Best is trial 85 with value: 0.896129704996047.\u001b[0m\n"
     ]
    },
    {
     "name": "stdout",
     "output_type": "stream",
     "text": [
      "[100]\tvalid_0's binary_logloss: 0.00474636\n",
      "[200]\tvalid_0's binary_logloss: 0.00364867\n",
      "[300]\tvalid_0's binary_logloss: 0.00315751\n",
      "[400]\tvalid_0's binary_logloss: 0.00288398\n",
      "[500]\tvalid_0's binary_logloss: 0.00270766\n",
      "[600]\tvalid_0's binary_logloss: 0.002596\n",
      "[700]\tvalid_0's binary_logloss: 0.0025308\n",
      "[800]\tvalid_0's binary_logloss: 0.00248989\n",
      "[900]\tvalid_0's binary_logloss: 0.00245978\n",
      "[1000]\tvalid_0's binary_logloss: 0.00243888\n",
      "[1100]\tvalid_0's binary_logloss: 0.00242845\n",
      "[1200]\tvalid_0's binary_logloss: 0.0024229\n",
      "[1300]\tvalid_0's binary_logloss: 0.00242029\n",
      "[1400]\tvalid_0's binary_logloss: 0.00242198\n"
     ]
    },
    {
     "name": "stderr",
     "output_type": "stream",
     "text": [
      "\u001b[32m[I 2022-07-09 18:40:58,933]\u001b[0m Trial 109 finished with value: 0.8845098845450512 and parameters: {'max_depth': 3, 'learning_rate': 0.002742536801973641, 'n_estimators': 1465, 'num_leaves': 868, 'colsample_bytree': 0.8304511773285104, 'subsample': 0.9496679292823984, 'reg_alpha': 0.7931200867886229, 'reg_lambda': 4.105819501853347}. Best is trial 85 with value: 0.896129704996047.\u001b[0m\n"
     ]
    },
    {
     "name": "stdout",
     "output_type": "stream",
     "text": [
      "[100]\tvalid_0's binary_logloss: 0.00303323\n",
      "[200]\tvalid_0's binary_logloss: 0.00254615\n",
      "[300]\tvalid_0's binary_logloss: 0.00241052\n",
      "[400]\tvalid_0's binary_logloss: 0.00238821\n",
      "[500]\tvalid_0's binary_logloss: 0.00240909\n",
      "[600]\tvalid_0's binary_logloss: 0.00243959\n",
      "[700]\tvalid_0's binary_logloss: 0.00246942\n",
      "[800]\tvalid_0's binary_logloss: 0.00249817\n",
      "[900]\tvalid_0's binary_logloss: 0.00252963\n",
      "[1000]\tvalid_0's binary_logloss: 0.00255747\n",
      "[1100]\tvalid_0's binary_logloss: 0.00257691\n",
      "[1200]\tvalid_0's binary_logloss: 0.00259476\n",
      "[1300]\tvalid_0's binary_logloss: 0.00261095\n",
      "[1400]\tvalid_0's binary_logloss: 0.00262617\n",
      "[1500]\tvalid_0's binary_logloss: 0.00263823\n",
      "[1600]\tvalid_0's binary_logloss: 0.00264904\n",
      "[1700]\tvalid_0's binary_logloss: 0.00265891\n",
      "[1800]\tvalid_0's binary_logloss: 0.00266997\n"
     ]
    },
    {
     "name": "stderr",
     "output_type": "stream",
     "text": [
      "\u001b[32m[I 2022-07-09 18:41:10,272]\u001b[0m Trial 110 finished with value: 0.8845098845450512 and parameters: {'max_depth': 6, 'learning_rate': 0.00801026167336642, 'n_estimators': 1868, 'num_leaves': 870, 'colsample_bytree': 0.617076837814674, 'subsample': 0.9395423801731825, 'reg_alpha': 0.6331702754172226, 'reg_lambda': 2.602713215664098}. Best is trial 85 with value: 0.896129704996047.\u001b[0m\n"
     ]
    },
    {
     "name": "stdout",
     "output_type": "stream",
     "text": [
      "[100]\tvalid_0's binary_logloss: 0.00332506\n",
      "[200]\tvalid_0's binary_logloss: 0.00267209\n",
      "[300]\tvalid_0's binary_logloss: 0.00248585\n",
      "[400]\tvalid_0's binary_logloss: 0.0024338\n",
      "[500]\tvalid_0's binary_logloss: 0.00241539\n",
      "[600]\tvalid_0's binary_logloss: 0.00242155\n",
      "[700]\tvalid_0's binary_logloss: 0.00243207\n",
      "[800]\tvalid_0's binary_logloss: 0.00244589\n",
      "[900]\tvalid_0's binary_logloss: 0.0024575\n",
      "[1000]\tvalid_0's binary_logloss: 0.0024753\n"
     ]
    },
    {
     "name": "stderr",
     "output_type": "stream",
     "text": [
      "\u001b[32m[I 2022-07-09 18:41:16,935]\u001b[0m Trial 111 finished with value: 0.8845098845450512 and parameters: {'max_depth': 10, 'learning_rate': 0.007591910374807956, 'n_estimators': 1071, 'num_leaves': 344, 'colsample_bytree': 0.7945674176905201, 'subsample': 0.8919282101460025, 'reg_alpha': 1.4594394246083537, 'reg_lambda': 4.9812976530003965}. Best is trial 85 with value: 0.896129704996047.\u001b[0m\n"
     ]
    },
    {
     "name": "stdout",
     "output_type": "stream",
     "text": [
      "[100]\tvalid_0's binary_logloss: 0.0040357\n",
      "[200]\tvalid_0's binary_logloss: 0.00316399\n",
      "[300]\tvalid_0's binary_logloss: 0.00279368\n",
      "[400]\tvalid_0's binary_logloss: 0.00259631\n",
      "[500]\tvalid_0's binary_logloss: 0.00248137\n",
      "[600]\tvalid_0's binary_logloss: 0.00242007\n",
      "[700]\tvalid_0's binary_logloss: 0.00239175\n",
      "[800]\tvalid_0's binary_logloss: 0.00237969\n",
      "[900]\tvalid_0's binary_logloss: 0.00237909\n",
      "[1000]\tvalid_0's binary_logloss: 0.00239095\n",
      "[1100]\tvalid_0's binary_logloss: 0.00240199\n",
      "[1200]\tvalid_0's binary_logloss: 0.00241676\n",
      "[1300]\tvalid_0's binary_logloss: 0.00243147\n",
      "[1400]\tvalid_0's binary_logloss: 0.00244195\n",
      "[1500]\tvalid_0's binary_logloss: 0.00245608\n"
     ]
    },
    {
     "name": "stderr",
     "output_type": "stream",
     "text": [
      "\u001b[32m[I 2022-07-09 18:41:25,475]\u001b[0m Trial 112 finished with value: 0.8845098845450512 and parameters: {'max_depth': 3, 'learning_rate': 0.004000476838947182, 'n_estimators': 1595, 'num_leaves': 678, 'colsample_bytree': 0.6022933062648427, 'subsample': 0.5549053928550214, 'reg_alpha': 0.11941812600252977, 'reg_lambda': 3.7793187153292576}. Best is trial 85 with value: 0.896129704996047.\u001b[0m\n"
     ]
    },
    {
     "name": "stdout",
     "output_type": "stream",
     "text": [
      "[100]\tvalid_0's binary_logloss: 0.00606097\n",
      "[200]\tvalid_0's binary_logloss: 0.00471055\n",
      "[300]\tvalid_0's binary_logloss: 0.00400955\n",
      "[400]\tvalid_0's binary_logloss: 0.00359032\n",
      "[500]\tvalid_0's binary_logloss: 0.00330585\n",
      "[600]\tvalid_0's binary_logloss: 0.00309857\n",
      "[700]\tvalid_0's binary_logloss: 0.00294481\n",
      "[800]\tvalid_0's binary_logloss: 0.00282611\n",
      "[900]\tvalid_0's binary_logloss: 0.00273273\n",
      "[1000]\tvalid_0's binary_logloss: 0.00265805\n",
      "[1100]\tvalid_0's binary_logloss: 0.0025984\n",
      "[1200]\tvalid_0's binary_logloss: 0.00255023\n",
      "[1300]\tvalid_0's binary_logloss: 0.00251039\n",
      "[1400]\tvalid_0's binary_logloss: 0.0024765\n",
      "[1500]\tvalid_0's binary_logloss: 0.00244917\n",
      "[1600]\tvalid_0's binary_logloss: 0.00242817\n",
      "[1700]\tvalid_0's binary_logloss: 0.00241056\n"
     ]
    },
    {
     "name": "stderr",
     "output_type": "stream",
     "text": [
      "\u001b[32m[I 2022-07-09 18:41:34,561]\u001b[0m Trial 113 finished with value: 0.8845098845450512 and parameters: {'max_depth': 10, 'learning_rate': 0.0015043422507736402, 'n_estimators': 1727, 'num_leaves': 369, 'colsample_bytree': 0.5917423860762504, 'subsample': 0.5324617527200642, 'reg_alpha': 0.44447384637789, 'reg_lambda': 4.376789058412674}. Best is trial 85 with value: 0.896129704996047.\u001b[0m\n"
     ]
    },
    {
     "name": "stdout",
     "output_type": "stream",
     "text": [
      "[100]\tvalid_0's binary_logloss: 0.00830805\n",
      "[200]\tvalid_0's binary_logloss: 0.00830803\n",
      "[300]\tvalid_0's binary_logloss: 0.00830802\n",
      "[400]\tvalid_0's binary_logloss: 0.008308\n",
      "[500]\tvalid_0's binary_logloss: 0.00830798\n",
      "[600]\tvalid_0's binary_logloss: 0.00830796\n",
      "[700]\tvalid_0's binary_logloss: 0.00830794\n",
      "[800]\tvalid_0's binary_logloss: 0.00830792\n",
      "[900]\tvalid_0's binary_logloss: 0.0083079\n",
      "[1000]\tvalid_0's binary_logloss: 0.00830788\n"
     ]
    },
    {
     "name": "stderr",
     "output_type": "stream",
     "text": [
      "\u001b[32m[I 2022-07-09 18:41:40,027]\u001b[0m Trial 114 finished with value: 0.4997363518121419 and parameters: {'max_depth': 7, 'learning_rate': 1.1428245696380629e-08, 'n_estimators': 1020, 'num_leaves': 363, 'colsample_bytree': 0.6345788023274883, 'subsample': 0.5888246386624623, 'reg_alpha': 3.183013570076187, 'reg_lambda': 4.217225607096377}. Best is trial 85 with value: 0.896129704996047.\u001b[0m\n"
     ]
    },
    {
     "name": "stdout",
     "output_type": "stream",
     "text": [
      "[100]\tvalid_0's binary_logloss: 0.0028589\n",
      "[200]\tvalid_0's binary_logloss: 0.00244444\n",
      "[300]\tvalid_0's binary_logloss: 0.0023345\n",
      "[400]\tvalid_0's binary_logloss: 0.00233109\n",
      "[500]\tvalid_0's binary_logloss: 0.00235056\n",
      "[600]\tvalid_0's binary_logloss: 0.00238609\n",
      "[700]\tvalid_0's binary_logloss: 0.00242221\n",
      "[800]\tvalid_0's binary_logloss: 0.00244838\n",
      "[900]\tvalid_0's binary_logloss: 0.00246996\n",
      "[1000]\tvalid_0's binary_logloss: 0.00248907\n",
      "[1100]\tvalid_0's binary_logloss: 0.00250549\n",
      "[1200]\tvalid_0's binary_logloss: 0.00251952\n",
      "[1300]\tvalid_0's binary_logloss: 0.00253115\n",
      "[1400]\tvalid_0's binary_logloss: 0.00253977\n",
      "[1500]\tvalid_0's binary_logloss: 0.00254725\n",
      "[1600]\tvalid_0's binary_logloss: 0.00255401\n"
     ]
    },
    {
     "name": "stderr",
     "output_type": "stream",
     "text": [
      "\u001b[32m[I 2022-07-09 18:41:48,358]\u001b[0m Trial 115 finished with value: 0.8845098845450512 and parameters: {'max_depth': 4, 'learning_rate': 0.009907633758707558, 'n_estimators': 1650, 'num_leaves': 892, 'colsample_bytree': 0.5109296375690854, 'subsample': 0.9239890848974797, 'reg_alpha': 1.0628884670186856, 'reg_lambda': 2.889467939765681}. Best is trial 85 with value: 0.896129704996047.\u001b[0m\n"
     ]
    },
    {
     "name": "stdout",
     "output_type": "stream",
     "text": [
      "[100]\tvalid_0's binary_logloss: 0.00412378\n",
      "[200]\tvalid_0's binary_logloss: 0.00349393\n",
      "[300]\tvalid_0's binary_logloss: 0.00314762\n",
      "[400]\tvalid_0's binary_logloss: 0.00292389\n",
      "[500]\tvalid_0's binary_logloss: 0.00276407\n",
      "[600]\tvalid_0's binary_logloss: 0.00265055\n",
      "[700]\tvalid_0's binary_logloss: 0.00256576\n",
      "[800]\tvalid_0's binary_logloss: 0.00250552\n",
      "[900]\tvalid_0's binary_logloss: 0.00246605\n"
     ]
    },
    {
     "name": "stderr",
     "output_type": "stream",
     "text": [
      "\u001b[32m[I 2022-07-09 18:41:53,458]\u001b[0m Trial 116 finished with value: 0.8845098845450512 and parameters: {'max_depth': 6, 'learning_rate': 0.0020737823730239075, 'n_estimators': 949, 'num_leaves': 341, 'colsample_bytree': 0.6775148742249358, 'subsample': 0.5465659120926133, 'reg_alpha': 2.8425857185546017, 'reg_lambda': 0.44916475379391263}. Best is trial 85 with value: 0.896129704996047.\u001b[0m\n"
     ]
    },
    {
     "name": "stdout",
     "output_type": "stream",
     "text": [
      "[100]\tvalid_0's binary_logloss: 0.00401502\n",
      "[200]\tvalid_0's binary_logloss: 0.00320173\n",
      "[300]\tvalid_0's binary_logloss: 0.00284272\n",
      "[400]\tvalid_0's binary_logloss: 0.00264641\n",
      "[500]\tvalid_0's binary_logloss: 0.00253473\n",
      "[600]\tvalid_0's binary_logloss: 0.00247396\n"
     ]
    },
    {
     "name": "stderr",
     "output_type": "stream",
     "text": [
      "\u001b[32m[I 2022-07-09 18:41:57,445]\u001b[0m Trial 117 finished with value: 0.8845098845450512 and parameters: {'max_depth': 7, 'learning_rate': 0.0036609908273649277, 'n_estimators': 693, 'num_leaves': 321, 'colsample_bytree': 0.7494810164334422, 'subsample': 0.6011953823017359, 'reg_alpha': 3.067402006041064, 'reg_lambda': 2.7703317850994726}. Best is trial 85 with value: 0.896129704996047.\u001b[0m\n"
     ]
    },
    {
     "name": "stdout",
     "output_type": "stream",
     "text": [
      "[100]\tvalid_0's binary_logloss: 0.00365864\n",
      "[200]\tvalid_0's binary_logloss: 0.00293344\n",
      "[300]\tvalid_0's binary_logloss: 0.00263726\n",
      "[400]\tvalid_0's binary_logloss: 0.00250319\n",
      "[500]\tvalid_0's binary_logloss: 0.00244077\n",
      "[600]\tvalid_0's binary_logloss: 0.00241517\n",
      "[700]\tvalid_0's binary_logloss: 0.00240795\n",
      "[800]\tvalid_0's binary_logloss: 0.00240475\n"
     ]
    },
    {
     "name": "stderr",
     "output_type": "stream",
     "text": [
      "\u001b[32m[I 2022-07-09 18:42:02,536]\u001b[0m Trial 118 finished with value: 0.8845098845450512 and parameters: {'max_depth': 6, 'learning_rate': 0.0048518097959557235, 'n_estimators': 878, 'num_leaves': 310, 'colsample_bytree': 0.7597706881655976, 'subsample': 0.6083064750508602, 'reg_alpha': 2.502851411724944, 'reg_lambda': 3.0432935500377907}. Best is trial 85 with value: 0.896129704996047.\u001b[0m\n"
     ]
    },
    {
     "name": "stdout",
     "output_type": "stream",
     "text": [
      "[100]\tvalid_0's binary_logloss: 0.00443278\n",
      "[200]\tvalid_0's binary_logloss: 0.00357413\n",
      "[300]\tvalid_0's binary_logloss: 0.00315249\n",
      "[400]\tvalid_0's binary_logloss: 0.00290102\n",
      "[500]\tvalid_0's binary_logloss: 0.00273549\n",
      "[600]\tvalid_0's binary_logloss: 0.0026203\n"
     ]
    },
    {
     "name": "stderr",
     "output_type": "stream",
     "text": [
      "\u001b[32m[I 2022-07-09 18:42:06,395]\u001b[0m Trial 119 finished with value: 0.8724347298745778 and parameters: {'max_depth': 7, 'learning_rate': 0.002432728771800428, 'n_estimators': 682, 'num_leaves': 325, 'colsample_bytree': 0.6920067072027073, 'subsample': 0.612538592587551, 'reg_alpha': 2.809976290832408, 'reg_lambda': 2.2704812477472456}. Best is trial 85 with value: 0.896129704996047.\u001b[0m\n"
     ]
    },
    {
     "name": "stdout",
     "output_type": "stream",
     "text": [
      "[100]\tvalid_0's binary_logloss: 0.00817583\n",
      "[200]\tvalid_0's binary_logloss: 0.00804547\n",
      "[300]\tvalid_0's binary_logloss: 0.0079159\n",
      "[400]\tvalid_0's binary_logloss: 0.00778831\n",
      "[500]\tvalid_0's binary_logloss: 0.0076609\n",
      "[600]\tvalid_0's binary_logloss: 0.00753407\n",
      "[700]\tvalid_0's binary_logloss: 0.00740924\n",
      "[800]\tvalid_0's binary_logloss: 0.00728679\n",
      "[900]\tvalid_0's binary_logloss: 0.00716615\n"
     ]
    },
    {
     "name": "stderr",
     "output_type": "stream",
     "text": [
      "\u001b[32m[I 2022-07-09 18:42:11,446]\u001b[0m Trial 120 finished with value: 0.4997363518121419 and parameters: {'max_depth': 7, 'learning_rate': 5.4763959146382087e-05, 'n_estimators': 924, 'num_leaves': 268, 'colsample_bytree': 0.7411207326544845, 'subsample': 0.5834830057872433, 'reg_alpha': 2.1658972983424074, 'reg_lambda': 2.8609571348459193}. Best is trial 85 with value: 0.896129704996047.\u001b[0m\n"
     ]
    },
    {
     "name": "stdout",
     "output_type": "stream",
     "text": [
      "[100]\tvalid_0's binary_logloss: 0.00410235\n",
      "[200]\tvalid_0's binary_logloss: 0.00352167\n",
      "[300]\tvalid_0's binary_logloss: 0.00318652\n",
      "[400]\tvalid_0's binary_logloss: 0.00296011\n",
      "[500]\tvalid_0's binary_logloss: 0.00279102\n",
      "[600]\tvalid_0's binary_logloss: 0.00266249\n",
      "[700]\tvalid_0's binary_logloss: 0.0025675\n",
      "[800]\tvalid_0's binary_logloss: 0.00249239\n"
     ]
    },
    {
     "name": "stderr",
     "output_type": "stream",
     "text": [
      "\u001b[32m[I 2022-07-09 18:42:15,974]\u001b[0m Trial 121 finished with value: 0.8598769209128951 and parameters: {'max_depth': 8, 'learning_rate': 0.001707258803986959, 'n_estimators': 813, 'num_leaves': 177, 'colsample_bytree': 0.6486708851002962, 'subsample': 0.8561837227192968, 'reg_alpha': 0.9963786899294833, 'reg_lambda': 0.010057823247843108}. Best is trial 85 with value: 0.896129704996047.\u001b[0m\n"
     ]
    },
    {
     "name": "stdout",
     "output_type": "stream",
     "text": [
      "[100]\tvalid_0's binary_logloss: 0.00339984\n",
      "[200]\tvalid_0's binary_logloss: 0.00284726\n",
      "[300]\tvalid_0's binary_logloss: 0.00260033\n",
      "[400]\tvalid_0's binary_logloss: 0.00248022\n"
     ]
    },
    {
     "name": "stderr",
     "output_type": "stream",
     "text": [
      "\u001b[32m[I 2022-07-09 18:42:18,654]\u001b[0m Trial 122 finished with value: 0.8845098845450512 and parameters: {'max_depth': 4, 'learning_rate': 0.004693316136231227, 'n_estimators': 453, 'num_leaves': 415, 'colsample_bytree': 0.6227501479999515, 'subsample': 0.6629687070548342, 'reg_alpha': 4.422123836025285, 'reg_lambda': 0.7067735457503131}. Best is trial 85 with value: 0.896129704996047.\u001b[0m\n"
     ]
    },
    {
     "name": "stdout",
     "output_type": "stream",
     "text": [
      "[100]\tvalid_0's binary_logloss: 0.00369363\n",
      "[200]\tvalid_0's binary_logloss: 0.00297859\n",
      "[300]\tvalid_0's binary_logloss: 0.0026747\n",
      "[400]\tvalid_0's binary_logloss: 0.00252101\n",
      "[500]\tvalid_0's binary_logloss: 0.00244793\n",
      "[600]\tvalid_0's binary_logloss: 0.00240951\n"
     ]
    },
    {
     "name": "stderr",
     "output_type": "stream",
     "text": [
      "\u001b[32m[I 2022-07-09 18:42:22,258]\u001b[0m Trial 123 finished with value: 0.8845098845450512 and parameters: {'max_depth': 5, 'learning_rate': 0.004595671679843033, 'n_estimators': 631, 'num_leaves': 305, 'colsample_bytree': 0.6623058569321632, 'subsample': 0.5360147024019903, 'reg_alpha': 4.812994225063466, 'reg_lambda': 2.623642263301296}. Best is trial 85 with value: 0.896129704996047.\u001b[0m\n"
     ]
    },
    {
     "name": "stdout",
     "output_type": "stream",
     "text": [
      "[100]\tvalid_0's binary_logloss: 0.00385227\n",
      "[200]\tvalid_0's binary_logloss: 0.00316374\n",
      "[300]\tvalid_0's binary_logloss: 0.002832\n",
      "[400]\tvalid_0's binary_logloss: 0.00264275\n",
      "[500]\tvalid_0's binary_logloss: 0.0025286\n",
      "[600]\tvalid_0's binary_logloss: 0.00246209\n",
      "[700]\tvalid_0's binary_logloss: 0.00242788\n",
      "[800]\tvalid_0's binary_logloss: 0.002411\n",
      "[900]\tvalid_0's binary_logloss: 0.00240207\n",
      "[1000]\tvalid_0's binary_logloss: 0.00239639\n",
      "[1100]\tvalid_0's binary_logloss: 0.00239469\n",
      "[1200]\tvalid_0's binary_logloss: 0.00239924\n",
      "[1300]\tvalid_0's binary_logloss: 0.00240261\n",
      "[1400]\tvalid_0's binary_logloss: 0.00241104\n",
      "[1500]\tvalid_0's binary_logloss: 0.00241806\n",
      "[1600]\tvalid_0's binary_logloss: 0.00242517\n"
     ]
    },
    {
     "name": "stderr",
     "output_type": "stream",
     "text": [
      "\u001b[32m[I 2022-07-09 18:42:31,800]\u001b[0m Trial 124 finished with value: 0.8845098845450512 and parameters: {'max_depth': 6, 'learning_rate': 0.003282146886666121, 'n_estimators': 1698, 'num_leaves': 249, 'colsample_bytree': 0.7840776626472835, 'subsample': 0.5617288374050143, 'reg_alpha': 2.57064068944139, 'reg_lambda': 1.3878582834221675}. Best is trial 85 with value: 0.896129704996047.\u001b[0m\n"
     ]
    },
    {
     "name": "stdout",
     "output_type": "stream",
     "text": [
      "[100]\tvalid_0's binary_logloss: 0.00379963\n",
      "[200]\tvalid_0's binary_logloss: 0.00320868\n",
      "[300]\tvalid_0's binary_logloss: 0.00289896\n",
      "[400]\tvalid_0's binary_logloss: 0.00270849\n",
      "[500]\tvalid_0's binary_logloss: 0.00258332\n",
      "[600]\tvalid_0's binary_logloss: 0.00249845\n",
      "[700]\tvalid_0's binary_logloss: 0.00245483\n"
     ]
    },
    {
     "name": "stderr",
     "output_type": "stream",
     "text": [
      "\u001b[32m[I 2022-07-09 18:42:35,927]\u001b[0m Trial 125 finished with value: 0.8845098845450512 and parameters: {'max_depth': 5, 'learning_rate': 0.002902339420432934, 'n_estimators': 751, 'num_leaves': 392, 'colsample_bytree': 0.6387730640761604, 'subsample': 0.5437111173504172, 'reg_alpha': 3.6315152366506203, 'reg_lambda': 0.3471257182611681}. Best is trial 85 with value: 0.896129704996047.\u001b[0m\n"
     ]
    },
    {
     "name": "stdout",
     "output_type": "stream",
     "text": [
      "[100]\tvalid_0's binary_logloss: 0.00341885\n",
      "[200]\tvalid_0's binary_logloss: 0.00287768\n",
      "[300]\tvalid_0's binary_logloss: 0.00261966\n",
      "[400]\tvalid_0's binary_logloss: 0.00247949\n",
      "[500]\tvalid_0's binary_logloss: 0.00241126\n",
      "[600]\tvalid_0's binary_logloss: 0.00237645\n",
      "[700]\tvalid_0's binary_logloss: 0.00236678\n",
      "[800]\tvalid_0's binary_logloss: 0.00235541\n",
      "[900]\tvalid_0's binary_logloss: 0.00235038\n",
      "[1000]\tvalid_0's binary_logloss: 0.00235381\n"
     ]
    },
    {
     "name": "stderr",
     "output_type": "stream",
     "text": [
      "\u001b[32m[I 2022-07-09 18:42:41,459]\u001b[0m Trial 126 finished with value: 0.8845098845450512 and parameters: {'max_depth': 6, 'learning_rate': 0.004027416448834691, 'n_estimators': 1006, 'num_leaves': 384, 'colsample_bytree': 0.6630873062736029, 'subsample': 0.622737085303571, 'reg_alpha': 3.08820130933519, 'reg_lambda': 0.17614213588595784}. Best is trial 85 with value: 0.896129704996047.\u001b[0m\n"
     ]
    },
    {
     "name": "stdout",
     "output_type": "stream",
     "text": [
      "[100]\tvalid_0's binary_logloss: 0.00723762\n",
      "[200]\tvalid_0's binary_logloss: 0.00675626\n",
      "[300]\tvalid_0's binary_logloss: 0.00645264\n",
      "[400]\tvalid_0's binary_logloss: 0.00622206\n",
      "[500]\tvalid_0's binary_logloss: 0.00604166\n",
      "[600]\tvalid_0's binary_logloss: 0.00589466\n",
      "[700]\tvalid_0's binary_logloss: 0.00577005\n",
      "[800]\tvalid_0's binary_logloss: 0.00565973\n"
     ]
    },
    {
     "name": "stderr",
     "output_type": "stream",
     "text": [
      "\u001b[32m[I 2022-07-09 18:42:46,518]\u001b[0m Trial 127 finished with value: 0.4997363518121419 and parameters: {'max_depth': 6, 'learning_rate': 3.5638321562976055e-05, 'n_estimators': 849, 'num_leaves': 302, 'colsample_bytree': 0.8766721449911388, 'subsample': 0.5690263385831037, 'reg_alpha': 2.352351135983834, 'reg_lambda': 0.04840798336123564}. Best is trial 85 with value: 0.896129704996047.\u001b[0m\n"
     ]
    },
    {
     "name": "stdout",
     "output_type": "stream",
     "text": [
      "[100]\tvalid_0's binary_logloss: 0.00375918\n",
      "[200]\tvalid_0's binary_logloss: 0.00315169\n",
      "[300]\tvalid_0's binary_logloss: 0.00283999\n",
      "[400]\tvalid_0's binary_logloss: 0.00265285\n",
      "[500]\tvalid_0's binary_logloss: 0.00253366\n",
      "[600]\tvalid_0's binary_logloss: 0.0024676\n",
      "[700]\tvalid_0's binary_logloss: 0.00242962\n",
      "[800]\tvalid_0's binary_logloss: 0.00240793\n",
      "[900]\tvalid_0's binary_logloss: 0.00239576\n"
     ]
    },
    {
     "name": "stderr",
     "output_type": "stream",
     "text": [
      "\u001b[32m[I 2022-07-09 18:42:51,623]\u001b[0m Trial 128 finished with value: 0.8845098845450512 and parameters: {'max_depth': 5, 'learning_rate': 0.003062769695081385, 'n_estimators': 937, 'num_leaves': 202, 'colsample_bytree': 0.6557173942180446, 'subsample': 0.6460739007570397, 'reg_alpha': 2.3958962713567704, 'reg_lambda': 0.5180507863584587}. Best is trial 85 with value: 0.896129704996047.\u001b[0m\n"
     ]
    },
    {
     "name": "stdout",
     "output_type": "stream",
     "text": [
      "[100]\tvalid_0's binary_logloss: 0.0030433\n",
      "[200]\tvalid_0's binary_logloss: 0.00260747\n",
      "[300]\tvalid_0's binary_logloss: 0.00246191\n",
      "[400]\tvalid_0's binary_logloss: 0.00241563\n",
      "[500]\tvalid_0's binary_logloss: 0.00240193\n"
     ]
    },
    {
     "name": "stderr",
     "output_type": "stream",
     "text": [
      "\u001b[32m[I 2022-07-09 18:42:54,911]\u001b[0m Trial 129 finished with value: 0.8845098845450512 and parameters: {'max_depth': 5, 'learning_rate': 0.0069703913253298996, 'n_estimators': 553, 'num_leaves': 340, 'colsample_bytree': 0.6788691317474498, 'subsample': 0.5281553100941446, 'reg_alpha': 2.958937398116221, 'reg_lambda': 0.41053743789771796}. Best is trial 85 with value: 0.896129704996047.\u001b[0m\n"
     ]
    },
    {
     "name": "stdout",
     "output_type": "stream",
     "text": [
      "[100]\tvalid_0's binary_logloss: 0.00383908\n",
      "[200]\tvalid_0's binary_logloss: 0.00303635\n",
      "[300]\tvalid_0's binary_logloss: 0.00271369\n",
      "[400]\tvalid_0's binary_logloss: 0.00256116\n",
      "[500]\tvalid_0's binary_logloss: 0.00248954\n",
      "[600]\tvalid_0's binary_logloss: 0.00245686\n",
      "[700]\tvalid_0's binary_logloss: 0.00243671\n",
      "[800]\tvalid_0's binary_logloss: 0.00242753\n",
      "[900]\tvalid_0's binary_logloss: 0.00241657\n"
     ]
    },
    {
     "name": "stderr",
     "output_type": "stream",
     "text": [
      "\u001b[32m[I 2022-07-09 18:43:00,506]\u001b[0m Trial 130 finished with value: 0.8845098845450512 and parameters: {'max_depth': 6, 'learning_rate': 0.004832223115624984, 'n_estimators': 987, 'num_leaves': 233, 'colsample_bytree': 0.7755706822532957, 'subsample': 0.6340854586069956, 'reg_alpha': 4.56223985501438, 'reg_lambda': 3.677647344306246}. Best is trial 85 with value: 0.896129704996047.\u001b[0m\n"
     ]
    },
    {
     "name": "stdout",
     "output_type": "stream",
     "text": [
      "[100]\tvalid_0's binary_logloss: 0.00299463\n",
      "[200]\tvalid_0's binary_logloss: 0.00256588\n",
      "[300]\tvalid_0's binary_logloss: 0.00241765\n",
      "[400]\tvalid_0's binary_logloss: 0.00237738\n",
      "[500]\tvalid_0's binary_logloss: 0.0023852\n",
      "[600]\tvalid_0's binary_logloss: 0.0024155\n",
      "[700]\tvalid_0's binary_logloss: 0.00245454\n",
      "[800]\tvalid_0's binary_logloss: 0.00249106\n",
      "[900]\tvalid_0's binary_logloss: 0.00251942\n",
      "[1000]\tvalid_0's binary_logloss: 0.00254181\n"
     ]
    },
    {
     "name": "stderr",
     "output_type": "stream",
     "text": [
      "\u001b[32m[I 2022-07-09 18:43:07,161]\u001b[0m Trial 131 finished with value: 0.8845098845450512 and parameters: {'max_depth': 5, 'learning_rate': 0.006447740969554939, 'n_estimators': 1062, 'num_leaves': 37, 'colsample_bytree': 0.8171749561047947, 'subsample': 0.5034754180572554, 'reg_alpha': 1.2957621921803826, 'reg_lambda': 0.15794346610196247}. Best is trial 85 with value: 0.896129704996047.\u001b[0m\n"
     ]
    },
    {
     "name": "stdout",
     "output_type": "stream",
     "text": [
      "[100]\tvalid_0's binary_logloss: 0.0042012\n",
      "[200]\tvalid_0's binary_logloss: 0.00359516\n",
      "[300]\tvalid_0's binary_logloss: 0.00324853\n",
      "[400]\tvalid_0's binary_logloss: 0.00302006\n",
      "[500]\tvalid_0's binary_logloss: 0.0028564\n",
      "[600]\tvalid_0's binary_logloss: 0.00273126\n",
      "[700]\tvalid_0's binary_logloss: 0.00263829\n"
     ]
    },
    {
     "name": "stderr",
     "output_type": "stream",
     "text": [
      "\u001b[32m[I 2022-07-09 18:43:11,453]\u001b[0m Trial 132 finished with value: 0.8845098845450512 and parameters: {'max_depth': 4, 'learning_rate': 0.0017958788951180833, 'n_estimators': 760, 'num_leaves': 85, 'colsample_bytree': 0.7319602707422861, 'subsample': 0.5812099130939811, 'reg_alpha': 3.306720968130408, 'reg_lambda': 0.258460936653615}. Best is trial 85 with value: 0.896129704996047.\u001b[0m\n"
     ]
    },
    {
     "name": "stdout",
     "output_type": "stream",
     "text": [
      "[100]\tvalid_0's binary_logloss: 0.00299698\n",
      "[200]\tvalid_0's binary_logloss: 0.00257963\n",
      "[300]\tvalid_0's binary_logloss: 0.0024534\n",
      "[400]\tvalid_0's binary_logloss: 0.00241403\n",
      "[500]\tvalid_0's binary_logloss: 0.00239967\n",
      "[600]\tvalid_0's binary_logloss: 0.00240835\n",
      "[700]\tvalid_0's binary_logloss: 0.00242817\n",
      "[800]\tvalid_0's binary_logloss: 0.00244343\n",
      "[900]\tvalid_0's binary_logloss: 0.00245018\n",
      "[1000]\tvalid_0's binary_logloss: 0.00245032\n",
      "[1100]\tvalid_0's binary_logloss: 0.00245033\n",
      "[1200]\tvalid_0's binary_logloss: 0.00245031\n",
      "[1300]\tvalid_0's binary_logloss: 0.00245031\n",
      "[1400]\tvalid_0's binary_logloss: 0.00245032\n",
      "[1500]\tvalid_0's binary_logloss: 0.00245032\n",
      "[1600]\tvalid_0's binary_logloss: 0.00245032\n",
      "[1700]\tvalid_0's binary_logloss: 0.00245032\n",
      "[1800]\tvalid_0's binary_logloss: 0.00245032\n",
      "[1900]\tvalid_0's binary_logloss: 0.00245032\n"
     ]
    },
    {
     "name": "stderr",
     "output_type": "stream",
     "text": [
      "\u001b[32m[I 2022-07-09 18:43:21,131]\u001b[0m Trial 133 finished with value: 0.8845098845450512 and parameters: {'max_depth': 15, 'learning_rate': 0.007261802383573041, 'n_estimators': 1962, 'num_leaves': 123, 'colsample_bytree': 0.7381292048737933, 'subsample': 0.601975978287207, 'reg_alpha': 3.210118572944435, 'reg_lambda': 0.2841034111599189}. Best is trial 85 with value: 0.896129704996047.\u001b[0m\n"
     ]
    },
    {
     "name": "stdout",
     "output_type": "stream",
     "text": [
      "[100]\tvalid_0's binary_logloss: 0.00341144\n",
      "[200]\tvalid_0's binary_logloss: 0.00279317\n",
      "[300]\tvalid_0's binary_logloss: 0.00255825\n",
      "[400]\tvalid_0's binary_logloss: 0.00246443\n",
      "[500]\tvalid_0's binary_logloss: 0.00242466\n",
      "[600]\tvalid_0's binary_logloss: 0.00240874\n",
      "[700]\tvalid_0's binary_logloss: 0.0024034\n",
      "[800]\tvalid_0's binary_logloss: 0.00240384\n"
     ]
    },
    {
     "name": "stderr",
     "output_type": "stream",
     "text": [
      "\u001b[32m[I 2022-07-09 18:43:25,946]\u001b[0m Trial 134 finished with value: 0.8845098845450512 and parameters: {'max_depth': 11, 'learning_rate': 0.005720868643266588, 'n_estimators': 834, 'num_leaves': 272, 'colsample_bytree': 0.6981656124551254, 'subsample': 0.7167200049108778, 'reg_alpha': 3.4522727069472925, 'reg_lambda': 2.3937867139138325}. Best is trial 85 with value: 0.896129704996047.\u001b[0m\n"
     ]
    },
    {
     "name": "stdout",
     "output_type": "stream",
     "text": [
      "[100]\tvalid_0's binary_logloss: 0.00291778\n",
      "[200]\tvalid_0's binary_logloss: 0.00250801\n",
      "[300]\tvalid_0's binary_logloss: 0.00238898\n"
     ]
    },
    {
     "name": "stderr",
     "output_type": "stream",
     "text": [
      "\u001b[32m[I 2022-07-09 18:43:28,085]\u001b[0m Trial 135 finished with value: 0.8845098845450512 and parameters: {'max_depth': 7, 'learning_rate': 0.0076286045791388885, 'n_estimators': 336, 'num_leaves': 295, 'colsample_bytree': 0.6141992042725917, 'subsample': 0.5944336215546683, 'reg_alpha': 2.1683407882257053, 'reg_lambda': 0.20822854754974032}. Best is trial 85 with value: 0.896129704996047.\u001b[0m\n"
     ]
    },
    {
     "name": "stdout",
     "output_type": "stream",
     "text": [
      "[100]\tvalid_0's binary_logloss: 0.00641497\n",
      "[200]\tvalid_0's binary_logloss: 0.00506448\n",
      "[300]\tvalid_0's binary_logloss: 0.00428839\n",
      "[400]\tvalid_0's binary_logloss: 0.00381273\n",
      "[500]\tvalid_0's binary_logloss: 0.00349646\n",
      "[600]\tvalid_0's binary_logloss: 0.00326641\n"
     ]
    },
    {
     "name": "stderr",
     "output_type": "stream",
     "text": [
      "\u001b[32m[I 2022-07-09 18:43:31,522]\u001b[0m Trial 136 finished with value: 0.4997363518121419 and parameters: {'max_depth': 4, 'learning_rate': 0.001380736271572796, 'n_estimators': 669, 'num_leaves': 529, 'colsample_bytree': 0.5470980741522099, 'subsample': 0.6901594159829124, 'reg_alpha': 2.2620836731052973, 'reg_lambda': 4.830950982016875}. Best is trial 85 with value: 0.896129704996047.\u001b[0m\n"
     ]
    },
    {
     "name": "stdout",
     "output_type": "stream",
     "text": [
      "[100]\tvalid_0's binary_logloss: 0.00537173\n",
      "[200]\tvalid_0's binary_logloss: 0.00406634\n",
      "[300]\tvalid_0's binary_logloss: 0.00346125\n",
      "[400]\tvalid_0's binary_logloss: 0.0031215\n",
      "[500]\tvalid_0's binary_logloss: 0.00290545\n",
      "[600]\tvalid_0's binary_logloss: 0.00275666\n",
      "[700]\tvalid_0's binary_logloss: 0.00265436\n"
     ]
    },
    {
     "name": "stderr",
     "output_type": "stream",
     "text": [
      "\u001b[32m[I 2022-07-09 18:43:35,675]\u001b[0m Trial 137 finished with value: 0.8724347298745778 and parameters: {'max_depth': 8, 'learning_rate': 0.0023749102067659425, 'n_estimators': 727, 'num_leaves': 723, 'colsample_bytree': 0.7523958548040685, 'subsample': 0.6740303367722501, 'reg_alpha': 2.949225776318578, 'reg_lambda': 4.934930040946349}. Best is trial 85 with value: 0.896129704996047.\u001b[0m\n"
     ]
    },
    {
     "name": "stdout",
     "output_type": "stream",
     "text": [
      "[100]\tvalid_0's binary_logloss: 0.0035628\n",
      "[200]\tvalid_0's binary_logloss: 0.00285477\n",
      "[300]\tvalid_0's binary_logloss: 0.00258255\n",
      "[400]\tvalid_0's binary_logloss: 0.00246694\n",
      "[500]\tvalid_0's binary_logloss: 0.0024167\n",
      "[600]\tvalid_0's binary_logloss: 0.002398\n",
      "[700]\tvalid_0's binary_logloss: 0.00239044\n",
      "[800]\tvalid_0's binary_logloss: 0.00239626\n",
      "[900]\tvalid_0's binary_logloss: 0.00240405\n",
      "[1000]\tvalid_0's binary_logloss: 0.00241488\n",
      "[1100]\tvalid_0's binary_logloss: 0.00242525\n"
     ]
    },
    {
     "name": "stderr",
     "output_type": "stream",
     "text": [
      "\u001b[32m[I 2022-07-09 18:43:42,143]\u001b[0m Trial 138 finished with value: 0.8845098845450512 and parameters: {'max_depth': 4, 'learning_rate': 0.005263827660399457, 'n_estimators': 1167, 'num_leaves': 214, 'colsample_bytree': 0.7058018587627564, 'subsample': 0.7976894832211839, 'reg_alpha': 1.9760966973952923, 'reg_lambda': 3.1786331902109084}. Best is trial 85 with value: 0.896129704996047.\u001b[0m\n"
     ]
    },
    {
     "name": "stdout",
     "output_type": "stream",
     "text": [
      "[100]\tvalid_0's binary_logloss: 0.00323142\n",
      "[200]\tvalid_0's binary_logloss: 0.00272287\n",
      "[300]\tvalid_0's binary_logloss: 0.00250608\n",
      "[400]\tvalid_0's binary_logloss: 0.00240099\n",
      "[500]\tvalid_0's binary_logloss: 0.00235634\n",
      "[600]\tvalid_0's binary_logloss: 0.00235202\n",
      "[700]\tvalid_0's binary_logloss: 0.00236179\n",
      "[800]\tvalid_0's binary_logloss: 0.00238145\n",
      "[900]\tvalid_0's binary_logloss: 0.00240142\n",
      "[1000]\tvalid_0's binary_logloss: 0.00241811\n",
      "[1100]\tvalid_0's binary_logloss: 0.00243124\n",
      "[1200]\tvalid_0's binary_logloss: 0.00243702\n"
     ]
    },
    {
     "name": "stderr",
     "output_type": "stream",
     "text": [
      "\u001b[32m[I 2022-07-09 18:43:48,503]\u001b[0m Trial 139 finished with value: 0.8724347298745778 and parameters: {'max_depth': 4, 'learning_rate': 0.005802653239746777, 'n_estimators': 1240, 'num_leaves': 636, 'colsample_bytree': 0.5655622102018991, 'subsample': 0.704167036662659, 'reg_alpha': 1.7751813694121314, 'reg_lambda': 0.09185909418627602}. Best is trial 85 with value: 0.896129704996047.\u001b[0m\n"
     ]
    },
    {
     "name": "stdout",
     "output_type": "stream",
     "text": [
      "[100]\tvalid_0's binary_logloss: 0.00815905\n",
      "[200]\tvalid_0's binary_logloss: 0.00801529\n",
      "[300]\tvalid_0's binary_logloss: 0.00786962\n",
      "[400]\tvalid_0's binary_logloss: 0.00772317\n",
      "[500]\tvalid_0's binary_logloss: 0.0075775\n",
      "[600]\tvalid_0's binary_logloss: 0.0074348\n",
      "[700]\tvalid_0's binary_logloss: 0.00729152\n",
      "[800]\tvalid_0's binary_logloss: 0.00715049\n",
      "[900]\tvalid_0's binary_logloss: 0.00701395\n",
      "[1000]\tvalid_0's binary_logloss: 0.00687898\n",
      "[1100]\tvalid_0's binary_logloss: 0.0067476\n",
      "[1200]\tvalid_0's binary_logloss: 0.00661707\n"
     ]
    },
    {
     "name": "stderr",
     "output_type": "stream",
     "text": [
      "\u001b[32m[I 2022-07-09 18:43:54,490]\u001b[0m Trial 140 finished with value: 0.4997363518121419 and parameters: {'max_depth': 3, 'learning_rate': 8.467047814557935e-05, 'n_estimators': 1251, 'num_leaves': 654, 'colsample_bytree': 0.5244525561180697, 'subsample': 0.9749269244751465, 'reg_alpha': 1.8411184751360974, 'reg_lambda': 3.927510425806165}. Best is trial 85 with value: 0.896129704996047.\u001b[0m\n"
     ]
    },
    {
     "name": "stdout",
     "output_type": "stream",
     "text": [
      "[100]\tvalid_0's binary_logloss: 0.00331311\n",
      "[200]\tvalid_0's binary_logloss: 0.00273062\n",
      "[300]\tvalid_0's binary_logloss: 0.00250801\n",
      "[400]\tvalid_0's binary_logloss: 0.00240506\n",
      "[500]\tvalid_0's binary_logloss: 0.00236637\n",
      "[600]\tvalid_0's binary_logloss: 0.0023631\n",
      "[700]\tvalid_0's binary_logloss: 0.00237253\n",
      "[800]\tvalid_0's binary_logloss: 0.00238291\n",
      "[900]\tvalid_0's binary_logloss: 0.00240596\n",
      "[1000]\tvalid_0's binary_logloss: 0.00242605\n",
      "[1100]\tvalid_0's binary_logloss: 0.00244679\n",
      "[1200]\tvalid_0's binary_logloss: 0.00246461\n"
     ]
    },
    {
     "name": "stderr",
     "output_type": "stream",
     "text": [
      "\u001b[32m[I 2022-07-09 18:44:00,588]\u001b[0m Trial 141 finished with value: 0.8845098845450512 and parameters: {'max_depth': 3, 'learning_rate': 0.00604767933493218, 'n_estimators': 1208, 'num_leaves': 623, 'colsample_bytree': 0.5173109980964508, 'subsample': 0.5108752523095033, 'reg_alpha': 1.5402174175654408, 'reg_lambda': 2.16707676314524}. Best is trial 85 with value: 0.896129704996047.\u001b[0m\n"
     ]
    },
    {
     "name": "stdout",
     "output_type": "stream",
     "text": [
      "[100]\tvalid_0's binary_logloss: 0.0033093\n",
      "[200]\tvalid_0's binary_logloss: 0.00270011\n",
      "[300]\tvalid_0's binary_logloss: 0.00249383\n",
      "[400]\tvalid_0's binary_logloss: 0.00241416\n",
      "[500]\tvalid_0's binary_logloss: 0.00238894\n",
      "[600]\tvalid_0's binary_logloss: 0.0023785\n",
      "[700]\tvalid_0's binary_logloss: 0.00237639\n",
      "[800]\tvalid_0's binary_logloss: 0.00238602\n",
      "[900]\tvalid_0's binary_logloss: 0.00239512\n",
      "[1000]\tvalid_0's binary_logloss: 0.00240172\n",
      "[1100]\tvalid_0's binary_logloss: 0.00240682\n",
      "[1200]\tvalid_0's binary_logloss: 0.00240978\n",
      "[1300]\tvalid_0's binary_logloss: 0.00241222\n",
      "[1400]\tvalid_0's binary_logloss: 0.00241325\n",
      "[1500]\tvalid_0's binary_logloss: 0.00241394\n"
     ]
    },
    {
     "name": "stderr",
     "output_type": "stream",
     "text": [
      "\u001b[32m[I 2022-07-09 18:44:09,063]\u001b[0m Trial 142 finished with value: 0.8724347298745778 and parameters: {'max_depth': 4, 'learning_rate': 0.007099859001033044, 'n_estimators': 1523, 'num_leaves': 596, 'colsample_bytree': 0.5779475426765768, 'subsample': 0.5387893260842813, 'reg_alpha': 3.945744262114732, 'reg_lambda': 3.472749573865576}. Best is trial 85 with value: 0.896129704996047.\u001b[0m\n"
     ]
    },
    {
     "name": "stdout",
     "output_type": "stream",
     "text": [
      "[100]\tvalid_0's binary_logloss: 0.00407791\n",
      "[200]\tvalid_0's binary_logloss: 0.00323951\n",
      "[300]\tvalid_0's binary_logloss: 0.00286336\n",
      "[400]\tvalid_0's binary_logloss: 0.00265969\n",
      "[500]\tvalid_0's binary_logloss: 0.00253679\n",
      "[600]\tvalid_0's binary_logloss: 0.00245846\n",
      "[700]\tvalid_0's binary_logloss: 0.00241719\n",
      "[800]\tvalid_0's binary_logloss: 0.00238982\n",
      "[900]\tvalid_0's binary_logloss: 0.00237716\n",
      "[1000]\tvalid_0's binary_logloss: 0.00237414\n",
      "[1100]\tvalid_0's binary_logloss: 0.00237525\n",
      "[1200]\tvalid_0's binary_logloss: 0.00238063\n",
      "[1300]\tvalid_0's binary_logloss: 0.00238828\n",
      "[1400]\tvalid_0's binary_logloss: 0.00239631\n"
     ]
    },
    {
     "name": "stderr",
     "output_type": "stream",
     "text": [
      "\u001b[32m[I 2022-07-09 18:44:17,597]\u001b[0m Trial 143 finished with value: 0.8724347298745778 and parameters: {'max_depth': 3, 'learning_rate': 0.0036263298677959967, 'n_estimators': 1403, 'num_leaves': 111, 'colsample_bytree': 0.5987624576738909, 'subsample': 0.5170991145624814, 'reg_alpha': 1.9778335790167254, 'reg_lambda': 3.116425706272826}. Best is trial 85 with value: 0.896129704996047.\u001b[0m\n"
     ]
    },
    {
     "name": "stdout",
     "output_type": "stream",
     "text": [
      "[100]\tvalid_0's binary_logloss: 0.00323424\n",
      "[200]\tvalid_0's binary_logloss: 0.0026255\n",
      "[300]\tvalid_0's binary_logloss: 0.00244391\n",
      "[400]\tvalid_0's binary_logloss: 0.00237833\n",
      "[500]\tvalid_0's binary_logloss: 0.00236487\n",
      "[600]\tvalid_0's binary_logloss: 0.0023705\n",
      "[700]\tvalid_0's binary_logloss: 0.0023857\n",
      "[800]\tvalid_0's binary_logloss: 0.00240178\n",
      "[900]\tvalid_0's binary_logloss: 0.00241564\n",
      "[1000]\tvalid_0's binary_logloss: 0.00242976\n",
      "[1100]\tvalid_0's binary_logloss: 0.00244411\n",
      "[1200]\tvalid_0's binary_logloss: 0.00245555\n",
      "[1300]\tvalid_0's binary_logloss: 0.00246652\n",
      "[1400]\tvalid_0's binary_logloss: 0.00247484\n"
     ]
    },
    {
     "name": "stderr",
     "output_type": "stream",
     "text": [
      "\u001b[32m[I 2022-07-09 18:44:25,052]\u001b[0m Trial 144 finished with value: 0.8845098845450512 and parameters: {'max_depth': 3, 'learning_rate': 0.00804705757130614, 'n_estimators': 1438, 'num_leaves': 696, 'colsample_bytree': 0.5584043870866877, 'subsample': 0.7900816990906891, 'reg_alpha': 2.072788527570521, 'reg_lambda': 4.526260451542022}. Best is trial 85 with value: 0.896129704996047.\u001b[0m\n"
     ]
    },
    {
     "name": "stdout",
     "output_type": "stream",
     "text": [
      "[100]\tvalid_0's binary_logloss: 0.00343802\n",
      "[200]\tvalid_0's binary_logloss: 0.00278088\n",
      "[300]\tvalid_0's binary_logloss: 0.00253189\n",
      "[400]\tvalid_0's binary_logloss: 0.00243826\n"
     ]
    },
    {
     "name": "stderr",
     "output_type": "stream",
     "text": [
      "\u001b[32m[I 2022-07-09 18:44:27,839]\u001b[0m Trial 145 finished with value: 0.8845098845450512 and parameters: {'max_depth': 4, 'learning_rate': 0.005950250828361572, 'n_estimators': 470, 'num_leaves': 938, 'colsample_bytree': 0.6187231567084982, 'subsample': 0.5233108110178746, 'reg_alpha': 2.3435766107050475, 'reg_lambda': 3.313371918290936}. Best is trial 85 with value: 0.896129704996047.\u001b[0m\n"
     ]
    },
    {
     "name": "stdout",
     "output_type": "stream",
     "text": [
      "[100]\tvalid_0's binary_logloss: 0.00375807\n",
      "[200]\tvalid_0's binary_logloss: 0.00301758\n",
      "[300]\tvalid_0's binary_logloss: 0.00269727\n",
      "[400]\tvalid_0's binary_logloss: 0.0025338\n",
      "[500]\tvalid_0's binary_logloss: 0.00243883\n"
     ]
    },
    {
     "name": "stderr",
     "output_type": "stream",
     "text": [
      "\u001b[32m[I 2022-07-09 18:44:30,966]\u001b[0m Trial 146 finished with value: 0.8845098845450512 and parameters: {'max_depth': 4, 'learning_rate': 0.004431064390263367, 'n_estimators': 587, 'num_leaves': 239, 'colsample_bytree': 0.5272813066415252, 'subsample': 0.607763389735158, 'reg_alpha': 1.6769385595238766, 'reg_lambda': 2.8602949871882384}. Best is trial 85 with value: 0.896129704996047.\u001b[0m\n"
     ]
    },
    {
     "name": "stdout",
     "output_type": "stream",
     "text": [
      "[100]\tvalid_0's binary_logloss: 0.0042469\n",
      "[200]\tvalid_0's binary_logloss: 0.00340596\n",
      "[300]\tvalid_0's binary_logloss: 0.00300652\n",
      "[400]\tvalid_0's binary_logloss: 0.00277732\n",
      "[500]\tvalid_0's binary_logloss: 0.00262698\n",
      "[600]\tvalid_0's binary_logloss: 0.00252972\n",
      "[700]\tvalid_0's binary_logloss: 0.00247039\n",
      "[800]\tvalid_0's binary_logloss: 0.00243354\n",
      "[900]\tvalid_0's binary_logloss: 0.00240845\n",
      "[1000]\tvalid_0's binary_logloss: 0.00238959\n",
      "[1100]\tvalid_0's binary_logloss: 0.00238108\n",
      "[1200]\tvalid_0's binary_logloss: 0.00237989\n",
      "[1300]\tvalid_0's binary_logloss: 0.0023787\n"
     ]
    },
    {
     "name": "stderr",
     "output_type": "stream",
     "text": [
      "\u001b[32m[I 2022-07-09 18:44:37,829]\u001b[0m Trial 147 finished with value: 0.8845098845450512 and parameters: {'max_depth': 3, 'learning_rate': 0.002909988811567718, 'n_estimators': 1327, 'num_leaves': 74, 'colsample_bytree': 0.6461286261165157, 'subsample': 0.5013987611337379, 'reg_alpha': 2.768053846253641, 'reg_lambda': 2.4827832944401744}. Best is trial 85 with value: 0.896129704996047.\u001b[0m\n"
     ]
    },
    {
     "name": "stdout",
     "output_type": "stream",
     "text": [
      "[100]\tvalid_0's binary_logloss: 0.00778153\n",
      "[200]\tvalid_0's binary_logloss: 0.00746757\n",
      "[300]\tvalid_0's binary_logloss: 0.00723864\n",
      "[400]\tvalid_0's binary_logloss: 0.00705751\n",
      "[500]\tvalid_0's binary_logloss: 0.00690893\n",
      "[600]\tvalid_0's binary_logloss: 0.00678195\n",
      "[700]\tvalid_0's binary_logloss: 0.00667338\n"
     ]
    },
    {
     "name": "stderr",
     "output_type": "stream",
     "text": [
      "\u001b[32m[I 2022-07-09 18:44:42,753]\u001b[0m Trial 148 finished with value: 0.4997363518121419 and parameters: {'max_depth': 4, 'learning_rate': 1.0454431213719099e-05, 'n_estimators': 779, 'num_leaves': 166, 'colsample_bytree': 0.515284674284778, 'subsample': 0.5265305673531878, 'reg_alpha': 2.6012794087322155, 'reg_lambda': 0.002519916181995596}. Best is trial 85 with value: 0.896129704996047.\u001b[0m\n"
     ]
    },
    {
     "name": "stdout",
     "output_type": "stream",
     "text": [
      "[100]\tvalid_0's binary_logloss: 0.00300862\n",
      "[200]\tvalid_0's binary_logloss: 0.00251772\n",
      "[300]\tvalid_0's binary_logloss: 0.00239039\n",
      "[400]\tvalid_0's binary_logloss: 0.00236933\n",
      "[500]\tvalid_0's binary_logloss: 0.00239595\n",
      "[600]\tvalid_0's binary_logloss: 0.0024268\n",
      "[700]\tvalid_0's binary_logloss: 0.00246317\n",
      "[800]\tvalid_0's binary_logloss: 0.00249356\n",
      "[900]\tvalid_0's binary_logloss: 0.00252367\n",
      "[1000]\tvalid_0's binary_logloss: 0.00254908\n",
      "[1100]\tvalid_0's binary_logloss: 0.00257013\n",
      "[1200]\tvalid_0's binary_logloss: 0.00258911\n",
      "[1300]\tvalid_0's binary_logloss: 0.00260557\n"
     ]
    },
    {
     "name": "stderr",
     "output_type": "stream",
     "text": [
      "\u001b[32m[I 2022-07-09 18:44:52,315]\u001b[0m Trial 149 finished with value: 0.8845098845450512 and parameters: {'max_depth': 3, 'learning_rate': 0.009859303424227663, 'n_estimators': 1341, 'num_leaves': 596, 'colsample_bytree': 0.5385447542314094, 'subsample': 0.7697596938023593, 'reg_alpha': 0.3178210067105918, 'reg_lambda': 4.640959718146598}. Best is trial 85 with value: 0.896129704996047.\u001b[0m\n"
     ]
    },
    {
     "name": "stdout",
     "output_type": "stream",
     "text": [
      "[100]\tvalid_0's binary_logloss: 0.00830282\n",
      "[200]\tvalid_0's binary_logloss: 0.00829769\n",
      "[300]\tvalid_0's binary_logloss: 0.00829248\n",
      "[400]\tvalid_0's binary_logloss: 0.00828724\n",
      "[500]\tvalid_0's binary_logloss: 0.008282\n",
      "[600]\tvalid_0's binary_logloss: 0.00827675\n",
      "[700]\tvalid_0's binary_logloss: 0.00827148\n",
      "[800]\tvalid_0's binary_logloss: 0.00826622\n",
      "[900]\tvalid_0's binary_logloss: 0.00826107\n",
      "[1000]\tvalid_0's binary_logloss: 0.00825587\n",
      "[1100]\tvalid_0's binary_logloss: 0.00825061\n",
      "[1200]\tvalid_0's binary_logloss: 0.00824532\n",
      "[1300]\tvalid_0's binary_logloss: 0.00824009\n"
     ]
    },
    {
     "name": "stderr",
     "output_type": "stream",
     "text": [
      "\u001b[32m[I 2022-07-09 18:44:59,262]\u001b[0m Trial 150 finished with value: 0.4997363518121419 and parameters: {'max_depth': 3, 'learning_rate': 3.570255129656467e-06, 'n_estimators': 1382, 'num_leaves': 659, 'colsample_bytree': 0.5632374018769962, 'subsample': 0.51368682821383, 'reg_alpha': 0.03584259093372365, 'reg_lambda': 4.883075656698445}. Best is trial 85 with value: 0.896129704996047.\u001b[0m\n"
     ]
    },
    {
     "name": "stdout",
     "output_type": "stream",
     "text": [
      "[100]\tvalid_0's binary_logloss: 0.00399163\n",
      "[200]\tvalid_0's binary_logloss: 0.00310266\n",
      "[300]\tvalid_0's binary_logloss: 0.00274254\n",
      "[400]\tvalid_0's binary_logloss: 0.00255752\n"
     ]
    },
    {
     "name": "stderr",
     "output_type": "stream",
     "text": [
      "\u001b[32m[I 2022-07-09 18:45:02,058]\u001b[0m Trial 151 finished with value: 0.8845098845450512 and parameters: {'max_depth': 9, 'learning_rate': 0.004363319312305967, 'n_estimators': 425, 'num_leaves': 566, 'colsample_bytree': 0.6269281206216074, 'subsample': 0.8823040336788971, 'reg_alpha': 0.27680698078898447, 'reg_lambda': 4.189283501285305}. Best is trial 85 with value: 0.896129704996047.\u001b[0m\n"
     ]
    },
    {
     "name": "stdout",
     "output_type": "stream",
     "text": [
      "[100]\tvalid_0's binary_logloss: 0.00315463\n",
      "[200]\tvalid_0's binary_logloss: 0.00258847\n",
      "[300]\tvalid_0's binary_logloss: 0.00243258\n",
      "[400]\tvalid_0's binary_logloss: 0.0023906\n",
      "[500]\tvalid_0's binary_logloss: 0.00240138\n",
      "[600]\tvalid_0's binary_logloss: 0.00242929\n",
      "[700]\tvalid_0's binary_logloss: 0.0024534\n",
      "[800]\tvalid_0's binary_logloss: 0.00247981\n",
      "[900]\tvalid_0's binary_logloss: 0.00251151\n",
      "[1000]\tvalid_0's binary_logloss: 0.00254315\n",
      "[1100]\tvalid_0's binary_logloss: 0.00256689\n",
      "[1200]\tvalid_0's binary_logloss: 0.00258716\n",
      "[1300]\tvalid_0's binary_logloss: 0.00260647\n",
      "[1400]\tvalid_0's binary_logloss: 0.00262307\n"
     ]
    },
    {
     "name": "stderr",
     "output_type": "stream",
     "text": [
      "\u001b[32m[I 2022-07-09 18:45:10,315]\u001b[0m Trial 152 finished with value: 0.8845098845450512 and parameters: {'max_depth': 3, 'learning_rate': 0.008428554239371796, 'n_estimators': 1490, 'num_leaves': 573, 'colsample_bytree': 0.588873549093059, 'subsample': 0.8640637683377074, 'reg_alpha': 0.021122466601246337, 'reg_lambda': 4.468168378482602}. Best is trial 85 with value: 0.896129704996047.\u001b[0m\n"
     ]
    },
    {
     "name": "stdout",
     "output_type": "stream",
     "text": [
      "[100]\tvalid_0's binary_logloss: 0.00322354\n",
      "[200]\tvalid_0's binary_logloss: 0.00265732\n",
      "[300]\tvalid_0's binary_logloss: 0.00244606\n",
      "[400]\tvalid_0's binary_logloss: 0.00235568\n",
      "[500]\tvalid_0's binary_logloss: 0.00232579\n",
      "[600]\tvalid_0's binary_logloss: 0.00233063\n",
      "[700]\tvalid_0's binary_logloss: 0.00235167\n",
      "[800]\tvalid_0's binary_logloss: 0.00237658\n",
      "[900]\tvalid_0's binary_logloss: 0.00240959\n",
      "[1000]\tvalid_0's binary_logloss: 0.00243973\n",
      "[1100]\tvalid_0's binary_logloss: 0.00247062\n",
      "[1200]\tvalid_0's binary_logloss: 0.00249824\n",
      "[1300]\tvalid_0's binary_logloss: 0.00252263\n",
      "[1400]\tvalid_0's binary_logloss: 0.00254158\n",
      "[1500]\tvalid_0's binary_logloss: 0.00255868\n"
     ]
    },
    {
     "name": "stderr",
     "output_type": "stream",
     "text": [
      "\u001b[32m[I 2022-07-09 18:45:18,491]\u001b[0m Trial 153 finished with value: 0.8845098845450512 and parameters: {'max_depth': 3, 'learning_rate': 0.006206122126611212, 'n_estimators': 1598, 'num_leaves': 639, 'colsample_bytree': 0.5018768169726092, 'subsample': 0.9774308353577835, 'reg_alpha': 0.5154162629445636, 'reg_lambda': 2.0954527427294494}. Best is trial 85 with value: 0.896129704996047.\u001b[0m\n"
     ]
    },
    {
     "name": "stdout",
     "output_type": "stream",
     "text": [
      "[100]\tvalid_0's binary_logloss: 0.00451719\n",
      "[200]\tvalid_0's binary_logloss: 0.00344105\n",
      "[300]\tvalid_0's binary_logloss: 0.00298101\n",
      "[400]\tvalid_0's binary_logloss: 0.00273294\n",
      "[500]\tvalid_0's binary_logloss: 0.00258375\n",
      "[600]\tvalid_0's binary_logloss: 0.00248629\n",
      "[700]\tvalid_0's binary_logloss: 0.00242384\n",
      "[800]\tvalid_0's binary_logloss: 0.00238219\n",
      "[900]\tvalid_0's binary_logloss: 0.00235922\n",
      "[1000]\tvalid_0's binary_logloss: 0.00234898\n",
      "[1100]\tvalid_0's binary_logloss: 0.00234472\n",
      "[1200]\tvalid_0's binary_logloss: 0.00235016\n",
      "[1300]\tvalid_0's binary_logloss: 0.00235865\n"
     ]
    },
    {
     "name": "stderr",
     "output_type": "stream",
     "text": [
      "\u001b[32m[I 2022-07-09 18:45:25,563]\u001b[0m Trial 154 finished with value: 0.8845098845450512 and parameters: {'max_depth': 3, 'learning_rate': 0.003485843467300595, 'n_estimators': 1399, 'num_leaves': 603, 'colsample_bytree': 0.5384190710762105, 'subsample': 0.7815569381925066, 'reg_alpha': 0.19868430077602056, 'reg_lambda': 4.780144531592507}. Best is trial 85 with value: 0.896129704996047.\u001b[0m\n"
     ]
    },
    {
     "name": "stdout",
     "output_type": "stream",
     "text": [
      "[100]\tvalid_0's binary_logloss: 0.00284676\n",
      "[200]\tvalid_0's binary_logloss: 0.00248462\n",
      "[300]\tvalid_0's binary_logloss: 0.0023974\n",
      "[400]\tvalid_0's binary_logloss: 0.00237659\n",
      "[500]\tvalid_0's binary_logloss: 0.00238743\n",
      "[600]\tvalid_0's binary_logloss: 0.0024059\n",
      "[700]\tvalid_0's binary_logloss: 0.00241686\n",
      "[800]\tvalid_0's binary_logloss: 0.00242213\n",
      "[900]\tvalid_0's binary_logloss: 0.00242353\n",
      "[1000]\tvalid_0's binary_logloss: 0.0024242\n",
      "[1100]\tvalid_0's binary_logloss: 0.00242476\n",
      "[1200]\tvalid_0's binary_logloss: 0.00242517\n",
      "[1300]\tvalid_0's binary_logloss: 0.00242541\n",
      "[1400]\tvalid_0's binary_logloss: 0.00242558\n"
     ]
    },
    {
     "name": "stderr",
     "output_type": "stream",
     "text": [
      "\u001b[32m[I 2022-07-09 18:45:32,183]\u001b[0m Trial 155 finished with value: 0.8724347298745778 and parameters: {'max_depth': 3, 'learning_rate': 0.009913767276311547, 'n_estimators': 1425, 'num_leaves': 618, 'colsample_bytree': 0.555421863277608, 'subsample': 0.7599569127733896, 'reg_alpha': 3.74017638586223, 'reg_lambda': 1.7035700957143525}. Best is trial 85 with value: 0.896129704996047.\u001b[0m\n"
     ]
    },
    {
     "name": "stdout",
     "output_type": "stream",
     "text": [
      "[100]\tvalid_0's binary_logloss: 0.00494906\n",
      "[200]\tvalid_0's binary_logloss: 0.00378265\n",
      "[300]\tvalid_0's binary_logloss: 0.00325348\n",
      "[400]\tvalid_0's binary_logloss: 0.00295826\n",
      "[500]\tvalid_0's binary_logloss: 0.00277165\n",
      "[600]\tvalid_0's binary_logloss: 0.00264509\n",
      "[700]\tvalid_0's binary_logloss: 0.00256001\n",
      "[800]\tvalid_0's binary_logloss: 0.00250796\n",
      "[900]\tvalid_0's binary_logloss: 0.00247492\n",
      "[1000]\tvalid_0's binary_logloss: 0.00245555\n",
      "[1100]\tvalid_0's binary_logloss: 0.0024441\n",
      "[1200]\tvalid_0's binary_logloss: 0.00243668\n",
      "[1300]\tvalid_0's binary_logloss: 0.00243624\n",
      "[1400]\tvalid_0's binary_logloss: 0.00243953\n",
      "[1500]\tvalid_0's binary_logloss: 0.00244383\n"
     ]
    },
    {
     "name": "stderr",
     "output_type": "stream",
     "text": [
      "\u001b[32m[I 2022-07-09 18:45:41,329]\u001b[0m Trial 156 finished with value: 0.8845098845450512 and parameters: {'max_depth': 5, 'learning_rate': 0.002575399010805466, 'n_estimators': 1521, 'num_leaves': 791, 'colsample_bytree': 0.8421901022479998, 'subsample': 0.9536139557212368, 'reg_alpha': 0.4083029633025722, 'reg_lambda': 4.3586187091852295}. Best is trial 85 with value: 0.896129704996047.\u001b[0m\n"
     ]
    },
    {
     "name": "stdout",
     "output_type": "stream",
     "text": [
      "[100]\tvalid_0's binary_logloss: 0.00301249\n",
      "[200]\tvalid_0's binary_logloss: 0.00252562\n",
      "[300]\tvalid_0's binary_logloss: 0.00241337\n",
      "[400]\tvalid_0's binary_logloss: 0.00239857\n",
      "[500]\tvalid_0's binary_logloss: 0.00242064\n",
      "[600]\tvalid_0's binary_logloss: 0.00244525\n",
      "[700]\tvalid_0's binary_logloss: 0.00247693\n",
      "[800]\tvalid_0's binary_logloss: 0.00250437\n",
      "[900]\tvalid_0's binary_logloss: 0.00253011\n",
      "[1000]\tvalid_0's binary_logloss: 0.00255676\n",
      "[1100]\tvalid_0's binary_logloss: 0.00257903\n",
      "[1200]\tvalid_0's binary_logloss: 0.00259672\n",
      "[1300]\tvalid_0's binary_logloss: 0.00261465\n",
      "[1400]\tvalid_0's binary_logloss: 0.00262924\n",
      "[1500]\tvalid_0's binary_logloss: 0.00264376\n",
      "[1600]\tvalid_0's binary_logloss: 0.00265746\n",
      "[1700]\tvalid_0's binary_logloss: 0.00267405\n",
      "[1800]\tvalid_0's binary_logloss: 0.00268875\n",
      "[1900]\tvalid_0's binary_logloss: 0.00270181\n"
     ]
    },
    {
     "name": "stderr",
     "output_type": "stream",
     "text": [
      "\u001b[32m[I 2022-07-09 18:45:51,703]\u001b[0m Trial 157 finished with value: 0.8845098845450512 and parameters: {'max_depth': 3, 'learning_rate': 0.009919321200306757, 'n_estimators': 1906, 'num_leaves': 713, 'colsample_bytree': 0.5770535000798303, 'subsample': 0.8758070939905291, 'reg_alpha': 0.3595949786093729, 'reg_lambda': 4.544105943850324}. Best is trial 85 with value: 0.896129704996047.\u001b[0m\n"
     ]
    },
    {
     "name": "stdout",
     "output_type": "stream",
     "text": [
      "[100]\tvalid_0's binary_logloss: 0.00354725\n",
      "[200]\tvalid_0's binary_logloss: 0.00279725\n",
      "[300]\tvalid_0's binary_logloss: 0.00252735\n",
      "[400]\tvalid_0's binary_logloss: 0.0024036\n",
      "[500]\tvalid_0's binary_logloss: 0.00235658\n",
      "[600]\tvalid_0's binary_logloss: 0.00234537\n",
      "[700]\tvalid_0's binary_logloss: 0.00235437\n",
      "[800]\tvalid_0's binary_logloss: 0.00237341\n",
      "[900]\tvalid_0's binary_logloss: 0.00239272\n",
      "[1000]\tvalid_0's binary_logloss: 0.00241421\n",
      "[1100]\tvalid_0's binary_logloss: 0.00243531\n",
      "[1200]\tvalid_0's binary_logloss: 0.00245581\n",
      "[1300]\tvalid_0's binary_logloss: 0.00247568\n",
      "[1400]\tvalid_0's binary_logloss: 0.00249206\n"
     ]
    },
    {
     "name": "stderr",
     "output_type": "stream",
     "text": [
      "\u001b[32m[I 2022-07-09 18:45:59,400]\u001b[0m Trial 158 finished with value: 0.8845098845450512 and parameters: {'max_depth': 3, 'learning_rate': 0.006106480768285283, 'n_estimators': 1453, 'num_leaves': 535, 'colsample_bytree': 0.5771329156455263, 'subsample': 0.9081976316255631, 'reg_alpha': 0.20402388558505696, 'reg_lambda': 4.666132558301921}. Best is trial 85 with value: 0.896129704996047.\u001b[0m\n"
     ]
    },
    {
     "name": "stdout",
     "output_type": "stream",
     "text": [
      "[100]\tvalid_0's binary_logloss: 0.00495655\n",
      "[200]\tvalid_0's binary_logloss: 0.0038117\n",
      "[300]\tvalid_0's binary_logloss: 0.00329287\n",
      "[400]\tvalid_0's binary_logloss: 0.00298928\n",
      "[500]\tvalid_0's binary_logloss: 0.00279252\n",
      "[600]\tvalid_0's binary_logloss: 0.00265771\n",
      "[700]\tvalid_0's binary_logloss: 0.00256335\n",
      "[800]\tvalid_0's binary_logloss: 0.00249225\n",
      "[900]\tvalid_0's binary_logloss: 0.00244134\n",
      "[1000]\tvalid_0's binary_logloss: 0.00240426\n",
      "[1100]\tvalid_0's binary_logloss: 0.00237781\n",
      "[1200]\tvalid_0's binary_logloss: 0.00235982\n",
      "[1300]\tvalid_0's binary_logloss: 0.00234745\n",
      "[1400]\tvalid_0's binary_logloss: 0.00233866\n"
     ]
    },
    {
     "name": "stderr",
     "output_type": "stream",
     "text": [
      "\u001b[32m[I 2022-07-09 18:46:06,620]\u001b[0m Trial 159 finished with value: 0.8845098845450512 and parameters: {'max_depth': 3, 'learning_rate': 0.002472221380424879, 'n_estimators': 1475, 'num_leaves': 740, 'colsample_bytree': 0.5461800938288128, 'subsample': 0.957062238028865, 'reg_alpha': 0.7391992890614321, 'reg_lambda': 4.05480915981137}. Best is trial 85 with value: 0.896129704996047.\u001b[0m\n"
     ]
    },
    {
     "name": "stdout",
     "output_type": "stream",
     "text": [
      "[100]\tvalid_0's binary_logloss: 0.00366742\n",
      "[200]\tvalid_0's binary_logloss: 0.00289022\n",
      "[300]\tvalid_0's binary_logloss: 0.00260988\n",
      "[400]\tvalid_0's binary_logloss: 0.00250291\n",
      "[500]\tvalid_0's binary_logloss: 0.00246163\n",
      "[600]\tvalid_0's binary_logloss: 0.00244692\n",
      "[700]\tvalid_0's binary_logloss: 0.00244824\n",
      "[800]\tvalid_0's binary_logloss: 0.00245353\n",
      "[900]\tvalid_0's binary_logloss: 0.00245355\n",
      "[1000]\tvalid_0's binary_logloss: 0.00245456\n",
      "[1100]\tvalid_0's binary_logloss: 0.00246558\n",
      "[1200]\tvalid_0's binary_logloss: 0.00248071\n",
      "[1300]\tvalid_0's binary_logloss: 0.00249466\n",
      "[1400]\tvalid_0's binary_logloss: 0.00250886\n",
      "[1500]\tvalid_0's binary_logloss: 0.00251718\n"
     ]
    },
    {
     "name": "stderr",
     "output_type": "stream",
     "text": [
      "\u001b[32m[I 2022-07-09 18:46:16,221]\u001b[0m Trial 160 finished with value: 0.8845098845450512 and parameters: {'max_depth': 3, 'learning_rate': 0.005656346636023479, 'n_estimators': 1544, 'num_leaves': 761, 'colsample_bytree': 0.922788186602433, 'subsample': 0.9848528694715979, 'reg_alpha': 0.7756265868150524, 'reg_lambda': 4.531118872837001}. Best is trial 85 with value: 0.896129704996047.\u001b[0m\n"
     ]
    },
    {
     "name": "stdout",
     "output_type": "stream",
     "text": [
      "[100]\tvalid_0's binary_logloss: 0.00326485\n",
      "[200]\tvalid_0's binary_logloss: 0.00263906\n",
      "[300]\tvalid_0's binary_logloss: 0.00244689\n",
      "[400]\tvalid_0's binary_logloss: 0.00237998\n",
      "[500]\tvalid_0's binary_logloss: 0.00236754\n",
      "[600]\tvalid_0's binary_logloss: 0.0023791\n",
      "[700]\tvalid_0's binary_logloss: 0.00239489\n",
      "[800]\tvalid_0's binary_logloss: 0.00240661\n",
      "[900]\tvalid_0's binary_logloss: 0.00243151\n",
      "[1000]\tvalid_0's binary_logloss: 0.00245151\n",
      "[1100]\tvalid_0's binary_logloss: 0.00247115\n",
      "[1200]\tvalid_0's binary_logloss: 0.00249141\n",
      "[1300]\tvalid_0's binary_logloss: 0.00250731\n",
      "[1400]\tvalid_0's binary_logloss: 0.00252168\n",
      "[1500]\tvalid_0's binary_logloss: 0.00253389\n",
      "[1600]\tvalid_0's binary_logloss: 0.00254368\n",
      "[1700]\tvalid_0's binary_logloss: 0.0025544\n",
      "[1800]\tvalid_0's binary_logloss: 0.00256364\n"
     ]
    },
    {
     "name": "stderr",
     "output_type": "stream",
     "text": [
      "\u001b[32m[I 2022-07-09 18:46:26,421]\u001b[0m Trial 161 finished with value: 0.8845098845450512 and parameters: {'max_depth': 3, 'learning_rate': 0.007775440618844394, 'n_estimators': 1876, 'num_leaves': 505, 'colsample_bytree': 0.5879076267124161, 'subsample': 0.9345014472221708, 'reg_alpha': 0.6118847928810626, 'reg_lambda': 4.756426398725723}. Best is trial 85 with value: 0.896129704996047.\u001b[0m\n"
     ]
    },
    {
     "name": "stdout",
     "output_type": "stream",
     "text": [
      "[100]\tvalid_0's binary_logloss: 0.0034581\n",
      "[200]\tvalid_0's binary_logloss: 0.00274485\n",
      "[300]\tvalid_0's binary_logloss: 0.00251749\n",
      "[400]\tvalid_0's binary_logloss: 0.00244707\n",
      "[500]\tvalid_0's binary_logloss: 0.00243051\n",
      "[600]\tvalid_0's binary_logloss: 0.00243543\n",
      "[700]\tvalid_0's binary_logloss: 0.00244947\n",
      "[800]\tvalid_0's binary_logloss: 0.00246182\n",
      "[900]\tvalid_0's binary_logloss: 0.00247339\n",
      "[1000]\tvalid_0's binary_logloss: 0.00248792\n",
      "[1100]\tvalid_0's binary_logloss: 0.00250759\n",
      "[1200]\tvalid_0's binary_logloss: 0.00252911\n",
      "[1300]\tvalid_0's binary_logloss: 0.00254749\n",
      "[1400]\tvalid_0's binary_logloss: 0.00256161\n",
      "[1500]\tvalid_0's binary_logloss: 0.00257377\n",
      "[1600]\tvalid_0's binary_logloss: 0.00258486\n",
      "[1700]\tvalid_0's binary_logloss: 0.002593\n",
      "[1800]\tvalid_0's binary_logloss: 0.002601\n",
      "[1900]\tvalid_0's binary_logloss: 0.00260956\n"
     ]
    },
    {
     "name": "stderr",
     "output_type": "stream",
     "text": [
      "\u001b[32m[I 2022-07-09 18:46:39,746]\u001b[0m Trial 162 finished with value: 0.8845098845450512 and parameters: {'max_depth': 10, 'learning_rate': 0.006806265238737783, 'n_estimators': 1950, 'num_leaves': 856, 'colsample_bytree': 0.8427194414992034, 'subsample': 0.9036698561683297, 'reg_alpha': 0.6038044645563373, 'reg_lambda': 4.973201976305639}. Best is trial 85 with value: 0.896129704996047.\u001b[0m\n"
     ]
    },
    {
     "name": "stdout",
     "output_type": "stream",
     "text": [
      "[100]\tvalid_0's binary_logloss: 0.00310468\n",
      "[200]\tvalid_0's binary_logloss: 0.00256978\n",
      "[300]\tvalid_0's binary_logloss: 0.00244263\n",
      "[400]\tvalid_0's binary_logloss: 0.00241081\n",
      "[500]\tvalid_0's binary_logloss: 0.00242609\n",
      "[600]\tvalid_0's binary_logloss: 0.00245025\n",
      "[700]\tvalid_0's binary_logloss: 0.00247522\n",
      "[800]\tvalid_0's binary_logloss: 0.00250356\n",
      "[900]\tvalid_0's binary_logloss: 0.00253035\n",
      "[1000]\tvalid_0's binary_logloss: 0.00255716\n",
      "[1100]\tvalid_0's binary_logloss: 0.00257926\n",
      "[1200]\tvalid_0's binary_logloss: 0.00259705\n",
      "[1300]\tvalid_0's binary_logloss: 0.00261605\n",
      "[1400]\tvalid_0's binary_logloss: 0.00263355\n",
      "[1500]\tvalid_0's binary_logloss: 0.00264934\n",
      "[1600]\tvalid_0's binary_logloss: 0.00266412\n",
      "[1700]\tvalid_0's binary_logloss: 0.00267803\n",
      "[1800]\tvalid_0's binary_logloss: 0.00269349\n"
     ]
    },
    {
     "name": "stderr",
     "output_type": "stream",
     "text": [
      "\u001b[32m[I 2022-07-09 18:46:49,828]\u001b[0m Trial 163 finished with value: 0.8845098845450512 and parameters: {'max_depth': 3, 'learning_rate': 0.008653988489321363, 'n_estimators': 1831, 'num_leaves': 666, 'colsample_bytree': 0.6018754918635996, 'subsample': 0.9214723684965199, 'reg_alpha': 0.27605931772138953, 'reg_lambda': 4.079949981753182}. Best is trial 85 with value: 0.896129704996047.\u001b[0m\n"
     ]
    },
    {
     "name": "stdout",
     "output_type": "stream",
     "text": [
      "[100]\tvalid_0's binary_logloss: 0.00300789\n",
      "[200]\tvalid_0's binary_logloss: 0.00252292\n",
      "[300]\tvalid_0's binary_logloss: 0.00241909\n",
      "[400]\tvalid_0's binary_logloss: 0.00241839\n",
      "[500]\tvalid_0's binary_logloss: 0.00245517\n",
      "[600]\tvalid_0's binary_logloss: 0.00249269\n",
      "[700]\tvalid_0's binary_logloss: 0.00252774\n",
      "[800]\tvalid_0's binary_logloss: 0.00256061\n",
      "[900]\tvalid_0's binary_logloss: 0.00259196\n",
      "[1000]\tvalid_0's binary_logloss: 0.0026209\n",
      "[1100]\tvalid_0's binary_logloss: 0.00264748\n",
      "[1200]\tvalid_0's binary_logloss: 0.00267383\n",
      "[1300]\tvalid_0's binary_logloss: 0.00269498\n",
      "[1400]\tvalid_0's binary_logloss: 0.00271154\n",
      "[1500]\tvalid_0's binary_logloss: 0.00272886\n",
      "[1600]\tvalid_0's binary_logloss: 0.00274478\n"
     ]
    },
    {
     "name": "stderr",
     "output_type": "stream",
     "text": [
      "\u001b[32m[I 2022-07-09 18:47:00,019]\u001b[0m Trial 164 finished with value: 0.8845098845450512 and parameters: {'max_depth': 10, 'learning_rate': 0.009969972200588198, 'n_estimators': 1621, 'num_leaves': 551, 'colsample_bytree': 0.6037578255828103, 'subsample': 0.9298497352933685, 'reg_alpha': 0.1286369211528135, 'reg_lambda': 4.602830081389248}. Best is trial 85 with value: 0.896129704996047.\u001b[0m\n"
     ]
    },
    {
     "name": "stdout",
     "output_type": "stream",
     "text": [
      "[100]\tvalid_0's binary_logloss: 0.0043725\n",
      "[200]\tvalid_0's binary_logloss: 0.00336268\n",
      "[300]\tvalid_0's binary_logloss: 0.00293153\n",
      "[400]\tvalid_0's binary_logloss: 0.00270071\n",
      "[500]\tvalid_0's binary_logloss: 0.00256219\n",
      "[600]\tvalid_0's binary_logloss: 0.00247433\n",
      "[700]\tvalid_0's binary_logloss: 0.00242392\n",
      "[800]\tvalid_0's binary_logloss: 0.0023923\n",
      "[900]\tvalid_0's binary_logloss: 0.0023776\n",
      "[1000]\tvalid_0's binary_logloss: 0.00237393\n",
      "[1100]\tvalid_0's binary_logloss: 0.00237706\n",
      "[1200]\tvalid_0's binary_logloss: 0.00238645\n",
      "[1300]\tvalid_0's binary_logloss: 0.00239594\n",
      "[1400]\tvalid_0's binary_logloss: 0.002403\n",
      "[1500]\tvalid_0's binary_logloss: 0.00241337\n",
      "[1600]\tvalid_0's binary_logloss: 0.00242278\n"
     ]
    },
    {
     "name": "stderr",
     "output_type": "stream",
     "text": [
      "\u001b[32m[I 2022-07-09 18:47:08,806]\u001b[0m Trial 165 finished with value: 0.8845098845450512 and parameters: {'max_depth': 3, 'learning_rate': 0.003566342010190641, 'n_estimators': 1613, 'num_leaves': 685, 'colsample_bytree': 0.5862281742323118, 'subsample': 0.8917499005862917, 'reg_alpha': 0.38457964909921605, 'reg_lambda': 4.374340476619958}. Best is trial 85 with value: 0.896129704996047.\u001b[0m\n"
     ]
    },
    {
     "name": "stdout",
     "output_type": "stream",
     "text": [
      "[100]\tvalid_0's binary_logloss: 0.00320385\n",
      "[200]\tvalid_0's binary_logloss: 0.00260758\n",
      "[300]\tvalid_0's binary_logloss: 0.0024187\n",
      "[400]\tvalid_0's binary_logloss: 0.00235864\n",
      "[500]\tvalid_0's binary_logloss: 0.0023569\n",
      "[600]\tvalid_0's binary_logloss: 0.0023767\n",
      "[700]\tvalid_0's binary_logloss: 0.00240609\n",
      "[800]\tvalid_0's binary_logloss: 0.00243056\n",
      "[900]\tvalid_0's binary_logloss: 0.00246217\n",
      "[1000]\tvalid_0's binary_logloss: 0.00248828\n",
      "[1100]\tvalid_0's binary_logloss: 0.00251259\n",
      "[1200]\tvalid_0's binary_logloss: 0.00253396\n",
      "[1300]\tvalid_0's binary_logloss: 0.00255383\n",
      "[1400]\tvalid_0's binary_logloss: 0.00256881\n",
      "[1500]\tvalid_0's binary_logloss: 0.00258466\n",
      "[1600]\tvalid_0's binary_logloss: 0.00259816\n",
      "[1700]\tvalid_0's binary_logloss: 0.00261114\n"
     ]
    },
    {
     "name": "stderr",
     "output_type": "stream",
     "text": [
      "\u001b[32m[I 2022-07-09 18:47:18,131]\u001b[0m Trial 166 finished with value: 0.8845098845450512 and parameters: {'max_depth': 4, 'learning_rate': 0.007967274094209503, 'n_estimators': 1732, 'num_leaves': 840, 'colsample_bytree': 0.5094738475878053, 'subsample': 0.9202993814892315, 'reg_alpha': 0.47267078077892466, 'reg_lambda': 4.286493000365111}. Best is trial 85 with value: 0.896129704996047.\u001b[0m\n"
     ]
    },
    {
     "name": "stdout",
     "output_type": "stream",
     "text": [
      "[100]\tvalid_0's binary_logloss: 0.00427387\n",
      "[200]\tvalid_0's binary_logloss: 0.00327186\n",
      "[300]\tvalid_0's binary_logloss: 0.00286838\n",
      "[400]\tvalid_0's binary_logloss: 0.00265385\n",
      "[500]\tvalid_0's binary_logloss: 0.00253953\n",
      "[600]\tvalid_0's binary_logloss: 0.00247979\n",
      "[700]\tvalid_0's binary_logloss: 0.00244924\n",
      "[800]\tvalid_0's binary_logloss: 0.00243679\n",
      "[900]\tvalid_0's binary_logloss: 0.00243545\n",
      "[1000]\tvalid_0's binary_logloss: 0.00243925\n",
      "[1100]\tvalid_0's binary_logloss: 0.0024467\n",
      "[1200]\tvalid_0's binary_logloss: 0.00245425\n",
      "[1300]\tvalid_0's binary_logloss: 0.00246132\n",
      "[1400]\tvalid_0's binary_logloss: 0.00246851\n",
      "[1500]\tvalid_0's binary_logloss: 0.00247174\n",
      "[1600]\tvalid_0's binary_logloss: 0.00248048\n"
     ]
    },
    {
     "name": "stderr",
     "output_type": "stream",
     "text": [
      "\u001b[32m[I 2022-07-09 18:47:28,749]\u001b[0m Trial 167 finished with value: 0.8845098845450512 and parameters: {'max_depth': 11, 'learning_rate': 0.003794494178206642, 'n_estimators': 1653, 'num_leaves': 897, 'colsample_bytree': 0.8620750430099602, 'subsample': 0.9656404332890476, 'reg_alpha': 0.8086467819391526, 'reg_lambda': 4.39669366762313}. Best is trial 85 with value: 0.896129704996047.\u001b[0m\n"
     ]
    },
    {
     "name": "stdout",
     "output_type": "stream",
     "text": [
      "[100]\tvalid_0's binary_logloss: 0.00283483\n",
      "[200]\tvalid_0's binary_logloss: 0.00244853\n",
      "[300]\tvalid_0's binary_logloss: 0.00237447\n",
      "[400]\tvalid_0's binary_logloss: 0.00240287\n",
      "[500]\tvalid_0's binary_logloss: 0.00244978\n",
      "[600]\tvalid_0's binary_logloss: 0.00250127\n",
      "[700]\tvalid_0's binary_logloss: 0.00255469\n",
      "[800]\tvalid_0's binary_logloss: 0.00259314\n",
      "[900]\tvalid_0's binary_logloss: 0.00262063\n",
      "[1000]\tvalid_0's binary_logloss: 0.00264541\n",
      "[1100]\tvalid_0's binary_logloss: 0.00266558\n",
      "[1200]\tvalid_0's binary_logloss: 0.00268369\n",
      "[1300]\tvalid_0's binary_logloss: 0.00270549\n",
      "[1400]\tvalid_0's binary_logloss: 0.00272175\n",
      "[1500]\tvalid_0's binary_logloss: 0.00273609\n",
      "[1600]\tvalid_0's binary_logloss: 0.00274994\n",
      "[1700]\tvalid_0's binary_logloss: 0.00276117\n"
     ]
    },
    {
     "name": "stderr",
     "output_type": "stream",
     "text": [
      "\u001b[32m[I 2022-07-09 18:47:39,522]\u001b[0m Trial 168 finished with value: 0.8845098845450512 and parameters: {'max_depth': 4, 'learning_rate': 0.009628242673588083, 'n_estimators': 1787, 'num_leaves': 866, 'colsample_bytree': 0.572502671371878, 'subsample': 0.9463166769814397, 'reg_alpha': 0.42941066439501396, 'reg_lambda': 1.899186756379556}. Best is trial 85 with value: 0.896129704996047.\u001b[0m\n"
     ]
    },
    {
     "name": "stdout",
     "output_type": "stream",
     "text": [
      "[100]\tvalid_0's binary_logloss: 0.00386112\n",
      "[200]\tvalid_0's binary_logloss: 0.00308453\n",
      "[300]\tvalid_0's binary_logloss: 0.00274278\n",
      "[400]\tvalid_0's binary_logloss: 0.00255656\n",
      "[500]\tvalid_0's binary_logloss: 0.00246195\n",
      "[600]\tvalid_0's binary_logloss: 0.00241915\n",
      "[700]\tvalid_0's binary_logloss: 0.00240231\n",
      "[800]\tvalid_0's binary_logloss: 0.00240228\n",
      "[900]\tvalid_0's binary_logloss: 0.00240945\n",
      "[1000]\tvalid_0's binary_logloss: 0.0024191\n",
      "[1100]\tvalid_0's binary_logloss: 0.00243222\n",
      "[1200]\tvalid_0's binary_logloss: 0.0024451\n",
      "[1300]\tvalid_0's binary_logloss: 0.00245404\n",
      "[1400]\tvalid_0's binary_logloss: 0.00246173\n",
      "[1500]\tvalid_0's binary_logloss: 0.00247377\n",
      "[1600]\tvalid_0's binary_logloss: 0.00248925\n",
      "[1700]\tvalid_0's binary_logloss: 0.00250479\n"
     ]
    },
    {
     "name": "stderr",
     "output_type": "stream",
     "text": [
      "\u001b[32m[I 2022-07-09 18:47:51,576]\u001b[0m Trial 169 finished with value: 0.8845098845450512 and parameters: {'max_depth': 10, 'learning_rate': 0.00392350976527379, 'n_estimators': 1763, 'num_leaves': 342, 'colsample_bytree': 0.8096104494032941, 'subsample': 0.5538664855551617, 'reg_alpha': 0.5979387819276192, 'reg_lambda': 2.720007144135737}. Best is trial 85 with value: 0.896129704996047.\u001b[0m\n"
     ]
    },
    {
     "name": "stdout",
     "output_type": "stream",
     "text": [
      "[100]\tvalid_0's binary_logloss: 0.00366316\n",
      "[200]\tvalid_0's binary_logloss: 0.00293527\n",
      "[300]\tvalid_0's binary_logloss: 0.00263132\n",
      "[400]\tvalid_0's binary_logloss: 0.00249129\n",
      "[500]\tvalid_0's binary_logloss: 0.00243391\n",
      "[600]\tvalid_0's binary_logloss: 0.00241248\n",
      "[700]\tvalid_0's binary_logloss: 0.00240978\n",
      "[800]\tvalid_0's binary_logloss: 0.00242027\n",
      "[900]\tvalid_0's binary_logloss: 0.00242922\n",
      "[1000]\tvalid_0's binary_logloss: 0.00243974\n",
      "[1100]\tvalid_0's binary_logloss: 0.00244782\n",
      "[1200]\tvalid_0's binary_logloss: 0.00245741\n",
      "[1300]\tvalid_0's binary_logloss: 0.00247267\n",
      "[1400]\tvalid_0's binary_logloss: 0.00248745\n",
      "[1500]\tvalid_0's binary_logloss: 0.00250209\n",
      "[1600]\tvalid_0's binary_logloss: 0.0025168\n"
     ]
    },
    {
     "name": "stderr",
     "output_type": "stream",
     "text": [
      "\u001b[32m[I 2022-07-09 18:48:02,142]\u001b[0m Trial 170 finished with value: 0.8845098845450512 and parameters: {'max_depth': 11, 'learning_rate': 0.004750977311401575, 'n_estimators': 1645, 'num_leaves': 350, 'colsample_bytree': 0.8220062895006344, 'subsample': 0.5457380219648834, 'reg_alpha': 0.8411995672785022, 'reg_lambda': 3.00507382980151}. Best is trial 85 with value: 0.896129704996047.\u001b[0m\n"
     ]
    },
    {
     "name": "stdout",
     "output_type": "stream",
     "text": [
      "[100]\tvalid_0's binary_logloss: 0.00349053\n",
      "[200]\tvalid_0's binary_logloss: 0.00282242\n",
      "[300]\tvalid_0's binary_logloss: 0.0025403\n",
      "[400]\tvalid_0's binary_logloss: 0.00242038\n",
      "[500]\tvalid_0's binary_logloss: 0.00237777\n",
      "[600]\tvalid_0's binary_logloss: 0.00237163\n",
      "[700]\tvalid_0's binary_logloss: 0.00238964\n",
      "[800]\tvalid_0's binary_logloss: 0.00240851\n",
      "[900]\tvalid_0's binary_logloss: 0.00243592\n",
      "[1000]\tvalid_0's binary_logloss: 0.00246058\n",
      "[1100]\tvalid_0's binary_logloss: 0.00248495\n",
      "[1200]\tvalid_0's binary_logloss: 0.00250941\n",
      "[1300]\tvalid_0's binary_logloss: 0.00253399\n",
      "[1400]\tvalid_0's binary_logloss: 0.00255581\n",
      "[1500]\tvalid_0's binary_logloss: 0.00257577\n"
     ]
    },
    {
     "name": "stderr",
     "output_type": "stream",
     "text": [
      "\u001b[32m[I 2022-07-09 18:48:11,451]\u001b[0m Trial 171 finished with value: 0.8845098845450512 and parameters: {'max_depth': 4, 'learning_rate': 0.0050263288996536815, 'n_estimators': 1551, 'num_leaves': 420, 'colsample_bytree': 0.7593850107626244, 'subsample': 0.8978050818548716, 'reg_alpha': 0.1671782502022047, 'reg_lambda': 2.5209124719892895}. Best is trial 85 with value: 0.896129704996047.\u001b[0m\n"
     ]
    },
    {
     "name": "stdout",
     "output_type": "stream",
     "text": [
      "[100]\tvalid_0's binary_logloss: 0.00360517\n",
      "[200]\tvalid_0's binary_logloss: 0.00289375\n",
      "[300]\tvalid_0's binary_logloss: 0.00259429\n",
      "[400]\tvalid_0's binary_logloss: 0.00245645\n",
      "[500]\tvalid_0's binary_logloss: 0.00240501\n",
      "[600]\tvalid_0's binary_logloss: 0.00239093\n",
      "[700]\tvalid_0's binary_logloss: 0.00240465\n",
      "[800]\tvalid_0's binary_logloss: 0.00242294\n",
      "[900]\tvalid_0's binary_logloss: 0.00244305\n",
      "[1000]\tvalid_0's binary_logloss: 0.00246679\n",
      "[1100]\tvalid_0's binary_logloss: 0.00248329\n",
      "[1200]\tvalid_0's binary_logloss: 0.00250131\n",
      "[1300]\tvalid_0's binary_logloss: 0.00251836\n",
      "[1400]\tvalid_0's binary_logloss: 0.00254129\n",
      "[1500]\tvalid_0's binary_logloss: 0.00256417\n"
     ]
    },
    {
     "name": "stderr",
     "output_type": "stream",
     "text": [
      "\u001b[32m[I 2022-07-09 18:48:21,060]\u001b[0m Trial 172 finished with value: 0.8845098845450512 and parameters: {'max_depth': 4, 'learning_rate': 0.004849665134563685, 'n_estimators': 1595, 'num_leaves': 367, 'colsample_bytree': 0.7972671396624784, 'subsample': 0.5491821378979306, 'reg_alpha': 0.09085246548147127, 'reg_lambda': 2.925905443059084}. Best is trial 85 with value: 0.896129704996047.\u001b[0m\n"
     ]
    },
    {
     "name": "stdout",
     "output_type": "stream",
     "text": [
      "[100]\tvalid_0's binary_logloss: 0.0047557\n",
      "[200]\tvalid_0's binary_logloss: 0.00380157\n",
      "[300]\tvalid_0's binary_logloss: 0.00333145\n",
      "[400]\tvalid_0's binary_logloss: 0.00304477\n",
      "[500]\tvalid_0's binary_logloss: 0.00285002\n",
      "[600]\tvalid_0's binary_logloss: 0.00270933\n",
      "[700]\tvalid_0's binary_logloss: 0.00260783\n",
      "[800]\tvalid_0's binary_logloss: 0.00253047\n",
      "[900]\tvalid_0's binary_logloss: 0.0024755\n",
      "[1000]\tvalid_0's binary_logloss: 0.0024379\n",
      "[1100]\tvalid_0's binary_logloss: 0.00241282\n",
      "[1200]\tvalid_0's binary_logloss: 0.00239441\n",
      "[1300]\tvalid_0's binary_logloss: 0.00238068\n",
      "[1400]\tvalid_0's binary_logloss: 0.00237303\n",
      "[1500]\tvalid_0's binary_logloss: 0.0023712\n",
      "[1600]\tvalid_0's binary_logloss: 0.00237422\n",
      "[1700]\tvalid_0's binary_logloss: 0.00237769\n",
      "[1800]\tvalid_0's binary_logloss: 0.00238287\n"
     ]
    },
    {
     "name": "stderr",
     "output_type": "stream",
     "text": [
      "\u001b[32m[I 2022-07-09 18:48:30,781]\u001b[0m Trial 173 finished with value: 0.8724347298745778 and parameters: {'max_depth': 4, 'learning_rate': 0.002061869754057705, 'n_estimators': 1834, 'num_leaves': 810, 'colsample_bytree': 0.6111496257659566, 'subsample': 0.5602589480081763, 'reg_alpha': 0.6968475373692706, 'reg_lambda': 2.6395750303709415}. Best is trial 85 with value: 0.896129704996047.\u001b[0m\n"
     ]
    },
    {
     "name": "stdout",
     "output_type": "stream",
     "text": [
      "[100]\tvalid_0's binary_logloss: 0.00373225\n",
      "[200]\tvalid_0's binary_logloss: 0.00300392\n",
      "[300]\tvalid_0's binary_logloss: 0.00268093\n",
      "[400]\tvalid_0's binary_logloss: 0.00250858\n",
      "[500]\tvalid_0's binary_logloss: 0.00242123\n",
      "[600]\tvalid_0's binary_logloss: 0.00237935\n"
     ]
    },
    {
     "name": "stderr",
     "output_type": "stream",
     "text": [
      "\u001b[32m[I 2022-07-09 18:48:34,323]\u001b[0m Trial 174 finished with value: 0.8845098845450512 and parameters: {'max_depth': 5, 'learning_rate': 0.004168110176069576, 'n_estimators': 610, 'num_leaves': 318, 'colsample_bytree': 0.6184376973553566, 'subsample': 0.5392604083940955, 'reg_alpha': 0.3182402500343574, 'reg_lambda': 2.6194072574549625}. Best is trial 85 with value: 0.896129704996047.\u001b[0m\n"
     ]
    },
    {
     "name": "stdout",
     "output_type": "stream",
     "text": [
      "[100]\tvalid_0's binary_logloss: 0.00415\n",
      "[200]\tvalid_0's binary_logloss: 0.00332229\n",
      "[300]\tvalid_0's binary_logloss: 0.00294128\n",
      "[400]\tvalid_0's binary_logloss: 0.00272881\n",
      "[500]\tvalid_0's binary_logloss: 0.00259763\n",
      "[600]\tvalid_0's binary_logloss: 0.00251792\n",
      "[700]\tvalid_0's binary_logloss: 0.00247054\n",
      "[800]\tvalid_0's binary_logloss: 0.00244528\n",
      "[900]\tvalid_0's binary_logloss: 0.00243025\n",
      "[1000]\tvalid_0's binary_logloss: 0.0024199\n",
      "[1100]\tvalid_0's binary_logloss: 0.0024112\n",
      "[1200]\tvalid_0's binary_logloss: 0.00240265\n",
      "[1300]\tvalid_0's binary_logloss: 0.00239818\n",
      "[1400]\tvalid_0's binary_logloss: 0.0023969\n",
      "[1500]\tvalid_0's binary_logloss: 0.00239774\n",
      "[1600]\tvalid_0's binary_logloss: 0.00240115\n",
      "[1700]\tvalid_0's binary_logloss: 0.00240456\n"
     ]
    },
    {
     "name": "stderr",
     "output_type": "stream",
     "text": [
      "\u001b[32m[I 2022-07-09 18:48:43,912]\u001b[0m Trial 175 finished with value: 0.8845098845450512 and parameters: {'max_depth': 6, 'learning_rate': 0.003265894207707012, 'n_estimators': 1752, 'num_leaves': 305, 'colsample_bytree': 0.7794711376769659, 'subsample': 0.5335484524304428, 'reg_alpha': 4.63006064336357, 'reg_lambda': 2.543866464050455}. Best is trial 85 with value: 0.896129704996047.\u001b[0m\n"
     ]
    },
    {
     "name": "stdout",
     "output_type": "stream",
     "text": [
      "[100]\tvalid_0's binary_logloss: 0.00394633\n",
      "[200]\tvalid_0's binary_logloss: 0.00305147\n",
      "[300]\tvalid_0's binary_logloss: 0.00269919\n"
     ]
    },
    {
     "name": "stderr",
     "output_type": "stream",
     "text": [
      "\u001b[32m[I 2022-07-09 18:48:46,017]\u001b[0m Trial 176 finished with value: 0.846806907378336 and parameters: {'max_depth': 6, 'learning_rate': 0.004724315099580527, 'n_estimators': 316, 'num_leaves': 583, 'colsample_bytree': 0.6247719405664706, 'subsample': 0.5656397757385884, 'reg_alpha': 0.5498720931024069, 'reg_lambda': 4.595752516004194}. Best is trial 85 with value: 0.896129704996047.\u001b[0m\n"
     ]
    },
    {
     "name": "stdout",
     "output_type": "stream",
     "text": [
      "[100]\tvalid_0's binary_logloss: 0.00372176\n",
      "[200]\tvalid_0's binary_logloss: 0.0031365\n",
      "[300]\tvalid_0's binary_logloss: 0.00282549\n",
      "[400]\tvalid_0's binary_logloss: 0.00263529\n",
      "[500]\tvalid_0's binary_logloss: 0.00251609\n",
      "[600]\tvalid_0's binary_logloss: 0.00244141\n",
      "[700]\tvalid_0's binary_logloss: 0.00240245\n",
      "[800]\tvalid_0's binary_logloss: 0.0023792\n",
      "[900]\tvalid_0's binary_logloss: 0.00236657\n",
      "[1000]\tvalid_0's binary_logloss: 0.00236358\n",
      "[1100]\tvalid_0's binary_logloss: 0.00236529\n"
     ]
    },
    {
     "name": "stderr",
     "output_type": "stream",
     "text": [
      "\u001b[32m[I 2022-07-09 18:48:52,660]\u001b[0m Trial 177 finished with value: 0.8845098845450512 and parameters: {'max_depth': 7, 'learning_rate': 0.0028343430274492183, 'n_estimators': 1177, 'num_leaves': 290, 'colsample_bytree': 0.7261165493445445, 'subsample': 0.596240138783256, 'reg_alpha': 1.521036535203714, 'reg_lambda': 0.2657214499383219}. Best is trial 85 with value: 0.896129704996047.\u001b[0m\n"
     ]
    },
    {
     "name": "stdout",
     "output_type": "stream",
     "text": [
      "[100]\tvalid_0's binary_logloss: 0.00572903\n",
      "[200]\tvalid_0's binary_logloss: 0.00457686\n",
      "[300]\tvalid_0's binary_logloss: 0.00401711\n",
      "[400]\tvalid_0's binary_logloss: 0.0036508\n",
      "[500]\tvalid_0's binary_logloss: 0.0033958\n",
      "[600]\tvalid_0's binary_logloss: 0.00320509\n",
      "[700]\tvalid_0's binary_logloss: 0.00305905\n",
      "[800]\tvalid_0's binary_logloss: 0.00294432\n",
      "[900]\tvalid_0's binary_logloss: 0.00285057\n",
      "[1000]\tvalid_0's binary_logloss: 0.00277567\n",
      "[1100]\tvalid_0's binary_logloss: 0.00271066\n",
      "[1200]\tvalid_0's binary_logloss: 0.00265999\n",
      "[1300]\tvalid_0's binary_logloss: 0.00261726\n",
      "[1400]\tvalid_0's binary_logloss: 0.00258452\n",
      "[1500]\tvalid_0's binary_logloss: 0.00255716\n",
      "[1600]\tvalid_0's binary_logloss: 0.00253371\n",
      "[1700]\tvalid_0's binary_logloss: 0.0025145\n"
     ]
    },
    {
     "name": "stderr",
     "output_type": "stream",
     "text": [
      "\u001b[32m[I 2022-07-09 18:49:02,023]\u001b[0m Trial 178 finished with value: 0.8724347298745778 and parameters: {'max_depth': 6, 'learning_rate': 0.0012705552261411289, 'n_estimators': 1704, 'num_leaves': 406, 'colsample_bytree': 0.7952564848596256, 'subsample': 0.5486141768899133, 'reg_alpha': 4.216658731239816, 'reg_lambda': 2.7789571578952015}. Best is trial 85 with value: 0.896129704996047.\u001b[0m\n"
     ]
    },
    {
     "name": "stdout",
     "output_type": "stream",
     "text": [
      "[100]\tvalid_0's binary_logloss: 0.004254\n",
      "[200]\tvalid_0's binary_logloss: 0.00363591\n",
      "[300]\tvalid_0's binary_logloss: 0.00328509\n",
      "[400]\tvalid_0's binary_logloss: 0.00305206\n",
      "[500]\tvalid_0's binary_logloss: 0.00288424\n",
      "[600]\tvalid_0's binary_logloss: 0.00275666\n",
      "[700]\tvalid_0's binary_logloss: 0.00266226\n",
      "[800]\tvalid_0's binary_logloss: 0.00258713\n",
      "[900]\tvalid_0's binary_logloss: 0.00252594\n",
      "[1000]\tvalid_0's binary_logloss: 0.00248389\n"
     ]
    },
    {
     "name": "stderr",
     "output_type": "stream",
     "text": [
      "\u001b[32m[I 2022-07-09 18:49:07,763]\u001b[0m Trial 179 finished with value: 0.8845098845450512 and parameters: {'max_depth': 14, 'learning_rate': 0.0017423053659308533, 'n_estimators': 1051, 'num_leaves': 126, 'colsample_bytree': 0.6838030719162493, 'subsample': 0.6454988434387091, 'reg_alpha': 3.317064863817099, 'reg_lambda': 0.3470929394327128}. Best is trial 85 with value: 0.896129704996047.\u001b[0m\n"
     ]
    },
    {
     "name": "stdout",
     "output_type": "stream",
     "text": [
      "[100]\tvalid_0's binary_logloss: 0.0041995\n",
      "[200]\tvalid_0's binary_logloss: 0.00351494\n",
      "[300]\tvalid_0's binary_logloss: 0.00315273\n",
      "[400]\tvalid_0's binary_logloss: 0.00292624\n",
      "[500]\tvalid_0's binary_logloss: 0.00277037\n",
      "[600]\tvalid_0's binary_logloss: 0.00266179\n",
      "[700]\tvalid_0's binary_logloss: 0.00258412\n",
      "[800]\tvalid_0's binary_logloss: 0.0025318\n"
     ]
    },
    {
     "name": "stderr",
     "output_type": "stream",
     "text": [
      "\u001b[32m[I 2022-07-09 18:49:12,798]\u001b[0m Trial 180 finished with value: 0.8724347298745778 and parameters: {'max_depth': 5, 'learning_rate': 0.002261341793730335, 'n_estimators': 875, 'num_leaves': 335, 'colsample_bytree': 0.7871372931334627, 'subsample': 0.5649084631440613, 'reg_alpha': 4.476839040418485, 'reg_lambda': 0.8707765983068749}. Best is trial 85 with value: 0.896129704996047.\u001b[0m\n"
     ]
    },
    {
     "name": "stdout",
     "output_type": "stream",
     "text": [
      "[100]\tvalid_0's binary_logloss: 0.00305921\n",
      "[200]\tvalid_0's binary_logloss: 0.0026078\n",
      "[300]\tvalid_0's binary_logloss: 0.00244855\n"
     ]
    },
    {
     "name": "stderr",
     "output_type": "stream",
     "text": [
      "\u001b[32m[I 2022-07-09 18:49:15,005]\u001b[0m Trial 181 finished with value: 0.8845098845450512 and parameters: {'max_depth': 7, 'learning_rate': 0.006550552415772419, 'n_estimators': 342, 'num_leaves': 284, 'colsample_bytree': 0.6710607647352472, 'subsample': 0.7176574174676326, 'reg_alpha': 4.947936006158546, 'reg_lambda': 0.2001479350241399}. Best is trial 85 with value: 0.896129704996047.\u001b[0m\n"
     ]
    },
    {
     "name": "stdout",
     "output_type": "stream",
     "text": [
      "[100]\tvalid_0's binary_logloss: 0.00369522\n",
      "[200]\tvalid_0's binary_logloss: 0.00310234\n",
      "[300]\tvalid_0's binary_logloss: 0.00280135\n",
      "[400]\tvalid_0's binary_logloss: 0.00262428\n",
      "[500]\tvalid_0's binary_logloss: 0.00251839\n",
      "[600]\tvalid_0's binary_logloss: 0.00245599\n",
      "[700]\tvalid_0's binary_logloss: 0.00242368\n",
      "[800]\tvalid_0's binary_logloss: 0.00240536\n",
      "[900]\tvalid_0's binary_logloss: 0.00239689\n",
      "[1000]\tvalid_0's binary_logloss: 0.00238772\n",
      "[1100]\tvalid_0's binary_logloss: 0.00238242\n",
      "[1200]\tvalid_0's binary_logloss: 0.00238209\n",
      "[1300]\tvalid_0's binary_logloss: 0.00238747\n",
      "[1400]\tvalid_0's binary_logloss: 0.00239652\n",
      "[1500]\tvalid_0's binary_logloss: 0.00240641\n",
      "[1600]\tvalid_0's binary_logloss: 0.00241474\n",
      "[1700]\tvalid_0's binary_logloss: 0.00242195\n"
     ]
    },
    {
     "name": "stderr",
     "output_type": "stream",
     "text": [
      "\u001b[32m[I 2022-07-09 18:49:24,003]\u001b[0m Trial 182 finished with value: 0.8724347298745778 and parameters: {'max_depth': 6, 'learning_rate': 0.0033260414861014005, 'n_estimators': 1712, 'num_leaves': 384, 'colsample_bytree': 0.636537472774245, 'subsample': 0.5378297092443719, 'reg_alpha': 3.0325907630923616, 'reg_lambda': 0.5315036583562252}. Best is trial 85 with value: 0.896129704996047.\u001b[0m\n"
     ]
    },
    {
     "name": "stdout",
     "output_type": "stream",
     "text": [
      "[100]\tvalid_0's binary_logloss: 0.00395683\n",
      "[200]\tvalid_0's binary_logloss: 0.00315979\n",
      "[300]\tvalid_0's binary_logloss: 0.00280745\n",
      "[400]\tvalid_0's binary_logloss: 0.00261449\n",
      "[500]\tvalid_0's binary_logloss: 0.00250218\n",
      "[600]\tvalid_0's binary_logloss: 0.00244395\n"
     ]
    },
    {
     "name": "stderr",
     "output_type": "stream",
     "text": [
      "\u001b[32m[I 2022-07-09 18:49:27,858]\u001b[0m Trial 183 finished with value: 0.8845098845450512 and parameters: {'max_depth': 6, 'learning_rate': 0.003757042751954029, 'n_estimators': 694, 'num_leaves': 389, 'colsample_bytree': 0.6585569202298103, 'subsample': 0.5574049752847945, 'reg_alpha': 3.106940719443154, 'reg_lambda': 2.7191864950438456}. Best is trial 85 with value: 0.896129704996047.\u001b[0m\n"
     ]
    },
    {
     "name": "stdout",
     "output_type": "stream",
     "text": [
      "[100]\tvalid_0's binary_logloss: 0.00375692\n",
      "[200]\tvalid_0's binary_logloss: 0.00315095\n",
      "[300]\tvalid_0's binary_logloss: 0.0028413\n",
      "[400]\tvalid_0's binary_logloss: 0.00265421\n",
      "[500]\tvalid_0's binary_logloss: 0.00253554\n",
      "[600]\tvalid_0's binary_logloss: 0.00246929\n",
      "[700]\tvalid_0's binary_logloss: 0.00243059\n",
      "[800]\tvalid_0's binary_logloss: 0.0024093\n",
      "[900]\tvalid_0's binary_logloss: 0.00239764\n",
      "[1000]\tvalid_0's binary_logloss: 0.00239013\n",
      "[1100]\tvalid_0's binary_logloss: 0.00238731\n",
      "[1200]\tvalid_0's binary_logloss: 0.00238942\n",
      "[1300]\tvalid_0's binary_logloss: 0.00239113\n",
      "[1400]\tvalid_0's binary_logloss: 0.00239787\n",
      "[1500]\tvalid_0's binary_logloss: 0.00240404\n",
      "[1600]\tvalid_0's binary_logloss: 0.00241397\n"
     ]
    },
    {
     "name": "stderr",
     "output_type": "stream",
     "text": [
      "\u001b[32m[I 2022-07-09 18:49:36,813]\u001b[0m Trial 184 finished with value: 0.8724347298745778 and parameters: {'max_depth': 5, 'learning_rate': 0.0030776686030621436, 'n_estimators': 1676, 'num_leaves': 457, 'colsample_bytree': 0.6579263295547646, 'subsample': 0.5762488201266511, 'reg_alpha': 2.584365771485481, 'reg_lambda': 0.5023195624768553}. Best is trial 85 with value: 0.896129704996047.\u001b[0m\n"
     ]
    },
    {
     "name": "stdout",
     "output_type": "stream",
     "text": [
      "[100]\tvalid_0's binary_logloss: 0.0030425\n",
      "[200]\tvalid_0's binary_logloss: 0.0025912\n"
     ]
    },
    {
     "name": "stderr",
     "output_type": "stream",
     "text": [
      "\u001b[32m[I 2022-07-09 18:49:38,611]\u001b[0m Trial 185 finished with value: 0.8845098845450512 and parameters: {'max_depth': 7, 'learning_rate': 0.006504279067179009, 'n_estimators': 261, 'num_leaves': 49, 'colsample_bytree': 0.699923494177386, 'subsample': 0.5843992372024077, 'reg_alpha': 3.3834563153339294, 'reg_lambda': 0.20416441408959965}. Best is trial 85 with value: 0.896129704996047.\u001b[0m\n"
     ]
    },
    {
     "name": "stdout",
     "output_type": "stream",
     "text": [
      "[100]\tvalid_0's binary_logloss: 0.00402566\n",
      "[200]\tvalid_0's binary_logloss: 0.00338246\n",
      "[300]\tvalid_0's binary_logloss: 0.00304087\n",
      "[400]\tvalid_0's binary_logloss: 0.00282764\n"
     ]
    },
    {
     "name": "stderr",
     "output_type": "stream",
     "text": [
      "\u001b[32m[I 2022-07-09 18:49:41,493]\u001b[0m Trial 186 finished with value: 0.846806907378336 and parameters: {'max_depth': 5, 'learning_rate': 0.002465408712648138, 'n_estimators': 485, 'num_leaves': 318, 'colsample_bytree': 0.6736557494385459, 'subsample': 0.6586231529330794, 'reg_alpha': 4.728906545996949, 'reg_lambda': 0.6479472860134841}. Best is trial 85 with value: 0.896129704996047.\u001b[0m\n"
     ]
    },
    {
     "name": "stdout",
     "output_type": "stream",
     "text": [
      "[100]\tvalid_0's binary_logloss: 0.00339637\n",
      "[200]\tvalid_0's binary_logloss: 0.00278353\n"
     ]
    },
    {
     "name": "stderr",
     "output_type": "stream",
     "text": [
      "\u001b[32m[I 2022-07-09 18:49:43,132]\u001b[0m Trial 187 finished with value: 0.846806907378336 and parameters: {'max_depth': 8, 'learning_rate': 0.005846201873679508, 'n_estimators': 244, 'num_leaves': 62, 'colsample_bytree': 0.5193676789148848, 'subsample': 0.7463616987697296, 'reg_alpha': 2.4455469758384236, 'reg_lambda': 2.3899377258073526}. Best is trial 85 with value: 0.896129704996047.\u001b[0m\n"
     ]
    },
    {
     "name": "stdout",
     "output_type": "stream",
     "text": [
      "[100]\tvalid_0's binary_logloss: 0.00388912\n",
      "[200]\tvalid_0's binary_logloss: 0.003025\n",
      "[300]\tvalid_0's binary_logloss: 0.00268886\n",
      "[400]\tvalid_0's binary_logloss: 0.00252455\n",
      "[500]\tvalid_0's binary_logloss: 0.00243047\n",
      "[600]\tvalid_0's binary_logloss: 0.00238037\n",
      "[700]\tvalid_0's binary_logloss: 0.00236204\n",
      "[800]\tvalid_0's binary_logloss: 0.00235597\n",
      "[900]\tvalid_0's binary_logloss: 0.00235853\n",
      "[1000]\tvalid_0's binary_logloss: 0.00236527\n",
      "[1100]\tvalid_0's binary_logloss: 0.00237462\n",
      "[1200]\tvalid_0's binary_logloss: 0.00238612\n"
     ]
    },
    {
     "name": "stderr",
     "output_type": "stream",
     "text": [
      "\u001b[32m[I 2022-07-09 18:49:49,492]\u001b[0m Trial 188 finished with value: 0.8845098845450512 and parameters: {'max_depth': 3, 'learning_rate': 0.005117188194954955, 'n_estimators': 1299, 'num_leaves': 599, 'colsample_bytree': 0.538832486887372, 'subsample': 0.7857567897391567, 'reg_alpha': 2.250546397034793, 'reg_lambda': 4.702137080643286}. Best is trial 85 with value: 0.896129704996047.\u001b[0m\n"
     ]
    },
    {
     "name": "stdout",
     "output_type": "stream",
     "text": [
      "[100]\tvalid_0's binary_logloss: 0.00437202\n",
      "[200]\tvalid_0's binary_logloss: 0.00375144\n",
      "[300]\tvalid_0's binary_logloss: 0.00338898\n",
      "[400]\tvalid_0's binary_logloss: 0.00314769\n",
      "[500]\tvalid_0's binary_logloss: 0.0029747\n",
      "[600]\tvalid_0's binary_logloss: 0.00284482\n",
      "[700]\tvalid_0's binary_logloss: 0.00274198\n",
      "[800]\tvalid_0's binary_logloss: 0.00266117\n",
      "[900]\tvalid_0's binary_logloss: 0.00259545\n"
     ]
    },
    {
     "name": "stderr",
     "output_type": "stream",
     "text": [
      "\u001b[32m[I 2022-07-09 18:49:54,728]\u001b[0m Trial 189 finished with value: 0.8724347298745778 and parameters: {'max_depth': 6, 'learning_rate': 0.001568229603613846, 'n_estimators': 951, 'num_leaves': 254, 'colsample_bytree': 0.7714832731418202, 'subsample': 0.6323832770718936, 'reg_alpha': 4.825320435439501, 'reg_lambda': 0.42367876201215704}. Best is trial 85 with value: 0.896129704996047.\u001b[0m\n"
     ]
    },
    {
     "name": "stdout",
     "output_type": "stream",
     "text": [
      "[100]\tvalid_0's binary_logloss: 0.00378561\n",
      "[200]\tvalid_0's binary_logloss: 0.00318972\n",
      "[300]\tvalid_0's binary_logloss: 0.00288032\n",
      "[400]\tvalid_0's binary_logloss: 0.00269101\n",
      "[500]\tvalid_0's binary_logloss: 0.00256517\n"
     ]
    },
    {
     "name": "stderr",
     "output_type": "stream",
     "text": [
      "\u001b[32m[I 2022-07-09 18:49:58,009]\u001b[0m Trial 190 finished with value: 0.8724347298745778 and parameters: {'max_depth': 5, 'learning_rate': 0.002899274669948749, 'n_estimators': 566, 'num_leaves': 359, 'colsample_bytree': 0.684978820962559, 'subsample': 0.6145018449346367, 'reg_alpha': 2.8757124825964953, 'reg_lambda': 0.37029809647054934}. Best is trial 85 with value: 0.896129704996047.\u001b[0m\n"
     ]
    },
    {
     "name": "stdout",
     "output_type": "stream",
     "text": [
      "[100]\tvalid_0's binary_logloss: 0.00360174\n",
      "[200]\tvalid_0's binary_logloss: 0.00301876\n",
      "[300]\tvalid_0's binary_logloss: 0.00273059\n",
      "[400]\tvalid_0's binary_logloss: 0.00256833\n",
      "[500]\tvalid_0's binary_logloss: 0.00247793\n",
      "[600]\tvalid_0's binary_logloss: 0.00243426\n"
     ]
    },
    {
     "name": "stderr",
     "output_type": "stream",
     "text": [
      "\u001b[32m[I 2022-07-09 18:50:01,732]\u001b[0m Trial 191 finished with value: 0.8845098845450512 and parameters: {'max_depth': 6, 'learning_rate': 0.0035908660347381397, 'n_estimators': 629, 'num_leaves': 344, 'colsample_bytree': 0.7644917896034015, 'subsample': 0.944875011025223, 'reg_alpha': 3.093294759759231, 'reg_lambda': 0.538891316273724}. Best is trial 85 with value: 0.896129704996047.\u001b[0m\n"
     ]
    },
    {
     "name": "stdout",
     "output_type": "stream",
     "text": [
      "[100]\tvalid_0's binary_logloss: 0.0034049\n",
      "[200]\tvalid_0's binary_logloss: 0.00284651\n",
      "[300]\tvalid_0's binary_logloss: 0.00259557\n",
      "[400]\tvalid_0's binary_logloss: 0.00247387\n",
      "[500]\tvalid_0's binary_logloss: 0.00241557\n",
      "[600]\tvalid_0's binary_logloss: 0.00239142\n",
      "[700]\tvalid_0's binary_logloss: 0.00237419\n",
      "[800]\tvalid_0's binary_logloss: 0.00237007\n",
      "[900]\tvalid_0's binary_logloss: 0.0023726\n"
     ]
    },
    {
     "name": "stderr",
     "output_type": "stream",
     "text": [
      "\u001b[32m[I 2022-07-09 18:50:06,746]\u001b[0m Trial 192 finished with value: 0.8845098845450512 and parameters: {'max_depth': 5, 'learning_rate': 0.00464046614391695, 'n_estimators': 912, 'num_leaves': 374, 'colsample_bytree': 0.6432516789227832, 'subsample': 0.6374774963759625, 'reg_alpha': 2.991769833764253, 'reg_lambda': 0.7465270420020054}. Best is trial 85 with value: 0.896129704996047.\u001b[0m\n"
     ]
    },
    {
     "name": "stdout",
     "output_type": "stream",
     "text": [
      "[100]\tvalid_0's binary_logloss: 0.00413472\n",
      "[200]\tvalid_0's binary_logloss: 0.00348906\n",
      "[300]\tvalid_0's binary_logloss: 0.00313745\n",
      "[400]\tvalid_0's binary_logloss: 0.00291341\n"
     ]
    },
    {
     "name": "stderr",
     "output_type": "stream",
     "text": [
      "\u001b[32m[I 2022-07-09 18:50:09,743]\u001b[0m Trial 193 finished with value: 0.8331926764657618 and parameters: {'max_depth': 5, 'learning_rate': 0.0021638983629950832, 'n_estimators': 499, 'num_leaves': 191, 'colsample_bytree': 0.6529929567389412, 'subsample': 0.5281647148155619, 'reg_alpha': 4.57387107096179, 'reg_lambda': 0.6325810430686545}. Best is trial 85 with value: 0.896129704996047.\u001b[0m\n"
     ]
    },
    {
     "name": "stdout",
     "output_type": "stream",
     "text": [
      "[100]\tvalid_0's binary_logloss: 0.00336402\n",
      "[200]\tvalid_0's binary_logloss: 0.00281166\n",
      "[300]\tvalid_0's binary_logloss: 0.00256062\n",
      "[400]\tvalid_0's binary_logloss: 0.00243478\n",
      "[500]\tvalid_0's binary_logloss: 0.00238635\n",
      "[600]\tvalid_0's binary_logloss: 0.00237367\n",
      "[700]\tvalid_0's binary_logloss: 0.00237873\n",
      "[800]\tvalid_0's binary_logloss: 0.00239367\n",
      "[900]\tvalid_0's binary_logloss: 0.00241204\n"
     ]
    },
    {
     "name": "stderr",
     "output_type": "stream",
     "text": [
      "\u001b[32m[I 2022-07-09 18:50:15,581]\u001b[0m Trial 194 finished with value: 0.8845098845450512 and parameters: {'max_depth': 6, 'learning_rate': 0.004452636061586652, 'n_estimators': 983, 'num_leaves': 243, 'colsample_bytree': 0.8079337284688374, 'subsample': 0.6260203885926539, 'reg_alpha': 1.2865741050678963, 'reg_lambda': 0.3984182286870629}. Best is trial 85 with value: 0.896129704996047.\u001b[0m\n"
     ]
    },
    {
     "name": "stdout",
     "output_type": "stream",
     "text": [
      "[100]\tvalid_0's binary_logloss: 0.00454542\n",
      "[200]\tvalid_0's binary_logloss: 0.00352602\n",
      "[300]\tvalid_0's binary_logloss: 0.00307081\n",
      "[400]\tvalid_0's binary_logloss: 0.00281844\n",
      "[500]\tvalid_0's binary_logloss: 0.00265855\n",
      "[600]\tvalid_0's binary_logloss: 0.00256086\n"
     ]
    },
    {
     "name": "stderr",
     "output_type": "stream",
     "text": [
      "\u001b[32m[I 2022-07-09 18:50:19,519]\u001b[0m Trial 195 finished with value: 0.8724347298745778 and parameters: {'max_depth': 5, 'learning_rate': 0.00292723356300152, 'n_estimators': 644, 'num_leaves': 310, 'colsample_bytree': 0.8295386856523467, 'subsample': 0.6550264694148035, 'reg_alpha': 1.117997681230793, 'reg_lambda': 3.7401351759010746}. Best is trial 85 with value: 0.896129704996047.\u001b[0m\n"
     ]
    },
    {
     "name": "stdout",
     "output_type": "stream",
     "text": [
      "[100]\tvalid_0's binary_logloss: 0.00830779\n",
      "[200]\tvalid_0's binary_logloss: 0.00830751\n",
      "[300]\tvalid_0's binary_logloss: 0.00830724\n",
      "[400]\tvalid_0's binary_logloss: 0.00830696\n",
      "[500]\tvalid_0's binary_logloss: 0.00830667\n",
      "[600]\tvalid_0's binary_logloss: 0.00830639\n",
      "[700]\tvalid_0's binary_logloss: 0.00830611\n",
      "[800]\tvalid_0's binary_logloss: 0.00830582\n",
      "[900]\tvalid_0's binary_logloss: 0.00830555\n",
      "[1000]\tvalid_0's binary_logloss: 0.00830527\n",
      "[1100]\tvalid_0's binary_logloss: 0.00830499\n"
     ]
    },
    {
     "name": "stderr",
     "output_type": "stream",
     "text": [
      "\u001b[32m[I 2022-07-09 18:50:25,178]\u001b[0m Trial 196 finished with value: 0.4997363518121419 and parameters: {'max_depth': 8, 'learning_rate': 1.3243033401084482e-07, 'n_estimators': 1139, 'num_leaves': 217, 'colsample_bytree': 0.5277970341575057, 'subsample': 0.6060755688539853, 'reg_alpha': 1.395006042009657, 'reg_lambda': 3.2221994309305906}. Best is trial 85 with value: 0.896129704996047.\u001b[0m\n"
     ]
    },
    {
     "name": "stdout",
     "output_type": "stream",
     "text": [
      "[100]\tvalid_0's binary_logloss: 0.00829625\n",
      "[200]\tvalid_0's binary_logloss: 0.00828459\n",
      "[300]\tvalid_0's binary_logloss: 0.00827298\n",
      "[400]\tvalid_0's binary_logloss: 0.00826142\n",
      "[500]\tvalid_0's binary_logloss: 0.00824985\n",
      "[600]\tvalid_0's binary_logloss: 0.00823829\n",
      "[700]\tvalid_0's binary_logloss: 0.00822683\n"
     ]
    },
    {
     "name": "stderr",
     "output_type": "stream",
     "text": [
      "\u001b[32m[I 2022-07-09 18:50:29,282]\u001b[0m Trial 197 finished with value: 0.4997363518121419 and parameters: {'max_depth': 6, 'learning_rate': 4.0487007181100423e-07, 'n_estimators': 708, 'num_leaves': 416, 'colsample_bytree': 0.7804989645591871, 'subsample': 0.5338143595930145, 'reg_alpha': 2.6705953500897524, 'reg_lambda': 0.1441873141121957}. Best is trial 85 with value: 0.896129704996047.\u001b[0m\n"
     ]
    },
    {
     "name": "stdout",
     "output_type": "stream",
     "text": [
      "[100]\tvalid_0's binary_logloss: 0.00418279\n",
      "[200]\tvalid_0's binary_logloss: 0.00356267\n",
      "[300]\tvalid_0's binary_logloss: 0.00321727\n",
      "[400]\tvalid_0's binary_logloss: 0.00298864\n",
      "[500]\tvalid_0's binary_logloss: 0.00282257\n",
      "[600]\tvalid_0's binary_logloss: 0.00270367\n",
      "[700]\tvalid_0's binary_logloss: 0.00261375\n",
      "[800]\tvalid_0's binary_logloss: 0.00254285\n",
      "[900]\tvalid_0's binary_logloss: 0.0024958\n",
      "[1000]\tvalid_0's binary_logloss: 0.00246174\n"
     ]
    },
    {
     "name": "stderr",
     "output_type": "stream",
     "text": [
      "\u001b[32m[I 2022-07-09 18:50:35,068]\u001b[0m Trial 198 finished with value: 0.8845098845450512 and parameters: {'max_depth': 5, 'learning_rate': 0.0019158880867409505, 'n_estimators': 1087, 'num_leaves': 341, 'colsample_bytree': 0.66620361952147, 'subsample': 0.5773637135870522, 'reg_alpha': 3.256604108969814, 'reg_lambda': 0.34347178059283895}. Best is trial 85 with value: 0.896129704996047.\u001b[0m\n"
     ]
    },
    {
     "name": "stdout",
     "output_type": "stream",
     "text": [
      "[100]\tvalid_0's binary_logloss: 0.00485509\n",
      "[200]\tvalid_0's binary_logloss: 0.00427606\n",
      "[300]\tvalid_0's binary_logloss: 0.00392787\n",
      "[400]\tvalid_0's binary_logloss: 0.00367856\n",
      "[500]\tvalid_0's binary_logloss: 0.00348512\n"
     ]
    },
    {
     "name": "stderr",
     "output_type": "stream",
     "text": [
      "\u001b[32m[I 2022-07-09 18:50:38,531]\u001b[0m Trial 199 finished with value: 0.4997363518121419 and parameters: {'max_depth': 5, 'learning_rate': 0.0008120826050892908, 'n_estimators': 545, 'num_leaves': 443, 'colsample_bytree': 0.7562035521482514, 'subsample': 0.5545674768304247, 'reg_alpha': 4.826563123100536, 'reg_lambda': 0.1678661862818565}. Best is trial 85 with value: 0.896129704996047.\u001b[0m\n"
     ]
    }
   ],
   "source": [
    "study = optuna.create_study(direction='maximize', sampler=sampler)\n",
    "study.optimize(objective, n_trials=200)"
   ]
  },
  {
   "cell_type": "code",
   "execution_count": 192,
   "metadata": {},
   "outputs": [
    {
     "name": "stdout",
     "output_type": "stream",
     "text": [
      "Best model:\n",
      "  F1-score: 0.8961\n",
      "  params  : {'max_depth': 4, 'learning_rate': 0.006885295954056933, 'n_estimators': 622, 'num_leaves': 317, 'colsample_bytree': 0.6548008083938596, 'subsample': 0.5441012253659755, 'reg_alpha': 3.1350258856620057, 'reg_lambda': 0.2449166651763307}\n"
     ]
    }
   ],
   "source": [
    "best_model = study.best_trial\n",
    "best_params = best_model.params\n",
    "\n",
    "print(\"Best model:\")\n",
    "print(\"  F1-score: {}\".format(round(best_model.value, 4)))\n",
    "print(\"  params  : {}\".format(best_params))"
   ]
  },
  {
   "cell_type": "code",
   "execution_count": 193,
   "metadata": {},
   "outputs": [
    {
     "name": "stdout",
     "output_type": "stream",
     "text": [
      "[100]\tvalid_0's binary_logloss: 0.00302848\n",
      "[200]\tvalid_0's binary_logloss: 0.00257415\n",
      "[300]\tvalid_0's binary_logloss: 0.00242668\n",
      "[400]\tvalid_0's binary_logloss: 0.00237835\n",
      "[500]\tvalid_0's binary_logloss: 0.00235181\n",
      "[600]\tvalid_0's binary_logloss: 0.0023554\n"
     ]
    },
    {
     "data": {
      "text/plain": [
       "LGBMClassifier(boosting_type='gbdt', class_weight=None,\n",
       "               colsample_bytree=0.6548008083938596, importance_type='split',\n",
       "               learning_rate=0.006885295954056933, max_depth=4,\n",
       "               min_child_samples=20, min_child_weight=0.001, min_split_gain=0.0,\n",
       "               n_estimators=622, n_jobs=-1, num_leaves=317, objective=None,\n",
       "               random_state=None, reg_alpha=3.1350258856620057,\n",
       "               reg_lambda=0.2449166651763307, silent='warn',\n",
       "               subsample=0.5441012253659755, subsample_for_bin=200000,\n",
       "               subsample_freq=0)"
      ]
     },
     "execution_count": 193,
     "metadata": {},
     "output_type": "execute_result"
    }
   ],
   "source": [
    "model = LGBMClassifier(**best_params)\n",
    "model.fit(X_train, y_train, eval_set=[(X_valid, y_valid)], eval_metric='logloss', verbose=100)"
   ]
  },
  {
   "cell_type": "code",
   "execution_count": 194,
   "metadata": {},
   "outputs": [
    {
     "data": {
      "text/plain": [
       "array([0., 0., 0., ..., 0., 0., 0.])"
      ]
     },
     "execution_count": 194,
     "metadata": {},
     "output_type": "execute_result"
    }
   ],
   "source": [
    "y_valid_pred = model.predict(X_valid)\n",
    "y_valid_pred"
   ]
  },
  {
   "cell_type": "code",
   "execution_count": 195,
   "metadata": {},
   "outputs": [
    {
     "name": "stdout",
     "output_type": "stream",
     "text": [
      "Precision: 0.9091\n",
      "Recall   : 0.6667\n",
      "F1-score : 0.8845\n"
     ]
    }
   ],
   "source": [
    "print(\"Precision: {:.4f}\".format(precision_score(y_valid, y_valid_pred)))\n",
    "print(\"Recall   : {:.4f}\".format(recall_score(y_valid, y_valid_pred)))\n",
    "print(\"F1-score : {:.4f}\".format(f1_score(y_valid, y_valid_pred, average=\"macro\")))"
   ]
  },
  {
   "cell_type": "markdown",
   "metadata": {},
   "source": [
    "## 최종 결과 생성"
   ]
  },
  {
   "cell_type": "markdown",
   "metadata": {},
   "source": [
    "#### 예측값 생성"
   ]
  },
  {
   "cell_type": "code",
   "execution_count": 196,
   "metadata": {},
   "outputs": [],
   "source": [
    "test = pd.read_csv(\"../data/test.csv\")\n",
    "X_test = test.drop(columns=['ID'])\n",
    "y_test_pred = model.predict(X_test)"
   ]
  },
  {
   "cell_type": "markdown",
   "metadata": {},
   "source": [
    "#### 제출 파일 저장"
   ]
  },
  {
   "cell_type": "code",
   "execution_count": 197,
   "metadata": {},
   "outputs": [],
   "source": [
    "submit = pd.read_csv(\"../data/sample_submission.csv\")\n",
    "submit['Class'] = y_test_pred\n",
    "submit.to_csv(\"./submit.csv\", index=False)"
   ]
  }
 ],
 "metadata": {
  "kernelspec": {
   "display_name": "Python 3",
   "language": "python",
   "name": "python3"
  },
  "language_info": {
   "codemirror_mode": {
    "name": "ipython",
    "version": 3
   },
   "file_extension": ".py",
   "mimetype": "text/x-python",
   "name": "python",
   "nbconvert_exporter": "python",
   "pygments_lexer": "ipython3",
   "version": "3.7.6"
  },
  "toc": {
   "base_numbering": 1,
   "nav_menu": {},
   "number_sections": false,
   "sideBar": true,
   "skip_h1_title": false,
   "title_cell": "Table of Contents",
   "title_sidebar": "Contents",
   "toc_cell": false,
   "toc_position": {},
   "toc_section_display": true,
   "toc_window_display": false
  },
  "varInspector": {
   "cols": {
    "lenName": 16,
    "lenType": 16,
    "lenVar": 40
   },
   "kernels_config": {
    "python": {
     "delete_cmd_postfix": "",
     "delete_cmd_prefix": "del ",
     "library": "var_list.py",
     "varRefreshCmd": "print(var_dic_list())"
    },
    "r": {
     "delete_cmd_postfix": ") ",
     "delete_cmd_prefix": "rm(",
     "library": "var_list.r",
     "varRefreshCmd": "cat(var_dic_list()) "
    }
   },
   "types_to_exclude": [
    "module",
    "function",
    "builtin_function_or_method",
    "instance",
    "_Feature"
   ],
   "window_display": false
  }
 },
 "nbformat": 4,
 "nbformat_minor": 2
}
