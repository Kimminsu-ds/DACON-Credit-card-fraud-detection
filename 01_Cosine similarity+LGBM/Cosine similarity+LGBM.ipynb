{
 "cells": [
  {
   "cell_type": "markdown",
   "metadata": {},
   "source": [
    "# Project: 신용카드 사기 거래 탐지 AI 경진대회"
   ]
  },
  {
   "cell_type": "markdown",
   "metadata": {},
   "source": [
    "### 요약\n",
    "- 이상거래 데이터와의 cosine similarity 계산\n",
    "- cosine similarity가 높은 순으로 train 데이터 labeling\n",
    "- Optuna 패키지를 활용하여 LGBM 모델 최적화"
   ]
  },
  {
   "cell_type": "markdown",
   "metadata": {},
   "source": [
    "#### Author: 김민수(kimminsu.ds@gmail.com)"
   ]
  },
  {
   "cell_type": "markdown",
   "metadata": {},
   "source": [
    "## 환경설정"
   ]
  },
  {
   "cell_type": "markdown",
   "metadata": {},
   "source": [
    "### 패키지"
   ]
  },
  {
   "cell_type": "code",
   "execution_count": 3,
   "metadata": {},
   "outputs": [],
   "source": [
    "import pandas as pd\n",
    "import optuna\n",
    "import warnings\n",
    "\n",
    "from sklearn.metrics.pairwise import cosine_similarity\n",
    "from sklearn.metrics          import f1_score, recall_score, precision_score\n",
    "from lightgbm                 import LGBMClassifier, Dataset\n",
    "from optuna.samplers          import TPESampler"
   ]
  },
  {
   "cell_type": "code",
   "execution_count": 6,
   "metadata": {},
   "outputs": [],
   "source": [
    "warnings.filterwarnings(action='ignore')"
   ]
  },
  {
   "cell_type": "markdown",
   "metadata": {},
   "source": [
    "### 데이터"
   ]
  },
  {
   "cell_type": "code",
   "execution_count": 7,
   "metadata": {},
   "outputs": [],
   "source": [
    "train = pd.read_csv(\"../data/train.csv\")\n",
    "valid = pd.read_csv(\"../data/val.csv\")"
   ]
  },
  {
   "cell_type": "markdown",
   "metadata": {},
   "source": [
    "#### 데이터 확인"
   ]
  },
  {
   "cell_type": "code",
   "execution_count": 8,
   "metadata": {},
   "outputs": [
    {
     "name": "stdout",
     "output_type": "stream",
     "text": [
      "train.shape: (113842, 31)\n",
      "train.isnull().sum().sum(): 0\n"
     ]
    },
    {
     "data": {
      "text/html": [
       "<div>\n",
       "<style scoped>\n",
       "    .dataframe tbody tr th:only-of-type {\n",
       "        vertical-align: middle;\n",
       "    }\n",
       "\n",
       "    .dataframe tbody tr th {\n",
       "        vertical-align: top;\n",
       "    }\n",
       "\n",
       "    .dataframe thead th {\n",
       "        text-align: right;\n",
       "    }\n",
       "</style>\n",
       "<table border=\"1\" class=\"dataframe\">\n",
       "  <thead>\n",
       "    <tr style=\"text-align: right;\">\n",
       "      <th></th>\n",
       "      <th>ID</th>\n",
       "      <th>V1</th>\n",
       "      <th>V2</th>\n",
       "      <th>V3</th>\n",
       "      <th>V4</th>\n",
       "      <th>V5</th>\n",
       "      <th>V6</th>\n",
       "      <th>V7</th>\n",
       "      <th>V8</th>\n",
       "      <th>V9</th>\n",
       "      <th>...</th>\n",
       "      <th>V21</th>\n",
       "      <th>V22</th>\n",
       "      <th>V23</th>\n",
       "      <th>V24</th>\n",
       "      <th>V25</th>\n",
       "      <th>V26</th>\n",
       "      <th>V27</th>\n",
       "      <th>V28</th>\n",
       "      <th>V29</th>\n",
       "      <th>V30</th>\n",
       "    </tr>\n",
       "  </thead>\n",
       "  <tbody>\n",
       "    <tr>\n",
       "      <th>0</th>\n",
       "      <td>3</td>\n",
       "      <td>-1.358354</td>\n",
       "      <td>-1.340163</td>\n",
       "      <td>1.773209</td>\n",
       "      <td>0.379780</td>\n",
       "      <td>-0.503198</td>\n",
       "      <td>1.800499</td>\n",
       "      <td>0.791461</td>\n",
       "      <td>0.247676</td>\n",
       "      <td>-1.514654</td>\n",
       "      <td>...</td>\n",
       "      <td>0.247998</td>\n",
       "      <td>0.771679</td>\n",
       "      <td>0.909412</td>\n",
       "      <td>-0.689281</td>\n",
       "      <td>-0.327642</td>\n",
       "      <td>-0.139097</td>\n",
       "      <td>-0.055353</td>\n",
       "      <td>-0.059752</td>\n",
       "      <td>4.983721</td>\n",
       "      <td>-0.994972</td>\n",
       "    </tr>\n",
       "    <tr>\n",
       "      <th>1</th>\n",
       "      <td>4</td>\n",
       "      <td>-0.966272</td>\n",
       "      <td>-0.185226</td>\n",
       "      <td>1.792993</td>\n",
       "      <td>-0.863291</td>\n",
       "      <td>-0.010309</td>\n",
       "      <td>1.247203</td>\n",
       "      <td>0.237609</td>\n",
       "      <td>0.377436</td>\n",
       "      <td>-1.387024</td>\n",
       "      <td>...</td>\n",
       "      <td>-0.108300</td>\n",
       "      <td>0.005274</td>\n",
       "      <td>-0.190321</td>\n",
       "      <td>-1.175575</td>\n",
       "      <td>0.647376</td>\n",
       "      <td>-0.221929</td>\n",
       "      <td>0.062723</td>\n",
       "      <td>0.061458</td>\n",
       "      <td>1.418291</td>\n",
       "      <td>-0.994972</td>\n",
       "    </tr>\n",
       "  </tbody>\n",
       "</table>\n",
       "<p>2 rows × 31 columns</p>\n",
       "</div>"
      ],
      "text/plain": [
       "   ID        V1        V2        V3        V4        V5        V6        V7  \\\n",
       "0   3 -1.358354 -1.340163  1.773209  0.379780 -0.503198  1.800499  0.791461   \n",
       "1   4 -0.966272 -0.185226  1.792993 -0.863291 -0.010309  1.247203  0.237609   \n",
       "\n",
       "         V8        V9  ...       V21       V22       V23       V24       V25  \\\n",
       "0  0.247676 -1.514654  ...  0.247998  0.771679  0.909412 -0.689281 -0.327642   \n",
       "1  0.377436 -1.387024  ... -0.108300  0.005274 -0.190321 -1.175575  0.647376   \n",
       "\n",
       "        V26       V27       V28       V29       V30  \n",
       "0 -0.139097 -0.055353 -0.059752  4.983721 -0.994972  \n",
       "1 -0.221929  0.062723  0.061458  1.418291 -0.994972  \n",
       "\n",
       "[2 rows x 31 columns]"
      ]
     },
     "execution_count": 8,
     "metadata": {},
     "output_type": "execute_result"
    }
   ],
   "source": [
    "print(\"train.shape: {}\".format(train.shape))\n",
    "print(\"train.isnull().sum().sum(): {}\".format(train.isnull().sum().sum()))\n",
    "train.head(2)"
   ]
  },
  {
   "cell_type": "code",
   "execution_count": 9,
   "metadata": {},
   "outputs": [
    {
     "name": "stdout",
     "output_type": "stream",
     "text": [
      "valid.shape: (28462, 32)\n",
      "valid.isnull().sum().sum(): 0\n"
     ]
    },
    {
     "data": {
      "text/html": [
       "<div>\n",
       "<style scoped>\n",
       "    .dataframe tbody tr th:only-of-type {\n",
       "        vertical-align: middle;\n",
       "    }\n",
       "\n",
       "    .dataframe tbody tr th {\n",
       "        vertical-align: top;\n",
       "    }\n",
       "\n",
       "    .dataframe thead th {\n",
       "        text-align: right;\n",
       "    }\n",
       "</style>\n",
       "<table border=\"1\" class=\"dataframe\">\n",
       "  <thead>\n",
       "    <tr style=\"text-align: right;\">\n",
       "      <th></th>\n",
       "      <th>ID</th>\n",
       "      <th>V1</th>\n",
       "      <th>V2</th>\n",
       "      <th>V3</th>\n",
       "      <th>V4</th>\n",
       "      <th>V5</th>\n",
       "      <th>V6</th>\n",
       "      <th>V7</th>\n",
       "      <th>V8</th>\n",
       "      <th>V9</th>\n",
       "      <th>...</th>\n",
       "      <th>V22</th>\n",
       "      <th>V23</th>\n",
       "      <th>V24</th>\n",
       "      <th>V25</th>\n",
       "      <th>V26</th>\n",
       "      <th>V27</th>\n",
       "      <th>V28</th>\n",
       "      <th>V29</th>\n",
       "      <th>V30</th>\n",
       "      <th>Class</th>\n",
       "    </tr>\n",
       "  </thead>\n",
       "  <tbody>\n",
       "    <tr>\n",
       "      <th>0</th>\n",
       "      <td>10</td>\n",
       "      <td>-0.338262</td>\n",
       "      <td>1.119593</td>\n",
       "      <td>1.044367</td>\n",
       "      <td>-0.222187</td>\n",
       "      <td>0.499361</td>\n",
       "      <td>-0.246761</td>\n",
       "      <td>0.651583</td>\n",
       "      <td>0.069539</td>\n",
       "      <td>-0.736727</td>\n",
       "      <td>...</td>\n",
       "      <td>-0.633753</td>\n",
       "      <td>-0.120794</td>\n",
       "      <td>-0.385050</td>\n",
       "      <td>-0.069733</td>\n",
       "      <td>0.094199</td>\n",
       "      <td>0.246219</td>\n",
       "      <td>0.083076</td>\n",
       "      <td>-0.255991</td>\n",
       "      <td>-0.994878</td>\n",
       "      <td>0</td>\n",
       "    </tr>\n",
       "    <tr>\n",
       "      <th>1</th>\n",
       "      <td>22</td>\n",
       "      <td>0.962496</td>\n",
       "      <td>0.328461</td>\n",
       "      <td>-0.171479</td>\n",
       "      <td>2.109204</td>\n",
       "      <td>1.129566</td>\n",
       "      <td>1.696038</td>\n",
       "      <td>0.107712</td>\n",
       "      <td>0.521502</td>\n",
       "      <td>-1.191311</td>\n",
       "      <td>...</td>\n",
       "      <td>0.402492</td>\n",
       "      <td>-0.048508</td>\n",
       "      <td>-1.371866</td>\n",
       "      <td>0.390814</td>\n",
       "      <td>0.199964</td>\n",
       "      <td>0.016371</td>\n",
       "      <td>-0.014605</td>\n",
       "      <td>0.168937</td>\n",
       "      <td>-0.994784</td>\n",
       "      <td>0</td>\n",
       "    </tr>\n",
       "  </tbody>\n",
       "</table>\n",
       "<p>2 rows × 32 columns</p>\n",
       "</div>"
      ],
      "text/plain": [
       "   ID        V1        V2        V3        V4        V5        V6        V7  \\\n",
       "0  10 -0.338262  1.119593  1.044367 -0.222187  0.499361 -0.246761  0.651583   \n",
       "1  22  0.962496  0.328461 -0.171479  2.109204  1.129566  1.696038  0.107712   \n",
       "\n",
       "         V8        V9  ...       V22       V23       V24       V25       V26  \\\n",
       "0  0.069539 -0.736727  ... -0.633753 -0.120794 -0.385050 -0.069733  0.094199   \n",
       "1  0.521502 -1.191311  ...  0.402492 -0.048508 -1.371866  0.390814  0.199964   \n",
       "\n",
       "        V27       V28       V29       V30  Class  \n",
       "0  0.246219  0.083076 -0.255991 -0.994878      0  \n",
       "1  0.016371 -0.014605  0.168937 -0.994784      0  \n",
       "\n",
       "[2 rows x 32 columns]"
      ]
     },
     "execution_count": 9,
     "metadata": {},
     "output_type": "execute_result"
    }
   ],
   "source": [
    "print(\"valid.shape: {}\".format(valid.shape))\n",
    "print(\"valid.isnull().sum().sum(): {}\".format(valid.isnull().sum().sum()))\n",
    "valid.head(2)"
   ]
  },
  {
   "cell_type": "markdown",
   "metadata": {},
   "source": [
    "## 전처리 "
   ]
  },
  {
   "cell_type": "markdown",
   "metadata": {},
   "source": [
    "### Labeling\n",
    "- train 데이터에는 label이 없음\n",
    "- valid 데이터에만 label이 존재"
   ]
  },
  {
   "cell_type": "markdown",
   "metadata": {},
   "source": [
    "- 0: 정상거래\n",
    "- 1: 이상거래"
   ]
  },
  {
   "cell_type": "code",
   "execution_count": 10,
   "metadata": {},
   "outputs": [
    {
     "name": "stdout",
     "output_type": "stream",
     "text": [
      "valid.Class.value_counts():\n",
      "0    28432\n",
      "1       30\n",
      "Name: Class, dtype: int64\n"
     ]
    }
   ],
   "source": [
    "print(\"valid.Class.value_counts():\\n{}\".format(valid.Class.value_counts()))"
   ]
  },
  {
   "cell_type": "code",
   "execution_count": 11,
   "metadata": {},
   "outputs": [
    {
     "name": "stdout",
     "output_type": "stream",
     "text": [
      "valid.Class.value_counts(normalize=True):\n",
      "0    0.998946\n",
      "1    0.001054\n",
      "Name: Class, dtype: float64\n"
     ]
    }
   ],
   "source": [
    "print(\"valid.Class.value_counts(normalize=True):\\n{}\".format(valid.Class.value_counts(normalize=True)))"
   ]
  },
  {
   "cell_type": "markdown",
   "metadata": {},
   "source": [
    "#### train 데이터에도 같은 비율의 이상거래가 있을 것이라 가정\n",
    "- valid 데이터의 이상거래 데이터와 train 데이터의 cosine similarity를 구한 후 정렬하여 상위 0.1%의 데이터를 이상거래라고 가정"
   ]
  },
  {
   "cell_type": "markdown",
   "metadata": {},
   "source": [
    "- 이상거래 데이터 저장"
   ]
  },
  {
   "cell_type": "code",
   "execution_count": 12,
   "metadata": {},
   "outputs": [],
   "source": [
    "fraud = valid[valid['Class']==1].drop(columns=['ID', 'Class']).reset_index(drop=True)"
   ]
  },
  {
   "cell_type": "markdown",
   "metadata": {},
   "source": [
    "- cosine similarity 계산 후 정렬"
   ]
  },
  {
   "cell_type": "code",
   "execution_count": 13,
   "metadata": {},
   "outputs": [],
   "source": [
    "sim = cosine_similarity(fraud, train.drop(columns=['ID'])).transpose()\n",
    "train['sim'] = list(map(sum, sim))\n",
    "train['sim'] = train['sim'].apply(lambda x: round(x, 2))\n",
    "train.sort_values(by='sim', ascending=False, inplace=True)\n",
    "train.reset_index(drop=True, inplace=True)"
   ]
  },
  {
   "cell_type": "markdown",
   "metadata": {},
   "source": [
    "- cosine similiary 기준 상위 0.1%를 이상거래로 가정"
   ]
  },
  {
   "cell_type": "code",
   "execution_count": 14,
   "metadata": {},
   "outputs": [
    {
     "data": {
      "text/plain": [
       "1138"
      ]
     },
     "execution_count": 14,
     "metadata": {},
     "output_type": "execute_result"
    }
   ],
   "source": [
    "fraud_idx = int(train.shape[0] * 0.01)\n",
    "fraud_idx"
   ]
  },
  {
   "cell_type": "code",
   "execution_count": 15,
   "metadata": {},
   "outputs": [],
   "source": [
    "train['Class'] = 0\n",
    "train.loc[train.index.isin(range(fraud_idx)), 'Class'] = 1"
   ]
  },
  {
   "cell_type": "code",
   "execution_count": 16,
   "metadata": {},
   "outputs": [
    {
     "name": "stdout",
     "output_type": "stream",
     "text": [
      "train.Class.value_counts():\n",
      "0    112704\n",
      "1      1138\n",
      "Name: Class, dtype: int64\n"
     ]
    }
   ],
   "source": [
    "print(\"train.Class.value_counts():\\n{}\".format(train.Class.value_counts()))"
   ]
  },
  {
   "cell_type": "code",
   "execution_count": 17,
   "metadata": {},
   "outputs": [
    {
     "name": "stdout",
     "output_type": "stream",
     "text": [
      "train.Class.value_counts(normalize=True):\n",
      "0    0.990004\n",
      "1    0.009996\n",
      "Name: Class, dtype: float64\n"
     ]
    }
   ],
   "source": [
    "print(\"train.Class.value_counts(normalize=True):\\n{}\".format(train.Class.value_counts(normalize=True)))"
   ]
  },
  {
   "cell_type": "markdown",
   "metadata": {},
   "source": [
    "#### Input data 준비"
   ]
  },
  {
   "cell_type": "code",
   "execution_count": 18,
   "metadata": {},
   "outputs": [],
   "source": [
    "# Train X, y\n",
    "X_train = train.drop(columns=['ID', 'sim', 'Class'])\n",
    "y_train = train['Class']\n",
    "\n",
    "# Valid X, y\n",
    "X_valid = valid.drop(columns=['ID', 'Class'])\n",
    "y_valid = valid['Class']"
   ]
  },
  {
   "cell_type": "code",
   "execution_count": 19,
   "metadata": {},
   "outputs": [
    {
     "name": "stdout",
     "output_type": "stream",
     "text": [
      "X_train.shape: (113842, 30)\n",
      "X_valid.shape: (28462, 30)\n",
      "y_train.shape: (113842,)\n",
      "y_valid.shape: (28462,)\n"
     ]
    }
   ],
   "source": [
    "print(\"X_train.shape: {}\".format(X_train.shape))\n",
    "print(\"X_valid.shape: {}\".format(X_valid.shape))\n",
    "print(\"y_train.shape: {}\".format(y_train.shape))\n",
    "print(\"y_valid.shape: {}\".format(y_valid.shape))"
   ]
  },
  {
   "cell_type": "markdown",
   "metadata": {},
   "source": [
    "## 모델링 - LightGBM(default)"
   ]
  },
  {
   "cell_type": "code",
   "execution_count": 20,
   "metadata": {},
   "outputs": [
    {
     "name": "stdout",
     "output_type": "stream",
     "text": [
      "[100]\tvalid_0's binary_logloss: 0.0713628\n"
     ]
    },
    {
     "data": {
      "text/plain": [
       "LGBMClassifier(boosting_type='gbdt', class_weight=None, colsample_bytree=1.0,\n",
       "               importance_type='split', learning_rate=0.1, max_depth=-1,\n",
       "               min_child_samples=20, min_child_weight=0.001, min_split_gain=0.0,\n",
       "               n_estimators=100, n_jobs=-1, num_leaves=31, objective=None,\n",
       "               random_state=42, reg_alpha=0.0, reg_lambda=0.0, silent='warn',\n",
       "               subsample=1.0, subsample_for_bin=200000, subsample_freq=0)"
      ]
     },
     "execution_count": 20,
     "metadata": {},
     "output_type": "execute_result"
    }
   ],
   "source": [
    "model = LGBMClassifier(random_state=42)\n",
    "model.fit(X_train, y_train, eval_set=[(X_valid, y_valid)], eval_metric='logloss', verbose=100)"
   ]
  },
  {
   "cell_type": "markdown",
   "metadata": {},
   "source": [
    "#### 예측값 생성"
   ]
  },
  {
   "cell_type": "code",
   "execution_count": 21,
   "metadata": {},
   "outputs": [
    {
     "data": {
      "text/plain": [
       "array([0, 0, 0, ..., 0, 0, 0], dtype=int64)"
      ]
     },
     "execution_count": 21,
     "metadata": {},
     "output_type": "execute_result"
    }
   ],
   "source": [
    "y_valid_pred = model.predict(X_valid)\n",
    "y_valid_pred"
   ]
  },
  {
   "cell_type": "markdown",
   "metadata": {},
   "source": [
    "#### 성능 측정 지표 확인"
   ]
  },
  {
   "cell_type": "code",
   "execution_count": 22,
   "metadata": {},
   "outputs": [
    {
     "name": "stdout",
     "output_type": "stream",
     "text": [
      "Precision: 0.0996\n",
      "Recall   : 0.9000\n",
      "F1-score : 0.5875\n"
     ]
    }
   ],
   "source": [
    "print(\"Precision: {:.4f}\".format(precision_score(y_valid, y_valid_pred)))\n",
    "print(\"Recall   : {:.4f}\".format(recall_score(y_valid, y_valid_pred)))\n",
    "print(\"F1-score : {:.4f}\".format(f1_score(y_valid, y_valid_pred, average=\"macro\")))"
   ]
  },
  {
   "cell_type": "markdown",
   "metadata": {},
   "source": [
    "## 모델링 - LightGBM(Optuna)"
   ]
  },
  {
   "cell_type": "code",
   "execution_count": 23,
   "metadata": {},
   "outputs": [],
   "source": [
    "sampler = TPESampler(seed=42)\n",
    "\n",
    "def objective(trial):\n",
    "    train = Dataset(X_train, label=y_train)\n",
    "    valid = Dataset(X_valid, label=y_valid)\n",
    "    \n",
    "    param = {\n",
    "        'objective' : 'binary',\n",
    "        'seed'      : 42,\n",
    "        'metric'    : 'binary_logloss',\n",
    "        'max_depth' : trial.suggest_int('max_depth', 3, 15),\n",
    "        'learning_rate': trial.suggest_loguniform('learning_rate', 1e-8, 1e-2),\n",
    "        'n_estimators': trial.suggest_int('n_estimators', 100, 2000),\n",
    "        'num_leaves'  : trial.suggest_int('num_leaves', 31, 1024),\n",
    "        'colsample_bytree' : trial.suggest_uniform('colsample_bytree', 0.5, 1.0),\n",
    "        'subsample' :trial.suggest_uniform('subsample', 0.5, 1.0),\n",
    "        'reg_alpha' : trial.suggest_float('reg_alpha', 0.0, 5.0),\n",
    "        'reg_lambda' : trial.suggest_float('reg_lambda', 0.0, 5.0)\n",
    "    }\n",
    "    \n",
    "    model = LGBMClassifier(**param)\n",
    "    model.fit(X_train, y_train, eval_set=[(X_valid, y_valid)], verbose=100)\n",
    "    \n",
    "    y_valid_pred = model.predict(X_valid)\n",
    "    return f1_score(y_valid, y_valid_pred, average=\"macro\")"
   ]
  },
  {
   "cell_type": "code",
   "execution_count": 24,
   "metadata": {
    "scrolled": true
   },
   "outputs": [
    {
     "name": "stderr",
     "output_type": "stream",
     "text": [
      "\u001b[32m[I 2022-07-09 17:21:36,530]\u001b[0m A new study created in memory with name: no-name-e67fbe69-96a9-4b93-beb4-f1e8bc8e0b6d\u001b[0m\n"
     ]
    },
    {
     "name": "stdout",
     "output_type": "stream",
     "text": [
      "[100]\tvalid_0's binary_logloss: 0.0119214\n",
      "[200]\tvalid_0's binary_logloss: 0.0127557\n",
      "[300]\tvalid_0's binary_logloss: 0.0144994\n",
      "[400]\tvalid_0's binary_logloss: 0.0165814\n",
      "[500]\tvalid_0's binary_logloss: 0.0188385\n",
      "[600]\tvalid_0's binary_logloss: 0.0210508\n",
      "[700]\tvalid_0's binary_logloss: 0.0231232\n",
      "[800]\tvalid_0's binary_logloss: 0.0250312\n",
      "[900]\tvalid_0's binary_logloss: 0.0267822\n",
      "[1000]\tvalid_0's binary_logloss: 0.0283538\n",
      "[1100]\tvalid_0's binary_logloss: 0.0297331\n",
      "[1200]\tvalid_0's binary_logloss: 0.031038\n",
      "[1300]\tvalid_0's binary_logloss: 0.032181\n",
      "[1400]\tvalid_0's binary_logloss: 0.0331725\n"
     ]
    },
    {
     "name": "stderr",
     "output_type": "stream",
     "text": [
      "\u001b[32m[I 2022-07-09 17:21:53,638]\u001b[0m Trial 0 finished with value: 0.5887634713283255 and parameters: {'max_depth': 7, 'learning_rate': 0.005061576888752304, 'n_estimators': 1491, 'num_leaves': 626, 'colsample_bytree': 0.5780093202212182, 'subsample': 0.5779972601681014, 'reg_alpha': 0.2904180608409973, 'reg_lambda': 4.330880728874676}. Best is trial 0 with value: 0.5887634713283255.\u001b[0m\n"
     ]
    },
    {
     "name": "stdout",
     "output_type": "stream",
     "text": [
      "[100]\tvalid_0's binary_logloss: 0.014209\n"
     ]
    },
    {
     "name": "stderr",
     "output_type": "stream",
     "text": [
      "\u001b[32m[I 2022-07-09 17:21:55,996]\u001b[0m Trial 1 finished with value: 0.4997363518121419 and parameters: {'max_depth': 10, 'learning_rate': 0.00017718847354806813, 'n_estimators': 139, 'num_leaves': 995, 'colsample_bytree': 0.9162213204002109, 'subsample': 0.6061695553391381, 'reg_alpha': 0.9091248360355031, 'reg_lambda': 0.9170225492671691}. Best is trial 0 with value: 0.5887634713283255.\u001b[0m\n"
     ]
    },
    {
     "name": "stdout",
     "output_type": "stream",
     "text": [
      "[100]\tvalid_0's binary_logloss: 0.014837\n",
      "[200]\tvalid_0's binary_logloss: 0.0147839\n",
      "[300]\tvalid_0's binary_logloss: 0.0147337\n",
      "[400]\tvalid_0's binary_logloss: 0.0146843\n",
      "[500]\tvalid_0's binary_logloss: 0.0146364\n",
      "[600]\tvalid_0's binary_logloss: 0.0145906\n",
      "[700]\tvalid_0's binary_logloss: 0.0145453\n",
      "[800]\tvalid_0's binary_logloss: 0.0145014\n",
      "[900]\tvalid_0's binary_logloss: 0.0144582\n"
     ]
    },
    {
     "name": "stderr",
     "output_type": "stream",
     "text": [
      "\u001b[32m[I 2022-07-09 17:22:04,539]\u001b[0m Trial 2 finished with value: 0.4997363518121419 and parameters: {'max_depth': 6, 'learning_rate': 1.4077923139972383e-05, 'n_estimators': 921, 'num_leaves': 320, 'colsample_bytree': 0.8059264473611898, 'subsample': 0.569746930326021, 'reg_alpha': 1.4607232426760908, 'reg_lambda': 1.8318092164684585}. Best is trial 0 with value: 0.5887634713283255.\u001b[0m\n"
     ]
    },
    {
     "name": "stdout",
     "output_type": "stream",
     "text": [
      "[100]\tvalid_0's binary_logloss: 0.0134888\n",
      "[200]\tvalid_0's binary_logloss: 0.01287\n",
      "[300]\tvalid_0's binary_logloss: 0.0125033\n",
      "[400]\tvalid_0's binary_logloss: 0.0122522\n"
     ]
    },
    {
     "name": "stderr",
     "output_type": "stream",
     "text": [
      "\u001b[32m[I 2022-07-09 17:22:09,476]\u001b[0m Trial 3 finished with value: 0.4997363518121419 and parameters: {'max_depth': 8, 'learning_rate': 0.0005141096648805752, 'n_estimators': 479, 'num_leaves': 542, 'colsample_bytree': 0.7962072844310213, 'subsample': 0.5232252063599989, 'reg_alpha': 3.0377242595071916, 'reg_lambda': 0.8526206184364576}. Best is trial 0 with value: 0.5887634713283255.\u001b[0m\n"
     ]
    },
    {
     "name": "stdout",
     "output_type": "stream",
     "text": [
      "[100]\tvalid_0's binary_logloss: 0.0122016\n",
      "[200]\tvalid_0's binary_logloss: 0.0129347\n",
      "[300]\tvalid_0's binary_logloss: 0.0142699\n",
      "[400]\tvalid_0's binary_logloss: 0.0157543\n",
      "[500]\tvalid_0's binary_logloss: 0.0172676\n",
      "[600]\tvalid_0's binary_logloss: 0.0186663\n",
      "[700]\tvalid_0's binary_logloss: 0.019896\n",
      "[800]\tvalid_0's binary_logloss: 0.0209722\n",
      "[900]\tvalid_0's binary_logloss: 0.0219548\n",
      "[1000]\tvalid_0's binary_logloss: 0.0228281\n",
      "[1100]\tvalid_0's binary_logloss: 0.0236115\n",
      "[1200]\tvalid_0's binary_logloss: 0.0243924\n",
      "[1300]\tvalid_0's binary_logloss: 0.0250699\n",
      "[1400]\tvalid_0's binary_logloss: 0.0257196\n",
      "[1500]\tvalid_0's binary_logloss: 0.0262926\n",
      "[1600]\tvalid_0's binary_logloss: 0.0268004\n",
      "[1700]\tvalid_0's binary_logloss: 0.0272892\n",
      "[1800]\tvalid_0's binary_logloss: 0.0277449\n",
      "[1900]\tvalid_0's binary_logloss: 0.0281435\n"
     ]
    },
    {
     "name": "stderr",
     "output_type": "stream",
     "text": [
      "\u001b[32m[I 2022-07-09 17:22:23,503]\u001b[0m Trial 4 finished with value: 0.5900400189647573 and parameters: {'max_depth': 3, 'learning_rate': 0.004935296209402108, 'n_estimators': 1935, 'num_leaves': 834, 'colsample_bytree': 0.6523068845866853, 'subsample': 0.5488360570031919, 'reg_alpha': 3.4211651325607844, 'reg_lambda': 2.2007624686980067}. Best is trial 4 with value: 0.5900400189647573.\u001b[0m\n"
     ]
    },
    {
     "name": "stdout",
     "output_type": "stream",
     "text": [
      "[100]\tvalid_0's binary_logloss: 0.0148594\n"
     ]
    },
    {
     "name": "stderr",
     "output_type": "stream",
     "text": [
      "\u001b[32m[I 2022-07-09 17:22:25,115]\u001b[0m Trial 5 finished with value: 0.4997363518121419 and parameters: {'max_depth': 4, 'learning_rate': 9.355380606452177e-06, 'n_estimators': 165, 'num_leaves': 934, 'colsample_bytree': 0.6293899908000085, 'subsample': 0.831261142176991, 'reg_alpha': 1.5585553804470549, 'reg_lambda': 2.600340105889054}. Best is trial 4 with value: 0.5900400189647573.\u001b[0m\n"
     ]
    },
    {
     "name": "stdout",
     "output_type": "stream",
     "text": [
      "[100]\tvalid_0's binary_logloss: 0.0148901\n",
      "[200]\tvalid_0's binary_logloss: 0.0148897\n",
      "[300]\tvalid_0's binary_logloss: 0.0148894\n",
      "[400]\tvalid_0's binary_logloss: 0.014889\n",
      "[500]\tvalid_0's binary_logloss: 0.0148887\n",
      "[600]\tvalid_0's binary_logloss: 0.0148883\n",
      "[700]\tvalid_0's binary_logloss: 0.0148879\n",
      "[800]\tvalid_0's binary_logloss: 0.0148876\n",
      "[900]\tvalid_0's binary_logloss: 0.0148872\n",
      "[1000]\tvalid_0's binary_logloss: 0.0148869\n",
      "[1100]\tvalid_0's binary_logloss: 0.0148865\n",
      "[1200]\tvalid_0's binary_logloss: 0.0148862\n",
      "[1300]\tvalid_0's binary_logloss: 0.0148858\n",
      "[1400]\tvalid_0's binary_logloss: 0.0148855\n",
      "[1500]\tvalid_0's binary_logloss: 0.0148851\n",
      "[1600]\tvalid_0's binary_logloss: 0.0148847\n",
      "[1700]\tvalid_0's binary_logloss: 0.0148844\n",
      "[1800]\tvalid_0's binary_logloss: 0.014884\n",
      "[1900]\tvalid_0's binary_logloss: 0.0148837\n"
     ]
    },
    {
     "name": "stderr",
     "output_type": "stream",
     "text": [
      "\u001b[32m[I 2022-07-09 17:22:47,802]\u001b[0m Trial 6 finished with value: 0.4997363518121419 and parameters: {'max_depth': 10, 'learning_rate': 1.2856617791467908e-07, 'n_estimators': 1943, 'num_leaves': 801, 'colsample_bytree': 0.9697494707820946, 'subsample': 0.9474136752138245, 'reg_alpha': 2.9894998940554256, 'reg_lambda': 4.609371175115584}. Best is trial 4 with value: 0.5900400189647573.\u001b[0m\n"
     ]
    },
    {
     "name": "stdout",
     "output_type": "stream",
     "text": [
      "[100]\tvalid_0's binary_logloss: 0.0148899\n"
     ]
    },
    {
     "name": "stderr",
     "output_type": "stream",
     "text": [
      "\u001b[32m[I 2022-07-09 17:22:49,670]\u001b[0m Trial 7 finished with value: 0.4997363518121419 and parameters: {'max_depth': 4, 'learning_rate': 1.499329805509153e-07, 'n_estimators': 185, 'num_leaves': 354, 'colsample_bytree': 0.6943386448447411, 'subsample': 0.6356745158869479, 'reg_alpha': 4.143687545759647, 'reg_lambda': 1.7837666334679465}. Best is trial 4 with value: 0.5900400189647573.\u001b[0m\n"
     ]
    },
    {
     "name": "stdout",
     "output_type": "stream",
     "text": [
      "[100]\tvalid_0's binary_logloss: 0.0148072\n",
      "[200]\tvalid_0's binary_logloss: 0.0147317\n",
      "[300]\tvalid_0's binary_logloss: 0.0146588\n"
     ]
    },
    {
     "name": "stderr",
     "output_type": "stream",
     "text": [
      "\u001b[32m[I 2022-07-09 17:22:53,143]\u001b[0m Trial 8 finished with value: 0.4997363518121419 and parameters: {'max_depth': 6, 'learning_rate': 1.8037506431281856e-05, 'n_estimators': 367, 'num_leaves': 828, 'colsample_bytree': 0.5372753218398854, 'subsample': 0.9934434683002586, 'reg_alpha': 3.861223846483287, 'reg_lambda': 0.993578407670862}. Best is trial 4 with value: 0.5900400189647573.\u001b[0m\n"
     ]
    },
    {
     "name": "stdout",
     "output_type": "stream",
     "text": [
      "[100]\tvalid_0's binary_logloss: 0.0132429\n",
      "[200]\tvalid_0's binary_logloss: 0.0126672\n",
      "[300]\tvalid_0's binary_logloss: 0.0123828\n",
      "[400]\tvalid_0's binary_logloss: 0.0122169\n",
      "[500]\tvalid_0's binary_logloss: 0.0121319\n",
      "[600]\tvalid_0's binary_logloss: 0.0121115\n",
      "[700]\tvalid_0's binary_logloss: 0.0121368\n",
      "[800]\tvalid_0's binary_logloss: 0.0121969\n",
      "[900]\tvalid_0's binary_logloss: 0.0122887\n",
      "[1000]\tvalid_0's binary_logloss: 0.0124148\n",
      "[1100]\tvalid_0's binary_logloss: 0.012568\n",
      "[1200]\tvalid_0's binary_logloss: 0.0127405\n",
      "[1300]\tvalid_0's binary_logloss: 0.0129246\n",
      "[1400]\tvalid_0's binary_logloss: 0.0131199\n"
     ]
    },
    {
     "name": "stderr",
     "output_type": "stream",
     "text": [
      "\u001b[32m[I 2022-07-09 17:23:05,982]\u001b[0m Trial 9 finished with value: 0.5898474585926098 and parameters: {'max_depth': 3, 'learning_rate': 0.0007812113973534924, 'n_estimators': 1443, 'num_leaves': 755, 'colsample_bytree': 0.8856351733429728, 'subsample': 0.5370223258670452, 'reg_alpha': 1.7923286427213632, 'reg_lambda': 0.5793452976256486}. Best is trial 4 with value: 0.5900400189647573.\u001b[0m\n"
     ]
    },
    {
     "name": "stdout",
     "output_type": "stream",
     "text": [
      "[100]\tvalid_0's binary_logloss: 0.0148904\n",
      "[200]\tvalid_0's binary_logloss: 0.0148904\n",
      "[300]\tvalid_0's binary_logloss: 0.0148903\n",
      "[400]\tvalid_0's binary_logloss: 0.0148903\n",
      "[500]\tvalid_0's binary_logloss: 0.0148903\n",
      "[600]\tvalid_0's binary_logloss: 0.0148902\n",
      "[700]\tvalid_0's binary_logloss: 0.0148902\n",
      "[800]\tvalid_0's binary_logloss: 0.0148901\n",
      "[900]\tvalid_0's binary_logloss: 0.0148901\n",
      "[1000]\tvalid_0's binary_logloss: 0.0148901\n",
      "[1100]\tvalid_0's binary_logloss: 0.01489\n",
      "[1200]\tvalid_0's binary_logloss: 0.01489\n",
      "[1300]\tvalid_0's binary_logloss: 0.01489\n",
      "[1400]\tvalid_0's binary_logloss: 0.0148899\n",
      "[1500]\tvalid_0's binary_logloss: 0.0148899\n",
      "[1600]\tvalid_0's binary_logloss: 0.0148899\n",
      "[1700]\tvalid_0's binary_logloss: 0.0148898\n",
      "[1800]\tvalid_0's binary_logloss: 0.0148898\n",
      "[1900]\tvalid_0's binary_logloss: 0.0148898\n"
     ]
    },
    {
     "name": "stderr",
     "output_type": "stream",
     "text": [
      "\u001b[32m[I 2022-07-09 17:23:28,461]\u001b[0m Trial 10 finished with value: 0.4997363518121419 and parameters: {'max_depth': 14, 'learning_rate': 1.086383341945677e-08, 'n_estimators': 1943, 'num_leaves': 48, 'colsample_bytree': 0.698604538182231, 'subsample': 0.728163786900188, 'reg_alpha': 4.798853729727101, 'reg_lambda': 3.382861898713899}. Best is trial 4 with value: 0.5900400189647573.\u001b[0m\n"
     ]
    },
    {
     "name": "stdout",
     "output_type": "stream",
     "text": [
      "[100]\tvalid_0's binary_logloss: 0.0129278\n",
      "[200]\tvalid_0's binary_logloss: 0.0156943\n",
      "[300]\tvalid_0's binary_logloss: 0.0185665\n",
      "[400]\tvalid_0's binary_logloss: 0.0208933\n",
      "[500]\tvalid_0's binary_logloss: 0.0228112\n",
      "[600]\tvalid_0's binary_logloss: 0.0244039\n",
      "[700]\tvalid_0's binary_logloss: 0.0258639\n",
      "[800]\tvalid_0's binary_logloss: 0.0270565\n",
      "[900]\tvalid_0's binary_logloss: 0.0280436\n",
      "[1000]\tvalid_0's binary_logloss: 0.0288134\n",
      "[1100]\tvalid_0's binary_logloss: 0.0295773\n",
      "[1200]\tvalid_0's binary_logloss: 0.0303235\n",
      "[1300]\tvalid_0's binary_logloss: 0.0310554\n",
      "[1400]\tvalid_0's binary_logloss: 0.0317745\n"
     ]
    },
    {
     "name": "stderr",
     "output_type": "stream",
     "text": [
      "\u001b[32m[I 2022-07-09 17:23:44,635]\u001b[0m Trial 11 finished with value: 0.5887634713283255 and parameters: {'max_depth': 3, 'learning_rate': 0.009370651006862957, 'n_estimators': 1466, 'num_leaves': 708, 'colsample_bytree': 0.8526967094075363, 'subsample': 0.7048224666449858, 'reg_alpha': 2.1414581309510576, 'reg_lambda': 0.0915638749235847}. Best is trial 4 with value: 0.5900400189647573.\u001b[0m\n"
     ]
    },
    {
     "name": "stdout",
     "output_type": "stream",
     "text": [
      "[100]\tvalid_0's binary_logloss: 0.0137529\n",
      "[200]\tvalid_0's binary_logloss: 0.0131031\n",
      "[300]\tvalid_0's binary_logloss: 0.0127359\n",
      "[400]\tvalid_0's binary_logloss: 0.012506\n",
      "[500]\tvalid_0's binary_logloss: 0.0123502\n",
      "[600]\tvalid_0's binary_logloss: 0.0122509\n",
      "[700]\tvalid_0's binary_logloss: 0.0121967\n",
      "[800]\tvalid_0's binary_logloss: 0.0121788\n",
      "[900]\tvalid_0's binary_logloss: 0.0121934\n",
      "[1000]\tvalid_0's binary_logloss: 0.0122329\n",
      "[1100]\tvalid_0's binary_logloss: 0.012296\n",
      "[1200]\tvalid_0's binary_logloss: 0.0123759\n",
      "[1300]\tvalid_0's binary_logloss: 0.01247\n",
      "[1400]\tvalid_0's binary_logloss: 0.012581\n",
      "[1500]\tvalid_0's binary_logloss: 0.0127119\n"
     ]
    },
    {
     "name": "stderr",
     "output_type": "stream",
     "text": [
      "\u001b[32m[I 2022-07-09 17:23:55,954]\u001b[0m Trial 12 finished with value: 0.6112719521622837 and parameters: {'max_depth': 3, 'learning_rate': 0.0006268829633295735, 'n_estimators': 1538, 'num_leaves': 801, 'colsample_bytree': 0.7256421272922706, 'subsample': 0.5042708532182889, 'reg_alpha': 2.40980044304833, 'reg_lambda': 3.0696844592732764}. Best is trial 12 with value: 0.6112719521622837.\u001b[0m\n"
     ]
    },
    {
     "name": "stdout",
     "output_type": "stream",
     "text": [
      "[100]\tvalid_0's binary_logloss: 0.0146246\n",
      "[200]\tvalid_0's binary_logloss: 0.0143814\n",
      "[300]\tvalid_0's binary_logloss: 0.0141762\n",
      "[400]\tvalid_0's binary_logloss: 0.0139976\n",
      "[500]\tvalid_0's binary_logloss: 0.0138342\n",
      "[600]\tvalid_0's binary_logloss: 0.013689\n",
      "[700]\tvalid_0's binary_logloss: 0.013555\n",
      "[800]\tvalid_0's binary_logloss: 0.0134342\n",
      "[900]\tvalid_0's binary_logloss: 0.0133231\n",
      "[1000]\tvalid_0's binary_logloss: 0.0132219\n",
      "[1100]\tvalid_0's binary_logloss: 0.0131303\n",
      "[1200]\tvalid_0's binary_logloss: 0.0130444\n",
      "[1300]\tvalid_0's binary_logloss: 0.0129659\n",
      "[1400]\tvalid_0's binary_logloss: 0.012893\n",
      "[1500]\tvalid_0's binary_logloss: 0.012825\n",
      "[1600]\tvalid_0's binary_logloss: 0.0127607\n",
      "[1700]\tvalid_0's binary_logloss: 0.0127006\n"
     ]
    },
    {
     "name": "stderr",
     "output_type": "stream",
     "text": [
      "\u001b[32m[I 2022-07-09 17:24:13,691]\u001b[0m Trial 13 finished with value: 0.4997363518121419 and parameters: {'max_depth': 13, 'learning_rate': 9.110569067807223e-05, 'n_estimators': 1700, 'num_leaves': 1021, 'colsample_bytree': 0.6962996366595786, 'subsample': 0.5014954772509219, 'reg_alpha': 2.8218500634153183, 'reg_lambda': 3.3082574687090114}. Best is trial 12 with value: 0.6112719521622837.\u001b[0m\n"
     ]
    },
    {
     "name": "stdout",
     "output_type": "stream",
     "text": [
      "[100]\tvalid_0's binary_logloss: 0.012629\n",
      "[200]\tvalid_0's binary_logloss: 0.0121076\n",
      "[300]\tvalid_0's binary_logloss: 0.0120394\n",
      "[400]\tvalid_0's binary_logloss: 0.0122069\n",
      "[500]\tvalid_0's binary_logloss: 0.0125446\n",
      "[600]\tvalid_0's binary_logloss: 0.0130124\n",
      "[700]\tvalid_0's binary_logloss: 0.013565\n",
      "[800]\tvalid_0's binary_logloss: 0.0141837\n",
      "[900]\tvalid_0's binary_logloss: 0.0148414\n",
      "[1000]\tvalid_0's binary_logloss: 0.0155249\n"
     ]
    },
    {
     "name": "stderr",
     "output_type": "stream",
     "text": [
      "\u001b[32m[I 2022-07-09 17:24:22,719]\u001b[0m Trial 14 finished with value: 0.5791663188821928 and parameters: {'max_depth': 5, 'learning_rate': 0.0017906220226385937, 'n_estimators': 1080, 'num_leaves': 421, 'colsample_bytree': 0.6176862055368464, 'subsample': 0.651723150444279, 'reg_alpha': 3.8357088836596884, 'reg_lambda': 3.0868057427218227}. Best is trial 12 with value: 0.6112719521622837.\u001b[0m\n"
     ]
    },
    {
     "name": "stdout",
     "output_type": "stream",
     "text": [
      "[100]\tvalid_0's binary_logloss: 0.0146132\n",
      "[200]\tvalid_0's binary_logloss: 0.0143649\n",
      "[300]\tvalid_0's binary_logloss: 0.0141524\n",
      "[400]\tvalid_0's binary_logloss: 0.0139711\n",
      "[500]\tvalid_0's binary_logloss: 0.0138088\n",
      "[600]\tvalid_0's binary_logloss: 0.0136653\n",
      "[700]\tvalid_0's binary_logloss: 0.013534\n",
      "[800]\tvalid_0's binary_logloss: 0.0134148\n",
      "[900]\tvalid_0's binary_logloss: 0.0133057\n",
      "[1000]\tvalid_0's binary_logloss: 0.0132056\n",
      "[1100]\tvalid_0's binary_logloss: 0.0131152\n"
     ]
    },
    {
     "name": "stderr",
     "output_type": "stream",
     "text": [
      "\u001b[32m[I 2022-07-09 17:24:37,033]\u001b[0m Trial 15 finished with value: 0.4997363518121419 and parameters: {'max_depth': 11, 'learning_rate': 8.079185621006249e-05, 'n_estimators': 1131, 'num_leaves': 891, 'colsample_bytree': 0.7472223931930824, 'subsample': 0.8123504466782651, 'reg_alpha': 2.4437663410405337, 'reg_lambda': 1.9710936633812681}. Best is trial 12 with value: 0.6112719521622837.\u001b[0m\n"
     ]
    },
    {
     "name": "stdout",
     "output_type": "stream",
     "text": [
      "[100]\tvalid_0's binary_logloss: 0.0125321\n",
      "[200]\tvalid_0's binary_logloss: 0.0120356\n",
      "[300]\tvalid_0's binary_logloss: 0.0120588\n",
      "[400]\tvalid_0's binary_logloss: 0.0123508\n",
      "[500]\tvalid_0's binary_logloss: 0.0128264\n",
      "[600]\tvalid_0's binary_logloss: 0.013442\n",
      "[700]\tvalid_0's binary_logloss: 0.0141536\n",
      "[800]\tvalid_0's binary_logloss: 0.0149311\n",
      "[900]\tvalid_0's binary_logloss: 0.0157314\n",
      "[1000]\tvalid_0's binary_logloss: 0.0165448\n",
      "[1100]\tvalid_0's binary_logloss: 0.0173674\n",
      "[1200]\tvalid_0's binary_logloss: 0.0182267\n",
      "[1300]\tvalid_0's binary_logloss: 0.0190789\n",
      "[1400]\tvalid_0's binary_logloss: 0.0199021\n",
      "[1500]\tvalid_0's binary_logloss: 0.0206977\n",
      "[1600]\tvalid_0's binary_logloss: 0.0214834\n"
     ]
    },
    {
     "name": "stderr",
     "output_type": "stream",
     "text": [
      "\u001b[32m[I 2022-07-09 17:24:53,599]\u001b[0m Trial 16 finished with value: 0.5882490710250109 and parameters: {'max_depth': 8, 'learning_rate': 0.0020570505521624494, 'n_estimators': 1687, 'num_leaves': 664, 'colsample_bytree': 0.5050431295870819, 'subsample': 0.6529507084082021, 'reg_alpha': 3.5296940118191253, 'reg_lambda': 4.138936297287706}. Best is trial 12 with value: 0.6112719521622837.\u001b[0m\n"
     ]
    },
    {
     "name": "stdout",
     "output_type": "stream",
     "text": [
      "[100]\tvalid_0's binary_logloss: 0.0148788\n",
      "[200]\tvalid_0's binary_logloss: 0.0148667\n",
      "[300]\tvalid_0's binary_logloss: 0.0148551\n",
      "[400]\tvalid_0's binary_logloss: 0.0148439\n",
      "[500]\tvalid_0's binary_logloss: 0.014832\n",
      "[600]\tvalid_0's binary_logloss: 0.0148207\n",
      "[700]\tvalid_0's binary_logloss: 0.0148088\n",
      "[800]\tvalid_0's binary_logloss: 0.014798\n",
      "[900]\tvalid_0's binary_logloss: 0.0147867\n",
      "[1000]\tvalid_0's binary_logloss: 0.0147757\n",
      "[1100]\tvalid_0's binary_logloss: 0.0147648\n",
      "[1200]\tvalid_0's binary_logloss: 0.0147541\n",
      "[1300]\tvalid_0's binary_logloss: 0.0147435\n",
      "[1400]\tvalid_0's binary_logloss: 0.0147323\n",
      "[1500]\tvalid_0's binary_logloss: 0.0147213\n",
      "[1600]\tvalid_0's binary_logloss: 0.0147108\n"
     ]
    },
    {
     "name": "stderr",
     "output_type": "stream",
     "text": [
      "\u001b[32m[I 2022-07-09 17:25:07,695]\u001b[0m Trial 17 finished with value: 0.4997363518121419 and parameters: {'max_depth': 5, 'learning_rate': 3.40505060681567e-06, 'n_estimators': 1697, 'num_leaves': 543, 'colsample_bytree': 0.6430971768763235, 'subsample': 0.8111035062543077, 'reg_alpha': 4.501074183915023, 'reg_lambda': 2.540849382544247}. Best is trial 12 with value: 0.6112719521622837.\u001b[0m\n"
     ]
    },
    {
     "name": "stdout",
     "output_type": "stream",
     "text": [
      "[100]\tvalid_0's binary_logloss: 0.0142601\n",
      "[200]\tvalid_0's binary_logloss: 0.0137826\n",
      "[300]\tvalid_0's binary_logloss: 0.0134217\n",
      "[400]\tvalid_0's binary_logloss: 0.0131411\n",
      "[500]\tvalid_0's binary_logloss: 0.0129313\n",
      "[600]\tvalid_0's binary_logloss: 0.0127659\n",
      "[700]\tvalid_0's binary_logloss: 0.0126338\n",
      "[800]\tvalid_0's binary_logloss: 0.0125264\n",
      "[900]\tvalid_0's binary_logloss: 0.0124399\n",
      "[1000]\tvalid_0's binary_logloss: 0.0123678\n",
      "[1100]\tvalid_0's binary_logloss: 0.0123111\n",
      "[1200]\tvalid_0's binary_logloss: 0.012267\n"
     ]
    },
    {
     "name": "stderr",
     "output_type": "stream",
     "text": [
      "\u001b[32m[I 2022-07-09 17:25:18,679]\u001b[0m Trial 18 finished with value: 0.4997363518121419 and parameters: {'max_depth': 3, 'learning_rate': 0.000319876872851881, 'n_estimators': 1275, 'num_leaves': 858, 'colsample_bytree': 0.7466868564739337, 'subsample': 0.6861083293859126, 'reg_alpha': 3.4247578976662165, 'reg_lambda': 3.9823934447105254}. Best is trial 12 with value: 0.6112719521622837.\u001b[0m\n"
     ]
    },
    {
     "name": "stdout",
     "output_type": "stream",
     "text": [
      "[100]\tvalid_0's binary_logloss: 0.0148857\n",
      "[200]\tvalid_0's binary_logloss: 0.0148807\n",
      "[300]\tvalid_0's binary_logloss: 0.014876\n",
      "[400]\tvalid_0's binary_logloss: 0.0148711\n",
      "[500]\tvalid_0's binary_logloss: 0.0148662\n",
      "[600]\tvalid_0's binary_logloss: 0.0148614\n",
      "[700]\tvalid_0's binary_logloss: 0.0148565\n",
      "[800]\tvalid_0's binary_logloss: 0.0148516\n"
     ]
    },
    {
     "name": "stderr",
     "output_type": "stream",
     "text": [
      "\u001b[32m[I 2022-07-09 17:25:30,037]\u001b[0m Trial 19 finished with value: 0.4997363518121419 and parameters: {'max_depth': 12, 'learning_rate': 1.4590668218912468e-06, 'n_estimators': 816, 'num_leaves': 74, 'colsample_bytree': 0.8000533735970787, 'subsample': 0.5619267752985024, 'reg_alpha': 2.1257108134124696, 'reg_lambda': 2.9182283289228415}. Best is trial 12 with value: 0.6112719521622837.\u001b[0m\n"
     ]
    },
    {
     "name": "stdout",
     "output_type": "stream",
     "text": [
      "[100]\tvalid_0's binary_logloss: 0.0124994\n",
      "[200]\tvalid_0's binary_logloss: 0.0120107\n",
      "[300]\tvalid_0's binary_logloss: 0.0119643\n",
      "[400]\tvalid_0's binary_logloss: 0.0121539\n",
      "[500]\tvalid_0's binary_logloss: 0.0125134\n",
      "[600]\tvalid_0's binary_logloss: 0.0130032\n",
      "[700]\tvalid_0's binary_logloss: 0.0135799\n",
      "[800]\tvalid_0's binary_logloss: 0.0142128\n",
      "[900]\tvalid_0's binary_logloss: 0.0148966\n",
      "[1000]\tvalid_0's binary_logloss: 0.0156132\n",
      "[1100]\tvalid_0's binary_logloss: 0.0163457\n",
      "[1200]\tvalid_0's binary_logloss: 0.0170747\n",
      "[1300]\tvalid_0's binary_logloss: 0.0178209\n",
      "[1400]\tvalid_0's binary_logloss: 0.0185491\n",
      "[1500]\tvalid_0's binary_logloss: 0.0192591\n",
      "[1600]\tvalid_0's binary_logloss: 0.0199481\n",
      "[1700]\tvalid_0's binary_logloss: 0.0205847\n",
      "[1800]\tvalid_0's binary_logloss: 0.0212169\n"
     ]
    },
    {
     "name": "stderr",
     "output_type": "stream",
     "text": [
      "\u001b[32m[I 2022-07-09 17:25:45,735]\u001b[0m Trial 20 finished with value: 0.5891711835778646 and parameters: {'max_depth': 5, 'learning_rate': 0.0017688070011473585, 'n_estimators': 1807, 'num_leaves': 627, 'colsample_bytree': 0.6592853385822044, 'subsample': 0.7667925381451695, 'reg_alpha': 0.9356203585090013, 'reg_lambda': 1.4663175804033983}. Best is trial 12 with value: 0.6112719521622837.\u001b[0m\n"
     ]
    },
    {
     "name": "stdout",
     "output_type": "stream",
     "text": [
      "[100]\tvalid_0's binary_logloss: 0.0137424\n",
      "[200]\tvalid_0's binary_logloss: 0.0130675\n",
      "[300]\tvalid_0's binary_logloss: 0.012705\n",
      "[400]\tvalid_0's binary_logloss: 0.0124778\n",
      "[500]\tvalid_0's binary_logloss: 0.0123292\n",
      "[600]\tvalid_0's binary_logloss: 0.0122437\n",
      "[700]\tvalid_0's binary_logloss: 0.0122095\n",
      "[800]\tvalid_0's binary_logloss: 0.01221\n",
      "[900]\tvalid_0's binary_logloss: 0.012239\n",
      "[1000]\tvalid_0's binary_logloss: 0.0122971\n",
      "[1100]\tvalid_0's binary_logloss: 0.0123792\n",
      "[1200]\tvalid_0's binary_logloss: 0.0124805\n",
      "[1300]\tvalid_0's binary_logloss: 0.0126026\n",
      "[1400]\tvalid_0's binary_logloss: 0.0127453\n"
     ]
    },
    {
     "name": "stderr",
     "output_type": "stream",
     "text": [
      "\u001b[32m[I 2022-07-09 17:25:55,691]\u001b[0m Trial 21 finished with value: 0.6112719521622837 and parameters: {'max_depth': 3, 'learning_rate': 0.00069040584844872, 'n_estimators': 1436, 'num_leaves': 753, 'colsample_bytree': 0.8981147319137557, 'subsample': 0.5343162782205424, 'reg_alpha': 1.7371488246139413, 'reg_lambda': 3.717887378779444}. Best is trial 12 with value: 0.6112719521622837.\u001b[0m\n"
     ]
    },
    {
     "name": "stdout",
     "output_type": "stream",
     "text": [
      "[100]\tvalid_0's binary_logloss: 0.0124807\n",
      "[200]\tvalid_0's binary_logloss: 0.0148166\n",
      "[300]\tvalid_0's binary_logloss: 0.0177448\n",
      "[400]\tvalid_0's binary_logloss: 0.0206151\n",
      "[500]\tvalid_0's binary_logloss: 0.0229727\n",
      "[600]\tvalid_0's binary_logloss: 0.0249791\n",
      "[700]\tvalid_0's binary_logloss: 0.0264905\n",
      "[800]\tvalid_0's binary_logloss: 0.0277311\n",
      "[900]\tvalid_0's binary_logloss: 0.0287299\n",
      "[1000]\tvalid_0's binary_logloss: 0.0297091\n",
      "[1100]\tvalid_0's binary_logloss: 0.0306391\n",
      "[1200]\tvalid_0's binary_logloss: 0.031494\n"
     ]
    },
    {
     "name": "stderr",
     "output_type": "stream",
     "text": [
      "\u001b[32m[I 2022-07-09 17:26:08,562]\u001b[0m Trial 22 finished with value: 0.5881376479360931 and parameters: {'max_depth': 4, 'learning_rate': 0.00806437210693687, 'n_estimators': 1285, 'num_leaves': 731, 'colsample_bytree': 0.9761582950267279, 'subsample': 0.5032864835036815, 'reg_alpha': 2.4474395438686747, 'reg_lambda': 3.707092999769052}. Best is trial 12 with value: 0.6112719521622837.\u001b[0m\n"
     ]
    },
    {
     "name": "stdout",
     "output_type": "stream",
     "text": [
      "[100]\tvalid_0's binary_logloss: 0.0133734\n",
      "[200]\tvalid_0's binary_logloss: 0.0127213\n",
      "[300]\tvalid_0's binary_logloss: 0.0123945\n",
      "[400]\tvalid_0's binary_logloss: 0.0122292\n",
      "[500]\tvalid_0's binary_logloss: 0.0121799\n",
      "[600]\tvalid_0's binary_logloss: 0.012221\n",
      "[700]\tvalid_0's binary_logloss: 0.0123212\n",
      "[800]\tvalid_0's binary_logloss: 0.0124824\n",
      "[900]\tvalid_0's binary_logloss: 0.0126801\n",
      "[1000]\tvalid_0's binary_logloss: 0.0129077\n",
      "[1100]\tvalid_0's binary_logloss: 0.013157\n",
      "[1200]\tvalid_0's binary_logloss: 0.0134258\n",
      "[1300]\tvalid_0's binary_logloss: 0.0137088\n",
      "[1400]\tvalid_0's binary_logloss: 0.0140013\n",
      "[1500]\tvalid_0's binary_logloss: 0.014305\n"
     ]
    },
    {
     "name": "stderr",
     "output_type": "stream",
     "text": [
      "\u001b[32m[I 2022-07-09 17:26:17,831]\u001b[0m Trial 23 finished with value: 0.5824128896557041 and parameters: {'max_depth': 3, 'learning_rate': 0.0010294506431493989, 'n_estimators': 1542, 'num_leaves': 926, 'colsample_bytree': 0.5796220576949028, 'subsample': 0.6003009199537893, 'reg_alpha': 1.2371705450673243, 'reg_lambda': 4.947306277660575}. Best is trial 12 with value: 0.6112719521622837.\u001b[0m\n"
     ]
    },
    {
     "name": "stdout",
     "output_type": "stream",
     "text": [
      "[100]\tvalid_0's binary_logloss: 0.0147336\n",
      "[200]\tvalid_0's binary_logloss: 0.0145812\n",
      "[300]\tvalid_0's binary_logloss: 0.0144423\n",
      "[400]\tvalid_0's binary_logloss: 0.0143157\n",
      "[500]\tvalid_0's binary_logloss: 0.0141993\n",
      "[600]\tvalid_0's binary_logloss: 0.0140941\n",
      "[700]\tvalid_0's binary_logloss: 0.0139953\n",
      "[800]\tvalid_0's binary_logloss: 0.0139011\n",
      "[900]\tvalid_0's binary_logloss: 0.0138113\n",
      "[1000]\tvalid_0's binary_logloss: 0.013727\n",
      "[1100]\tvalid_0's binary_logloss: 0.0136493\n",
      "[1200]\tvalid_0's binary_logloss: 0.0135753\n",
      "[1300]\tvalid_0's binary_logloss: 0.0135039\n"
     ]
    },
    {
     "name": "stderr",
     "output_type": "stream",
     "text": [
      "\u001b[32m[I 2022-07-09 17:26:29,903]\u001b[0m Trial 24 finished with value: 0.4997363518121419 and parameters: {'max_depth': 6, 'learning_rate': 5.387240148615854e-05, 'n_estimators': 1318, 'num_leaves': 816, 'colsample_bytree': 0.7662505370116409, 'subsample': 0.5527117570334313, 'reg_alpha': 2.0167010346158865, 'reg_lambda': 3.519503093003253}. Best is trial 12 with value: 0.6112719521622837.\u001b[0m\n"
     ]
    },
    {
     "name": "stdout",
     "output_type": "stream",
     "text": [
      "[100]\tvalid_0's binary_logloss: 0.0120511\n",
      "[200]\tvalid_0's binary_logloss: 0.0121385\n",
      "[300]\tvalid_0's binary_logloss: 0.0129507\n",
      "[400]\tvalid_0's binary_logloss: 0.0141337\n",
      "[500]\tvalid_0's binary_logloss: 0.0155622\n",
      "[600]\tvalid_0's binary_logloss: 0.0171092\n",
      "[700]\tvalid_0's binary_logloss: 0.0188422\n",
      "[800]\tvalid_0's binary_logloss: 0.0205328\n",
      "[900]\tvalid_0's binary_logloss: 0.0221461\n",
      "[1000]\tvalid_0's binary_logloss: 0.0236976\n",
      "[1100]\tvalid_0's binary_logloss: 0.0251707\n",
      "[1200]\tvalid_0's binary_logloss: 0.0265706\n",
      "[1300]\tvalid_0's binary_logloss: 0.0278005\n",
      "[1400]\tvalid_0's binary_logloss: 0.0289362\n",
      "[1500]\tvalid_0's binary_logloss: 0.0300119\n",
      "[1600]\tvalid_0's binary_logloss: 0.0310067\n",
      "[1700]\tvalid_0's binary_logloss: 0.0319428\n",
      "[1800]\tvalid_0's binary_logloss: 0.0327789\n",
      "[1900]\tvalid_0's binary_logloss: 0.0336062\n"
     ]
    },
    {
     "name": "stderr",
     "output_type": "stream",
     "text": [
      "\u001b[32m[I 2022-07-09 17:26:56,232]\u001b[0m Trial 25 finished with value: 0.5900400189647573 and parameters: {'max_depth': 15, 'learning_rate': 0.0034506122827906425, 'n_estimators': 1989, 'num_leaves': 443, 'colsample_bytree': 0.8741787091039872, 'subsample': 0.6059907152593897, 'reg_alpha': 2.7482827116859854, 'reg_lambda': 2.3129621761857098}. Best is trial 12 with value: 0.6112719521622837.\u001b[0m\n"
     ]
    },
    {
     "name": "stdout",
     "output_type": "stream",
     "text": [
      "[100]\tvalid_0's binary_logloss: 0.0142381\n",
      "[200]\tvalid_0's binary_logloss: 0.0137691\n",
      "[300]\tvalid_0's binary_logloss: 0.0134221\n",
      "[400]\tvalid_0's binary_logloss: 0.0131556\n",
      "[500]\tvalid_0's binary_logloss: 0.0129394\n",
      "[600]\tvalid_0's binary_logloss: 0.0127719\n",
      "[700]\tvalid_0's binary_logloss: 0.0126342\n",
      "[800]\tvalid_0's binary_logloss: 0.0125154\n",
      "[900]\tvalid_0's binary_logloss: 0.0124161\n",
      "[1000]\tvalid_0's binary_logloss: 0.012335\n",
      "[1100]\tvalid_0's binary_logloss: 0.0122671\n",
      "[1200]\tvalid_0's binary_logloss: 0.0122097\n",
      "[1300]\tvalid_0's binary_logloss: 0.0121643\n",
      "[1400]\tvalid_0's binary_logloss: 0.0121296\n",
      "[1500]\tvalid_0's binary_logloss: 0.0121038\n",
      "[1600]\tvalid_0's binary_logloss: 0.0120836\n",
      "[1700]\tvalid_0's binary_logloss: 0.0120696\n",
      "[1800]\tvalid_0's binary_logloss: 0.0120617\n"
     ]
    },
    {
     "name": "stderr",
     "output_type": "stream",
     "text": [
      "\u001b[32m[I 2022-07-09 17:27:09,403]\u001b[0m Trial 26 finished with value: 0.4997363518121419 and parameters: {'max_depth': 4, 'learning_rate': 0.00026154517218230977, 'n_estimators': 1802, 'num_leaves': 754, 'colsample_bytree': 0.7193088654214267, 'subsample': 0.8795009250984697, 'reg_alpha': 3.330323972839881, 'reg_lambda': 2.8108147873206506}. Best is trial 12 with value: 0.6112719521622837.\u001b[0m\n"
     ]
    },
    {
     "name": "stdout",
     "output_type": "stream",
     "text": [
      "[100]\tvalid_0's binary_logloss: 0.0147831\n",
      "[200]\tvalid_0's binary_logloss: 0.0146804\n",
      "[300]\tvalid_0's binary_logloss: 0.0145843\n",
      "[400]\tvalid_0's binary_logloss: 0.0144918\n",
      "[500]\tvalid_0's binary_logloss: 0.0144032\n",
      "[600]\tvalid_0's binary_logloss: 0.0143185\n",
      "[700]\tvalid_0's binary_logloss: 0.0142372\n",
      "[800]\tvalid_0's binary_logloss: 0.0141628\n",
      "[900]\tvalid_0's binary_logloss: 0.0140921\n",
      "[1000]\tvalid_0's binary_logloss: 0.014024\n",
      "[1100]\tvalid_0's binary_logloss: 0.0139599\n",
      "[1200]\tvalid_0's binary_logloss: 0.0138991\n",
      "[1300]\tvalid_0's binary_logloss: 0.01384\n",
      "[1400]\tvalid_0's binary_logloss: 0.0137834\n",
      "[1500]\tvalid_0's binary_logloss: 0.0137282\n"
     ]
    },
    {
     "name": "stderr",
     "output_type": "stream",
     "text": [
      "\u001b[32m[I 2022-07-09 17:27:27,023]\u001b[0m Trial 27 finished with value: 0.4997363518121419 and parameters: {'max_depth': 7, 'learning_rate': 3.085111625922146e-05, 'n_estimators': 1595, 'num_leaves': 950, 'colsample_bytree': 0.8364173367413744, 'subsample': 0.5279392352970753, 'reg_alpha': 0.1049640833884995, 'reg_lambda': 2.3163242296904514}. Best is trial 12 with value: 0.6112719521622837.\u001b[0m\n"
     ]
    },
    {
     "name": "stdout",
     "output_type": "stream",
     "text": [
      "[100]\tvalid_0's binary_logloss: 0.0143563\n",
      "[200]\tvalid_0's binary_logloss: 0.0139651\n",
      "[300]\tvalid_0's binary_logloss: 0.0136489\n",
      "[400]\tvalid_0's binary_logloss: 0.0133868\n",
      "[500]\tvalid_0's binary_logloss: 0.0131688\n",
      "[600]\tvalid_0's binary_logloss: 0.0129832\n",
      "[700]\tvalid_0's binary_logloss: 0.0128263\n",
      "[800]\tvalid_0's binary_logloss: 0.0126944\n"
     ]
    },
    {
     "name": "stderr",
     "output_type": "stream",
     "text": [
      "\u001b[32m[I 2022-07-09 17:27:35,878]\u001b[0m Trial 28 finished with value: 0.4997363518121419 and parameters: {'max_depth': 15, 'learning_rate': 0.00021105304436044097, 'n_estimators': 836, 'num_leaves': 192, 'colsample_bytree': 0.9235467195621917, 'subsample': 0.6138990338194875, 'reg_alpha': 2.653278416823285, 'reg_lambda': 3.8698547067331877}. Best is trial 12 with value: 0.6112719521622837.\u001b[0m\n"
     ]
    },
    {
     "name": "stdout",
     "output_type": "stream",
     "text": [
      "[100]\tvalid_0's binary_logloss: 0.0120618\n",
      "[200]\tvalid_0's binary_logloss: 0.0126169\n",
      "[300]\tvalid_0's binary_logloss: 0.0140968\n",
      "[400]\tvalid_0's binary_logloss: 0.0159506\n",
      "[500]\tvalid_0's binary_logloss: 0.0181133\n",
      "[600]\tvalid_0's binary_logloss: 0.020394\n",
      "[700]\tvalid_0's binary_logloss: 0.0225841\n",
      "[800]\tvalid_0's binary_logloss: 0.0246835\n",
      "[900]\tvalid_0's binary_logloss: 0.0266211\n",
      "[1000]\tvalid_0's binary_logloss: 0.0283968\n",
      "[1100]\tvalid_0's binary_logloss: 0.0299215\n",
      "[1200]\tvalid_0's binary_logloss: 0.0313501\n",
      "[1300]\tvalid_0's binary_logloss: 0.0326974\n"
     ]
    },
    {
     "name": "stderr",
     "output_type": "stream",
     "text": [
      "\u001b[32m[I 2022-07-09 17:27:57,730]\u001b[0m Trial 29 finished with value: 0.5881376479360931 and parameters: {'max_depth': 15, 'learning_rate': 0.004480783560439096, 'n_estimators': 1392, 'num_leaves': 452, 'colsample_bytree': 0.887078586760849, 'subsample': 0.5895663699447461, 'reg_alpha': 0.8241310168655034, 'reg_lambda': 4.540555082885311}. Best is trial 12 with value: 0.6112719521622837.\u001b[0m\n"
     ]
    },
    {
     "name": "stdout",
     "output_type": "stream",
     "text": [
      "[100]\tvalid_0's binary_logloss: 0.0122027\n",
      "[200]\tvalid_0's binary_logloss: 0.0119768\n",
      "[300]\tvalid_0's binary_logloss: 0.0123781\n",
      "[400]\tvalid_0's binary_logloss: 0.0131568\n",
      "[500]\tvalid_0's binary_logloss: 0.0141784\n",
      "[600]\tvalid_0's binary_logloss: 0.0153402\n",
      "[700]\tvalid_0's binary_logloss: 0.0166027\n",
      "[800]\tvalid_0's binary_logloss: 0.0179784\n",
      "[900]\tvalid_0's binary_logloss: 0.0194727\n",
      "[1000]\tvalid_0's binary_logloss: 0.0209459\n",
      "[1100]\tvalid_0's binary_logloss: 0.0223581\n"
     ]
    },
    {
     "name": "stderr",
     "output_type": "stream",
     "text": [
      "\u001b[32m[I 2022-07-09 17:28:14,309]\u001b[0m Trial 30 finished with value: 0.590168286019872 and parameters: {'max_depth': 9, 'learning_rate': 0.0027506476764824293, 'n_estimators': 1158, 'num_leaves': 605, 'colsample_bytree': 0.997221971623493, 'subsample': 0.5763456113614744, 'reg_alpha': 0.617394184926987, 'reg_lambda': 3.1638943927849525}. Best is trial 12 with value: 0.6112719521622837.\u001b[0m\n"
     ]
    },
    {
     "name": "stdout",
     "output_type": "stream",
     "text": [
      "[100]\tvalid_0's binary_logloss: 0.0119247\n",
      "[200]\tvalid_0's binary_logloss: 0.0122911\n",
      "[300]\tvalid_0's binary_logloss: 0.0135233\n",
      "[400]\tvalid_0's binary_logloss: 0.0151941\n",
      "[500]\tvalid_0's binary_logloss: 0.0170684\n",
      "[600]\tvalid_0's binary_logloss: 0.0191658\n",
      "[700]\tvalid_0's binary_logloss: 0.021395\n",
      "[800]\tvalid_0's binary_logloss: 0.0234669\n",
      "[900]\tvalid_0's binary_logloss: 0.0254551\n",
      "[1000]\tvalid_0's binary_logloss: 0.0273554\n",
      "[1100]\tvalid_0's binary_logloss: 0.0290251\n"
     ]
    },
    {
     "name": "stderr",
     "output_type": "stream",
     "text": [
      "\u001b[32m[I 2022-07-09 17:28:32,618]\u001b[0m Trial 31 finished with value: 0.5897177165056381 and parameters: {'max_depth': 9, 'learning_rate': 0.004043741069490006, 'n_estimators': 1185, 'num_leaves': 582, 'colsample_bytree': 0.9961187166060079, 'subsample': 0.5656976135997358, 'reg_alpha': 0.19999588771985716, 'reg_lambda': 2.8843700613882906}. Best is trial 12 with value: 0.6112719521622837.\u001b[0m\n"
     ]
    },
    {
     "name": "stdout",
     "output_type": "stream",
     "text": [
      "[100]\tvalid_0's binary_logloss: 0.0134947\n",
      "[200]\tvalid_0's binary_logloss: 0.0128063\n",
      "[300]\tvalid_0's binary_logloss: 0.0124087\n",
      "[400]\tvalid_0's binary_logloss: 0.01218\n",
      "[500]\tvalid_0's binary_logloss: 0.0120331\n",
      "[600]\tvalid_0's binary_logloss: 0.0119496\n",
      "[700]\tvalid_0's binary_logloss: 0.0119294\n",
      "[800]\tvalid_0's binary_logloss: 0.0119547\n",
      "[900]\tvalid_0's binary_logloss: 0.012005\n"
     ]
    },
    {
     "name": "stderr",
     "output_type": "stream",
     "text": [
      "\u001b[32m[I 2022-07-09 17:28:43,935]\u001b[0m Trial 32 finished with value: 0.49879373800341625 and parameters: {'max_depth': 12, 'learning_rate': 0.0006962885681129394, 'n_estimators': 996, 'num_leaves': 445, 'colsample_bytree': 0.9339731181761524, 'subsample': 0.6162837682278678, 'reg_alpha': 0.7729218903054027, 'reg_lambda': 3.238377894976577}. Best is trial 12 with value: 0.6112719521622837.\u001b[0m\n"
     ]
    },
    {
     "name": "stdout",
     "output_type": "stream",
     "text": [
      "[100]\tvalid_0's binary_logloss: 0.0124168\n",
      "[200]\tvalid_0's binary_logloss: 0.0120057\n",
      "[300]\tvalid_0's binary_logloss: 0.0121267\n",
      "[400]\tvalid_0's binary_logloss: 0.0125775\n",
      "[500]\tvalid_0's binary_logloss: 0.0132407\n",
      "[600]\tvalid_0's binary_logloss: 0.0140477\n",
      "[700]\tvalid_0's binary_logloss: 0.0149547\n"
     ]
    },
    {
     "name": "stderr",
     "output_type": "stream",
     "text": [
      "\u001b[32m[I 2022-07-09 17:28:52,868]\u001b[0m Trial 33 finished with value: 0.5930529748608622 and parameters: {'max_depth': 10, 'learning_rate': 0.002231869161119491, 'n_estimators': 713, 'num_leaves': 658, 'colsample_bytree': 0.9584221959822048, 'subsample': 0.6784493315105854, 'reg_alpha': 1.4026830582619945, 'reg_lambda': 3.583444520386677}. Best is trial 12 with value: 0.6112719521622837.\u001b[0m\n"
     ]
    },
    {
     "name": "stdout",
     "output_type": "stream",
     "text": [
      "[100]\tvalid_0's binary_logloss: 0.0145329\n",
      "[200]\tvalid_0's binary_logloss: 0.0142508\n",
      "[300]\tvalid_0's binary_logloss: 0.0140081\n",
      "[400]\tvalid_0's binary_logloss: 0.0137954\n"
     ]
    },
    {
     "name": "stderr",
     "output_type": "stream",
     "text": [
      "\u001b[32m[I 2022-07-09 17:28:59,217]\u001b[0m Trial 34 finished with value: 0.4997363518121419 and parameters: {'max_depth': 9, 'learning_rate': 0.00012842435035177084, 'n_estimators': 498, 'num_leaves': 659, 'colsample_bytree': 0.958721058165896, 'subsample': 0.6747268134366159, 'reg_alpha': 0.5338615840615966, 'reg_lambda': 3.6716100922472097}. Best is trial 12 with value: 0.6112719521622837.\u001b[0m\n"
     ]
    },
    {
     "name": "stdout",
     "output_type": "stream",
     "text": [
      "[100]\tvalid_0's binary_logloss: 0.0140061\n",
      "[200]\tvalid_0's binary_logloss: 0.013444\n",
      "[300]\tvalid_0's binary_logloss: 0.0130304\n",
      "[400]\tvalid_0's binary_logloss: 0.0127309\n",
      "[500]\tvalid_0's binary_logloss: 0.0125159\n",
      "[600]\tvalid_0's binary_logloss: 0.0123605\n"
     ]
    },
    {
     "name": "stderr",
     "output_type": "stream",
     "text": [
      "\u001b[32m[I 2022-07-09 17:29:07,053]\u001b[0m Trial 35 finished with value: 0.4997363518121419 and parameters: {'max_depth': 10, 'learning_rate': 0.0004148188950560253, 'n_estimators': 687, 'num_leaves': 688, 'colsample_bytree': 0.9995190484168635, 'subsample': 0.5801690913342323, 'reg_alpha': 1.3351138334447994, 'reg_lambda': 4.3578443138164715}. Best is trial 12 with value: 0.6112719521622837.\u001b[0m\n"
     ]
    },
    {
     "name": "stdout",
     "output_type": "stream",
     "text": [
      "[100]\tvalid_0's binary_logloss: 0.0130438\n",
      "[200]\tvalid_0's binary_logloss: 0.0123864\n",
      "[300]\tvalid_0's binary_logloss: 0.0121072\n",
      "[400]\tvalid_0's binary_logloss: 0.0120123\n",
      "[500]\tvalid_0's binary_logloss: 0.0120639\n"
     ]
    },
    {
     "name": "stderr",
     "output_type": "stream",
     "text": [
      "\u001b[32m[I 2022-07-09 17:29:13,294]\u001b[0m Trial 36 finished with value: 0.4988113895296625 and parameters: {'max_depth': 7, 'learning_rate': 0.0012191547142897357, 'n_estimators': 588, 'num_leaves': 593, 'colsample_bytree': 0.9339220033260627, 'subsample': 0.5205034954858563, 'reg_alpha': 1.7111234329941185, 'reg_lambda': 4.124640359741744}. Best is trial 12 with value: 0.6112719521622837.\u001b[0m\n"
     ]
    },
    {
     "name": "stdout",
     "output_type": "stream",
     "text": [
      "[100]\tvalid_0's binary_logloss: 0.0123255\n",
      "[200]\tvalid_0's binary_logloss: 0.0119809\n",
      "[300]\tvalid_0's binary_logloss: 0.0122056\n",
      "[400]\tvalid_0's binary_logloss: 0.0127766\n",
      "[500]\tvalid_0's binary_logloss: 0.013574\n",
      "[600]\tvalid_0's binary_logloss: 0.0145053\n",
      "[700]\tvalid_0's binary_logloss: 0.0155438\n",
      "[800]\tvalid_0's binary_logloss: 0.0166482\n",
      "[900]\tvalid_0's binary_logloss: 0.0178311\n"
     ]
    },
    {
     "name": "stderr",
     "output_type": "stream",
     "text": [
      "\u001b[32m[I 2022-07-09 17:29:25,409]\u001b[0m Trial 37 finished with value: 0.5929311111254276 and parameters: {'max_depth': 11, 'learning_rate': 0.0024360197255062772, 'n_estimators': 940, 'num_leaves': 516, 'colsample_bytree': 0.9035088274548975, 'subsample': 0.7295827708522342, 'reg_alpha': 1.1910420550607235, 'reg_lambda': 3.5096749952096338}. Best is trial 12 with value: 0.6112719521622837.\u001b[0m\n"
     ]
    },
    {
     "name": "stdout",
     "output_type": "stream",
     "text": [
      "[100]\tvalid_0's binary_logloss: 0.0136867\n",
      "[200]\tvalid_0's binary_logloss: 0.0130258\n",
      "[300]\tvalid_0's binary_logloss: 0.0126113\n",
      "[400]\tvalid_0's binary_logloss: 0.0123432\n",
      "[500]\tvalid_0's binary_logloss: 0.0121692\n",
      "[600]\tvalid_0's binary_logloss: 0.012055\n",
      "[700]\tvalid_0's binary_logloss: 0.0119849\n",
      "[800]\tvalid_0's binary_logloss: 0.0119475\n",
      "[900]\tvalid_0's binary_logloss: 0.011942\n"
     ]
    },
    {
     "name": "stderr",
     "output_type": "stream",
     "text": [
      "\u001b[32m[I 2022-07-09 17:29:35,289]\u001b[0m Trial 38 finished with value: 0.4997363518121419 and parameters: {'max_depth': 11, 'learning_rate': 0.0005750483767997521, 'n_estimators': 926, 'num_leaves': 526, 'colsample_bytree': 0.8311554812252515, 'subsample': 0.76352835631152, 'reg_alpha': 1.0936299477791422, 'reg_lambda': 3.5985067501394146}. Best is trial 12 with value: 0.6112719521622837.\u001b[0m\n"
     ]
    },
    {
     "name": "stdout",
     "output_type": "stream",
     "text": [
      "[100]\tvalid_0's binary_logloss: 0.0148781\n",
      "[200]\tvalid_0's binary_logloss: 0.0148661\n",
      "[300]\tvalid_0's binary_logloss: 0.0148542\n",
      "[400]\tvalid_0's binary_logloss: 0.0148418\n",
      "[500]\tvalid_0's binary_logloss: 0.0148294\n",
      "[600]\tvalid_0's binary_logloss: 0.0148171\n",
      "[700]\tvalid_0's binary_logloss: 0.014805\n"
     ]
    },
    {
     "name": "stderr",
     "output_type": "stream",
     "text": [
      "\u001b[32m[I 2022-07-09 17:29:43,647]\u001b[0m Trial 39 finished with value: 0.4997363518121419 and parameters: {'max_depth': 11, 'learning_rate': 4.519542591674638e-06, 'n_estimators': 743, 'num_leaves': 497, 'colsample_bytree': 0.9040236409358386, 'subsample': 0.7458278460209566, 'reg_alpha': 1.513928813789622, 'reg_lambda': 4.980437539892035}. Best is trial 12 with value: 0.6112719521622837.\u001b[0m\n"
     ]
    },
    {
     "name": "stdout",
     "output_type": "stream",
     "text": [
      "[100]\tvalid_0's binary_logloss: 0.0147597\n",
      "[200]\tvalid_0's binary_logloss: 0.0146324\n",
      "[300]\tvalid_0's binary_logloss: 0.0145132\n",
      "[400]\tvalid_0's binary_logloss: 0.0144019\n",
      "[500]\tvalid_0's binary_logloss: 0.0142966\n",
      "[600]\tvalid_0's binary_logloss: 0.0142016\n",
      "[700]\tvalid_0's binary_logloss: 0.0141114\n",
      "[800]\tvalid_0's binary_logloss: 0.014027\n",
      "[900]\tvalid_0's binary_logloss: 0.0139476\n"
     ]
    },
    {
     "name": "stderr",
     "output_type": "stream",
     "text": [
      "\u001b[32m[I 2022-07-09 17:29:53,699]\u001b[0m Trial 40 finished with value: 0.4997363518121419 and parameters: {'max_depth': 8, 'learning_rate': 4.055139572345288e-05, 'n_estimators': 980, 'num_leaves': 320, 'colsample_bytree': 0.778556269501035, 'subsample': 0.7122520054867232, 'reg_alpha': 1.9507854179708954, 'reg_lambda': 2.6927904722125735}. Best is trial 12 with value: 0.6112719521622837.\u001b[0m\n"
     ]
    },
    {
     "name": "stdout",
     "output_type": "stream",
     "text": [
      "[100]\tvalid_0's binary_logloss: 0.0120248\n",
      "[200]\tvalid_0's binary_logloss: 0.0122048\n",
      "[300]\tvalid_0's binary_logloss: 0.0131951\n",
      "[400]\tvalid_0's binary_logloss: 0.0146138\n",
      "[500]\tvalid_0's binary_logloss: 0.0162373\n",
      "[600]\tvalid_0's binary_logloss: 0.0180631\n",
      "[700]\tvalid_0's binary_logloss: 0.0200733\n",
      "[800]\tvalid_0's binary_logloss: 0.0220317\n",
      "[900]\tvalid_0's binary_logloss: 0.0238691\n",
      "[1000]\tvalid_0's binary_logloss: 0.0256298\n",
      "[1100]\tvalid_0's binary_logloss: 0.0273309\n"
     ]
    },
    {
     "name": "stderr",
     "output_type": "stream",
     "text": [
      "\u001b[32m[I 2022-07-09 17:30:11,878]\u001b[0m Trial 41 finished with value: 0.5872370018743094 and parameters: {'max_depth': 12, 'learning_rate': 0.00370709743750437, 'n_estimators': 1159, 'num_leaves': 622, 'colsample_bytree': 0.9618065545830806, 'subsample': 0.6422402212727237, 'reg_alpha': 0.5428632835907198, 'reg_lambda': 3.182824201762424}. Best is trial 12 with value: 0.6112719521622837.\u001b[0m\n"
     ]
    },
    {
     "name": "stdout",
     "output_type": "stream",
     "text": [
      "[100]\tvalid_0's binary_logloss: 0.0123698\n",
      "[200]\tvalid_0's binary_logloss: 0.011969\n",
      "[300]\tvalid_0's binary_logloss: 0.0121024\n",
      "[400]\tvalid_0's binary_logloss: 0.0125582\n",
      "[500]\tvalid_0's binary_logloss: 0.0132293\n",
      "[600]\tvalid_0's binary_logloss: 0.0140407\n"
     ]
    },
    {
     "name": "stderr",
     "output_type": "stream",
     "text": [
      "\u001b[32m[I 2022-07-09 17:30:20,614]\u001b[0m Trial 42 finished with value: 0.595814266128123 and parameters: {'max_depth': 10, 'learning_rate': 0.002239168670757846, 'n_estimators': 651, 'num_leaves': 733, 'colsample_bytree': 0.9470707132746011, 'subsample': 0.5373232731563176, 'reg_alpha': 1.6684190442715663, 'reg_lambda': 3.0530273637999463}. Best is trial 12 with value: 0.6112719521622837.\u001b[0m\n"
     ]
    },
    {
     "name": "stdout",
     "output_type": "stream",
     "text": [
      "[100]\tvalid_0's binary_logloss: 0.0130878\n",
      "[200]\tvalid_0's binary_logloss: 0.012413\n",
      "[300]\tvalid_0's binary_logloss: 0.0121187\n"
     ]
    },
    {
     "name": "stderr",
     "output_type": "stream",
     "text": [
      "\u001b[32m[I 2022-07-09 17:30:24,297]\u001b[0m Trial 43 finished with value: 0.4997363518121419 and parameters: {'max_depth': 10, 'learning_rate': 0.001132492284392473, 'n_estimators': 306, 'num_leaves': 776, 'colsample_bytree': 0.9073401382417506, 'subsample': 0.8674481083608687, 'reg_alpha': 1.7098066377515027, 'reg_lambda': 3.822422064491427}. Best is trial 12 with value: 0.6112719521622837.\u001b[0m\n"
     ]
    },
    {
     "name": "stdout",
     "output_type": "stream",
     "text": [
      "[100]\tvalid_0's binary_logloss: 0.0129686\n",
      "[200]\tvalid_0's binary_logloss: 0.0168269\n",
      "[300]\tvalid_0's binary_logloss: 0.021566\n",
      "[400]\tvalid_0's binary_logloss: 0.0257318\n",
      "[500]\tvalid_0's binary_logloss: 0.0291623\n",
      "[600]\tvalid_0's binary_logloss: 0.0319956\n"
     ]
    },
    {
     "name": "stderr",
     "output_type": "stream",
     "text": [
      "\u001b[32m[I 2022-07-09 17:30:33,606]\u001b[0m Trial 44 finished with value: 0.5890794640794641 and parameters: {'max_depth': 10, 'learning_rate': 0.009762719700036076, 'n_estimators': 662, 'num_leaves': 713, 'colsample_bytree': 0.8588154570572276, 'subsample': 0.5343063637614076, 'reg_alpha': 2.2979416456614152, 'reg_lambda': 3.448896123860446}. Best is trial 12 with value: 0.6112719521622837.\u001b[0m\n"
     ]
    },
    {
     "name": "stdout",
     "output_type": "stream",
     "text": [
      "[100]\tvalid_0's binary_logloss: 0.0138001\n",
      "[200]\tvalid_0's binary_logloss: 0.0131794\n",
      "[300]\tvalid_0's binary_logloss: 0.0127632\n",
      "[400]\tvalid_0's binary_logloss: 0.0124809\n",
      "[500]\tvalid_0's binary_logloss: 0.0122905\n"
     ]
    },
    {
     "name": "stderr",
     "output_type": "stream",
     "text": [
      "\u001b[32m[I 2022-07-09 17:30:39,907]\u001b[0m Trial 45 finished with value: 0.4997363518121419 and parameters: {'max_depth': 13, 'learning_rate': 0.0004777040956621406, 'n_estimators': 531, 'num_leaves': 765, 'colsample_bytree': 0.952453709705359, 'subsample': 0.6808166739625944, 'reg_alpha': 1.1277677063466172, 'reg_lambda': 3.002882798328159}. Best is trial 12 with value: 0.6112719521622837.\u001b[0m\n"
     ]
    },
    {
     "name": "stdout",
     "output_type": "stream",
     "text": [
      "[100]\tvalid_0's binary_logloss: 0.0125705\n",
      "[200]\tvalid_0's binary_logloss: 0.0120713\n",
      "[300]\tvalid_0's binary_logloss: 0.012057\n",
      "[400]\tvalid_0's binary_logloss: 0.0123219\n",
      "[500]\tvalid_0's binary_logloss: 0.0127988\n",
      "[600]\tvalid_0's binary_logloss: 0.0134163\n",
      "[700]\tvalid_0's binary_logloss: 0.0141297\n",
      "[800]\tvalid_0's binary_logloss: 0.0149106\n"
     ]
    },
    {
     "name": "stderr",
     "output_type": "stream",
     "text": [
      "\u001b[32m[I 2022-07-09 17:30:51,524]\u001b[0m Trial 46 finished with value: 0.5934382646339168 and parameters: {'max_depth': 11, 'learning_rate': 0.0019511319426844561, 'n_estimators': 871, 'num_leaves': 887, 'colsample_bytree': 0.897930701031006, 'subsample': 0.7801431889960021, 'reg_alpha': 1.4039177066882453, 'reg_lambda': 4.275369268379363}. Best is trial 12 with value: 0.6112719521622837.\u001b[0m\n"
     ]
    },
    {
     "name": "stdout",
     "output_type": "stream",
     "text": [
      "[100]\tvalid_0's binary_logloss: 0.0145033\n",
      "[200]\tvalid_0's binary_logloss: 0.0141977\n",
      "[300]\tvalid_0's binary_logloss: 0.0139388\n"
     ]
    },
    {
     "name": "stderr",
     "output_type": "stream",
     "text": [
      "\u001b[32m[I 2022-07-09 17:30:56,058]\u001b[0m Trial 47 finished with value: 0.4997363518121419 and parameters: {'max_depth': 8, 'learning_rate': 0.00015412579518721335, 'n_estimators': 392, 'num_leaves': 865, 'colsample_bytree': 0.9479586291037637, 'subsample': 0.8542578844625922, 'reg_alpha': 1.4271617302792374, 'reg_lambda': 4.566873129842791}. Best is trial 12 with value: 0.6112719521622837.\u001b[0m\n"
     ]
    },
    {
     "name": "stdout",
     "output_type": "stream",
     "text": [
      "[100]\tvalid_0's binary_logloss: 0.0129954\n",
      "[200]\tvalid_0's binary_logloss: 0.0123359\n",
      "[300]\tvalid_0's binary_logloss: 0.0120822\n",
      "[400]\tvalid_0's binary_logloss: 0.0120251\n",
      "[500]\tvalid_0's binary_logloss: 0.0121159\n",
      "[600]\tvalid_0's binary_logloss: 0.0123123\n",
      "[700]\tvalid_0's binary_logloss: 0.0126017\n"
     ]
    },
    {
     "name": "stderr",
     "output_type": "stream",
     "text": [
      "\u001b[32m[I 2022-07-09 17:31:04,325]\u001b[0m Trial 48 finished with value: 0.5850221345760523 and parameters: {'max_depth': 13, 'learning_rate': 0.0012951083427509545, 'n_estimators': 745, 'num_leaves': 975, 'colsample_bytree': 0.8099932776021564, 'subsample': 0.7936323779403917, 'reg_alpha': 1.8255613438333476, 'reg_lambda': 4.226466358270622}. Best is trial 12 with value: 0.6112719521622837.\u001b[0m\n"
     ]
    },
    {
     "name": "stdout",
     "output_type": "stream",
     "text": [
      "[100]\tvalid_0's binary_logloss: 0.0148899\n",
      "[200]\tvalid_0's binary_logloss: 0.0148893\n",
      "[300]\tvalid_0's binary_logloss: 0.0148887\n",
      "[400]\tvalid_0's binary_logloss: 0.0148882\n",
      "[500]\tvalid_0's binary_logloss: 0.0148876\n",
      "[600]\tvalid_0's binary_logloss: 0.014887\n",
      "[700]\tvalid_0's binary_logloss: 0.0148864\n",
      "[800]\tvalid_0's binary_logloss: 0.0148859\n"
     ]
    },
    {
     "name": "stderr",
     "output_type": "stream",
     "text": [
      "\u001b[32m[I 2022-07-09 17:31:13,464]\u001b[0m Trial 49 finished with value: 0.4997363518121419 and parameters: {'max_depth': 10, 'learning_rate': 1.939342452562382e-07, 'n_estimators': 836, 'num_leaves': 801, 'colsample_bytree': 0.7235997646267025, 'subsample': 0.9084975525168463, 'reg_alpha': 2.238730401243292, 'reg_lambda': 4.471403528648795}. Best is trial 12 with value: 0.6112719521622837.\u001b[0m\n"
     ]
    },
    {
     "name": "stdout",
     "output_type": "stream",
     "text": [
      "[100]\tvalid_0's binary_logloss: 0.0135909\n",
      "[200]\tvalid_0's binary_logloss: 0.0129103\n",
      "[300]\tvalid_0's binary_logloss: 0.0125176\n",
      "[400]\tvalid_0's binary_logloss: 0.0122796\n",
      "[500]\tvalid_0's binary_logloss: 0.0121377\n"
     ]
    },
    {
     "name": "stderr",
     "output_type": "stream",
     "text": [
      "\u001b[32m[I 2022-07-09 17:31:19,132]\u001b[0m Trial 50 finished with value: 0.4997363518121419 and parameters: {'max_depth': 6, 'learning_rate': 0.0007023976432096613, 'n_estimators': 596, 'num_leaves': 902, 'colsample_bytree': 0.8746471359118386, 'subsample': 0.5143151823428487, 'reg_alpha': 3.061716826646118, 'reg_lambda': 4.045447076477416}. Best is trial 12 with value: 0.6112719521622837.\u001b[0m\n"
     ]
    },
    {
     "name": "stdout",
     "output_type": "stream",
     "text": [
      "[100]\tvalid_0's binary_logloss: 0.0121116\n",
      "[200]\tvalid_0's binary_logloss: 0.0136669\n",
      "[300]\tvalid_0's binary_logloss: 0.0162094\n",
      "[400]\tvalid_0's binary_logloss: 0.0192363\n",
      "[500]\tvalid_0's binary_logloss: 0.0223101\n",
      "[600]\tvalid_0's binary_logloss: 0.0251524\n",
      "[700]\tvalid_0's binary_logloss: 0.0276889\n",
      "[800]\tvalid_0's binary_logloss: 0.0298382\n",
      "[900]\tvalid_0's binary_logloss: 0.0317567\n"
     ]
    },
    {
     "name": "stderr",
     "output_type": "stream",
     "text": [
      "\u001b[32m[I 2022-07-09 17:31:32,730]\u001b[0m Trial 51 finished with value: 0.5856834265925175 and parameters: {'max_depth': 11, 'learning_rate': 0.006115707864928023, 'n_estimators': 914, 'num_leaves': 862, 'colsample_bytree': 0.9050623941076082, 'subsample': 0.7330470873809696, 'reg_alpha': 1.4374026158704298, 'reg_lambda': 3.428557893542626}. Best is trial 12 with value: 0.6112719521622837.\u001b[0m\n"
     ]
    },
    {
     "name": "stdout",
     "output_type": "stream",
     "text": [
      "[100]\tvalid_0's binary_logloss: 0.012821\n",
      "[200]\tvalid_0's binary_logloss: 0.0122088\n",
      "[300]\tvalid_0's binary_logloss: 0.0120061\n",
      "[400]\tvalid_0's binary_logloss: 0.0120294\n",
      "[500]\tvalid_0's binary_logloss: 0.0122088\n",
      "[600]\tvalid_0's binary_logloss: 0.0125081\n",
      "[700]\tvalid_0's binary_logloss: 0.0129126\n",
      "[800]\tvalid_0's binary_logloss: 0.0133889\n",
      "[900]\tvalid_0's binary_logloss: 0.013922\n",
      "[1000]\tvalid_0's binary_logloss: 0.0145003\n"
     ]
    },
    {
     "name": "stderr",
     "output_type": "stream",
     "text": [
      "\u001b[32m[I 2022-07-09 17:31:45,616]\u001b[0m Trial 52 finished with value: 0.5950097782756085 and parameters: {'max_depth': 11, 'learning_rate': 0.001456292206078847, 'n_estimators': 1053, 'num_leaves': 665, 'colsample_bytree': 0.9779454354401145, 'subsample': 0.7812404326565549, 'reg_alpha': 1.050109725459238, 'reg_lambda': 3.87260736610438}. Best is trial 12 with value: 0.6112719521622837.\u001b[0m\n"
     ]
    },
    {
     "name": "stdout",
     "output_type": "stream",
     "text": [
      "[100]\tvalid_0's binary_logloss: 0.0127065\n",
      "[200]\tvalid_0's binary_logloss: 0.0121517\n",
      "[300]\tvalid_0's binary_logloss: 0.0120583\n",
      "[400]\tvalid_0's binary_logloss: 0.0122344\n",
      "[500]\tvalid_0's binary_logloss: 0.0125939\n",
      "[600]\tvalid_0's binary_logloss: 0.0130872\n",
      "[700]\tvalid_0's binary_logloss: 0.0136795\n",
      "[800]\tvalid_0's binary_logloss: 0.0143406\n",
      "[900]\tvalid_0's binary_logloss: 0.0150598\n",
      "[1000]\tvalid_0's binary_logloss: 0.0158298\n"
     ]
    },
    {
     "name": "stderr",
     "output_type": "stream",
     "text": [
      "\u001b[32m[I 2022-07-09 17:31:58,394]\u001b[0m Trial 53 finished with value: 0.5911702928379186 and parameters: {'max_depth': 12, 'learning_rate': 0.0017646152543231606, 'n_estimators': 1038, 'num_leaves': 669, 'colsample_bytree': 0.9785022044691257, 'subsample': 0.7924975361297094, 'reg_alpha': 1.6885605762125624, 'reg_lambda': 4.765470602929582}. Best is trial 12 with value: 0.6112719521622837.\u001b[0m\n"
     ]
    },
    {
     "name": "stdout",
     "output_type": "stream",
     "text": [
      "[100]\tvalid_0's binary_logloss: 0.0141275\n",
      "[200]\tvalid_0's binary_logloss: 0.0136209\n",
      "[300]\tvalid_0's binary_logloss: 0.013239\n",
      "[400]\tvalid_0's binary_logloss: 0.012943\n",
      "[500]\tvalid_0's binary_logloss: 0.0127147\n",
      "[600]\tvalid_0's binary_logloss: 0.0125401\n",
      "[700]\tvalid_0's binary_logloss: 0.012404\n",
      "[800]\tvalid_0's binary_logloss: 0.0122965\n",
      "[900]\tvalid_0's binary_logloss: 0.0122094\n",
      "[1000]\tvalid_0's binary_logloss: 0.012141\n",
      "[1100]\tvalid_0's binary_logloss: 0.0120882\n",
      "[1200]\tvalid_0's binary_logloss: 0.0120462\n",
      "[1300]\tvalid_0's binary_logloss: 0.0120189\n",
      "[1400]\tvalid_0's binary_logloss: 0.0120055\n"
     ]
    },
    {
     "name": "stderr",
     "output_type": "stream",
     "text": [
      "\u001b[32m[I 2022-07-09 17:32:13,752]\u001b[0m Trial 54 finished with value: 0.4997363518121419 and parameters: {'max_depth': 9, 'learning_rate': 0.0003281329924176954, 'n_estimators': 1416, 'num_leaves': 718, 'colsample_bytree': 0.9765809479935043, 'subsample': 0.8256954277928333, 'reg_alpha': 1.9301033513161396, 'reg_lambda': 3.862891684781539}. Best is trial 12 with value: 0.6112719521622837.\u001b[0m\n"
     ]
    },
    {
     "name": "stdout",
     "output_type": "stream",
     "text": [
      "[100]\tvalid_0's binary_logloss: 0.0133584\n",
      "[200]\tvalid_0's binary_logloss: 0.0126507\n",
      "[300]\tvalid_0's binary_logloss: 0.0122921\n",
      "[400]\tvalid_0's binary_logloss: 0.0121025\n"
     ]
    },
    {
     "name": "stderr",
     "output_type": "stream",
     "text": [
      "\u001b[32m[I 2022-07-09 17:32:19,175]\u001b[0m Trial 55 finished with value: 0.4997363518121419 and parameters: {'max_depth': 9, 'learning_rate': 0.0008935327639014013, 'n_estimators': 428, 'num_leaves': 782, 'colsample_bytree': 0.935712828754634, 'subsample': 0.7802984154446608, 'reg_alpha': 1.04937758950192, 'reg_lambda': 4.272169896869433}. Best is trial 12 with value: 0.6112719521622837.\u001b[0m\n"
     ]
    },
    {
     "name": "stdout",
     "output_type": "stream",
     "text": [
      "[100]\tvalid_0's binary_logloss: 0.0124567\n",
      "[200]\tvalid_0's binary_logloss: 0.0120234\n",
      "[300]\tvalid_0's binary_logloss: 0.0121152\n",
      "[400]\tvalid_0's binary_logloss: 0.0125201\n",
      "[500]\tvalid_0's binary_logloss: 0.013141\n",
      "[600]\tvalid_0's binary_logloss: 0.0139045\n",
      "[700]\tvalid_0's binary_logloss: 0.0147566\n",
      "[800]\tvalid_0's binary_logloss: 0.0156866\n",
      "[900]\tvalid_0's binary_logloss: 0.0166774\n",
      "[1000]\tvalid_0's binary_logloss: 0.0177422\n",
      "[1100]\tvalid_0's binary_logloss: 0.0188193\n",
      "[1200]\tvalid_0's binary_logloss: 0.0199011\n",
      "[1300]\tvalid_0's binary_logloss: 0.0209477\n",
      "[1400]\tvalid_0's binary_logloss: 0.021967\n",
      "[1500]\tvalid_0's binary_logloss: 0.0229688\n"
     ]
    },
    {
     "name": "stderr",
     "output_type": "stream",
     "text": [
      "\u001b[32m[I 2022-07-09 17:32:40,494]\u001b[0m Trial 56 finished with value: 0.5898336326062799 and parameters: {'max_depth': 10, 'learning_rate': 0.0021801488088018482, 'n_estimators': 1502, 'num_leaves': 831, 'colsample_bytree': 0.8238852477462136, 'subsample': 0.547012641293741, 'reg_alpha': 1.59620409134821, 'reg_lambda': 3.7919577588987714}. Best is trial 12 with value: 0.6112719521622837.\u001b[0m\n"
     ]
    },
    {
     "name": "stdout",
     "output_type": "stream",
     "text": [
      "[100]\tvalid_0's binary_logloss: 0.0120263\n",
      "[200]\tvalid_0's binary_logloss: 0.0134475\n",
      "[300]\tvalid_0's binary_logloss: 0.0158272\n"
     ]
    },
    {
     "name": "stderr",
     "output_type": "stream",
     "text": [
      "\u001b[32m[I 2022-07-09 17:32:44,705]\u001b[0m Trial 57 finished with value: 0.5904370160405739 and parameters: {'max_depth': 11, 'learning_rate': 0.005893943688762933, 'n_estimators': 304, 'num_leaves': 561, 'colsample_bytree': 0.9221538130362743, 'subsample': 0.8428910399788149, 'reg_alpha': 1.3149460353573026, 'reg_lambda': 2.722470377874688}. Best is trial 12 with value: 0.6112719521622837.\u001b[0m\n"
     ]
    },
    {
     "name": "stdout",
     "output_type": "stream",
     "text": [
      "[100]\tvalid_0's binary_logloss: 0.0148903\n",
      "[200]\tvalid_0's binary_logloss: 0.0148903\n",
      "[300]\tvalid_0's binary_logloss: 0.0148902\n",
      "[400]\tvalid_0's binary_logloss: 0.0148901\n",
      "[500]\tvalid_0's binary_logloss: 0.01489\n",
      "[600]\tvalid_0's binary_logloss: 0.0148899\n",
      "[700]\tvalid_0's binary_logloss: 0.0148899\n"
     ]
    },
    {
     "name": "stderr",
     "output_type": "stream",
     "text": [
      "\u001b[32m[I 2022-07-09 17:32:50,554]\u001b[0m Trial 58 finished with value: 0.4997363518121419 and parameters: {'max_depth': 4, 'learning_rate': 2.8498875764203798e-08, 'n_estimators': 768, 'num_leaves': 641, 'colsample_bytree': 0.8554119483417804, 'subsample': 0.5036234773599665, 'reg_alpha': 0.40158071189368294, 'reg_lambda': 3.96701724005933}. Best is trial 12 with value: 0.6112719521622837.\u001b[0m\n"
     ]
    },
    {
     "name": "stdout",
     "output_type": "stream",
     "text": [
      "[100]\tvalid_0's binary_logloss: 0.0130261\n",
      "[200]\tvalid_0's binary_logloss: 0.0124521\n",
      "[300]\tvalid_0's binary_logloss: 0.0122309\n",
      "[400]\tvalid_0's binary_logloss: 0.0122047\n",
      "[500]\tvalid_0's binary_logloss: 0.0123031\n",
      "[600]\tvalid_0's binary_logloss: 0.0124936\n",
      "[700]\tvalid_0's binary_logloss: 0.0127667\n",
      "[800]\tvalid_0's binary_logloss: 0.0130873\n",
      "[900]\tvalid_0's binary_logloss: 0.0134449\n",
      "[1000]\tvalid_0's binary_logloss: 0.013826\n",
      "[1100]\tvalid_0's binary_logloss: 0.0142162\n",
      "[1200]\tvalid_0's binary_logloss: 0.0146411\n",
      "[1300]\tvalid_0's binary_logloss: 0.0150845\n",
      "[1400]\tvalid_0's binary_logloss: 0.0155291\n",
      "[1500]\tvalid_0's binary_logloss: 0.0159659\n",
      "[1600]\tvalid_0's binary_logloss: 0.0164125\n",
      "[1700]\tvalid_0's binary_logloss: 0.0168416\n",
      "[1800]\tvalid_0's binary_logloss: 0.0172667\n"
     ]
    },
    {
     "name": "stderr",
     "output_type": "stream",
     "text": [
      "\u001b[32m[I 2022-07-09 17:33:05,183]\u001b[0m Trial 59 finished with value: 0.575765563282773 and parameters: {'max_depth': 3, 'learning_rate': 0.0013893743870543461, 'n_estimators': 1809, 'num_leaves': 740, 'colsample_bytree': 0.8893782436986308, 'subsample': 0.7557661894043713, 'reg_alpha': 0.9802063161781249, 'reg_lambda': 3.308505285502353}. Best is trial 12 with value: 0.6112719521622837.\u001b[0m\n"
     ]
    },
    {
     "name": "stdout",
     "output_type": "stream",
     "text": [
      "[100]\tvalid_0's binary_logloss: 0.0142791\n",
      "[200]\tvalid_0's binary_logloss: 0.0138522\n",
      "[300]\tvalid_0's binary_logloss: 0.0135188\n",
      "[400]\tvalid_0's binary_logloss: 0.0132441\n",
      "[500]\tvalid_0's binary_logloss: 0.01302\n",
      "[600]\tvalid_0's binary_logloss: 0.0128409\n",
      "[700]\tvalid_0's binary_logloss: 0.0126889\n",
      "[800]\tvalid_0's binary_logloss: 0.0125621\n",
      "[900]\tvalid_0's binary_logloss: 0.0124537\n",
      "[1000]\tvalid_0's binary_logloss: 0.0123613\n",
      "[1100]\tvalid_0's binary_logloss: 0.0122828\n",
      "[1200]\tvalid_0's binary_logloss: 0.0122157\n",
      "[1300]\tvalid_0's binary_logloss: 0.0121589\n",
      "[1400]\tvalid_0's binary_logloss: 0.012111\n",
      "[1500]\tvalid_0's binary_logloss: 0.0120721\n",
      "[1600]\tvalid_0's binary_logloss: 0.0120396\n"
     ]
    },
    {
     "name": "stderr",
     "output_type": "stream",
     "text": [
      "\u001b[32m[I 2022-07-09 17:33:20,439]\u001b[0m Trial 60 finished with value: 0.4997363518121419 and parameters: {'max_depth': 5, 'learning_rate': 0.00022287323954559804, 'n_estimators': 1608, 'num_leaves': 693, 'colsample_bytree': 0.9478360819774232, 'subsample': 0.5460325471893048, 'reg_alpha': 2.074798113101703, 'reg_lambda': 2.527521803651648}. Best is trial 12 with value: 0.6112719521622837.\u001b[0m\n"
     ]
    },
    {
     "name": "stdout",
     "output_type": "stream",
     "text": [
      "[100]\tvalid_0's binary_logloss: 0.0122453\n",
      "[200]\tvalid_0's binary_logloss: 0.0120125\n",
      "[300]\tvalid_0's binary_logloss: 0.0124131\n",
      "[400]\tvalid_0's binary_logloss: 0.0131935\n",
      "[500]\tvalid_0's binary_logloss: 0.0141939\n",
      "[600]\tvalid_0's binary_logloss: 0.0153464\n",
      "[700]\tvalid_0's binary_logloss: 0.0165957\n",
      "[800]\tvalid_0's binary_logloss: 0.0179656\n"
     ]
    },
    {
     "name": "stderr",
     "output_type": "stream",
     "text": [
      "\u001b[32m[I 2022-07-09 17:33:33,195]\u001b[0m Trial 61 finished with value: 0.5929311111254276 and parameters: {'max_depth': 11, 'learning_rate': 0.0027660632331806515, 'n_estimators': 892, 'num_leaves': 493, 'colsample_bytree': 0.9175687381296982, 'subsample': 0.7843029406491674, 'reg_alpha': 1.2199621056495997, 'reg_lambda': 3.6304705490342526}. Best is trial 12 with value: 0.6112719521622837.\u001b[0m\n"
     ]
    },
    {
     "name": "stdout",
     "output_type": "stream",
     "text": [
      "[100]\tvalid_0's binary_logloss: 0.0121893\n",
      "[200]\tvalid_0's binary_logloss: 0.0120428\n",
      "[300]\tvalid_0's binary_logloss: 0.0125572\n",
      "[400]\tvalid_0's binary_logloss: 0.0134691\n",
      "[500]\tvalid_0's binary_logloss: 0.0146116\n",
      "[600]\tvalid_0's binary_logloss: 0.015887\n"
     ]
    },
    {
     "name": "stderr",
     "output_type": "stream",
     "text": [
      "\u001b[32m[I 2022-07-09 17:33:43,854]\u001b[0m Trial 62 finished with value: 0.5893575043033268 and parameters: {'max_depth': 12, 'learning_rate': 0.0029665967219272395, 'n_estimators': 652, 'num_leaves': 482, 'colsample_bytree': 0.976663188714516, 'subsample': 0.7837284983870302, 'reg_alpha': 0.8097015372607395, 'reg_lambda': 3.650722520474055}. Best is trial 12 with value: 0.6112719521622837.\u001b[0m\n"
     ]
    },
    {
     "name": "stdout",
     "output_type": "stream",
     "text": [
      "[100]\tvalid_0's binary_logloss: 0.0122231\n",
      "[200]\tvalid_0's binary_logloss: 0.0141872\n",
      "[300]\tvalid_0's binary_logloss: 0.0170181\n",
      "[400]\tvalid_0's binary_logloss: 0.0201921\n",
      "[500]\tvalid_0's binary_logloss: 0.0231594\n",
      "[600]\tvalid_0's binary_logloss: 0.0258656\n",
      "[700]\tvalid_0's binary_logloss: 0.0281581\n",
      "[800]\tvalid_0's binary_logloss: 0.0301375\n",
      "[900]\tvalid_0's binary_logloss: 0.0319025\n",
      "[1000]\tvalid_0's binary_logloss: 0.0333754\n",
      "[1100]\tvalid_0's binary_logloss: 0.034602\n",
      "[1200]\tvalid_0's binary_logloss: 0.0356943\n"
     ]
    },
    {
     "name": "stderr",
     "output_type": "stream",
     "text": [
      "\u001b[32m[I 2022-07-09 17:33:59,639]\u001b[0m Trial 63 finished with value: 0.5890794640794641 and parameters: {'max_depth': 11, 'learning_rate': 0.006860492183798008, 'n_estimators': 1231, 'num_leaves': 389, 'colsample_bytree': 0.670772379070087, 'subsample': 0.6994474722250587, 'reg_alpha': 2.569814174994317, 'reg_lambda': 3.0136775827401907}. Best is trial 12 with value: 0.6112719521622837.\u001b[0m\n"
     ]
    },
    {
     "name": "stdout",
     "output_type": "stream",
     "text": [
      "[100]\tvalid_0's binary_logloss: 0.0134396\n",
      "[200]\tvalid_0's binary_logloss: 0.0127427\n",
      "[300]\tvalid_0's binary_logloss: 0.0123687\n",
      "[400]\tvalid_0's binary_logloss: 0.0121562\n",
      "[500]\tvalid_0's binary_logloss: 0.0120381\n",
      "[600]\tvalid_0's binary_logloss: 0.0120046\n",
      "[700]\tvalid_0's binary_logloss: 0.0120246\n",
      "[800]\tvalid_0's binary_logloss: 0.0120934\n",
      "[900]\tvalid_0's binary_logloss: 0.0122117\n",
      "[1000]\tvalid_0's binary_logloss: 0.0123626\n"
     ]
    },
    {
     "name": "stderr",
     "output_type": "stream",
     "text": [
      "\u001b[32m[I 2022-07-09 17:34:13,871]\u001b[0m Trial 64 finished with value: 0.5042737654389834 and parameters: {'max_depth': 10, 'learning_rate': 0.0008009004538208588, 'n_estimators': 1078, 'num_leaves': 910, 'colsample_bytree': 0.9224065948969871, 'subsample': 0.804383731848393, 'reg_alpha': 1.5366631106828494, 'reg_lambda': 3.977013128280437}. Best is trial 12 with value: 0.6112719521622837.\u001b[0m\n"
     ]
    },
    {
     "name": "stdout",
     "output_type": "stream",
     "text": [
      "[100]\tvalid_0's binary_logloss: 0.0138922\n",
      "[200]\tvalid_0's binary_logloss: 0.0132915\n",
      "[300]\tvalid_0's binary_logloss: 0.0128868\n",
      "[400]\tvalid_0's binary_logloss: 0.0126022\n",
      "[500]\tvalid_0's binary_logloss: 0.0123977\n",
      "[600]\tvalid_0's binary_logloss: 0.0122508\n",
      "[700]\tvalid_0's binary_logloss: 0.012143\n",
      "[800]\tvalid_0's binary_logloss: 0.0120655\n"
     ]
    },
    {
     "name": "stderr",
     "output_type": "stream",
     "text": [
      "\u001b[32m[I 2022-07-09 17:34:24,039]\u001b[0m Trial 65 finished with value: 0.4997363518121419 and parameters: {'max_depth': 12, 'learning_rate': 0.0004373937883715637, 'n_estimators': 850, 'num_leaves': 843, 'colsample_bytree': 0.8689853860524047, 'subsample': 0.8253235517844891, 'reg_alpha': 2.3685413937890445, 'reg_lambda': 3.348966750342764}. Best is trial 12 with value: 0.6112719521622837.\u001b[0m\n"
     ]
    },
    {
     "name": "stdout",
     "output_type": "stream",
     "text": [
      "[100]\tvalid_0's binary_logloss: 0.0120807\n",
      "[200]\tvalid_0's binary_logloss: 0.0125656\n",
      "[300]\tvalid_0's binary_logloss: 0.0139607\n",
      "[400]\tvalid_0's binary_logloss: 0.015737\n",
      "[500]\tvalid_0's binary_logloss: 0.0178053\n",
      "[600]\tvalid_0's binary_logloss: 0.0199909\n",
      "[700]\tvalid_0's binary_logloss: 0.0220401\n",
      "[800]\tvalid_0's binary_logloss: 0.023996\n",
      "[900]\tvalid_0's binary_logloss: 0.0258193\n",
      "[1000]\tvalid_0's binary_logloss: 0.0275359\n",
      "[1100]\tvalid_0's binary_logloss: 0.0290916\n",
      "[1200]\tvalid_0's binary_logloss: 0.030519\n",
      "[1300]\tvalid_0's binary_logloss: 0.0318569\n"
     ]
    },
    {
     "name": "stderr",
     "output_type": "stream",
     "text": [
      "\u001b[32m[I 2022-07-09 17:34:51,311]\u001b[0m Trial 66 finished with value: 0.5887634713283255 and parameters: {'max_depth': 10, 'learning_rate': 0.004334451721434549, 'n_estimators': 1372, 'num_leaves': 801, 'colsample_bytree': 0.9402980525952056, 'subsample': 0.6646654449366693, 'reg_alpha': 1.2534464977064559, 'reg_lambda': 4.745653930655944}. Best is trial 12 with value: 0.6112719521622837.\u001b[0m\n"
     ]
    },
    {
     "name": "stdout",
     "output_type": "stream",
     "text": [
      "[100]\tvalid_0's binary_logloss: 0.0146413\n",
      "[200]\tvalid_0's binary_logloss: 0.0144071\n",
      "[300]\tvalid_0's binary_logloss: 0.0142117\n",
      "[400]\tvalid_0's binary_logloss: 0.0140377\n",
      "[500]\tvalid_0's binary_logloss: 0.0138741\n",
      "[600]\tvalid_0's binary_logloss: 0.0137298\n",
      "[700]\tvalid_0's binary_logloss: 0.0135959\n",
      "[800]\tvalid_0's binary_logloss: 0.0134731\n"
     ]
    },
    {
     "name": "stderr",
     "output_type": "stream",
     "text": [
      "\u001b[32m[I 2022-07-09 17:35:02,088]\u001b[0m Trial 67 finished with value: 0.4997363518121419 and parameters: {'max_depth': 11, 'learning_rate': 9.358700447245704e-05, 'n_estimators': 885, 'num_leaves': 236, 'colsample_bytree': 0.7329530478116627, 'subsample': 0.6286891663931875, 'reg_alpha': 0.7092234973510978, 'reg_lambda': 4.352891436815918}. Best is trial 12 with value: 0.6112719521622837.\u001b[0m\n"
     ]
    },
    {
     "name": "stdout",
     "output_type": "stream",
     "text": [
      "[100]\tvalid_0's binary_logloss: 0.0124993\n",
      "[200]\tvalid_0's binary_logloss: 0.0120049\n",
      "[300]\tvalid_0's binary_logloss: 0.0119925\n",
      "[400]\tvalid_0's binary_logloss: 0.0122495\n",
      "[500]\tvalid_0's binary_logloss: 0.0127015\n",
      "[600]\tvalid_0's binary_logloss: 0.0132916\n",
      "[700]\tvalid_0's binary_logloss: 0.0139762\n"
     ]
    },
    {
     "name": "stderr",
     "output_type": "stream",
     "text": [
      "\u001b[32m[I 2022-07-09 17:35:12,428]\u001b[0m Trial 68 finished with value: 0.5763809342923646 and parameters: {'max_depth': 14, 'learning_rate': 0.0019218084137164184, 'n_estimators': 781, 'num_leaves': 562, 'colsample_bytree': 0.7688867422071537, 'subsample': 0.7716649498797765, 'reg_alpha': 1.83470134893199, 'reg_lambda': 3.0575458717855097}. Best is trial 12 with value: 0.6112719521622837.\u001b[0m\n"
     ]
    },
    {
     "name": "stdout",
     "output_type": "stream",
     "text": [
      "[100]\tvalid_0's binary_logloss: 0.014826\n",
      "[200]\tvalid_0's binary_logloss: 0.0147646\n",
      "[300]\tvalid_0's binary_logloss: 0.0147049\n",
      "[400]\tvalid_0's binary_logloss: 0.0146453\n",
      "[500]\tvalid_0's binary_logloss: 0.0145871\n",
      "[600]\tvalid_0's binary_logloss: 0.0145308\n",
      "[700]\tvalid_0's binary_logloss: 0.0144769\n",
      "[800]\tvalid_0's binary_logloss: 0.0144256\n",
      "[900]\tvalid_0's binary_logloss: 0.0143757\n"
     ]
    },
    {
     "name": "stderr",
     "output_type": "stream",
     "text": [
      "\u001b[32m[I 2022-07-09 17:35:24,029]\u001b[0m Trial 69 finished with value: 0.4997363518121419 and parameters: {'max_depth': 9, 'learning_rate': 2.0674490955731638e-05, 'n_estimators': 987, 'num_leaves': 964, 'colsample_bytree': 0.8977879797161942, 'subsample': 0.7190400837597145, 'reg_alpha': 0.92645524606474, 'reg_lambda': 3.50751440780586}. Best is trial 12 with value: 0.6112719521622837.\u001b[0m\n"
     ]
    },
    {
     "name": "stdout",
     "output_type": "stream",
     "text": [
      "[100]\tvalid_0's binary_logloss: 0.0148873\n",
      "[200]\tvalid_0's binary_logloss: 0.0148841\n",
      "[300]\tvalid_0's binary_logloss: 0.0148809\n",
      "[400]\tvalid_0's binary_logloss: 0.0148778\n",
      "[500]\tvalid_0's binary_logloss: 0.0148745\n",
      "[600]\tvalid_0's binary_logloss: 0.0148713\n"
     ]
    },
    {
     "name": "stderr",
     "output_type": "stream",
     "text": [
      "\u001b[32m[I 2022-07-09 17:35:31,361]\u001b[0m Trial 70 finished with value: 0.4997363518121419 and parameters: {'max_depth': 13, 'learning_rate': 1.02010934037788e-06, 'n_estimators': 689, 'num_leaves': 735, 'colsample_bytree': 0.6021718394838373, 'subsample': 0.9935245282369741, 'reg_alpha': 4.9826720346340565, 'reg_lambda': 3.730415622698687}. Best is trial 12 with value: 0.6112719521622837.\u001b[0m\n"
     ]
    },
    {
     "name": "stdout",
     "output_type": "stream",
     "text": [
      "[100]\tvalid_0's binary_logloss: 0.0124454\n",
      "[200]\tvalid_0's binary_logloss: 0.011999\n",
      "[300]\tvalid_0's binary_logloss: 0.0120601\n",
      "[400]\tvalid_0's binary_logloss: 0.0124356\n",
      "[500]\tvalid_0's binary_logloss: 0.0130179\n",
      "[600]\tvalid_0's binary_logloss: 0.0137407\n",
      "[700]\tvalid_0's binary_logloss: 0.0145677\n",
      "[800]\tvalid_0's binary_logloss: 0.0154631\n"
     ]
    },
    {
     "name": "stderr",
     "output_type": "stream",
     "text": [
      "\u001b[32m[I 2022-07-09 17:35:42,359]\u001b[0m Trial 71 finished with value: 0.5897146626264598 and parameters: {'max_depth': 11, 'learning_rate': 0.0021078677419057454, 'n_estimators': 888, 'num_leaves': 523, 'colsample_bytree': 0.9240639144402882, 'subsample': 0.7500187014211062, 'reg_alpha': 1.2043419679091063, 'reg_lambda': 3.522361931177224}. Best is trial 12 with value: 0.6112719521622837.\u001b[0m\n"
     ]
    },
    {
     "name": "stdout",
     "output_type": "stream",
     "text": [
      "[100]\tvalid_0's binary_logloss: 0.0122122\n",
      "[200]\tvalid_0's binary_logloss: 0.012023\n",
      "[300]\tvalid_0's binary_logloss: 0.0124695\n",
      "[400]\tvalid_0's binary_logloss: 0.0132899\n",
      "[500]\tvalid_0's binary_logloss: 0.0143436\n",
      "[600]\tvalid_0's binary_logloss: 0.0155176\n",
      "[700]\tvalid_0's binary_logloss: 0.0168227\n",
      "[800]\tvalid_0's binary_logloss: 0.0182508\n",
      "[900]\tvalid_0's binary_logloss: 0.0197617\n"
     ]
    },
    {
     "name": "stderr",
     "output_type": "stream",
     "text": [
      "\u001b[32m[I 2022-07-09 17:35:55,465]\u001b[0m Trial 72 finished with value: 0.5905052579108349 and parameters: {'max_depth': 11, 'learning_rate': 0.002823987645450113, 'n_estimators': 942, 'num_leaves': 683, 'colsample_bytree': 0.9853993092969786, 'subsample': 0.7267048597083625, 'reg_alpha': 1.4114080272361824, 'reg_lambda': 3.2482961485977393}. Best is trial 12 with value: 0.6112719521622837.\u001b[0m\n"
     ]
    },
    {
     "name": "stdout",
     "output_type": "stream",
     "text": [
      "[100]\tvalid_0's binary_logloss: 0.0129366\n",
      "[200]\tvalid_0's binary_logloss: 0.0123003\n",
      "[300]\tvalid_0's binary_logloss: 0.012056\n",
      "[400]\tvalid_0's binary_logloss: 0.0120331\n",
      "[500]\tvalid_0's binary_logloss: 0.0121542\n",
      "[600]\tvalid_0's binary_logloss: 0.0123854\n",
      "[700]\tvalid_0's binary_logloss: 0.0127101\n",
      "[800]\tvalid_0's binary_logloss: 0.0131099\n",
      "[900]\tvalid_0's binary_logloss: 0.0135608\n",
      "[1000]\tvalid_0's binary_logloss: 0.0140574\n",
      "[1100]\tvalid_0's binary_logloss: 0.0145839\n"
     ]
    },
    {
     "name": "stderr",
     "output_type": "stream",
     "text": [
      "\u001b[32m[I 2022-07-09 17:36:08,237]\u001b[0m Trial 73 finished with value: 0.5950097782756085 and parameters: {'max_depth': 12, 'learning_rate': 0.0013427809899532852, 'n_estimators': 1104, 'num_leaves': 496, 'colsample_bytree': 0.9639810969602042, 'subsample': 0.7333810003732196, 'reg_alpha': 1.6210320984933753, 'reg_lambda': 4.1399267600420036}. Best is trial 12 with value: 0.6112719521622837.\u001b[0m\n"
     ]
    },
    {
     "name": "stdout",
     "output_type": "stream",
     "text": [
      "[100]\tvalid_0's binary_logloss: 0.0132318\n",
      "[200]\tvalid_0's binary_logloss: 0.0125364\n",
      "[300]\tvalid_0's binary_logloss: 0.0122104\n",
      "[400]\tvalid_0's binary_logloss: 0.0120548\n",
      "[500]\tvalid_0's binary_logloss: 0.0120228\n",
      "[600]\tvalid_0's binary_logloss: 0.0120746\n",
      "[700]\tvalid_0's binary_logloss: 0.0122068\n",
      "[800]\tvalid_0's binary_logloss: 0.0123899\n",
      "[900]\tvalid_0's binary_logloss: 0.0126263\n",
      "[1000]\tvalid_0's binary_logloss: 0.0129023\n"
     ]
    },
    {
     "name": "stderr",
     "output_type": "stream",
     "text": [
      "\u001b[32m[I 2022-07-09 17:36:20,593]\u001b[0m Trial 74 finished with value: 0.584758811307203 and parameters: {'max_depth': 12, 'learning_rate': 0.0010082665297187975, 'n_estimators': 1090, 'num_leaves': 643, 'colsample_bytree': 0.9638468177835898, 'subsample': 0.7454263209720211, 'reg_alpha': 1.6168023043381554, 'reg_lambda': 4.133161509397762}. Best is trial 12 with value: 0.6112719521622837.\u001b[0m\n"
     ]
    },
    {
     "name": "stdout",
     "output_type": "stream",
     "text": [
      "[100]\tvalid_0's binary_logloss: 0.0134548\n",
      "[200]\tvalid_0's binary_logloss: 0.0129108\n",
      "[300]\tvalid_0's binary_logloss: 0.0126107\n",
      "[400]\tvalid_0's binary_logloss: 0.0124102\n",
      "[500]\tvalid_0's binary_logloss: 0.0122743\n",
      "[600]\tvalid_0's binary_logloss: 0.0121848\n",
      "[700]\tvalid_0's binary_logloss: 0.0121305\n",
      "[800]\tvalid_0's binary_logloss: 0.0121071\n",
      "[900]\tvalid_0's binary_logloss: 0.0121076\n",
      "[1000]\tvalid_0's binary_logloss: 0.0121293\n",
      "[1100]\tvalid_0's binary_logloss: 0.012169\n",
      "[1200]\tvalid_0's binary_logloss: 0.0122279\n"
     ]
    },
    {
     "name": "stderr",
     "output_type": "stream",
     "text": [
      "\u001b[32m[I 2022-07-09 17:36:27,952]\u001b[0m Trial 75 finished with value: 0.7725514640071602 and parameters: {'max_depth': 3, 'learning_rate': 0.0005320502362980809, 'n_estimators': 1202, 'num_leaves': 409, 'colsample_bytree': 0.6822670702134966, 'subsample': 0.6968505503703223, 'reg_alpha': 1.7758721383692797, 'reg_lambda': 0.2537070327857336}. Best is trial 75 with value: 0.7725514640071602.\u001b[0m\n"
     ]
    },
    {
     "name": "stdout",
     "output_type": "stream",
     "text": [
      "[100]\tvalid_0's binary_logloss: 0.0140087\n",
      "[200]\tvalid_0's binary_logloss: 0.0135021\n",
      "[300]\tvalid_0's binary_logloss: 0.0131655\n",
      "[400]\tvalid_0's binary_logloss: 0.0129228\n",
      "[500]\tvalid_0's binary_logloss: 0.0127388\n",
      "[600]\tvalid_0's binary_logloss: 0.0126002\n",
      "[700]\tvalid_0's binary_logloss: 0.0124841\n",
      "[800]\tvalid_0's binary_logloss: 0.0123922\n",
      "[900]\tvalid_0's binary_logloss: 0.0123177\n",
      "[1000]\tvalid_0's binary_logloss: 0.0122579\n",
      "[1100]\tvalid_0's binary_logloss: 0.0122112\n",
      "[1200]\tvalid_0's binary_logloss: 0.0121752\n",
      "[1300]\tvalid_0's binary_logloss: 0.0121486\n"
     ]
    },
    {
     "name": "stderr",
     "output_type": "stream",
     "text": [
      "\u001b[32m[I 2022-07-09 17:36:36,311]\u001b[0m Trial 76 finished with value: 0.4997363518121419 and parameters: {'max_depth': 3, 'learning_rate': 0.00029968183026437103, 'n_estimators': 1320, 'num_leaves': 328, 'colsample_bytree': 0.6893963509639796, 'subsample': 0.6935776382170875, 'reg_alpha': 1.8881487552616587, 'reg_lambda': 1.131227161769936}. Best is trial 75 with value: 0.7725514640071602.\u001b[0m\n"
     ]
    },
    {
     "name": "stdout",
     "output_type": "stream",
     "text": [
      "[100]\tvalid_0's binary_logloss: 0.0134372\n",
      "[200]\tvalid_0's binary_logloss: 0.0128805\n",
      "[300]\tvalid_0's binary_logloss: 0.0125615\n",
      "[400]\tvalid_0's binary_logloss: 0.0123534\n",
      "[500]\tvalid_0's binary_logloss: 0.0122057\n",
      "[600]\tvalid_0's binary_logloss: 0.0121049\n",
      "[700]\tvalid_0's binary_logloss: 0.0120454\n",
      "[800]\tvalid_0's binary_logloss: 0.0120173\n",
      "[900]\tvalid_0's binary_logloss: 0.0120126\n",
      "[1000]\tvalid_0's binary_logloss: 0.0120302\n",
      "[1100]\tvalid_0's binary_logloss: 0.0120682\n"
     ]
    },
    {
     "name": "stderr",
     "output_type": "stream",
     "text": [
      "\u001b[32m[I 2022-07-09 17:36:44,973]\u001b[0m Trial 77 finished with value: 0.4997363518121419 and parameters: {'max_depth': 4, 'learning_rate': 0.0005264933684022507, 'n_estimators': 1114, 'num_leaves': 385, 'colsample_bytree': 0.673146578628793, 'subsample': 0.5911728364428103, 'reg_alpha': 2.1619310249632475, 'reg_lambda': 0.3586534531547403}. Best is trial 75 with value: 0.7725514640071602.\u001b[0m\n"
     ]
    },
    {
     "name": "stdout",
     "output_type": "stream",
     "text": [
      "[100]\tvalid_0's binary_logloss: 0.01274\n",
      "[200]\tvalid_0's binary_logloss: 0.0121905\n",
      "[300]\tvalid_0's binary_logloss: 0.0120284\n",
      "[400]\tvalid_0's binary_logloss: 0.0120615\n",
      "[500]\tvalid_0's binary_logloss: 0.0122366\n",
      "[600]\tvalid_0's binary_logloss: 0.0125354\n",
      "[700]\tvalid_0's binary_logloss: 0.0129073\n",
      "[800]\tvalid_0's binary_logloss: 0.0133464\n",
      "[900]\tvalid_0's binary_logloss: 0.0138255\n",
      "[1000]\tvalid_0's binary_logloss: 0.0143318\n",
      "[1100]\tvalid_0's binary_logloss: 0.0148573\n",
      "[1200]\tvalid_0's binary_logloss: 0.0153932\n"
     ]
    },
    {
     "name": "stderr",
     "output_type": "stream",
     "text": [
      "\u001b[32m[I 2022-07-09 17:36:55,023]\u001b[0m Trial 78 finished with value: 0.5847613410420044 and parameters: {'max_depth': 4, 'learning_rate': 0.0014903864059093671, 'n_estimators': 1225, 'num_leaves': 878, 'colsample_bytree': 0.7064025123573497, 'subsample': 0.5605979256935569, 'reg_alpha': 1.756703585305799, 'reg_lambda': 1.9331770198233194}. Best is trial 75 with value: 0.7725514640071602.\u001b[0m\n"
     ]
    },
    {
     "name": "stdout",
     "output_type": "stream",
     "text": [
      "[100]\tvalid_0's binary_logloss: 0.0133272\n",
      "[200]\tvalid_0's binary_logloss: 0.0127933\n",
      "[300]\tvalid_0's binary_logloss: 0.012508\n",
      "[400]\tvalid_0's binary_logloss: 0.0123264\n",
      "[500]\tvalid_0's binary_logloss: 0.0122086\n",
      "[600]\tvalid_0's binary_logloss: 0.0121407\n",
      "[700]\tvalid_0's binary_logloss: 0.0121096\n",
      "[800]\tvalid_0's binary_logloss: 0.0121113\n",
      "[900]\tvalid_0's binary_logloss: 0.0121399\n",
      "[1000]\tvalid_0's binary_logloss: 0.0121914\n",
      "[1100]\tvalid_0's binary_logloss: 0.0122616\n",
      "[1200]\tvalid_0's binary_logloss: 0.0123515\n",
      "[1300]\tvalid_0's binary_logloss: 0.012458\n",
      "[1400]\tvalid_0's binary_logloss: 0.0125761\n"
     ]
    },
    {
     "name": "stderr",
     "output_type": "stream",
     "text": [
      "\u001b[32m[I 2022-07-09 17:37:05,445]\u001b[0m Trial 79 finished with value: 0.6169289701114243 and parameters: {'max_depth': 3, 'learning_rate': 0.0005984472380137608, 'n_estimators': 1478, 'num_leaves': 240, 'colsample_bytree': 0.6284507156970481, 'subsample': 0.5342972246248415, 'reg_alpha': 2.0532801620214123, 'reg_lambda': 0.0007334210371252592}. Best is trial 75 with value: 0.7725514640071602.\u001b[0m\n"
     ]
    },
    {
     "name": "stdout",
     "output_type": "stream",
     "text": [
      "[100]\tvalid_0's binary_logloss: 0.0140456\n",
      "[200]\tvalid_0's binary_logloss: 0.0136114\n",
      "[300]\tvalid_0's binary_logloss: 0.0133191\n",
      "[400]\tvalid_0's binary_logloss: 0.0131014\n",
      "[500]\tvalid_0's binary_logloss: 0.0129275\n",
      "[600]\tvalid_0's binary_logloss: 0.0127919\n",
      "[700]\tvalid_0's binary_logloss: 0.0126773\n",
      "[800]\tvalid_0's binary_logloss: 0.0125847\n",
      "[900]\tvalid_0's binary_logloss: 0.0125033\n",
      "[1000]\tvalid_0's binary_logloss: 0.0124338\n",
      "[1100]\tvalid_0's binary_logloss: 0.0123752\n",
      "[1200]\tvalid_0's binary_logloss: 0.0123249\n",
      "[1300]\tvalid_0's binary_logloss: 0.0122807\n",
      "[1400]\tvalid_0's binary_logloss: 0.0122409\n",
      "[1500]\tvalid_0's binary_logloss: 0.0122068\n"
     ]
    },
    {
     "name": "stderr",
     "output_type": "stream",
     "text": [
      "\u001b[32m[I 2022-07-09 17:37:15,432]\u001b[0m Trial 80 finished with value: 0.4997363518121419 and parameters: {'max_depth': 3, 'learning_rate': 0.00019968418192653638, 'n_estimators': 1578, 'num_leaves': 408, 'colsample_bytree': 0.6371368073067277, 'subsample': 0.5398978860526669, 'reg_alpha': 2.036621401505109, 'reg_lambda': 0.050507555099052796}. Best is trial 75 with value: 0.7725514640071602.\u001b[0m\n"
     ]
    },
    {
     "name": "stdout",
     "output_type": "stream",
     "text": [
      "[100]\tvalid_0's binary_logloss: 0.0133258\n",
      "[200]\tvalid_0's binary_logloss: 0.0127743\n",
      "[300]\tvalid_0's binary_logloss: 0.01248\n",
      "[400]\tvalid_0's binary_logloss: 0.0122982\n",
      "[500]\tvalid_0's binary_logloss: 0.0121857\n",
      "[600]\tvalid_0's binary_logloss: 0.0121318\n",
      "[700]\tvalid_0's binary_logloss: 0.0121186\n",
      "[800]\tvalid_0's binary_logloss: 0.0121417\n",
      "[900]\tvalid_0's binary_logloss: 0.0121941\n",
      "[1000]\tvalid_0's binary_logloss: 0.0122725\n",
      "[1100]\tvalid_0's binary_logloss: 0.0123718\n",
      "[1200]\tvalid_0's binary_logloss: 0.0124912\n",
      "[1300]\tvalid_0's binary_logloss: 0.0126267\n",
      "[1400]\tvalid_0's binary_logloss: 0.0127732\n"
     ]
    },
    {
     "name": "stderr",
     "output_type": "stream",
     "text": [
      "\u001b[32m[I 2022-07-09 17:37:24,258]\u001b[0m Trial 81 finished with value: 0.6086371832413027 and parameters: {'max_depth': 3, 'learning_rate': 0.0006637435536932833, 'n_estimators': 1477, 'num_leaves': 616, 'colsample_bytree': 0.6054303315963883, 'subsample': 0.5238469566548114, 'reg_alpha': 2.2107936153717, 'reg_lambda': 0.5057836443831233}. Best is trial 75 with value: 0.7725514640071602.\u001b[0m\n"
     ]
    },
    {
     "name": "stdout",
     "output_type": "stream",
     "text": [
      "[100]\tvalid_0's binary_logloss: 0.0132979\n",
      "[200]\tvalid_0's binary_logloss: 0.0127668\n",
      "[300]\tvalid_0's binary_logloss: 0.012476\n",
      "[400]\tvalid_0's binary_logloss: 0.0122964\n",
      "[500]\tvalid_0's binary_logloss: 0.0121811\n",
      "[600]\tvalid_0's binary_logloss: 0.0121211\n",
      "[700]\tvalid_0's binary_logloss: 0.0120993\n",
      "[800]\tvalid_0's binary_logloss: 0.0121192\n",
      "[900]\tvalid_0's binary_logloss: 0.012166\n",
      "[1000]\tvalid_0's binary_logloss: 0.0122409\n",
      "[1100]\tvalid_0's binary_logloss: 0.0123326\n",
      "[1200]\tvalid_0's binary_logloss: 0.0124462\n",
      "[1300]\tvalid_0's binary_logloss: 0.012576\n",
      "[1400]\tvalid_0's binary_logloss: 0.0127202\n"
     ]
    },
    {
     "name": "stderr",
     "output_type": "stream",
     "text": [
      "\u001b[32m[I 2022-07-09 17:37:33,111]\u001b[0m Trial 82 finished with value: 0.6067386435725407 and parameters: {'max_depth': 3, 'learning_rate': 0.0006536555295475863, 'n_estimators': 1483, 'num_leaves': 111, 'colsample_bytree': 0.541184349938623, 'subsample': 0.5219159268094542, 'reg_alpha': 2.425228534737202, 'reg_lambda': 0.27593750782277177}. Best is trial 75 with value: 0.7725514640071602.\u001b[0m\n"
     ]
    },
    {
     "name": "stdout",
     "output_type": "stream",
     "text": [
      "[100]\tvalid_0's binary_logloss: 0.0137285\n",
      "[200]\tvalid_0's binary_logloss: 0.0132175\n",
      "[300]\tvalid_0's binary_logloss: 0.0128951\n",
      "[400]\tvalid_0's binary_logloss: 0.0126776\n",
      "[500]\tvalid_0's binary_logloss: 0.0125168\n",
      "[600]\tvalid_0's binary_logloss: 0.0123979\n",
      "[700]\tvalid_0's binary_logloss: 0.0123032\n",
      "[800]\tvalid_0's binary_logloss: 0.0122364\n",
      "[900]\tvalid_0's binary_logloss: 0.0121834\n",
      "[1000]\tvalid_0's binary_logloss: 0.0121474\n",
      "[1100]\tvalid_0's binary_logloss: 0.0121259\n",
      "[1200]\tvalid_0's binary_logloss: 0.0121159\n",
      "[1300]\tvalid_0's binary_logloss: 0.0121167\n",
      "[1400]\tvalid_0's binary_logloss: 0.0121271\n"
     ]
    },
    {
     "name": "stderr",
     "output_type": "stream",
     "text": [
      "\u001b[32m[I 2022-07-09 17:37:42,233]\u001b[0m Trial 83 finished with value: 0.4997363518121419 and parameters: {'max_depth': 3, 'learning_rate': 0.00036524193284724995, 'n_estimators': 1477, 'num_leaves': 107, 'colsample_bytree': 0.5752763157865969, 'subsample': 0.5152519050258905, 'reg_alpha': 2.8650410116322016, 'reg_lambda': 0.2512679215649853}. Best is trial 75 with value: 0.7725514640071602.\u001b[0m\n"
     ]
    },
    {
     "name": "stdout",
     "output_type": "stream",
     "text": [
      "[100]\tvalid_0's binary_logloss: 0.0143703\n",
      "[200]\tvalid_0's binary_logloss: 0.01403\n",
      "[300]\tvalid_0's binary_logloss: 0.0137672\n",
      "[400]\tvalid_0's binary_logloss: 0.0135577\n",
      "[500]\tvalid_0's binary_logloss: 0.0133807\n",
      "[600]\tvalid_0's binary_logloss: 0.0132337\n",
      "[700]\tvalid_0's binary_logloss: 0.0131001\n",
      "[800]\tvalid_0's binary_logloss: 0.0129883\n",
      "[900]\tvalid_0's binary_logloss: 0.012888\n",
      "[1000]\tvalid_0's binary_logloss: 0.0127997\n",
      "[1100]\tvalid_0's binary_logloss: 0.0127208\n",
      "[1200]\tvalid_0's binary_logloss: 0.0126493\n",
      "[1300]\tvalid_0's binary_logloss: 0.0125847\n",
      "[1400]\tvalid_0's binary_logloss: 0.0125254\n",
      "[1500]\tvalid_0's binary_logloss: 0.0124723\n",
      "[1600]\tvalid_0's binary_logloss: 0.0124236\n"
     ]
    },
    {
     "name": "stderr",
     "output_type": "stream",
     "text": [
      "\u001b[32m[I 2022-07-09 17:37:52,650]\u001b[0m Trial 84 finished with value: 0.4997363518121419 and parameters: {'max_depth': 4, 'learning_rate': 0.0001225315993598623, 'n_estimators': 1647, 'num_leaves': 264, 'colsample_bytree': 0.5481864449987646, 'subsample': 0.5300505173578509, 'reg_alpha': 2.527729621613325, 'reg_lambda': 0.5838472227090016}. Best is trial 75 with value: 0.7725514640071602.\u001b[0m\n"
     ]
    },
    {
     "name": "stdout",
     "output_type": "stream",
     "text": [
      "[100]\tvalid_0's binary_logloss: 0.0133739\n",
      "[200]\tvalid_0's binary_logloss: 0.0128111\n",
      "[300]\tvalid_0's binary_logloss: 0.0125132\n",
      "[400]\tvalid_0's binary_logloss: 0.0123239\n",
      "[500]\tvalid_0's binary_logloss: 0.0122065\n",
      "[600]\tvalid_0's binary_logloss: 0.0121442\n",
      "[700]\tvalid_0's binary_logloss: 0.0121208\n",
      "[800]\tvalid_0's binary_logloss: 0.0121352\n",
      "[900]\tvalid_0's binary_logloss: 0.0121767\n",
      "[1000]\tvalid_0's binary_logloss: 0.0122433\n",
      "[1100]\tvalid_0's binary_logloss: 0.0123312\n",
      "[1200]\tvalid_0's binary_logloss: 0.0124405\n",
      "[1300]\tvalid_0's binary_logloss: 0.0125659\n",
      "[1400]\tvalid_0's binary_logloss: 0.0127032\n",
      "[1500]\tvalid_0's binary_logloss: 0.0128527\n"
     ]
    },
    {
     "name": "stderr",
     "output_type": "stream",
     "text": [
      "\u001b[32m[I 2022-07-09 17:38:04,866]\u001b[0m Trial 85 finished with value: 0.6043043219449535 and parameters: {'max_depth': 3, 'learning_rate': 0.0006433468012754855, 'n_estimators': 1527, 'num_leaves': 147, 'colsample_bytree': 0.6169261963117874, 'subsample': 0.5001336787524062, 'reg_alpha': 2.242112108596277, 'reg_lambda': 0.5853314630912636}. Best is trial 75 with value: 0.7725514640071602.\u001b[0m\n"
     ]
    },
    {
     "name": "stdout",
     "output_type": "stream",
     "text": [
      "[100]\tvalid_0's binary_logloss: 0.0133826\n",
      "[200]\tvalid_0's binary_logloss: 0.0128222\n",
      "[300]\tvalid_0's binary_logloss: 0.0125193\n",
      "[400]\tvalid_0's binary_logloss: 0.0123308\n",
      "[500]\tvalid_0's binary_logloss: 0.01221\n",
      "[600]\tvalid_0's binary_logloss: 0.0121461\n",
      "[700]\tvalid_0's binary_logloss: 0.0121217\n",
      "[800]\tvalid_0's binary_logloss: 0.012134\n",
      "[900]\tvalid_0's binary_logloss: 0.0121738\n",
      "[1000]\tvalid_0's binary_logloss: 0.0122397\n",
      "[1100]\tvalid_0's binary_logloss: 0.0123262\n",
      "[1200]\tvalid_0's binary_logloss: 0.0124319\n",
      "[1300]\tvalid_0's binary_logloss: 0.0125542\n",
      "[1400]\tvalid_0's binary_logloss: 0.0126881\n",
      "[1500]\tvalid_0's binary_logloss: 0.0128368\n"
     ]
    },
    {
     "name": "stderr",
     "output_type": "stream",
     "text": [
      "\u001b[32m[I 2022-07-09 17:38:15,236]\u001b[0m Trial 86 finished with value: 0.6099393668861363 and parameters: {'max_depth': 3, 'learning_rate': 0.000637768749475488, 'n_estimators': 1530, 'num_leaves': 163, 'colsample_bytree': 0.6143614275306093, 'subsample': 0.5008513591718627, 'reg_alpha': 2.328271662571729, 'reg_lambda': 0.659682166433861}. Best is trial 75 with value: 0.7725514640071602.\u001b[0m\n"
     ]
    },
    {
     "name": "stdout",
     "output_type": "stream",
     "text": [
      "[100]\tvalid_0's binary_logloss: 0.013354\n",
      "[200]\tvalid_0's binary_logloss: 0.0127472\n",
      "[300]\tvalid_0's binary_logloss: 0.0124045\n",
      "[400]\tvalid_0's binary_logloss: 0.0121872\n",
      "[500]\tvalid_0's binary_logloss: 0.0120511\n",
      "[600]\tvalid_0's binary_logloss: 0.0119774\n",
      "[700]\tvalid_0's binary_logloss: 0.0119468\n",
      "[800]\tvalid_0's binary_logloss: 0.0119523\n",
      "[900]\tvalid_0's binary_logloss: 0.0119878\n",
      "[1000]\tvalid_0's binary_logloss: 0.0120486\n",
      "[1100]\tvalid_0's binary_logloss: 0.012134\n",
      "[1200]\tvalid_0's binary_logloss: 0.0122413\n",
      "[1300]\tvalid_0's binary_logloss: 0.0123684\n",
      "[1400]\tvalid_0's binary_logloss: 0.0125104\n",
      "[1500]\tvalid_0's binary_logloss: 0.012668\n"
     ]
    },
    {
     "name": "stderr",
     "output_type": "stream",
     "text": [
      "\u001b[32m[I 2022-07-09 17:38:30,704]\u001b[0m Trial 87 finished with value: 0.5912107570096311 and parameters: {'max_depth': 5, 'learning_rate': 0.0006286749190101201, 'n_estimators': 1531, 'num_leaves': 108, 'colsample_bytree': 0.617481740452385, 'subsample': 0.5043003124534216, 'reg_alpha': 2.332030370844383, 'reg_lambda': 0.859357957171346}. Best is trial 75 with value: 0.7725514640071602.\u001b[0m\n"
     ]
    },
    {
     "name": "stdout",
     "output_type": "stream",
     "text": [
      "[100]\tvalid_0's binary_logloss: 0.0146025\n",
      "[200]\tvalid_0's binary_logloss: 0.0143721\n",
      "[300]\tvalid_0's binary_logloss: 0.0141797\n",
      "[400]\tvalid_0's binary_logloss: 0.0140211\n",
      "[500]\tvalid_0's binary_logloss: 0.0138804\n",
      "[600]\tvalid_0's binary_logloss: 0.013759\n",
      "[700]\tvalid_0's binary_logloss: 0.0136486\n",
      "[800]\tvalid_0's binary_logloss: 0.0135515\n",
      "[900]\tvalid_0's binary_logloss: 0.0134601\n",
      "[1000]\tvalid_0's binary_logloss: 0.013378\n",
      "[1100]\tvalid_0's binary_logloss: 0.0133032\n",
      "[1200]\tvalid_0's binary_logloss: 0.013233\n",
      "[1300]\tvalid_0's binary_logloss: 0.013167\n",
      "[1400]\tvalid_0's binary_logloss: 0.013105\n",
      "[1500]\tvalid_0's binary_logloss: 0.0130479\n",
      "[1600]\tvalid_0's binary_logloss: 0.0129949\n",
      "[1700]\tvalid_0's binary_logloss: 0.012946\n"
     ]
    },
    {
     "name": "stderr",
     "output_type": "stream",
     "text": [
      "\u001b[32m[I 2022-07-09 17:38:46,189]\u001b[0m Trial 88 finished with value: 0.4997363518121419 and parameters: {'max_depth': 3, 'learning_rate': 6.284548863545133e-05, 'n_estimators': 1751, 'num_leaves': 142, 'colsample_bytree': 0.5939271029618398, 'subsample': 0.5228372891803617, 'reg_alpha': 2.656062556890646, 'reg_lambda': 0.5677494459695204}. Best is trial 75 with value: 0.7725514640071602.\u001b[0m\n"
     ]
    },
    {
     "name": "stdout",
     "output_type": "stream",
     "text": [
      "[100]\tvalid_0's binary_logloss: 0.0142078\n",
      "[200]\tvalid_0's binary_logloss: 0.0138209\n",
      "[300]\tvalid_0's binary_logloss: 0.0135447\n",
      "[400]\tvalid_0's binary_logloss: 0.0133319\n",
      "[500]\tvalid_0's binary_logloss: 0.013157\n",
      "[600]\tvalid_0's binary_logloss: 0.0130155\n",
      "[700]\tvalid_0's binary_logloss: 0.012891\n",
      "[800]\tvalid_0's binary_logloss: 0.0127903\n",
      "[900]\tvalid_0's binary_logloss: 0.0126982\n",
      "[1000]\tvalid_0's binary_logloss: 0.0126198\n",
      "[1100]\tvalid_0's binary_logloss: 0.0125498\n",
      "[1200]\tvalid_0's binary_logloss: 0.0124876\n",
      "[1300]\tvalid_0's binary_logloss: 0.0124316\n"
     ]
    },
    {
     "name": "stderr",
     "output_type": "stream",
     "text": [
      "\u001b[32m[I 2022-07-09 17:38:54,233]\u001b[0m Trial 89 finished with value: 0.4997363518121419 and parameters: {'max_depth': 3, 'learning_rate': 0.00015616288886467677, 'n_estimators': 1357, 'num_leaves': 40, 'colsample_bytree': 0.5144533979607225, 'subsample': 0.5575002960960158, 'reg_alpha': 2.2104552263569643, 'reg_lambda': 0.17405329651135612}. Best is trial 75 with value: 0.7725514640071602.\u001b[0m\n"
     ]
    },
    {
     "name": "stdout",
     "output_type": "stream",
     "text": [
      "[100]\tvalid_0's binary_logloss: 0.0134438\n",
      "[200]\tvalid_0's binary_logloss: 0.0128809\n",
      "[300]\tvalid_0's binary_logloss: 0.0125597\n",
      "[400]\tvalid_0's binary_logloss: 0.0123514\n",
      "[500]\tvalid_0's binary_logloss: 0.0122032\n",
      "[600]\tvalid_0's binary_logloss: 0.0121103\n",
      "[700]\tvalid_0's binary_logloss: 0.0120539\n",
      "[800]\tvalid_0's binary_logloss: 0.0120295\n",
      "[900]\tvalid_0's binary_logloss: 0.012029\n",
      "[1000]\tvalid_0's binary_logloss: 0.0120533\n",
      "[1100]\tvalid_0's binary_logloss: 0.0120971\n",
      "[1200]\tvalid_0's binary_logloss: 0.0121578\n",
      "[1300]\tvalid_0's binary_logloss: 0.0122381\n",
      "[1400]\tvalid_0's binary_logloss: 0.0123298\n"
     ]
    },
    {
     "name": "stderr",
     "output_type": "stream",
     "text": [
      "\u001b[32m[I 2022-07-09 17:39:06,799]\u001b[0m Trial 90 finished with value: 0.616191670570774 and parameters: {'max_depth': 4, 'learning_rate': 0.0005421735017153265, 'n_estimators': 1470, 'num_leaves': 197, 'colsample_bytree': 0.6524962834305014, 'subsample': 0.5761257372860951, 'reg_alpha': 2.9717245716643377, 'reg_lambda': 0.45957425484677433}. Best is trial 75 with value: 0.7725514640071602.\u001b[0m\n"
     ]
    },
    {
     "name": "stdout",
     "output_type": "stream",
     "text": [
      "[100]\tvalid_0's binary_logloss: 0.0131617\n",
      "[200]\tvalid_0's binary_logloss: 0.0126208\n",
      "[300]\tvalid_0's binary_logloss: 0.0123478\n",
      "[400]\tvalid_0's binary_logloss: 0.0121926\n",
      "[500]\tvalid_0's binary_logloss: 0.0121246\n",
      "[600]\tvalid_0's binary_logloss: 0.0121225\n",
      "[700]\tvalid_0's binary_logloss: 0.0121636\n",
      "[800]\tvalid_0's binary_logloss: 0.0122508\n",
      "[900]\tvalid_0's binary_logloss: 0.01237\n",
      "[1000]\tvalid_0's binary_logloss: 0.0125162\n",
      "[1100]\tvalid_0's binary_logloss: 0.012688\n",
      "[1200]\tvalid_0's binary_logloss: 0.0128792\n",
      "[1300]\tvalid_0's binary_logloss: 0.0130883\n",
      "[1400]\tvalid_0's binary_logloss: 0.0133076\n"
     ]
    },
    {
     "name": "stderr",
     "output_type": "stream",
     "text": [
      "\u001b[32m[I 2022-07-09 17:39:17,927]\u001b[0m Trial 91 finished with value: 0.5898474585926098 and parameters: {'max_depth': 3, 'learning_rate': 0.0008149987135581556, 'n_estimators': 1441, 'num_leaves': 167, 'colsample_bytree': 0.6201732239798997, 'subsample': 0.5127629899523077, 'reg_alpha': 2.9670069239485706, 'reg_lambda': 0.4548936780321574}. Best is trial 75 with value: 0.7725514640071602.\u001b[0m\n"
     ]
    },
    {
     "name": "stdout",
     "output_type": "stream",
     "text": [
      "[100]\tvalid_0's binary_logloss: 0.013534\n",
      "[200]\tvalid_0's binary_logloss: 0.0129646\n",
      "[300]\tvalid_0's binary_logloss: 0.0126494\n",
      "[400]\tvalid_0's binary_logloss: 0.0124371\n",
      "[500]\tvalid_0's binary_logloss: 0.0122965\n",
      "[600]\tvalid_0's binary_logloss: 0.0122046\n",
      "[700]\tvalid_0's binary_logloss: 0.0121473\n",
      "[800]\tvalid_0's binary_logloss: 0.0121242\n",
      "[900]\tvalid_0's binary_logloss: 0.0121263\n",
      "[1000]\tvalid_0's binary_logloss: 0.0121495\n",
      "[1100]\tvalid_0's binary_logloss: 0.0121912\n",
      "[1200]\tvalid_0's binary_logloss: 0.012253\n",
      "[1300]\tvalid_0's binary_logloss: 0.0123289\n",
      "[1400]\tvalid_0's binary_logloss: 0.0124179\n",
      "[1500]\tvalid_0's binary_logloss: 0.0125218\n"
     ]
    },
    {
     "name": "stderr",
     "output_type": "stream",
     "text": [
      "\u001b[32m[I 2022-07-09 17:39:29,692]\u001b[0m Trial 92 finished with value: 0.6231701654727289 and parameters: {'max_depth': 3, 'learning_rate': 0.0005471291594937253, 'n_estimators': 1551, 'num_leaves': 242, 'colsample_bytree': 0.6592888542175613, 'subsample': 0.574479284822122, 'reg_alpha': 3.2515922338604724, 'reg_lambda': 0.7246534519838117}. Best is trial 75 with value: 0.7725514640071602.\u001b[0m\n"
     ]
    },
    {
     "name": "stdout",
     "output_type": "stream",
     "text": [
      "[100]\tvalid_0's binary_logloss: 0.0135583\n",
      "[200]\tvalid_0's binary_logloss: 0.0129898\n",
      "[300]\tvalid_0's binary_logloss: 0.012673\n",
      "[400]\tvalid_0's binary_logloss: 0.0124596\n",
      "[500]\tvalid_0's binary_logloss: 0.012315\n",
      "[600]\tvalid_0's binary_logloss: 0.0122192\n",
      "[700]\tvalid_0's binary_logloss: 0.0121572\n",
      "[800]\tvalid_0's binary_logloss: 0.012128\n",
      "[900]\tvalid_0's binary_logloss: 0.0121241\n",
      "[1000]\tvalid_0's binary_logloss: 0.0121406\n",
      "[1100]\tvalid_0's binary_logloss: 0.0121753\n",
      "[1200]\tvalid_0's binary_logloss: 0.0122295\n",
      "[1300]\tvalid_0's binary_logloss: 0.0122976\n",
      "[1400]\tvalid_0's binary_logloss: 0.0123782\n",
      "[1500]\tvalid_0's binary_logloss: 0.0124735\n"
     ]
    },
    {
     "name": "stderr",
     "output_type": "stream",
     "text": [
      "\u001b[32m[I 2022-07-09 17:39:39,742]\u001b[0m Trial 93 finished with value: 0.6265392355908612 and parameters: {'max_depth': 3, 'learning_rate': 0.0005305332103553538, 'n_estimators': 1524, 'num_leaves': 222, 'colsample_bytree': 0.6669171364234501, 'subsample': 0.56940967809462, 'reg_alpha': 3.0876439155132416, 'reg_lambda': 0.7330327648570013}. Best is trial 75 with value: 0.7725514640071602.\u001b[0m\n"
     ]
    },
    {
     "name": "stdout",
     "output_type": "stream",
     "text": [
      "[100]\tvalid_0's binary_logloss: 0.0141017\n",
      "[200]\tvalid_0's binary_logloss: 0.0136247\n",
      "[300]\tvalid_0's binary_logloss: 0.0132938\n",
      "[400]\tvalid_0's binary_logloss: 0.0130432\n",
      "[500]\tvalid_0's binary_logloss: 0.0128514\n",
      "[600]\tvalid_0's binary_logloss: 0.0126966\n",
      "[700]\tvalid_0's binary_logloss: 0.0125701\n",
      "[800]\tvalid_0's binary_logloss: 0.0124645\n",
      "[900]\tvalid_0's binary_logloss: 0.0123764\n",
      "[1000]\tvalid_0's binary_logloss: 0.0123002\n",
      "[1100]\tvalid_0's binary_logloss: 0.0122356\n",
      "[1200]\tvalid_0's binary_logloss: 0.0121842\n",
      "[1300]\tvalid_0's binary_logloss: 0.0121403\n",
      "[1400]\tvalid_0's binary_logloss: 0.0121034\n",
      "[1500]\tvalid_0's binary_logloss: 0.0120741\n",
      "[1600]\tvalid_0's binary_logloss: 0.0120526\n"
     ]
    },
    {
     "name": "stderr",
     "output_type": "stream",
     "text": [
      "\u001b[32m[I 2022-07-09 17:39:52,457]\u001b[0m Trial 94 finished with value: 0.4997363518121419 and parameters: {'max_depth': 4, 'learning_rate': 0.00023696331089133655, 'n_estimators': 1651, 'num_leaves': 218, 'colsample_bytree': 0.6524412863531281, 'subsample': 0.5755544177285674, 'reg_alpha': 3.1197726560280463, 'reg_lambda': 0.9816217709124184}. Best is trial 75 with value: 0.7725514640071602.\u001b[0m\n"
     ]
    },
    {
     "name": "stdout",
     "output_type": "stream",
     "text": [
      "[100]\tvalid_0's binary_logloss: 0.0137799\n",
      "[200]\tvalid_0's binary_logloss: 0.0132117\n",
      "[300]\tvalid_0's binary_logloss: 0.0128672\n",
      "[400]\tvalid_0's binary_logloss: 0.0126395\n",
      "[500]\tvalid_0's binary_logloss: 0.0124702\n",
      "[600]\tvalid_0's binary_logloss: 0.0123501\n",
      "[700]\tvalid_0's binary_logloss: 0.0122594\n",
      "[800]\tvalid_0's binary_logloss: 0.0121961\n",
      "[900]\tvalid_0's binary_logloss: 0.012157\n",
      "[1000]\tvalid_0's binary_logloss: 0.0121373\n",
      "[1100]\tvalid_0's binary_logloss: 0.0121348\n",
      "[1200]\tvalid_0's binary_logloss: 0.0121453\n",
      "[1300]\tvalid_0's binary_logloss: 0.0121701\n",
      "[1400]\tvalid_0's binary_logloss: 0.0122063\n",
      "[1500]\tvalid_0's binary_logloss: 0.0122554\n"
     ]
    },
    {
     "name": "stderr",
     "output_type": "stream",
     "text": [
      "\u001b[32m[I 2022-07-09 17:40:02,322]\u001b[0m Trial 95 finished with value: 0.5130741908131398 and parameters: {'max_depth': 3, 'learning_rate': 0.0004410781071407622, 'n_estimators': 1572, 'num_leaves': 288, 'colsample_bytree': 0.6778441448196021, 'subsample': 0.5893296402999688, 'reg_alpha': 3.7158680621130893, 'reg_lambda': 1.2924114228236072}. Best is trial 75 with value: 0.7725514640071602.\u001b[0m\n"
     ]
    },
    {
     "name": "stdout",
     "output_type": "stream",
     "text": [
      "[100]\tvalid_0's binary_logloss: 0.0139247\n",
      "[200]\tvalid_0's binary_logloss: 0.0134129\n",
      "[300]\tvalid_0's binary_logloss: 0.0130718\n",
      "[400]\tvalid_0's binary_logloss: 0.01283\n",
      "[500]\tvalid_0's binary_logloss: 0.0126475\n",
      "[600]\tvalid_0's binary_logloss: 0.0125059\n",
      "[700]\tvalid_0's binary_logloss: 0.0123896\n",
      "[800]\tvalid_0's binary_logloss: 0.0122948\n",
      "[900]\tvalid_0's binary_logloss: 0.012218\n",
      "[1000]\tvalid_0's binary_logloss: 0.0121603\n",
      "[1100]\tvalid_0's binary_logloss: 0.0121132\n",
      "[1200]\tvalid_0's binary_logloss: 0.0120783\n",
      "[1300]\tvalid_0's binary_logloss: 0.0120536\n",
      "[1400]\tvalid_0's binary_logloss: 0.0120378\n"
     ]
    },
    {
     "name": "stderr",
     "output_type": "stream",
     "text": [
      "\u001b[32m[I 2022-07-09 17:40:13,086]\u001b[0m Trial 96 finished with value: 0.4997363518121419 and parameters: {'max_depth': 4, 'learning_rate': 0.00029820654855504907, 'n_estimators': 1428, 'num_leaves': 196, 'colsample_bytree': 0.6589392047447324, 'subsample': 0.550024210544982, 'reg_alpha': 3.4113818785842733, 'reg_lambda': 0.7461380309498347}. Best is trial 75 with value: 0.7725514640071602.\u001b[0m\n"
     ]
    },
    {
     "name": "stdout",
     "output_type": "stream",
     "text": [
      "[100]\tvalid_0's binary_logloss: 0.0134328\n",
      "[200]\tvalid_0's binary_logloss: 0.0128786\n",
      "[300]\tvalid_0's binary_logloss: 0.012562\n",
      "[400]\tvalid_0's binary_logloss: 0.0123552\n",
      "[500]\tvalid_0's binary_logloss: 0.0122093\n",
      "[600]\tvalid_0's binary_logloss: 0.012118\n",
      "[700]\tvalid_0's binary_logloss: 0.0120612\n",
      "[800]\tvalid_0's binary_logloss: 0.0120328\n",
      "[900]\tvalid_0's binary_logloss: 0.012028\n",
      "[1000]\tvalid_0's binary_logloss: 0.0120433\n",
      "[1100]\tvalid_0's binary_logloss: 0.0120806\n",
      "[1200]\tvalid_0's binary_logloss: 0.0121347\n",
      "[1300]\tvalid_0's binary_logloss: 0.012206\n",
      "[1400]\tvalid_0's binary_logloss: 0.0122893\n"
     ]
    },
    {
     "name": "stderr",
     "output_type": "stream",
     "text": [
      "\u001b[32m[I 2022-07-09 17:40:23,827]\u001b[0m Trial 97 finished with value: 0.619196193835051 and parameters: {'max_depth': 4, 'learning_rate': 0.0005227876892734446, 'n_estimators': 1480, 'num_leaves': 72, 'colsample_bytree': 0.6363360014190154, 'subsample': 0.5690436531703136, 'reg_alpha': 3.245204975233755, 'reg_lambda': 0.2841622914310708}. Best is trial 75 with value: 0.7725514640071602.\u001b[0m\n"
     ]
    },
    {
     "name": "stdout",
     "output_type": "stream",
     "text": [
      "[100]\tvalid_0's binary_logloss: 0.0130086\n",
      "[200]\tvalid_0's binary_logloss: 0.0124475\n",
      "[300]\tvalid_0's binary_logloss: 0.0121721\n",
      "[400]\tvalid_0's binary_logloss: 0.0120467\n",
      "[500]\tvalid_0's binary_logloss: 0.0120226\n",
      "[600]\tvalid_0's binary_logloss: 0.0120726\n",
      "[700]\tvalid_0's binary_logloss: 0.0121776\n",
      "[800]\tvalid_0's binary_logloss: 0.012338\n",
      "[900]\tvalid_0's binary_logloss: 0.012537\n",
      "[1000]\tvalid_0's binary_logloss: 0.0127695\n",
      "[1100]\tvalid_0's binary_logloss: 0.0130303\n",
      "[1200]\tvalid_0's binary_logloss: 0.0133139\n",
      "[1300]\tvalid_0's binary_logloss: 0.0136154\n",
      "[1400]\tvalid_0's binary_logloss: 0.0139281\n",
      "[1500]\tvalid_0's binary_logloss: 0.0142531\n",
      "[1600]\tvalid_0's binary_logloss: 0.0145876\n"
     ]
    },
    {
     "name": "stderr",
     "output_type": "stream",
     "text": [
      "\u001b[32m[I 2022-07-09 17:40:37,042]\u001b[0m Trial 98 finished with value: 0.5819266939111135 and parameters: {'max_depth': 4, 'learning_rate': 0.0009639644863630987, 'n_estimators': 1628, 'num_leaves': 250, 'colsample_bytree': 0.6415809445383204, 'subsample': 0.5712583422155739, 'reg_alpha': 3.290145699336058, 'reg_lambda': 0.7641814340071349}. Best is trial 75 with value: 0.7725514640071602.\u001b[0m\n"
     ]
    },
    {
     "name": "stdout",
     "output_type": "stream",
     "text": [
      "[100]\tvalid_0's binary_logloss: 0.0142819\n",
      "[200]\tvalid_0's binary_logloss: 0.0139259\n",
      "[300]\tvalid_0's binary_logloss: 0.0136706\n",
      "[400]\tvalid_0's binary_logloss: 0.0134718\n",
      "[500]\tvalid_0's binary_logloss: 0.0133064\n",
      "[600]\tvalid_0's binary_logloss: 0.0131675\n",
      "[700]\tvalid_0's binary_logloss: 0.0130454\n",
      "[800]\tvalid_0's binary_logloss: 0.0129405\n",
      "[900]\tvalid_0's binary_logloss: 0.0128477\n",
      "[1000]\tvalid_0's binary_logloss: 0.0127652\n",
      "[1100]\tvalid_0's binary_logloss: 0.0126921\n",
      "[1200]\tvalid_0's binary_logloss: 0.0126261\n",
      "[1300]\tvalid_0's binary_logloss: 0.0125664\n",
      "[1400]\tvalid_0's binary_logloss: 0.0125111\n",
      "[1500]\tvalid_0's binary_logloss: 0.012461\n",
      "[1600]\tvalid_0's binary_logloss: 0.0124154\n"
     ]
    },
    {
     "name": "stderr",
     "output_type": "stream",
     "text": [
      "\u001b[32m[I 2022-07-09 17:40:56,076]\u001b[0m Trial 99 finished with value: 0.4997363518121419 and parameters: {'max_depth': 4, 'learning_rate': 0.00011466487740503418, 'n_estimators': 1692, 'num_leaves': 80, 'colsample_bytree': 0.6317214117366828, 'subsample': 0.6192746124988435, 'reg_alpha': 3.2261249251130035, 'reg_lambda': 0.011172908313891611}. Best is trial 75 with value: 0.7725514640071602.\u001b[0m\n"
     ]
    },
    {
     "name": "stdout",
     "output_type": "stream",
     "text": [
      "[100]\tvalid_0's binary_logloss: 0.0135075\n",
      "[200]\tvalid_0's binary_logloss: 0.0129327\n",
      "[300]\tvalid_0's binary_logloss: 0.012594\n",
      "[400]\tvalid_0's binary_logloss: 0.0123657\n",
      "[500]\tvalid_0's binary_logloss: 0.0122051\n",
      "[600]\tvalid_0's binary_logloss: 0.012097\n",
      "[700]\tvalid_0's binary_logloss: 0.012023\n",
      "[800]\tvalid_0's binary_logloss: 0.0119775\n",
      "[900]\tvalid_0's binary_logloss: 0.011957\n",
      "[1000]\tvalid_0's binary_logloss: 0.0119604\n",
      "[1100]\tvalid_0's binary_logloss: 0.0119826\n",
      "[1200]\tvalid_0's binary_logloss: 0.0120194\n",
      "[1300]\tvalid_0's binary_logloss: 0.0120712\n"
     ]
    },
    {
     "name": "stderr",
     "output_type": "stream",
     "text": [
      "\u001b[32m[I 2022-07-09 17:41:06,836]\u001b[0m Trial 100 finished with value: 0.4997363518121419 and parameters: {'max_depth': 5, 'learning_rate': 0.00048390984134147027, 'n_estimators': 1308, 'num_leaves': 195, 'colsample_bytree': 0.707803512758896, 'subsample': 0.5997480773962919, 'reg_alpha': 3.565233194338581, 'reg_lambda': 0.4105028492666094}. Best is trial 75 with value: 0.7725514640071602.\u001b[0m\n"
     ]
    },
    {
     "name": "stdout",
     "output_type": "stream",
     "text": [
      "[100]\tvalid_0's binary_logloss: 0.0137133\n",
      "[200]\tvalid_0's binary_logloss: 0.0132046\n",
      "[300]\tvalid_0's binary_logloss: 0.0128852\n",
      "[400]\tvalid_0's binary_logloss: 0.0126694\n",
      "[500]\tvalid_0's binary_logloss: 0.0125098\n",
      "[600]\tvalid_0's binary_logloss: 0.012392\n",
      "[700]\tvalid_0's binary_logloss: 0.0122983\n",
      "[800]\tvalid_0's binary_logloss: 0.0122323\n",
      "[900]\tvalid_0's binary_logloss: 0.0121809\n",
      "[1000]\tvalid_0's binary_logloss: 0.0121456\n",
      "[1100]\tvalid_0's binary_logloss: 0.0121247\n",
      "[1200]\tvalid_0's binary_logloss: 0.0121156\n",
      "[1300]\tvalid_0's binary_logloss: 0.0121175\n",
      "[1400]\tvalid_0's binary_logloss: 0.0121284\n"
     ]
    },
    {
     "name": "stderr",
     "output_type": "stream",
     "text": [
      "\u001b[32m[I 2022-07-09 17:41:19,066]\u001b[0m Trial 101 finished with value: 0.4997363518121419 and parameters: {'max_depth': 3, 'learning_rate': 0.0003661557780664104, 'n_estimators': 1499, 'num_leaves': 70, 'colsample_bytree': 0.5666466452617444, 'subsample': 0.5358213255534809, 'reg_alpha': 2.89217244460181, 'reg_lambda': 0.18563747470838304}. Best is trial 75 with value: 0.7725514640071602.\u001b[0m\n"
     ]
    },
    {
     "name": "stdout",
     "output_type": "stream",
     "text": [
      "[100]\tvalid_0's binary_logloss: 0.0132557\n",
      "[200]\tvalid_0's binary_logloss: 0.0127183\n",
      "[300]\tvalid_0's binary_logloss: 0.0124347\n",
      "[400]\tvalid_0's binary_logloss: 0.0122612\n",
      "[500]\tvalid_0's binary_logloss: 0.0121588\n",
      "[600]\tvalid_0's binary_logloss: 0.012118\n",
      "[700]\tvalid_0's binary_logloss: 0.0121163\n",
      "[800]\tvalid_0's binary_logloss: 0.0121522\n",
      "[900]\tvalid_0's binary_logloss: 0.0122173\n",
      "[1000]\tvalid_0's binary_logloss: 0.0123107\n",
      "[1100]\tvalid_0's binary_logloss: 0.0124254\n",
      "[1200]\tvalid_0's binary_logloss: 0.0125594\n",
      "[1300]\tvalid_0's binary_logloss: 0.0127111\n",
      "[1400]\tvalid_0's binary_logloss: 0.0128737\n"
     ]
    },
    {
     "name": "stderr",
     "output_type": "stream",
     "text": [
      "\u001b[32m[I 2022-07-09 17:41:30,137]\u001b[0m Trial 102 finished with value: 0.6043043219449535 and parameters: {'max_depth': 3, 'learning_rate': 0.0006936368694980255, 'n_estimators': 1466, 'num_leaves': 164, 'colsample_bytree': 0.5960020988411673, 'subsample': 0.5193554744348572, 'reg_alpha': 2.3995905428602047, 'reg_lambda': 0.31055550151012323}. Best is trial 75 with value: 0.7725514640071602.\u001b[0m\n"
     ]
    },
    {
     "name": "stdout",
     "output_type": "stream",
     "text": [
      "[100]\tvalid_0's binary_logloss: 0.0141191\n",
      "[200]\tvalid_0's binary_logloss: 0.0136757\n",
      "[300]\tvalid_0's binary_logloss: 0.0133687\n",
      "[400]\tvalid_0's binary_logloss: 0.0131325\n",
      "[500]\tvalid_0's binary_logloss: 0.0129456\n",
      "[600]\tvalid_0's binary_logloss: 0.012798\n",
      "[700]\tvalid_0's binary_logloss: 0.0126734\n",
      "[800]\tvalid_0's binary_logloss: 0.01257\n",
      "[900]\tvalid_0's binary_logloss: 0.012481\n",
      "[1000]\tvalid_0's binary_logloss: 0.0124035\n",
      "[1100]\tvalid_0's binary_logloss: 0.0123374\n",
      "[1200]\tvalid_0's binary_logloss: 0.0122787\n",
      "[1300]\tvalid_0's binary_logloss: 0.0122278\n",
      "[1400]\tvalid_0's binary_logloss: 0.0121858\n",
      "[1500]\tvalid_0's binary_logloss: 0.0121512\n"
     ]
    },
    {
     "name": "stderr",
     "output_type": "stream",
     "text": [
      "\u001b[32m[I 2022-07-09 17:41:41,391]\u001b[0m Trial 103 finished with value: 0.4997363518121419 and parameters: {'max_depth': 4, 'learning_rate': 0.0001995917434892061, 'n_estimators': 1553, 'num_leaves': 280, 'colsample_bytree': 0.6503733120497442, 'subsample': 0.5598820657064687, 'reg_alpha': 4.0438871459260515, 'reg_lambda': 0.4890264665348294}. Best is trial 75 with value: 0.7725514640071602.\u001b[0m\n"
     ]
    },
    {
     "name": "stdout",
     "output_type": "stream",
     "text": [
      "[100]\tvalid_0's binary_logloss: 0.0134988\n",
      "[200]\tvalid_0's binary_logloss: 0.0129374\n",
      "[300]\tvalid_0's binary_logloss: 0.0126231\n",
      "[400]\tvalid_0's binary_logloss: 0.0124236\n",
      "[500]\tvalid_0's binary_logloss: 0.0122846\n",
      "[600]\tvalid_0's binary_logloss: 0.0121966\n",
      "[700]\tvalid_0's binary_logloss: 0.0121441\n",
      "[800]\tvalid_0's binary_logloss: 0.0121256\n",
      "[900]\tvalid_0's binary_logloss: 0.0121325\n",
      "[1000]\tvalid_0's binary_logloss: 0.0121634\n",
      "[1100]\tvalid_0's binary_logloss: 0.012214\n",
      "[1200]\tvalid_0's binary_logloss: 0.0122825\n",
      "[1300]\tvalid_0's binary_logloss: 0.0123668\n",
      "[1400]\tvalid_0's binary_logloss: 0.0124625\n",
      "[1500]\tvalid_0's binary_logloss: 0.0125727\n",
      "[1600]\tvalid_0's binary_logloss: 0.0126941\n",
      "[1700]\tvalid_0's binary_logloss: 0.0128237\n"
     ]
    },
    {
     "name": "stderr",
     "output_type": "stream",
     "text": [
      "\u001b[32m[I 2022-07-09 17:41:51,803]\u001b[0m Trial 104 finished with value: 0.6119499847299551 and parameters: {'max_depth': 3, 'learning_rate': 0.0005597852192277877, 'n_estimators': 1740, 'num_leaves': 127, 'colsample_bytree': 0.6069887760628201, 'subsample': 0.5303894237450593, 'reg_alpha': 3.1935280522185967, 'reg_lambda': 0.7162857098995438}. Best is trial 75 with value: 0.7725514640071602.\u001b[0m\n"
     ]
    },
    {
     "name": "stdout",
     "output_type": "stream",
     "text": [
      "[100]\tvalid_0's binary_logloss: 0.0140158\n",
      "[200]\tvalid_0's binary_logloss: 0.0135302\n",
      "[300]\tvalid_0's binary_logloss: 0.0132015\n",
      "[400]\tvalid_0's binary_logloss: 0.0129668\n",
      "[500]\tvalid_0's binary_logloss: 0.0127868\n",
      "[600]\tvalid_0's binary_logloss: 0.0126474\n",
      "[700]\tvalid_0's binary_logloss: 0.0125325\n",
      "[800]\tvalid_0's binary_logloss: 0.012441\n",
      "[900]\tvalid_0's binary_logloss: 0.0123641\n",
      "[1000]\tvalid_0's binary_logloss: 0.0123021\n",
      "[1100]\tvalid_0's binary_logloss: 0.0122488\n",
      "[1200]\tvalid_0's binary_logloss: 0.0122065\n",
      "[1300]\tvalid_0's binary_logloss: 0.0121732\n",
      "[1400]\tvalid_0's binary_logloss: 0.0121473\n",
      "[1500]\tvalid_0's binary_logloss: 0.0121299\n",
      "[1600]\tvalid_0's binary_logloss: 0.0121209\n",
      "[1700]\tvalid_0's binary_logloss: 0.0121171\n",
      "[1800]\tvalid_0's binary_logloss: 0.0121194\n"
     ]
    },
    {
     "name": "stderr",
     "output_type": "stream",
     "text": [
      "\u001b[32m[I 2022-07-09 17:42:06,809]\u001b[0m Trial 105 finished with value: 0.4997363518121419 and parameters: {'max_depth': 3, 'learning_rate': 0.00026912083035159025, 'n_estimators': 1849, 'num_leaves': 221, 'colsample_bytree': 0.6060926750111647, 'subsample': 0.5447220886978512, 'reg_alpha': 2.754168519807983, 'reg_lambda': 0.7572564694881754}. Best is trial 75 with value: 0.7725514640071602.\u001b[0m\n"
     ]
    },
    {
     "name": "stdout",
     "output_type": "stream",
     "text": [
      "[100]\tvalid_0's binary_logloss: 0.0135413\n",
      "[200]\tvalid_0's binary_logloss: 0.0129253\n",
      "[300]\tvalid_0's binary_logloss: 0.0125655\n",
      "[400]\tvalid_0's binary_logloss: 0.0123291\n",
      "[500]\tvalid_0's binary_logloss: 0.0121665\n",
      "[600]\tvalid_0's binary_logloss: 0.012059\n",
      "[700]\tvalid_0's binary_logloss: 0.0119915\n",
      "[800]\tvalid_0's binary_logloss: 0.0119603\n",
      "[900]\tvalid_0's binary_logloss: 0.0119567\n",
      "[1000]\tvalid_0's binary_logloss: 0.0119782\n",
      "[1100]\tvalid_0's binary_logloss: 0.0120177\n",
      "[1200]\tvalid_0's binary_logloss: 0.0120767\n",
      "[1300]\tvalid_0's binary_logloss: 0.0121537\n"
     ]
    },
    {
     "name": "stderr",
     "output_type": "stream",
     "text": [
      "\u001b[32m[I 2022-07-09 17:42:18,799]\u001b[0m Trial 106 finished with value: 0.6038107567182183 and parameters: {'max_depth': 5, 'learning_rate': 0.0005396388319049047, 'n_estimators': 1399, 'num_leaves': 318, 'colsample_bytree': 0.6854459670566542, 'subsample': 0.5836041395677964, 'reg_alpha': 3.183856601728331, 'reg_lambda': 1.1432406367501282}. Best is trial 75 with value: 0.7725514640071602.\u001b[0m\n"
     ]
    },
    {
     "name": "stdout",
     "output_type": "stream",
     "text": [
      "[100]\tvalid_0's binary_logloss: 0.0130422\n",
      "[200]\tvalid_0's binary_logloss: 0.0124453\n",
      "[300]\tvalid_0's binary_logloss: 0.0121625\n",
      "[400]\tvalid_0's binary_logloss: 0.0120412\n",
      "[500]\tvalid_0's binary_logloss: 0.0120294\n",
      "[600]\tvalid_0's binary_logloss: 0.0120962\n",
      "[700]\tvalid_0's binary_logloss: 0.012226\n",
      "[800]\tvalid_0's binary_logloss: 0.0124121\n",
      "[900]\tvalid_0's binary_logloss: 0.0126405\n",
      "[1000]\tvalid_0's binary_logloss: 0.0129031\n",
      "[1100]\tvalid_0's binary_logloss: 0.0131962\n",
      "[1200]\tvalid_0's binary_logloss: 0.0135092\n",
      "[1300]\tvalid_0's binary_logloss: 0.0138385\n",
      "[1400]\tvalid_0's binary_logloss: 0.0141817\n",
      "[1500]\tvalid_0's binary_logloss: 0.0145389\n",
      "[1600]\tvalid_0's binary_logloss: 0.0149008\n",
      "[1700]\tvalid_0's binary_logloss: 0.0152677\n"
     ]
    },
    {
     "name": "stderr",
     "output_type": "stream",
     "text": [
      "\u001b[32m[I 2022-07-09 17:42:31,588]\u001b[0m Trial 107 finished with value: 0.579824223131268 and parameters: {'max_depth': 4, 'learning_rate': 0.0010297951749323885, 'n_estimators': 1768, 'num_leaves': 173, 'colsample_bytree': 0.6272709987605684, 'subsample': 0.568330849459986, 'reg_alpha': 3.4668327246989565, 'reg_lambda': 1.5798373221803297}. Best is trial 75 with value: 0.7725514640071602.\u001b[0m\n"
     ]
    },
    {
     "name": "stdout",
     "output_type": "stream",
     "text": [
      "[100]\tvalid_0's binary_logloss: 0.0139033\n",
      "[200]\tvalid_0's binary_logloss: 0.0133876\n",
      "[300]\tvalid_0's binary_logloss: 0.0130554\n",
      "[400]\tvalid_0's binary_logloss: 0.0128282\n",
      "[500]\tvalid_0's binary_logloss: 0.0126574\n",
      "[600]\tvalid_0's binary_logloss: 0.0125271\n",
      "[700]\tvalid_0's binary_logloss: 0.0124173\n",
      "[800]\tvalid_0's binary_logloss: 0.0123321\n",
      "[900]\tvalid_0's binary_logloss: 0.0122645\n",
      "[1000]\tvalid_0's binary_logloss: 0.0122122\n",
      "[1100]\tvalid_0's binary_logloss: 0.0121732\n",
      "[1200]\tvalid_0's binary_logloss: 0.0121473\n",
      "[1300]\tvalid_0's binary_logloss: 0.0121304\n"
     ]
    },
    {
     "name": "stderr",
     "output_type": "stream",
     "text": [
      "\u001b[32m[I 2022-07-09 17:42:40,117]\u001b[0m Trial 108 finished with value: 0.4997363518121419 and parameters: {'max_depth': 3, 'learning_rate': 0.0003219587380683201, 'n_estimators': 1355, 'num_leaves': 127, 'colsample_bytree': 0.6634121785076661, 'subsample': 0.5302398928236823, 'reg_alpha': 3.62153668988267, 'reg_lambda': 0.7074989928376298}. Best is trial 75 with value: 0.7725514640071602.\u001b[0m\n"
     ]
    },
    {
     "name": "stdout",
     "output_type": "stream",
     "text": [
      "[100]\tvalid_0's binary_logloss: 0.0141201\n",
      "[200]\tvalid_0's binary_logloss: 0.013702\n",
      "[300]\tvalid_0's binary_logloss: 0.0134121\n",
      "[400]\tvalid_0's binary_logloss: 0.0131907\n",
      "[500]\tvalid_0's binary_logloss: 0.0130123\n",
      "[600]\tvalid_0's binary_logloss: 0.0128689\n",
      "[700]\tvalid_0's binary_logloss: 0.0127451\n",
      "[800]\tvalid_0's binary_logloss: 0.0126419\n",
      "[900]\tvalid_0's binary_logloss: 0.0125516\n",
      "[1000]\tvalid_0's binary_logloss: 0.0124736\n",
      "[1100]\tvalid_0's binary_logloss: 0.0124058\n",
      "[1200]\tvalid_0's binary_logloss: 0.0123461\n",
      "[1300]\tvalid_0's binary_logloss: 0.0122933\n",
      "[1400]\tvalid_0's binary_logloss: 0.012245\n",
      "[1500]\tvalid_0's binary_logloss: 0.0122033\n",
      "[1600]\tvalid_0's binary_logloss: 0.0121662\n",
      "[1700]\tvalid_0's binary_logloss: 0.0121332\n",
      "[1800]\tvalid_0's binary_logloss: 0.0121065\n"
     ]
    },
    {
     "name": "stderr",
     "output_type": "stream",
     "text": [
      "\u001b[32m[I 2022-07-09 17:42:52,949]\u001b[0m Trial 109 finished with value: 0.4997363518121419 and parameters: {'max_depth': 4, 'learning_rate': 0.00017299376854007406, 'n_estimators': 1879, 'num_leaves': 57, 'colsample_bytree': 0.5882180950192589, 'subsample': 0.5087128622157759, 'reg_alpha': 3.0106644739121697, 'reg_lambda': 0.1423456697384052}. Best is trial 75 with value: 0.7725514640071602.\u001b[0m\n"
     ]
    },
    {
     "name": "stdout",
     "output_type": "stream",
     "text": [
      "[100]\tvalid_0's binary_logloss: 0.0130923\n",
      "[200]\tvalid_0's binary_logloss: 0.0125585\n",
      "[300]\tvalid_0's binary_logloss: 0.0122986\n",
      "[400]\tvalid_0's binary_logloss: 0.0121635\n",
      "[500]\tvalid_0's binary_logloss: 0.0121261\n",
      "[600]\tvalid_0's binary_logloss: 0.0121613\n",
      "[700]\tvalid_0's binary_logloss: 0.012242\n",
      "[800]\tvalid_0's binary_logloss: 0.0123727\n",
      "[900]\tvalid_0's binary_logloss: 0.0125351\n",
      "[1000]\tvalid_0's binary_logloss: 0.0127274\n",
      "[1100]\tvalid_0's binary_logloss: 0.0129406\n",
      "[1200]\tvalid_0's binary_logloss: 0.0131761\n",
      "[1300]\tvalid_0's binary_logloss: 0.0134268\n",
      "[1400]\tvalid_0's binary_logloss: 0.0136879\n",
      "[1500]\tvalid_0's binary_logloss: 0.0139694\n",
      "[1600]\tvalid_0's binary_logloss: 0.0142487\n",
      "[1700]\tvalid_0's binary_logloss: 0.0145374\n"
     ]
    },
    {
     "name": "stderr",
     "output_type": "stream",
     "text": [
      "\u001b[32m[I 2022-07-09 17:43:07,181]\u001b[0m Trial 110 finished with value: 0.5805489320738118 and parameters: {'max_depth': 3, 'learning_rate': 0.0009079552031352738, 'n_estimators': 1725, 'num_leaves': 89, 'colsample_bytree': 0.6083598654267073, 'subsample': 0.5540857488958417, 'reg_alpha': 2.6330671991687002, 'reg_lambda': 0.6666792145283722}. Best is trial 75 with value: 0.7725514640071602.\u001b[0m\n"
     ]
    },
    {
     "name": "stdout",
     "output_type": "stream",
     "text": [
      "[100]\tvalid_0's binary_logloss: 0.0132722\n",
      "[200]\tvalid_0's binary_logloss: 0.0127396\n",
      "[300]\tvalid_0's binary_logloss: 0.0124515\n",
      "[400]\tvalid_0's binary_logloss: 0.0122756\n",
      "[500]\tvalid_0's binary_logloss: 0.0121664\n",
      "[600]\tvalid_0's binary_logloss: 0.0121151\n",
      "[700]\tvalid_0's binary_logloss: 0.0121022\n",
      "[800]\tvalid_0's binary_logloss: 0.0121304\n",
      "[900]\tvalid_0's binary_logloss: 0.0121848\n",
      "[1000]\tvalid_0's binary_logloss: 0.0122688\n",
      "[1100]\tvalid_0's binary_logloss: 0.0123704\n",
      "[1200]\tvalid_0's binary_logloss: 0.0124926\n",
      "[1300]\tvalid_0's binary_logloss: 0.0126302\n",
      "[1400]\tvalid_0's binary_logloss: 0.0127824\n"
     ]
    },
    {
     "name": "stderr",
     "output_type": "stream",
     "text": [
      "\u001b[32m[I 2022-07-09 17:43:17,173]\u001b[0m Trial 111 finished with value: 0.6073643588433276 and parameters: {'max_depth': 3, 'learning_rate': 0.0006695874989472163, 'n_estimators': 1468, 'num_leaves': 107, 'colsample_bytree': 0.5503435850093317, 'subsample': 0.5240985610579582, 'reg_alpha': 2.487978775172909, 'reg_lambda': 0.26527621769343923}. Best is trial 75 with value: 0.7725514640071602.\u001b[0m\n"
     ]
    },
    {
     "name": "stdout",
     "output_type": "stream",
     "text": [
      "[100]\tvalid_0's binary_logloss: 0.013578\n",
      "[200]\tvalid_0's binary_logloss: 0.0130212\n",
      "[300]\tvalid_0's binary_logloss: 0.012706\n",
      "[400]\tvalid_0's binary_logloss: 0.0125038\n",
      "[500]\tvalid_0's binary_logloss: 0.0123547\n",
      "[600]\tvalid_0's binary_logloss: 0.0122547\n",
      "[700]\tvalid_0's binary_logloss: 0.0121838\n",
      "[800]\tvalid_0's binary_logloss: 0.0121443\n",
      "[900]\tvalid_0's binary_logloss: 0.0121278\n",
      "[1000]\tvalid_0's binary_logloss: 0.0121345\n",
      "[1100]\tvalid_0's binary_logloss: 0.0121564\n",
      "[1200]\tvalid_0's binary_logloss: 0.0121952\n",
      "[1300]\tvalid_0's binary_logloss: 0.0122483\n",
      "[1400]\tvalid_0's binary_logloss: 0.0123122\n"
     ]
    },
    {
     "name": "stderr",
     "output_type": "stream",
     "text": [
      "\u001b[32m[I 2022-07-09 17:43:26,433]\u001b[0m Trial 112 finished with value: 0.6397300631455998 and parameters: {'max_depth': 3, 'learning_rate': 0.000490763440061503, 'n_estimators': 1447, 'num_leaves': 212, 'colsample_bytree': 0.6453695302707287, 'subsample': 0.5309141302456208, 'reg_alpha': 2.758288802941941, 'reg_lambda': 0.507079902510807}. Best is trial 75 with value: 0.7725514640071602.\u001b[0m\n"
     ]
    },
    {
     "name": "stdout",
     "output_type": "stream",
     "text": [
      "[100]\tvalid_0's binary_logloss: 0.0136907\n",
      "[200]\tvalid_0's binary_logloss: 0.0131499\n",
      "[300]\tvalid_0's binary_logloss: 0.0128269\n",
      "[400]\tvalid_0's binary_logloss: 0.0126142\n",
      "[500]\tvalid_0's binary_logloss: 0.0124533\n",
      "[600]\tvalid_0's binary_logloss: 0.0123366\n",
      "[700]\tvalid_0's binary_logloss: 0.0122493\n",
      "[800]\tvalid_0's binary_logloss: 0.012188\n",
      "[900]\tvalid_0's binary_logloss: 0.0121465\n",
      "[1000]\tvalid_0's binary_logloss: 0.012125\n",
      "[1100]\tvalid_0's binary_logloss: 0.0121192\n",
      "[1200]\tvalid_0's binary_logloss: 0.0121269\n",
      "[1300]\tvalid_0's binary_logloss: 0.0121453\n",
      "[1400]\tvalid_0's binary_logloss: 0.0121737\n",
      "[1500]\tvalid_0's binary_logloss: 0.012215\n",
      "[1600]\tvalid_0's binary_logloss: 0.0122662\n"
     ]
    },
    {
     "name": "stderr",
     "output_type": "stream",
     "text": [
      "\u001b[32m[I 2022-07-09 17:43:37,770]\u001b[0m Trial 113 finished with value: 0.7025379843716345 and parameters: {'max_depth': 3, 'learning_rate': 0.00041508098376263485, 'n_estimators': 1607, 'num_leaves': 229, 'colsample_bytree': 0.6516007532388628, 'subsample': 0.5383949464297108, 'reg_alpha': 2.7504033128303726, 'reg_lambda': 0.4867909913297717}. Best is trial 75 with value: 0.7725514640071602.\u001b[0m\n"
     ]
    },
    {
     "name": "stdout",
     "output_type": "stream",
     "text": [
      "[100]\tvalid_0's binary_logloss: 0.0137223\n",
      "[200]\tvalid_0's binary_logloss: 0.0131597\n",
      "[300]\tvalid_0's binary_logloss: 0.0128269\n",
      "[400]\tvalid_0's binary_logloss: 0.0126095\n",
      "[500]\tvalid_0's binary_logloss: 0.0124474\n",
      "[600]\tvalid_0's binary_logloss: 0.0123316\n",
      "[700]\tvalid_0's binary_logloss: 0.0122436\n",
      "[800]\tvalid_0's binary_logloss: 0.0121853\n",
      "[900]\tvalid_0's binary_logloss: 0.0121498\n",
      "[1000]\tvalid_0's binary_logloss: 0.0121343\n",
      "[1100]\tvalid_0's binary_logloss: 0.0121358\n",
      "[1200]\tvalid_0's binary_logloss: 0.0121505\n",
      "[1300]\tvalid_0's binary_logloss: 0.0121786\n",
      "[1400]\tvalid_0's binary_logloss: 0.0122176\n",
      "[1500]\tvalid_0's binary_logloss: 0.0122701\n",
      "[1600]\tvalid_0's binary_logloss: 0.0123322\n"
     ]
    },
    {
     "name": "stderr",
     "output_type": "stream",
     "text": [
      "\u001b[32m[I 2022-07-09 17:43:52,516]\u001b[0m Trial 114 finished with value: 0.6209734066938261 and parameters: {'max_depth': 3, 'learning_rate': 0.00044249143025008533, 'n_estimators': 1604, 'num_leaves': 215, 'colsample_bytree': 0.6469916345859654, 'subsample': 0.5409195767519969, 'reg_alpha': 3.113654616807022, 'reg_lambda': 0.9399136614875816}. Best is trial 75 with value: 0.7725514640071602.\u001b[0m\n"
     ]
    },
    {
     "name": "stdout",
     "output_type": "stream",
     "text": [
      "[100]\tvalid_0's binary_logloss: 0.0138338\n",
      "[200]\tvalid_0's binary_logloss: 0.0132919\n",
      "[300]\tvalid_0's binary_logloss: 0.0129428\n",
      "[400]\tvalid_0's binary_logloss: 0.0127028\n",
      "[500]\tvalid_0's binary_logloss: 0.0125239\n",
      "[600]\tvalid_0's binary_logloss: 0.0123862\n",
      "[700]\tvalid_0's binary_logloss: 0.0122743\n",
      "[800]\tvalid_0's binary_logloss: 0.0121867\n",
      "[900]\tvalid_0's binary_logloss: 0.0121207\n",
      "[1000]\tvalid_0's binary_logloss: 0.0120739\n",
      "[1100]\tvalid_0's binary_logloss: 0.012042\n",
      "[1200]\tvalid_0's binary_logloss: 0.0120226\n",
      "[1300]\tvalid_0's binary_logloss: 0.0120157\n",
      "[1400]\tvalid_0's binary_logloss: 0.0120175\n",
      "[1500]\tvalid_0's binary_logloss: 0.01203\n",
      "[1600]\tvalid_0's binary_logloss: 0.0120509\n"
     ]
    },
    {
     "name": "stderr",
     "output_type": "stream",
     "text": [
      "\u001b[32m[I 2022-07-09 17:44:08,315]\u001b[0m Trial 115 finished with value: 0.4997363518121419 and parameters: {'max_depth': 4, 'learning_rate': 0.0003507468131730733, 'n_estimators': 1660, 'num_leaves': 218, 'colsample_bytree': 0.6505337585236916, 'subsample': 0.5423511773527031, 'reg_alpha': 2.775845317269202, 'reg_lambda': 0.8824721852103554}. Best is trial 75 with value: 0.7725514640071602.\u001b[0m\n"
     ]
    },
    {
     "name": "stdout",
     "output_type": "stream",
     "text": [
      "[100]\tvalid_0's binary_logloss: 0.0137298\n",
      "[200]\tvalid_0's binary_logloss: 0.0131656\n",
      "[300]\tvalid_0's binary_logloss: 0.0128295\n",
      "[400]\tvalid_0's binary_logloss: 0.0126055\n",
      "[500]\tvalid_0's binary_logloss: 0.01244\n",
      "[600]\tvalid_0's binary_logloss: 0.0123246\n",
      "[700]\tvalid_0's binary_logloss: 0.0122382\n",
      "[800]\tvalid_0's binary_logloss: 0.0121799\n",
      "[900]\tvalid_0's binary_logloss: 0.0121456\n",
      "[1000]\tvalid_0's binary_logloss: 0.0121306\n",
      "[1100]\tvalid_0's binary_logloss: 0.0121329\n",
      "[1200]\tvalid_0's binary_logloss: 0.012148\n",
      "[1300]\tvalid_0's binary_logloss: 0.0121774\n",
      "[1400]\tvalid_0's binary_logloss: 0.0122186\n",
      "[1500]\tvalid_0's binary_logloss: 0.0122729\n"
     ]
    },
    {
     "name": "stderr",
     "output_type": "stream",
     "text": [
      "\u001b[32m[I 2022-07-09 17:44:19,270]\u001b[0m Trial 116 finished with value: 0.6209734066938261 and parameters: {'max_depth': 3, 'learning_rate': 0.00044850398684112, 'n_estimators': 1580, 'num_leaves': 301, 'colsample_bytree': 0.6644972842652842, 'subsample': 0.6072237486195431, 'reg_alpha': 3.3259077943035935, 'reg_lambda': 1.0389487299966684}. Best is trial 75 with value: 0.7725514640071602.\u001b[0m\n"
     ]
    },
    {
     "name": "stdout",
     "output_type": "stream",
     "text": [
      "[100]\tvalid_0's binary_logloss: 0.0137324\n",
      "[200]\tvalid_0's binary_logloss: 0.0131655\n",
      "[300]\tvalid_0's binary_logloss: 0.0128172\n",
      "[400]\tvalid_0's binary_logloss: 0.0125796\n",
      "[500]\tvalid_0's binary_logloss: 0.0124061\n",
      "[600]\tvalid_0's binary_logloss: 0.0122751\n",
      "[700]\tvalid_0's binary_logloss: 0.0121779\n",
      "[800]\tvalid_0's binary_logloss: 0.0121079\n",
      "[900]\tvalid_0's binary_logloss: 0.0120618\n",
      "[1000]\tvalid_0's binary_logloss: 0.012036\n",
      "[1100]\tvalid_0's binary_logloss: 0.0120259\n",
      "[1200]\tvalid_0's binary_logloss: 0.0120298\n",
      "[1300]\tvalid_0's binary_logloss: 0.0120463\n",
      "[1400]\tvalid_0's binary_logloss: 0.0120729\n",
      "[1500]\tvalid_0's binary_logloss: 0.0121123\n",
      "[1600]\tvalid_0's binary_logloss: 0.0121627\n"
     ]
    },
    {
     "name": "stderr",
     "output_type": "stream",
     "text": [
      "\u001b[32m[I 2022-07-09 17:44:32,208]\u001b[0m Trial 117 finished with value: 0.6106802358187314 and parameters: {'max_depth': 4, 'learning_rate': 0.00041476622657442156, 'n_estimators': 1611, 'num_leaves': 296, 'colsample_bytree': 0.6641914324326637, 'subsample': 0.6054776841486641, 'reg_alpha': 3.3491296776976234, 'reg_lambda': 0.9839110828074391}. Best is trial 75 with value: 0.7725514640071602.\u001b[0m\n"
     ]
    },
    {
     "name": "stdout",
     "output_type": "stream",
     "text": [
      "[100]\tvalid_0's binary_logloss: 0.0145467\n",
      "[200]\tvalid_0's binary_logloss: 0.0142711\n",
      "[300]\tvalid_0's binary_logloss: 0.0140497\n",
      "[400]\tvalid_0's binary_logloss: 0.0138687\n",
      "[500]\tvalid_0's binary_logloss: 0.0137084\n",
      "[600]\tvalid_0's binary_logloss: 0.01357\n",
      "[700]\tvalid_0's binary_logloss: 0.0134449\n",
      "[800]\tvalid_0's binary_logloss: 0.0133359\n",
      "[900]\tvalid_0's binary_logloss: 0.0132356\n",
      "[1000]\tvalid_0's binary_logloss: 0.0131458\n",
      "[1100]\tvalid_0's binary_logloss: 0.0130643\n",
      "[1200]\tvalid_0's binary_logloss: 0.0129916\n",
      "[1300]\tvalid_0's binary_logloss: 0.0129252\n",
      "[1400]\tvalid_0's binary_logloss: 0.0128642\n",
      "[1500]\tvalid_0's binary_logloss: 0.0128082\n"
     ]
    },
    {
     "name": "stderr",
     "output_type": "stream",
     "text": [
      "\u001b[32m[I 2022-07-09 17:44:42,167]\u001b[0m Trial 118 finished with value: 0.4997363518121419 and parameters: {'max_depth': 3, 'learning_rate': 9.088884228874815e-05, 'n_estimators': 1571, 'num_leaves': 251, 'colsample_bytree': 0.6282894243734324, 'subsample': 0.5942239134467246, 'reg_alpha': 3.088776379809158, 'reg_lambda': 1.1052676872534617}. Best is trial 75 with value: 0.7725514640071602.\u001b[0m\n"
     ]
    },
    {
     "name": "stdout",
     "output_type": "stream",
     "text": [
      "[100]\tvalid_0's binary_logloss: 0.0139474\n",
      "[200]\tvalid_0's binary_logloss: 0.0134613\n",
      "[300]\tvalid_0's binary_logloss: 0.013139\n",
      "[400]\tvalid_0's binary_logloss: 0.0129021\n",
      "[500]\tvalid_0's binary_logloss: 0.0127228\n",
      "[600]\tvalid_0's binary_logloss: 0.0125817\n",
      "[700]\tvalid_0's binary_logloss: 0.012465\n",
      "[800]\tvalid_0's binary_logloss: 0.0123686\n",
      "[900]\tvalid_0's binary_logloss: 0.0122873\n",
      "[1000]\tvalid_0's binary_logloss: 0.012219\n",
      "[1100]\tvalid_0's binary_logloss: 0.0121618\n",
      "[1200]\tvalid_0's binary_logloss: 0.0121214\n"
     ]
    },
    {
     "name": "stderr",
     "output_type": "stream",
     "text": [
      "\u001b[32m[I 2022-07-09 17:44:52,211]\u001b[0m Trial 119 finished with value: 0.4997363518121419 and parameters: {'max_depth': 4, 'learning_rate': 0.00025680099608737616, 'n_estimators': 1265, 'num_leaves': 344, 'colsample_bytree': 0.6799388344780568, 'subsample': 0.5678109485525378, 'reg_alpha': 2.9240621149253685, 'reg_lambda': 0.38275056644034255}. Best is trial 75 with value: 0.7725514640071602.\u001b[0m\n"
     ]
    },
    {
     "name": "stdout",
     "output_type": "stream",
     "text": [
      "[100]\tvalid_0's binary_logloss: 0.0148606\n",
      "[200]\tvalid_0's binary_logloss: 0.0148295\n",
      "[300]\tvalid_0's binary_logloss: 0.0148\n",
      "[400]\tvalid_0's binary_logloss: 0.0147711\n",
      "[500]\tvalid_0's binary_logloss: 0.014742\n",
      "[600]\tvalid_0's binary_logloss: 0.0147144\n",
      "[700]\tvalid_0's binary_logloss: 0.0146868\n",
      "[800]\tvalid_0's binary_logloss: 0.0146601\n",
      "[900]\tvalid_0's binary_logloss: 0.0146338\n",
      "[1000]\tvalid_0's binary_logloss: 0.0146077\n",
      "[1100]\tvalid_0's binary_logloss: 0.0145834\n",
      "[1200]\tvalid_0's binary_logloss: 0.0145592\n",
      "[1300]\tvalid_0's binary_logloss: 0.0145351\n",
      "[1400]\tvalid_0's binary_logloss: 0.0145112\n",
      "[1500]\tvalid_0's binary_logloss: 0.0144877\n",
      "[1600]\tvalid_0's binary_logloss: 0.0144654\n"
     ]
    },
    {
     "name": "stderr",
     "output_type": "stream",
     "text": [
      "\u001b[32m[I 2022-07-09 17:45:04,265]\u001b[0m Trial 120 finished with value: 0.4997363518121419 and parameters: {'max_depth': 3, 'learning_rate': 7.478467594120078e-06, 'n_estimators': 1680, 'num_leaves': 195, 'colsample_bytree': 0.7001144804336344, 'subsample': 0.5851919341876701, 'reg_alpha': 3.241004923687079, 'reg_lambda': 1.3244205421715733}. Best is trial 75 with value: 0.7725514640071602.\u001b[0m\n"
     ]
    },
    {
     "name": "stdout",
     "output_type": "stream",
     "text": [
      "[100]\tvalid_0's binary_logloss: 0.013567\n",
      "[200]\tvalid_0's binary_logloss: 0.0129947\n",
      "[300]\tvalid_0's binary_logloss: 0.0126744\n",
      "[400]\tvalid_0's binary_logloss: 0.0124664\n",
      "[500]\tvalid_0's binary_logloss: 0.0123217\n",
      "[600]\tvalid_0's binary_logloss: 0.0122266\n",
      "[700]\tvalid_0's binary_logloss: 0.0121654\n",
      "[800]\tvalid_0's binary_logloss: 0.0121358\n",
      "[900]\tvalid_0's binary_logloss: 0.0121316\n",
      "[1000]\tvalid_0's binary_logloss: 0.0121498\n",
      "[1100]\tvalid_0's binary_logloss: 0.012186\n",
      "[1200]\tvalid_0's binary_logloss: 0.0122408\n",
      "[1300]\tvalid_0's binary_logloss: 0.0123101\n",
      "[1400]\tvalid_0's binary_logloss: 0.0123917\n",
      "[1500]\tvalid_0's binary_logloss: 0.0124886\n"
     ]
    },
    {
     "name": "stderr",
     "output_type": "stream",
     "text": [
      "\u001b[32m[I 2022-07-09 17:45:14,564]\u001b[0m Trial 121 finished with value: 0.6231701654727289 and parameters: {'max_depth': 3, 'learning_rate': 0.0005315711171355476, 'n_estimators': 1592, 'num_leaves': 231, 'colsample_bytree': 0.6463001275133825, 'subsample': 0.5788273247248379, 'reg_alpha': 3.1712720444776252, 'reg_lambda': 0.8158386536514233}. Best is trial 75 with value: 0.7725514640071602.\u001b[0m\n"
     ]
    },
    {
     "name": "stdout",
     "output_type": "stream",
     "text": [
      "[100]\tvalid_0's binary_logloss: 0.0136514\n",
      "[200]\tvalid_0's binary_logloss: 0.0130876\n",
      "[300]\tvalid_0's binary_logloss: 0.0127627\n",
      "[400]\tvalid_0's binary_logloss: 0.0125512\n",
      "[500]\tvalid_0's binary_logloss: 0.0123937\n",
      "[600]\tvalid_0's binary_logloss: 0.012286\n",
      "[700]\tvalid_0's binary_logloss: 0.0122067\n",
      "[800]\tvalid_0's binary_logloss: 0.0121578\n",
      "[900]\tvalid_0's binary_logloss: 0.0121328\n",
      "[1000]\tvalid_0's binary_logloss: 0.0121281\n",
      "[1100]\tvalid_0's binary_logloss: 0.0121398\n",
      "[1200]\tvalid_0's binary_logloss: 0.0121681\n",
      "[1300]\tvalid_0's binary_logloss: 0.0122105\n",
      "[1400]\tvalid_0's binary_logloss: 0.012264\n",
      "[1500]\tvalid_0's binary_logloss: 0.0123304\n",
      "[1600]\tvalid_0's binary_logloss: 0.0124075\n"
     ]
    },
    {
     "name": "stderr",
     "output_type": "stream",
     "text": [
      "\u001b[32m[I 2022-07-09 17:45:27,912]\u001b[0m Trial 122 finished with value: 0.6250366692036734 and parameters: {'max_depth': 3, 'learning_rate': 0.0004708601750818184, 'n_estimators': 1602, 'num_leaves': 241, 'colsample_bytree': 0.6395081705779145, 'subsample': 0.5747057917375563, 'reg_alpha': 3.048634185048198, 'reg_lambda': 0.7839806737075996}. Best is trial 75 with value: 0.7725514640071602.\u001b[0m\n"
     ]
    },
    {
     "name": "stdout",
     "output_type": "stream",
     "text": [
      "[100]\tvalid_0's binary_logloss: 0.0129339\n",
      "[200]\tvalid_0's binary_logloss: 0.0124129\n",
      "[300]\tvalid_0's binary_logloss: 0.0121944\n",
      "[400]\tvalid_0's binary_logloss: 0.0121343\n",
      "[500]\tvalid_0's binary_logloss: 0.0121804\n",
      "[600]\tvalid_0's binary_logloss: 0.0123186\n",
      "[700]\tvalid_0's binary_logloss: 0.0125099\n",
      "[800]\tvalid_0's binary_logloss: 0.0127593\n",
      "[900]\tvalid_0's binary_logloss: 0.0130418\n",
      "[1000]\tvalid_0's binary_logloss: 0.0133508\n",
      "[1100]\tvalid_0's binary_logloss: 0.0136759\n",
      "[1200]\tvalid_0's binary_logloss: 0.0140233\n",
      "[1300]\tvalid_0's binary_logloss: 0.0143805\n",
      "[1400]\tvalid_0's binary_logloss: 0.0147338\n",
      "[1500]\tvalid_0's binary_logloss: 0.0150907\n",
      "[1600]\tvalid_0's binary_logloss: 0.0154355\n"
     ]
    },
    {
     "name": "stderr",
     "output_type": "stream",
     "text": [
      "\u001b[32m[I 2022-07-09 17:45:38,777]\u001b[0m Trial 123 finished with value: 0.5788101694066329 and parameters: {'max_depth': 3, 'learning_rate': 0.001155746565547096, 'n_estimators': 1605, 'num_leaves': 261, 'colsample_bytree': 0.639290986732509, 'subsample': 0.5761666561088066, 'reg_alpha': 3.1228398461036018, 'reg_lambda': 0.8202952926814149}. Best is trial 75 with value: 0.7725514640071602.\u001b[0m\n"
     ]
    },
    {
     "name": "stdout",
     "output_type": "stream",
     "text": [
      "[100]\tvalid_0's binary_logloss: 0.0136393\n",
      "[200]\tvalid_0's binary_logloss: 0.0130578\n",
      "[300]\tvalid_0's binary_logloss: 0.0127136\n",
      "[400]\tvalid_0's binary_logloss: 0.0124818\n",
      "[500]\tvalid_0's binary_logloss: 0.0123146\n",
      "[600]\tvalid_0's binary_logloss: 0.0121954\n",
      "[700]\tvalid_0's binary_logloss: 0.0121145\n",
      "[800]\tvalid_0's binary_logloss: 0.0120621\n",
      "[900]\tvalid_0's binary_logloss: 0.0120339\n",
      "[1000]\tvalid_0's binary_logloss: 0.0120283\n",
      "[1100]\tvalid_0's binary_logloss: 0.01204\n",
      "[1200]\tvalid_0's binary_logloss: 0.0120672\n",
      "[1300]\tvalid_0's binary_logloss: 0.0121092\n",
      "[1400]\tvalid_0's binary_logloss: 0.0121636\n",
      "[1500]\tvalid_0's binary_logloss: 0.0122335\n"
     ]
    },
    {
     "name": "stderr",
     "output_type": "stream",
     "text": [
      "\u001b[32m[I 2022-07-09 17:45:50,763]\u001b[0m Trial 124 finished with value: 0.6289170138831485 and parameters: {'max_depth': 4, 'learning_rate': 0.0004733653387099803, 'n_estimators': 1520, 'num_leaves': 222, 'colsample_bytree': 0.6460839686518892, 'subsample': 0.6274754315298386, 'reg_alpha': 2.995292203695209, 'reg_lambda': 1.0559959570451105}. Best is trial 75 with value: 0.7725514640071602.\u001b[0m\n"
     ]
    },
    {
     "name": "stdout",
     "output_type": "stream",
     "text": [
      "[100]\tvalid_0's binary_logloss: 0.0136584\n",
      "[200]\tvalid_0's binary_logloss: 0.01308\n",
      "[300]\tvalid_0's binary_logloss: 0.0127342\n",
      "[400]\tvalid_0's binary_logloss: 0.0125014\n",
      "[500]\tvalid_0's binary_logloss: 0.0123333\n",
      "[600]\tvalid_0's binary_logloss: 0.0122097\n",
      "[700]\tvalid_0's binary_logloss: 0.012122\n",
      "[800]\tvalid_0's binary_logloss: 0.0120657\n",
      "[900]\tvalid_0's binary_logloss: 0.012034\n",
      "[1000]\tvalid_0's binary_logloss: 0.012024\n",
      "[1100]\tvalid_0's binary_logloss: 0.012031\n",
      "[1200]\tvalid_0's binary_logloss: 0.0120515\n",
      "[1300]\tvalid_0's binary_logloss: 0.0120882\n",
      "[1400]\tvalid_0's binary_logloss: 0.0121353\n",
      "[1500]\tvalid_0's binary_logloss: 0.0121977\n"
     ]
    },
    {
     "name": "stderr",
     "output_type": "stream",
     "text": [
      "\u001b[32m[I 2022-07-09 17:46:02,916]\u001b[0m Trial 125 finished with value: 0.6341107472485338 and parameters: {'max_depth': 4, 'learning_rate': 0.0004607922664895883, 'n_estimators': 1521, 'num_leaves': 234, 'colsample_bytree': 0.667577654644153, 'subsample': 0.6260519969440619, 'reg_alpha': 3.0174094598293806, 'reg_lambda': 1.0325006186493946}. Best is trial 75 with value: 0.7725514640071602.\u001b[0m\n"
     ]
    },
    {
     "name": "stdout",
     "output_type": "stream",
     "text": [
      "[100]\tvalid_0's binary_logloss: 0.0137176\n",
      "[200]\tvalid_0's binary_logloss: 0.0131319\n",
      "[300]\tvalid_0's binary_logloss: 0.0127717\n",
      "[400]\tvalid_0's binary_logloss: 0.012522\n",
      "[500]\tvalid_0's binary_logloss: 0.0123395\n",
      "[600]\tvalid_0's binary_logloss: 0.0122079\n",
      "[700]\tvalid_0's binary_logloss: 0.0121112\n",
      "[800]\tvalid_0's binary_logloss: 0.0120461\n",
      "[900]\tvalid_0's binary_logloss: 0.0120035\n",
      "[1000]\tvalid_0's binary_logloss: 0.0119805\n",
      "[1100]\tvalid_0's binary_logloss: 0.0119745\n",
      "[1200]\tvalid_0's binary_logloss: 0.0119855\n",
      "[1300]\tvalid_0's binary_logloss: 0.0120066\n",
      "[1400]\tvalid_0's binary_logloss: 0.0120406\n",
      "[1500]\tvalid_0's binary_logloss: 0.0120867\n"
     ]
    },
    {
     "name": "stderr",
     "output_type": "stream",
     "text": [
      "\u001b[32m[I 2022-07-09 17:46:16,125]\u001b[0m Trial 126 finished with value: 0.5173823591474995 and parameters: {'max_depth': 5, 'learning_rate': 0.000428961391891698, 'n_estimators': 1543, 'num_leaves': 232, 'colsample_bytree': 0.6412755687189654, 'subsample': 0.636671597883295, 'reg_alpha': 3.3953949938381456, 'reg_lambda': 1.226149673910831}. Best is trial 75 with value: 0.7725514640071602.\u001b[0m\n"
     ]
    },
    {
     "name": "stdout",
     "output_type": "stream",
     "text": [
      "[100]\tvalid_0's binary_logloss: 0.0144115\n",
      "[200]\tvalid_0's binary_logloss: 0.0140574\n",
      "[300]\tvalid_0's binary_logloss: 0.0137886\n",
      "[400]\tvalid_0's binary_logloss: 0.0135695\n",
      "[500]\tvalid_0's binary_logloss: 0.0133826\n",
      "[600]\tvalid_0's binary_logloss: 0.0132273\n",
      "[700]\tvalid_0's binary_logloss: 0.0130916\n",
      "[800]\tvalid_0's binary_logloss: 0.0129786\n",
      "[900]\tvalid_0's binary_logloss: 0.0128801\n",
      "[1000]\tvalid_0's binary_logloss: 0.0127924\n",
      "[1100]\tvalid_0's binary_logloss: 0.0127166\n",
      "[1200]\tvalid_0's binary_logloss: 0.0126511\n",
      "[1300]\tvalid_0's binary_logloss: 0.0125891\n",
      "[1400]\tvalid_0's binary_logloss: 0.0125317\n",
      "[1500]\tvalid_0's binary_logloss: 0.0124806\n"
     ]
    },
    {
     "name": "stderr",
     "output_type": "stream",
     "text": [
      "\u001b[32m[I 2022-07-09 17:46:26,447]\u001b[0m Trial 127 finished with value: 0.4997363518121419 and parameters: {'max_depth': 3, 'learning_rate': 0.00014532630542820422, 'n_estimators': 1592, 'num_leaves': 304, 'colsample_bytree': 0.6681409292092029, 'subsample': 0.6485878564553959, 'reg_alpha': 2.8251996830639743, 'reg_lambda': 1.4639421370216217}. Best is trial 75 with value: 0.7725514640071602.\u001b[0m\n"
     ]
    },
    {
     "name": "stdout",
     "output_type": "stream",
     "text": [
      "[100]\tvalid_0's binary_logloss: 0.0140702\n",
      "[200]\tvalid_0's binary_logloss: 0.0135756\n",
      "[300]\tvalid_0's binary_logloss: 0.013236\n",
      "[400]\tvalid_0's binary_logloss: 0.0129847\n",
      "[500]\tvalid_0's binary_logloss: 0.0127919\n",
      "[600]\tvalid_0's binary_logloss: 0.0126381\n",
      "[700]\tvalid_0's binary_logloss: 0.0125135\n",
      "[800]\tvalid_0's binary_logloss: 0.0124101\n",
      "[900]\tvalid_0's binary_logloss: 0.0123232\n",
      "[1000]\tvalid_0's binary_logloss: 0.0122486\n",
      "[1100]\tvalid_0's binary_logloss: 0.0121882\n",
      "[1200]\tvalid_0's binary_logloss: 0.0121388\n",
      "[1300]\tvalid_0's binary_logloss: 0.0120997\n",
      "[1400]\tvalid_0's binary_logloss: 0.01207\n"
     ]
    },
    {
     "name": "stderr",
     "output_type": "stream",
     "text": [
      "\u001b[32m[I 2022-07-09 17:46:37,710]\u001b[0m Trial 128 finished with value: 0.4997363518121419 and parameters: {'max_depth': 4, 'learning_rate': 0.0002570048227474861, 'n_estimators': 1425, 'num_leaves': 270, 'colsample_bytree': 0.6918624650374073, 'subsample': 0.6237112325789227, 'reg_alpha': 3.0490364425638217, 'reg_lambda': 1.0304907104628669}. Best is trial 75 with value: 0.7725514640071602.\u001b[0m\n"
     ]
    },
    {
     "name": "stdout",
     "output_type": "stream",
     "text": [
      "[100]\tvalid_0's binary_logloss: 0.0126441\n",
      "[200]\tvalid_0's binary_logloss: 0.0121544\n",
      "[300]\tvalid_0's binary_logloss: 0.0120358\n",
      "[400]\tvalid_0's binary_logloss: 0.01212\n",
      "[500]\tvalid_0's binary_logloss: 0.0123451\n",
      "[600]\tvalid_0's binary_logloss: 0.0126835\n",
      "[700]\tvalid_0's binary_logloss: 0.0130962\n",
      "[800]\tvalid_0's binary_logloss: 0.0135662\n",
      "[900]\tvalid_0's binary_logloss: 0.0140658\n",
      "[1000]\tvalid_0's binary_logloss: 0.014599\n",
      "[1100]\tvalid_0's binary_logloss: 0.0151462\n",
      "[1200]\tvalid_0's binary_logloss: 0.0157007\n",
      "[1300]\tvalid_0's binary_logloss: 0.0162534\n",
      "[1400]\tvalid_0's binary_logloss: 0.0168046\n",
      "[1500]\tvalid_0's binary_logloss: 0.0173487\n"
     ]
    },
    {
     "name": "stderr",
     "output_type": "stream",
     "text": [
      "\u001b[32m[I 2022-07-09 17:46:49,146]\u001b[0m Trial 129 finished with value: 0.5892638238382694 and parameters: {'max_depth': 4, 'learning_rate': 0.0015407667585661997, 'n_estimators': 1525, 'num_leaves': 237, 'colsample_bytree': 0.6593781191936692, 'subsample': 0.6145806941482956, 'reg_alpha': 3.5132619918535255, 'reg_lambda': 0.8769199804328887}. Best is trial 75 with value: 0.7725514640071602.\u001b[0m\n"
     ]
    },
    {
     "name": "stdout",
     "output_type": "stream",
     "text": [
      "[100]\tvalid_0's binary_logloss: 0.0141068\n",
      "[200]\tvalid_0's binary_logloss: 0.0136333\n",
      "[300]\tvalid_0's binary_logloss: 0.0132972\n",
      "[400]\tvalid_0's binary_logloss: 0.0130426\n",
      "[500]\tvalid_0's binary_logloss: 0.0128446\n",
      "[600]\tvalid_0's binary_logloss: 0.0126859\n",
      "[700]\tvalid_0's binary_logloss: 0.0125486\n",
      "[800]\tvalid_0's binary_logloss: 0.0124347\n",
      "[900]\tvalid_0's binary_logloss: 0.0123372\n",
      "[1000]\tvalid_0's binary_logloss: 0.0122552\n",
      "[1100]\tvalid_0's binary_logloss: 0.0121861\n",
      "[1200]\tvalid_0's binary_logloss: 0.0121256\n",
      "[1300]\tvalid_0's binary_logloss: 0.0120756\n",
      "[1400]\tvalid_0's binary_logloss: 0.0120342\n",
      "[1500]\tvalid_0's binary_logloss: 0.0120011\n",
      "[1600]\tvalid_0's binary_logloss: 0.0119738\n"
     ]
    },
    {
     "name": "stderr",
     "output_type": "stream",
     "text": [
      "\u001b[32m[I 2022-07-09 17:47:03,240]\u001b[0m Trial 130 finished with value: 0.4997363518121419 and parameters: {'max_depth': 6, 'learning_rate': 0.00022206365389249843, 'n_estimators': 1622, 'num_leaves': 351, 'colsample_bytree': 0.6249188411431916, 'subsample': 0.667941642128909, 'reg_alpha': 2.6726739621351423, 'reg_lambda': 0.9444342464860614}. Best is trial 75 with value: 0.7725514640071602.\u001b[0m\n"
     ]
    },
    {
     "name": "stdout",
     "output_type": "stream",
     "text": [
      "[100]\tvalid_0's binary_logloss: 0.0136624\n",
      "[200]\tvalid_0's binary_logloss: 0.0131186\n",
      "[300]\tvalid_0's binary_logloss: 0.0127983\n",
      "[400]\tvalid_0's binary_logloss: 0.0125882\n",
      "[500]\tvalid_0's binary_logloss: 0.0124365\n",
      "[600]\tvalid_0's binary_logloss: 0.0123226\n",
      "[700]\tvalid_0's binary_logloss: 0.0122358\n",
      "[800]\tvalid_0's binary_logloss: 0.0121788\n",
      "[900]\tvalid_0's binary_logloss: 0.0121418\n",
      "[1000]\tvalid_0's binary_logloss: 0.0121244\n",
      "[1100]\tvalid_0's binary_logloss: 0.0121231\n",
      "[1200]\tvalid_0's binary_logloss: 0.0121358\n",
      "[1300]\tvalid_0's binary_logloss: 0.0121615\n",
      "[1400]\tvalid_0's binary_logloss: 0.0121965\n",
      "[1500]\tvalid_0's binary_logloss: 0.0122443\n"
     ]
    },
    {
     "name": "stderr",
     "output_type": "stream",
     "text": [
      "\u001b[32m[I 2022-07-09 17:47:12,800]\u001b[0m Trial 131 finished with value: 0.5213523376502261 and parameters: {'max_depth': 3, 'learning_rate': 0.0004277649628080094, 'n_estimators': 1513, 'num_leaves': 183, 'colsample_bytree': 0.637183103509299, 'subsample': 0.6064126222513477, 'reg_alpha': 2.9960737683627285, 'reg_lambda': 0.44502290351419005}. Best is trial 75 with value: 0.7725514640071602.\u001b[0m\n"
     ]
    },
    {
     "name": "stdout",
     "output_type": "stream",
     "text": [
      "[100]\tvalid_0's binary_logloss: 0.0130442\n",
      "[200]\tvalid_0's binary_logloss: 0.012491\n",
      "[300]\tvalid_0's binary_logloss: 0.0122125\n",
      "[400]\tvalid_0's binary_logloss: 0.0120711\n",
      "[500]\tvalid_0's binary_logloss: 0.0120276\n",
      "[600]\tvalid_0's binary_logloss: 0.0120526\n",
      "[700]\tvalid_0's binary_logloss: 0.0121295\n",
      "[800]\tvalid_0's binary_logloss: 0.0122572\n",
      "[900]\tvalid_0's binary_logloss: 0.0124229\n",
      "[1000]\tvalid_0's binary_logloss: 0.0126211\n",
      "[1100]\tvalid_0's binary_logloss: 0.0128482\n",
      "[1200]\tvalid_0's binary_logloss: 0.0130984\n",
      "[1300]\tvalid_0's binary_logloss: 0.0133677\n"
     ]
    },
    {
     "name": "stderr",
     "output_type": "stream",
     "text": [
      "\u001b[32m[I 2022-07-09 17:47:24,590]\u001b[0m Trial 132 finished with value: 0.5884852084280676 and parameters: {'max_depth': 4, 'learning_rate': 0.0008980817426575343, 'n_estimators': 1394, 'num_leaves': 207, 'colsample_bytree': 0.6537205677432391, 'subsample': 0.5819664691000584, 'reg_alpha': 3.3105607697326582, 'reg_lambda': 0.5557971892556977}. Best is trial 75 with value: 0.7725514640071602.\u001b[0m\n"
     ]
    },
    {
     "name": "stdout",
     "output_type": "stream",
     "text": [
      "[100]\tvalid_0's binary_logloss: 0.0134056\n",
      "[200]\tvalid_0's binary_logloss: 0.0128677\n",
      "[300]\tvalid_0's binary_logloss: 0.0125573\n",
      "[400]\tvalid_0's binary_logloss: 0.0123555\n",
      "[500]\tvalid_0's binary_logloss: 0.0122115\n",
      "[600]\tvalid_0's binary_logloss: 0.0121177\n",
      "[700]\tvalid_0's binary_logloss: 0.0120611\n",
      "[800]\tvalid_0's binary_logloss: 0.0120343\n",
      "[900]\tvalid_0's binary_logloss: 0.0120323\n",
      "[1000]\tvalid_0's binary_logloss: 0.012048\n",
      "[1100]\tvalid_0's binary_logloss: 0.0120858\n",
      "[1200]\tvalid_0's binary_logloss: 0.0121403\n",
      "[1300]\tvalid_0's binary_logloss: 0.0122099\n",
      "[1400]\tvalid_0's binary_logloss: 0.012292\n"
     ]
    },
    {
     "name": "stderr",
     "output_type": "stream",
     "text": [
      "\u001b[32m[I 2022-07-09 17:47:37,139]\u001b[0m Trial 133 finished with value: 0.622354957003539 and parameters: {'max_depth': 4, 'learning_rate': 0.0005197586656005708, 'n_estimators': 1453, 'num_leaves': 226, 'colsample_bytree': 0.6502685589037049, 'subsample': 0.6008805350882445, 'reg_alpha': 2.862116548642752, 'reg_lambda': 0.10174400740033218}. Best is trial 75 with value: 0.7725514640071602.\u001b[0m\n"
     ]
    },
    {
     "name": "stdout",
     "output_type": "stream",
     "text": [
      "[100]\tvalid_0's binary_logloss: 0.0137537\n",
      "[200]\tvalid_0's binary_logloss: 0.0132512\n",
      "[300]\tvalid_0's binary_logloss: 0.012936\n",
      "[400]\tvalid_0's binary_logloss: 0.0127234\n",
      "[500]\tvalid_0's binary_logloss: 0.0125641\n",
      "[600]\tvalid_0's binary_logloss: 0.0124441\n",
      "[700]\tvalid_0's binary_logloss: 0.0123434\n",
      "[800]\tvalid_0's binary_logloss: 0.0122678\n",
      "[900]\tvalid_0's binary_logloss: 0.0122056\n",
      "[1000]\tvalid_0's binary_logloss: 0.0121622\n",
      "[1100]\tvalid_0's binary_logloss: 0.0121321\n",
      "[1200]\tvalid_0's binary_logloss: 0.012115\n",
      "[1300]\tvalid_0's binary_logloss: 0.0121058\n",
      "[1400]\tvalid_0's binary_logloss: 0.0121061\n",
      "[1500]\tvalid_0's binary_logloss: 0.0121154\n"
     ]
    },
    {
     "name": "stderr",
     "output_type": "stream",
     "text": [
      "\u001b[32m[I 2022-07-09 17:47:47,045]\u001b[0m Trial 134 finished with value: 0.4997363518121419 and parameters: {'max_depth': 3, 'learning_rate': 0.0003347329025871973, 'n_estimators': 1568, 'num_leaves': 245, 'colsample_bytree': 0.6731456000266708, 'subsample': 0.6310431061707603, 'reg_alpha': 2.8654300702359645, 'reg_lambda': 0.11332340159845766}. Best is trial 75 with value: 0.7725514640071602.\u001b[0m\n"
     ]
    },
    {
     "name": "stdout",
     "output_type": "stream",
     "text": [
      "[100]\tvalid_0's binary_logloss: 0.0140287\n",
      "[200]\tvalid_0's binary_logloss: 0.0135905\n",
      "[300]\tvalid_0's binary_logloss: 0.0132936\n",
      "[400]\tvalid_0's binary_logloss: 0.0130674\n",
      "[500]\tvalid_0's binary_logloss: 0.0128856\n",
      "[600]\tvalid_0's binary_logloss: 0.0127387\n",
      "[700]\tvalid_0's binary_logloss: 0.0126126\n",
      "[800]\tvalid_0's binary_logloss: 0.0125087\n",
      "[900]\tvalid_0's binary_logloss: 0.0124181\n",
      "[1000]\tvalid_0's binary_logloss: 0.0123391\n",
      "[1100]\tvalid_0's binary_logloss: 0.0122706\n",
      "[1200]\tvalid_0's binary_logloss: 0.0122107\n",
      "[1300]\tvalid_0's binary_logloss: 0.0121595\n",
      "[1400]\tvalid_0's binary_logloss: 0.0121135\n",
      "[1500]\tvalid_0's binary_logloss: 0.0120768\n",
      "[1600]\tvalid_0's binary_logloss: 0.0120451\n",
      "[1700]\tvalid_0's binary_logloss: 0.0120187\n"
     ]
    },
    {
     "name": "stderr",
     "output_type": "stream",
     "text": [
      "\u001b[32m[I 2022-07-09 17:48:00,608]\u001b[0m Trial 135 finished with value: 0.4997363518121419 and parameters: {'max_depth': 5, 'learning_rate': 0.00018907536290505453, 'n_estimators': 1711, 'num_leaves': 286, 'colsample_bytree': 0.6499108642764669, 'subsample': 0.6591969426943326, 'reg_alpha': 3.1658101925717035, 'reg_lambda': 0.016496225186163338}. Best is trial 75 with value: 0.7725514640071602.\u001b[0m\n"
     ]
    },
    {
     "name": "stdout",
     "output_type": "stream",
     "text": [
      "[100]\tvalid_0's binary_logloss: 0.013223\n",
      "[200]\tvalid_0's binary_logloss: 0.0126474\n",
      "[300]\tvalid_0's binary_logloss: 0.0123591\n",
      "[400]\tvalid_0's binary_logloss: 0.0122008\n",
      "[500]\tvalid_0's binary_logloss: 0.01213\n",
      "[600]\tvalid_0's binary_logloss: 0.0121316\n",
      "[700]\tvalid_0's binary_logloss: 0.0121778\n",
      "[800]\tvalid_0's binary_logloss: 0.0122725\n",
      "[900]\tvalid_0's binary_logloss: 0.0124002\n",
      "[1000]\tvalid_0's binary_logloss: 0.0125612\n",
      "[1100]\tvalid_0's binary_logloss: 0.0127435\n",
      "[1200]\tvalid_0's binary_logloss: 0.0129432\n",
      "[1300]\tvalid_0's binary_logloss: 0.0131622\n"
     ]
    },
    {
     "name": "stderr",
     "output_type": "stream",
     "text": [
      "\u001b[32m[I 2022-07-09 17:48:09,066]\u001b[0m Trial 136 finished with value: 0.591673926270085 and parameters: {'max_depth': 3, 'learning_rate': 0.0008440662121395671, 'n_estimators': 1353, 'num_leaves': 223, 'colsample_bytree': 0.6814687975138544, 'subsample': 0.6082939550900665, 'reg_alpha': 2.722529471373948, 'reg_lambda': 1.0389277899018827}. Best is trial 75 with value: 0.7725514640071602.\u001b[0m\n"
     ]
    },
    {
     "name": "stdout",
     "output_type": "stream",
     "text": [
      "[100]\tvalid_0's binary_logloss: 0.0136142\n",
      "[200]\tvalid_0's binary_logloss: 0.0130521\n",
      "[300]\tvalid_0's binary_logloss: 0.0127189\n",
      "[400]\tvalid_0's binary_logloss: 0.0124936\n",
      "[500]\tvalid_0's binary_logloss: 0.0123305\n",
      "[600]\tvalid_0's binary_logloss: 0.0122145\n",
      "[700]\tvalid_0's binary_logloss: 0.0121355\n",
      "[800]\tvalid_0's binary_logloss: 0.012084\n",
      "[900]\tvalid_0's binary_logloss: 0.0120512\n",
      "[1000]\tvalid_0's binary_logloss: 0.0120396\n",
      "[1100]\tvalid_0's binary_logloss: 0.0120446\n",
      "[1200]\tvalid_0's binary_logloss: 0.0120645\n",
      "[1300]\tvalid_0's binary_logloss: 0.0120987\n",
      "[1400]\tvalid_0's binary_logloss: 0.0121436\n"
     ]
    },
    {
     "name": "stderr",
     "output_type": "stream",
     "text": [
      "\u001b[32m[I 2022-07-09 17:48:19,423]\u001b[0m Trial 137 finished with value: 0.6455344374897438 and parameters: {'max_depth': 4, 'learning_rate': 0.00045072960950216166, 'n_estimators': 1446, 'num_leaves': 266, 'colsample_bytree': 0.6313538147171943, 'subsample': 0.5590317642637757, 'reg_alpha': 3.682211406700223, 'reg_lambda': 0.6321647447410372}. Best is trial 75 with value: 0.7725514640071602.\u001b[0m\n"
     ]
    },
    {
     "name": "stdout",
     "output_type": "stream",
     "text": [
      "[100]\tvalid_0's binary_logloss: 0.013535\n",
      "[200]\tvalid_0's binary_logloss: 0.0129858\n",
      "[300]\tvalid_0's binary_logloss: 0.0126636\n",
      "[400]\tvalid_0's binary_logloss: 0.012448\n",
      "[500]\tvalid_0's binary_logloss: 0.0122907\n",
      "[600]\tvalid_0's binary_logloss: 0.0121792\n",
      "[700]\tvalid_0's binary_logloss: 0.0121075\n",
      "[800]\tvalid_0's binary_logloss: 0.0120627\n",
      "[900]\tvalid_0's binary_logloss: 0.0120367\n",
      "[1000]\tvalid_0's binary_logloss: 0.0120311\n",
      "[1100]\tvalid_0's binary_logloss: 0.0120419\n",
      "[1200]\tvalid_0's binary_logloss: 0.0120694\n",
      "[1300]\tvalid_0's binary_logloss: 0.0121112\n",
      "[1400]\tvalid_0's binary_logloss: 0.0121639\n",
      "[1500]\tvalid_0's binary_logloss: 0.0122301\n",
      "[1600]\tvalid_0's binary_logloss: 0.0123089\n"
     ]
    },
    {
     "name": "stderr",
     "output_type": "stream",
     "text": [
      "\u001b[32m[I 2022-07-09 17:48:30,918]\u001b[0m Trial 138 finished with value: 0.6215501531674203 and parameters: {'max_depth': 4, 'learning_rate': 0.0004638444172598031, 'n_estimators': 1665, 'num_leaves': 310, 'colsample_bytree': 0.6455053222137911, 'subsample': 0.565178698095238, 'reg_alpha': 3.646740563459761, 'reg_lambda': 0.3408433199605261}. Best is trial 75 with value: 0.7725514640071602.\u001b[0m\n"
     ]
    },
    {
     "name": "stdout",
     "output_type": "stream",
     "text": [
      "[100]\tvalid_0's binary_logloss: 0.0137436\n",
      "[200]\tvalid_0's binary_logloss: 0.0131889\n",
      "[300]\tvalid_0's binary_logloss: 0.0128405\n",
      "[400]\tvalid_0's binary_logloss: 0.0125962\n",
      "[500]\tvalid_0's binary_logloss: 0.0124146\n",
      "[600]\tvalid_0's binary_logloss: 0.0122777\n",
      "[700]\tvalid_0's binary_logloss: 0.0121693\n",
      "[800]\tvalid_0's binary_logloss: 0.0120931\n",
      "[900]\tvalid_0's binary_logloss: 0.0120366\n",
      "[1000]\tvalid_0's binary_logloss: 0.0119983\n",
      "[1100]\tvalid_0's binary_logloss: 0.0119754\n",
      "[1200]\tvalid_0's binary_logloss: 0.0119654\n",
      "[1300]\tvalid_0's binary_logloss: 0.0119677\n",
      "[1400]\tvalid_0's binary_logloss: 0.0119801\n",
      "[1500]\tvalid_0's binary_logloss: 0.0120017\n",
      "[1600]\tvalid_0's binary_logloss: 0.0120336\n"
     ]
    },
    {
     "name": "stderr",
     "output_type": "stream",
     "text": [
      "\u001b[32m[I 2022-07-09 17:48:44,177]\u001b[0m Trial 139 finished with value: 0.4997363518121419 and parameters: {'max_depth': 5, 'learning_rate': 0.00037118369449615316, 'n_estimators': 1660, 'num_leaves': 271, 'colsample_bytree': 0.6625874412379208, 'subsample': 0.5927807608420405, 'reg_alpha': 3.797963815052865, 'reg_lambda': 0.6206424680158908}. Best is trial 75 with value: 0.7725514640071602.\u001b[0m\n"
     ]
    },
    {
     "name": "stdout",
     "output_type": "stream",
     "text": [
      "[100]\tvalid_0's binary_logloss: 0.0128825\n",
      "[200]\tvalid_0's binary_logloss: 0.0123373\n",
      "[300]\tvalid_0's binary_logloss: 0.0121056\n",
      "[400]\tvalid_0's binary_logloss: 0.0120343\n",
      "[500]\tvalid_0's binary_logloss: 0.0120773\n",
      "[600]\tvalid_0's binary_logloss: 0.0122039\n",
      "[700]\tvalid_0's binary_logloss: 0.0123948\n",
      "[800]\tvalid_0's binary_logloss: 0.0126466\n",
      "[900]\tvalid_0's binary_logloss: 0.012941\n",
      "[1000]\tvalid_0's binary_logloss: 0.013266\n",
      "[1100]\tvalid_0's binary_logloss: 0.0136177\n",
      "[1200]\tvalid_0's binary_logloss: 0.0139866\n",
      "[1300]\tvalid_0's binary_logloss: 0.0143718\n",
      "[1400]\tvalid_0's binary_logloss: 0.0147694\n",
      "[1500]\tvalid_0's binary_logloss: 0.0151766\n"
     ]
    },
    {
     "name": "stderr",
     "output_type": "stream",
     "text": [
      "\u001b[32m[I 2022-07-09 17:48:55,563]\u001b[0m Trial 140 finished with value: 0.579483529406027 and parameters: {'max_depth': 4, 'learning_rate': 0.0011398996504421322, 'n_estimators': 1590, 'num_leaves': 379, 'colsample_bytree': 0.644087679854618, 'subsample': 0.5519762586163713, 'reg_alpha': 3.9999347744484437, 'reg_lambda': 0.82662533036696}. Best is trial 75 with value: 0.7725514640071602.\u001b[0m\n"
     ]
    },
    {
     "name": "stdout",
     "output_type": "stream",
     "text": [
      "[100]\tvalid_0's binary_logloss: 0.0134471\n",
      "[200]\tvalid_0's binary_logloss: 0.0128884\n",
      "[300]\tvalid_0's binary_logloss: 0.0125686\n",
      "[400]\tvalid_0's binary_logloss: 0.0123602\n",
      "[500]\tvalid_0's binary_logloss: 0.0122127\n",
      "[600]\tvalid_0's binary_logloss: 0.0121234\n",
      "[700]\tvalid_0's binary_logloss: 0.0120654\n",
      "[800]\tvalid_0's binary_logloss: 0.0120365\n",
      "[900]\tvalid_0's binary_logloss: 0.0120294\n",
      "[1000]\tvalid_0's binary_logloss: 0.0120471\n",
      "[1100]\tvalid_0's binary_logloss: 0.0120848\n",
      "[1200]\tvalid_0's binary_logloss: 0.0121389\n",
      "[1300]\tvalid_0's binary_logloss: 0.0122101\n",
      "[1400]\tvalid_0's binary_logloss: 0.0122931\n",
      "[1500]\tvalid_0's binary_logloss: 0.012392\n"
     ]
    },
    {
     "name": "stderr",
     "output_type": "stream",
     "text": [
      "\u001b[32m[I 2022-07-09 17:49:05,988]\u001b[0m Trial 141 finished with value: 0.616191670570774 and parameters: {'max_depth': 4, 'learning_rate': 0.0005255884756739704, 'n_estimators': 1511, 'num_leaves': 321, 'colsample_bytree': 0.6333352587346215, 'subsample': 0.5674016028211467, 'reg_alpha': 3.6570835750496604, 'reg_lambda': 0.3601491257123929}. Best is trial 75 with value: 0.7725514640071602.\u001b[0m\n"
     ]
    },
    {
     "name": "stdout",
     "output_type": "stream",
     "text": [
      "[100]\tvalid_0's binary_logloss: 0.0138151\n",
      "[200]\tvalid_0's binary_logloss: 0.0133152\n",
      "[300]\tvalid_0's binary_logloss: 0.0129897\n",
      "[400]\tvalid_0's binary_logloss: 0.0127618\n",
      "[500]\tvalid_0's binary_logloss: 0.0125902\n",
      "[600]\tvalid_0's binary_logloss: 0.0124566\n",
      "[700]\tvalid_0's binary_logloss: 0.0123474\n",
      "[800]\tvalid_0's binary_logloss: 0.0122581\n",
      "[900]\tvalid_0's binary_logloss: 0.0121851\n",
      "[1000]\tvalid_0's binary_logloss: 0.0121341\n",
      "[1100]\tvalid_0's binary_logloss: 0.0120957\n",
      "[1200]\tvalid_0's binary_logloss: 0.0120658\n",
      "[1300]\tvalid_0's binary_logloss: 0.0120461\n",
      "[1400]\tvalid_0's binary_logloss: 0.0120357\n",
      "[1500]\tvalid_0's binary_logloss: 0.0120337\n",
      "[1600]\tvalid_0's binary_logloss: 0.012036\n"
     ]
    },
    {
     "name": "stderr",
     "output_type": "stream",
     "text": [
      "\u001b[32m[I 2022-07-09 17:49:18,580]\u001b[0m Trial 142 finished with value: 0.4997363518121419 and parameters: {'max_depth': 4, 'learning_rate': 0.00030368439483952287, 'n_estimators': 1634, 'num_leaves': 303, 'colsample_bytree': 0.6706570869302891, 'subsample': 0.5976331623577732, 'reg_alpha': 3.295888485914687, 'reg_lambda': 0.24044453382524533}. Best is trial 75 with value: 0.7725514640071602.\u001b[0m\n"
     ]
    },
    {
     "name": "stdout",
     "output_type": "stream",
     "text": [
      "[100]\tvalid_0's binary_logloss: 0.013593\n",
      "[200]\tvalid_0's binary_logloss: 0.0130296\n",
      "[300]\tvalid_0's binary_logloss: 0.0127104\n",
      "[400]\tvalid_0's binary_logloss: 0.012504\n",
      "[500]\tvalid_0's binary_logloss: 0.0123532\n",
      "[600]\tvalid_0's binary_logloss: 0.0122524\n",
      "[700]\tvalid_0's binary_logloss: 0.0121815\n",
      "[800]\tvalid_0's binary_logloss: 0.0121417\n",
      "[900]\tvalid_0's binary_logloss: 0.0121257\n",
      "[1000]\tvalid_0's binary_logloss: 0.0121321\n",
      "[1100]\tvalid_0's binary_logloss: 0.0121541\n",
      "[1200]\tvalid_0's binary_logloss: 0.0121947\n",
      "[1300]\tvalid_0's binary_logloss: 0.0122501\n",
      "[1400]\tvalid_0's binary_logloss: 0.0123154\n",
      "[1500]\tvalid_0's binary_logloss: 0.0123947\n"
     ]
    },
    {
     "name": "stderr",
     "output_type": "stream",
     "text": [
      "\u001b[32m[I 2022-07-09 17:49:29,873]\u001b[0m Trial 143 finished with value: 0.6285894732307841 and parameters: {'max_depth': 3, 'learning_rate': 0.00049763772788735, 'n_estimators': 1568, 'num_leaves': 258, 'colsample_bytree': 0.6464670768498535, 'subsample': 0.560004410705119, 'reg_alpha': 3.7852714865948616, 'reg_lambda': 0.659325650946385}. Best is trial 75 with value: 0.7725514640071602.\u001b[0m\n"
     ]
    },
    {
     "name": "stdout",
     "output_type": "stream",
     "text": [
      "[100]\tvalid_0's binary_logloss: 0.0137658\n",
      "[200]\tvalid_0's binary_logloss: 0.0132244\n",
      "[300]\tvalid_0's binary_logloss: 0.0128948\n",
      "[400]\tvalid_0's binary_logloss: 0.0126753\n",
      "[500]\tvalid_0's binary_logloss: 0.0125147\n",
      "[600]\tvalid_0's binary_logloss: 0.0123928\n",
      "[700]\tvalid_0's binary_logloss: 0.0122965\n",
      "[800]\tvalid_0's binary_logloss: 0.0122269\n",
      "[900]\tvalid_0's binary_logloss: 0.0121766\n",
      "[1000]\tvalid_0's binary_logloss: 0.0121448\n",
      "[1100]\tvalid_0's binary_logloss: 0.0121279\n",
      "[1200]\tvalid_0's binary_logloss: 0.0121241\n",
      "[1300]\tvalid_0's binary_logloss: 0.0121328\n",
      "[1400]\tvalid_0's binary_logloss: 0.0121505\n",
      "[1500]\tvalid_0's binary_logloss: 0.0121801\n",
      "[1600]\tvalid_0's binary_logloss: 0.0122198\n"
     ]
    },
    {
     "name": "stderr",
     "output_type": "stream",
     "text": [
      "\u001b[32m[I 2022-07-09 17:49:39,955]\u001b[0m Trial 144 finished with value: 0.519177058758024 and parameters: {'max_depth': 3, 'learning_rate': 0.00039040881846916513, 'n_estimators': 1688, 'num_leaves': 261, 'colsample_bytree': 0.6456203235185098, 'subsample': 0.5564377464221628, 'reg_alpha': 3.9130691149522523, 'reg_lambda': 0.65334108769785}. Best is trial 75 with value: 0.7725514640071602.\u001b[0m\n"
     ]
    },
    {
     "name": "stdout",
     "output_type": "stream",
     "text": [
      "[100]\tvalid_0's binary_logloss: 0.0132821\n",
      "[200]\tvalid_0's binary_logloss: 0.0127104\n",
      "[300]\tvalid_0's binary_logloss: 0.0124138\n",
      "[400]\tvalid_0's binary_logloss: 0.0122423\n",
      "[500]\tvalid_0's binary_logloss: 0.012152\n",
      "[600]\tvalid_0's binary_logloss: 0.0121279\n",
      "[700]\tvalid_0's binary_logloss: 0.0121484\n",
      "[800]\tvalid_0's binary_logloss: 0.0122118\n",
      "[900]\tvalid_0's binary_logloss: 0.0123077\n",
      "[1000]\tvalid_0's binary_logloss: 0.0124331\n",
      "[1100]\tvalid_0's binary_logloss: 0.0125817\n",
      "[1200]\tvalid_0's binary_logloss: 0.0127546\n",
      "[1300]\tvalid_0's binary_logloss: 0.0129418\n",
      "[1400]\tvalid_0's binary_logloss: 0.0131419\n",
      "[1500]\tvalid_0's binary_logloss: 0.0133528\n"
     ]
    },
    {
     "name": "stderr",
     "output_type": "stream",
     "text": [
      "\u001b[32m[I 2022-07-09 17:49:50,439]\u001b[0m Trial 145 finished with value: 0.5902975864830718 and parameters: {'max_depth': 3, 'learning_rate': 0.0007788913049092672, 'n_estimators': 1554, 'num_leaves': 218, 'colsample_bytree': 0.659022630097544, 'subsample': 0.5827938787899672, 'reg_alpha': 4.337058529580412, 'reg_lambda': 0.9072371049730148}. Best is trial 75 with value: 0.7725514640071602.\u001b[0m\n"
     ]
    },
    {
     "name": "stdout",
     "output_type": "stream",
     "text": [
      "[100]\tvalid_0's binary_logloss: 0.0140697\n",
      "[200]\tvalid_0's binary_logloss: 0.0135919\n",
      "[300]\tvalid_0's binary_logloss: 0.0132702\n",
      "[400]\tvalid_0's binary_logloss: 0.0130344\n",
      "[500]\tvalid_0's binary_logloss: 0.0128542\n",
      "[600]\tvalid_0's binary_logloss: 0.0127128\n",
      "[700]\tvalid_0's binary_logloss: 0.0125946\n",
      "[800]\tvalid_0's binary_logloss: 0.0124948\n",
      "[900]\tvalid_0's binary_logloss: 0.0124113\n",
      "[1000]\tvalid_0's binary_logloss: 0.012344\n",
      "[1100]\tvalid_0's binary_logloss: 0.0122872\n",
      "[1200]\tvalid_0's binary_logloss: 0.0122407\n",
      "[1300]\tvalid_0's binary_logloss: 0.012202\n",
      "[1400]\tvalid_0's binary_logloss: 0.0121715\n"
     ]
    },
    {
     "name": "stderr",
     "output_type": "stream",
     "text": [
      "\u001b[32m[I 2022-07-09 17:49:59,110]\u001b[0m Trial 146 finished with value: 0.4997363518121419 and parameters: {'max_depth': 3, 'learning_rate': 0.00025332638611366215, 'n_estimators': 1433, 'num_leaves': 246, 'colsample_bytree': 0.6958101260394591, 'subsample': 0.6434144357994442, 'reg_alpha': 3.772197215025178, 'reg_lambda': 0.8017747773092219}. Best is trial 75 with value: 0.7725514640071602.\u001b[0m\n"
     ]
    },
    {
     "name": "stdout",
     "output_type": "stream",
     "text": [
      "[100]\tvalid_0's binary_logloss: 0.0136193\n",
      "[200]\tvalid_0's binary_logloss: 0.0130635\n",
      "[300]\tvalid_0's binary_logloss: 0.012746\n",
      "[400]\tvalid_0's binary_logloss: 0.0125334\n",
      "[500]\tvalid_0's binary_logloss: 0.0123791\n",
      "[600]\tvalid_0's binary_logloss: 0.0122739\n",
      "[700]\tvalid_0's binary_logloss: 0.0121967\n",
      "[800]\tvalid_0's binary_logloss: 0.0121509\n",
      "[900]\tvalid_0's binary_logloss: 0.012127\n",
      "[1000]\tvalid_0's binary_logloss: 0.0121229\n",
      "[1100]\tvalid_0's binary_logloss: 0.012136\n",
      "[1200]\tvalid_0's binary_logloss: 0.012163\n",
      "[1300]\tvalid_0's binary_logloss: 0.0122043\n",
      "[1400]\tvalid_0's binary_logloss: 0.0122582\n",
      "[1500]\tvalid_0's binary_logloss: 0.0123244\n",
      "[1600]\tvalid_0's binary_logloss: 0.0124011\n"
     ]
    },
    {
     "name": "stderr",
     "output_type": "stream",
     "text": [
      "\u001b[32m[I 2022-07-09 17:51:07,808]\u001b[0m Trial 147 finished with value: 0.636800660705818 and parameters: {'max_depth': 3, 'learning_rate': 0.00047144469823576717, 'n_estimators': 1618, 'num_leaves': 277, 'colsample_bytree': 0.6765386695717618, 'subsample': 0.5620687899773968, 'reg_alpha': 3.5882544086456387, 'reg_lambda': 0.5339312649409256}. Best is trial 75 with value: 0.7725514640071602.\u001b[0m\n"
     ]
    },
    {
     "name": "stdout",
     "output_type": "stream",
     "text": [
      "[100]\tvalid_0's binary_logloss: 0.0142199\n",
      "[200]\tvalid_0's binary_logloss: 0.0138032\n",
      "[300]\tvalid_0's binary_logloss: 0.013514\n",
      "[400]\tvalid_0's binary_logloss: 0.0132925\n",
      "[500]\tvalid_0's binary_logloss: 0.01311\n",
      "[600]\tvalid_0's binary_logloss: 0.0129648\n",
      "[700]\tvalid_0's binary_logloss: 0.0128441\n",
      "[800]\tvalid_0's binary_logloss: 0.0127425\n",
      "[900]\tvalid_0's binary_logloss: 0.0126553\n",
      "[1000]\tvalid_0's binary_logloss: 0.0125805\n",
      "[1100]\tvalid_0's binary_logloss: 0.0125115\n",
      "[1200]\tvalid_0's binary_logloss: 0.0124509\n",
      "[1300]\tvalid_0's binary_logloss: 0.0123974\n",
      "[1400]\tvalid_0's binary_logloss: 0.0123513\n",
      "[1500]\tvalid_0's binary_logloss: 0.0123103\n",
      "[1600]\tvalid_0's binary_logloss: 0.0122733\n",
      "[1700]\tvalid_0's binary_logloss: 0.0122418\n"
     ]
    },
    {
     "name": "stderr",
     "output_type": "stream",
     "text": [
      "\u001b[32m[I 2022-07-09 17:51:18,169]\u001b[0m Trial 148 finished with value: 0.4997363518121419 and parameters: {'max_depth': 3, 'learning_rate': 0.00017775686119708342, 'n_estimators': 1769, 'num_leaves': 286, 'colsample_bytree': 0.7166479121582773, 'subsample': 0.9636393166504371, 'reg_alpha': 3.50644927940787, 'reg_lambda': 0.537731821925082}. Best is trial 75 with value: 0.7725514640071602.\u001b[0m\n"
     ]
    },
    {
     "name": "stdout",
     "output_type": "stream",
     "text": [
      "[100]\tvalid_0's binary_logloss: 0.0130897\n",
      "[200]\tvalid_0's binary_logloss: 0.0125372\n",
      "[300]\tvalid_0's binary_logloss: 0.0122477\n",
      "[400]\tvalid_0's binary_logloss: 0.0120891\n",
      "[500]\tvalid_0's binary_logloss: 0.012025\n",
      "[600]\tvalid_0's binary_logloss: 0.0120256\n",
      "[700]\tvalid_0's binary_logloss: 0.0120745\n",
      "[800]\tvalid_0's binary_logloss: 0.0121676\n",
      "[900]\tvalid_0's binary_logloss: 0.0122987\n",
      "[1000]\tvalid_0's binary_logloss: 0.0124624\n",
      "[1100]\tvalid_0's binary_logloss: 0.012652\n",
      "[1200]\tvalid_0's binary_logloss: 0.0128611\n",
      "[1300]\tvalid_0's binary_logloss: 0.013096\n",
      "[1400]\tvalid_0's binary_logloss: 0.0133479\n",
      "[1500]\tvalid_0's binary_logloss: 0.0136036\n",
      "[1600]\tvalid_0's binary_logloss: 0.0138753\n"
     ]
    },
    {
     "name": "stderr",
     "output_type": "stream",
     "text": [
      "\u001b[32m[I 2022-07-09 17:51:30,792]\u001b[0m Trial 149 finished with value: 0.5856694308894872 and parameters: {'max_depth': 4, 'learning_rate': 0.0008331259097281286, 'n_estimators': 1643, 'num_leaves': 210, 'colsample_bytree': 0.6841549242461267, 'subsample': 0.5452110040148944, 'reg_alpha': 3.932610475418244, 'reg_lambda': 0.401426655847773}. Best is trial 75 with value: 0.7725514640071602.\u001b[0m\n"
     ]
    },
    {
     "name": "stdout",
     "output_type": "stream",
     "text": [
      "[100]\tvalid_0's binary_logloss: 0.0148819\n",
      "[200]\tvalid_0's binary_logloss: 0.0148733\n",
      "[300]\tvalid_0's binary_logloss: 0.0148648\n",
      "[400]\tvalid_0's binary_logloss: 0.0148564\n",
      "[500]\tvalid_0's binary_logloss: 0.0148479\n",
      "[600]\tvalid_0's binary_logloss: 0.0148395\n",
      "[700]\tvalid_0's binary_logloss: 0.0148311\n",
      "[800]\tvalid_0's binary_logloss: 0.014823\n",
      "[900]\tvalid_0's binary_logloss: 0.0148147\n",
      "[1000]\tvalid_0's binary_logloss: 0.0148066\n",
      "[1100]\tvalid_0's binary_logloss: 0.0147986\n",
      "[1200]\tvalid_0's binary_logloss: 0.0147907\n",
      "[1300]\tvalid_0's binary_logloss: 0.0147827\n",
      "[1400]\tvalid_0's binary_logloss: 0.0147747\n",
      "[1500]\tvalid_0's binary_logloss: 0.0147668\n",
      "[1600]\tvalid_0's binary_logloss: 0.014759\n"
     ]
    },
    {
     "name": "stderr",
     "output_type": "stream",
     "text": [
      "\u001b[32m[I 2022-07-09 17:51:40,423]\u001b[0m Trial 150 finished with value: 0.4997363518121419 and parameters: {'max_depth': 3, 'learning_rate': 1.702560100417069e-06, 'n_estimators': 1619, 'num_leaves': 176, 'colsample_bytree': 0.6209766859266799, 'subsample': 0.5615164098922834, 'reg_alpha': 4.191430416865547, 'reg_lambda': 0.6532198850717612}. Best is trial 75 with value: 0.7725514640071602.\u001b[0m\n"
     ]
    },
    {
     "name": "stdout",
     "output_type": "stream",
     "text": [
      "[100]\tvalid_0's binary_logloss: 0.0137303\n",
      "[200]\tvalid_0's binary_logloss: 0.0131577\n",
      "[300]\tvalid_0's binary_logloss: 0.0128183\n",
      "[400]\tvalid_0's binary_logloss: 0.0125927\n",
      "[500]\tvalid_0's binary_logloss: 0.0124282\n",
      "[600]\tvalid_0's binary_logloss: 0.0123126\n",
      "[700]\tvalid_0's binary_logloss: 0.0122277\n",
      "[800]\tvalid_0's binary_logloss: 0.0121722\n",
      "[900]\tvalid_0's binary_logloss: 0.0121398\n",
      "[1000]\tvalid_0's binary_logloss: 0.0121276\n",
      "[1100]\tvalid_0's binary_logloss: 0.0121326\n",
      "[1200]\tvalid_0's binary_logloss: 0.0121521\n",
      "[1300]\tvalid_0's binary_logloss: 0.0121863\n",
      "[1400]\tvalid_0's binary_logloss: 0.0122326\n",
      "[1500]\tvalid_0's binary_logloss: 0.0122918\n"
     ]
    },
    {
     "name": "stderr",
     "output_type": "stream",
     "text": [
      "\u001b[32m[I 2022-07-09 17:51:50,413]\u001b[0m Trial 151 finished with value: 0.6199151163750614 and parameters: {'max_depth': 3, 'learning_rate': 0.0004614663444777053, 'n_estimators': 1548, 'num_leaves': 334, 'colsample_bytree': 0.6741375593584277, 'subsample': 0.5613761922432612, 'reg_alpha': 3.3840693167966447, 'reg_lambda': 1.197667431564455}. Best is trial 75 with value: 0.7725514640071602.\u001b[0m\n"
     ]
    },
    {
     "name": "stdout",
     "output_type": "stream",
     "text": [
      "[100]\tvalid_0's binary_logloss: 0.0136988\n",
      "[200]\tvalid_0's binary_logloss: 0.013129\n",
      "[300]\tvalid_0's binary_logloss: 0.0127946\n",
      "[400]\tvalid_0's binary_logloss: 0.0125719\n",
      "[500]\tvalid_0's binary_logloss: 0.0124101\n",
      "[600]\tvalid_0's binary_logloss: 0.0122974\n",
      "[700]\tvalid_0's binary_logloss: 0.0122153\n",
      "[800]\tvalid_0's binary_logloss: 0.012163\n",
      "[900]\tvalid_0's binary_logloss: 0.0121343\n",
      "[1000]\tvalid_0's binary_logloss: 0.0121256\n",
      "[1100]\tvalid_0's binary_logloss: 0.0121337\n",
      "[1200]\tvalid_0's binary_logloss: 0.0121568\n",
      "[1300]\tvalid_0's binary_logloss: 0.0121942\n",
      "[1400]\tvalid_0's binary_logloss: 0.0122444\n",
      "[1500]\tvalid_0's binary_logloss: 0.0123069\n"
     ]
    },
    {
     "name": "stderr",
     "output_type": "stream",
     "text": [
      "\u001b[32m[I 2022-07-09 17:52:00,045]\u001b[0m Trial 152 finished with value: 0.6269479318906166 and parameters: {'max_depth': 3, 'learning_rate': 0.00046770080985240317, 'n_estimators': 1585, 'num_leaves': 272, 'colsample_bytree': 0.658984416936976, 'subsample': 0.5984530643865887, 'reg_alpha': 3.6391489641755927, 'reg_lambda': 1.043425662565378}. Best is trial 75 with value: 0.7725514640071602.\u001b[0m\n"
     ]
    },
    {
     "name": "stdout",
     "output_type": "stream",
     "text": [
      "[100]\tvalid_0's binary_logloss: 0.0138576\n",
      "[200]\tvalid_0's binary_logloss: 0.013341\n",
      "[300]\tvalid_0's binary_logloss: 0.0130126\n",
      "[400]\tvalid_0's binary_logloss: 0.012789\n",
      "[500]\tvalid_0's binary_logloss: 0.0126209\n",
      "[600]\tvalid_0's binary_logloss: 0.0124938\n",
      "[700]\tvalid_0's binary_logloss: 0.0123906\n",
      "[800]\tvalid_0's binary_logloss: 0.0123082\n",
      "[900]\tvalid_0's binary_logloss: 0.0122437\n",
      "[1000]\tvalid_0's binary_logloss: 0.0121959\n",
      "[1100]\tvalid_0's binary_logloss: 0.01216\n",
      "[1200]\tvalid_0's binary_logloss: 0.0121368\n",
      "[1300]\tvalid_0's binary_logloss: 0.0121238\n",
      "[1400]\tvalid_0's binary_logloss: 0.0121192\n",
      "[1500]\tvalid_0's binary_logloss: 0.0121245\n"
     ]
    },
    {
     "name": "stderr",
     "output_type": "stream",
     "text": [
      "\u001b[32m[I 2022-07-09 17:52:09,603]\u001b[0m Trial 153 finished with value: 0.4997363518121419 and parameters: {'max_depth': 3, 'learning_rate': 0.0003295680483468562, 'n_estimators': 1506, 'num_leaves': 267, 'colsample_bytree': 0.6487008304059346, 'subsample': 0.5797885731306376, 'reg_alpha': 3.696269752681723, 'reg_lambda': 0.5330931440831993}. Best is trial 75 with value: 0.7725514640071602.\u001b[0m\n"
     ]
    },
    {
     "name": "stdout",
     "output_type": "stream",
     "text": [
      "[100]\tvalid_0's binary_logloss: 0.0128499\n",
      "[200]\tvalid_0's binary_logloss: 0.0122984\n",
      "[300]\tvalid_0's binary_logloss: 0.0120774\n",
      "[400]\tvalid_0's binary_logloss: 0.0120355\n",
      "[500]\tvalid_0's binary_logloss: 0.0121086\n",
      "[600]\tvalid_0's binary_logloss: 0.012271\n",
      "[700]\tvalid_0's binary_logloss: 0.0125055\n",
      "[800]\tvalid_0's binary_logloss: 0.012802\n",
      "[900]\tvalid_0's binary_logloss: 0.0131401\n",
      "[1000]\tvalid_0's binary_logloss: 0.0135115\n",
      "[1100]\tvalid_0's binary_logloss: 0.0139038\n",
      "[1200]\tvalid_0's binary_logloss: 0.0143137\n",
      "[1300]\tvalid_0's binary_logloss: 0.0147457\n",
      "[1400]\tvalid_0's binary_logloss: 0.0151799\n",
      "[1500]\tvalid_0's binary_logloss: 0.0156202\n"
     ]
    },
    {
     "name": "stderr",
     "output_type": "stream",
     "text": [
      "\u001b[32m[I 2022-07-09 17:52:21,745]\u001b[0m Trial 154 finished with value: 0.5844128217557824 and parameters: {'max_depth': 4, 'learning_rate': 0.0012226385884158476, 'n_estimators': 1571, 'num_leaves': 363, 'colsample_bytree': 0.6654567063326952, 'subsample': 0.6228453985883537, 'reg_alpha': 3.584951866941459, 'reg_lambda': 1.0210342976261466}. Best is trial 75 with value: 0.7725514640071602.\u001b[0m\n"
     ]
    },
    {
     "name": "stdout",
     "output_type": "stream",
     "text": [
      "[100]\tvalid_0's binary_logloss: 0.0134865\n",
      "[200]\tvalid_0's binary_logloss: 0.0129186\n",
      "[300]\tvalid_0's binary_logloss: 0.0126036\n",
      "[400]\tvalid_0's binary_logloss: 0.012397\n",
      "[500]\tvalid_0's binary_logloss: 0.0122642\n",
      "[600]\tvalid_0's binary_logloss: 0.0121821\n",
      "[700]\tvalid_0's binary_logloss: 0.0121381\n",
      "[800]\tvalid_0's binary_logloss: 0.0121276\n",
      "[900]\tvalid_0's binary_logloss: 0.0121436\n",
      "[1000]\tvalid_0's binary_logloss: 0.0121834\n",
      "[1100]\tvalid_0's binary_logloss: 0.0122427\n",
      "[1200]\tvalid_0's binary_logloss: 0.0123211\n",
      "[1300]\tvalid_0's binary_logloss: 0.012415\n",
      "[1400]\tvalid_0's binary_logloss: 0.0125234\n",
      "[1500]\tvalid_0's binary_logloss: 0.0126489\n",
      "[1600]\tvalid_0's binary_logloss: 0.0127824\n"
     ]
    },
    {
     "name": "stderr",
     "output_type": "stream",
     "text": [
      "\u001b[32m[I 2022-07-09 17:52:33,537]\u001b[0m Trial 155 finished with value: 0.6043043219449535 and parameters: {'max_depth': 3, 'learning_rate': 0.0005866844929620761, 'n_estimators': 1669, 'num_leaves': 308, 'colsample_bytree': 0.6582614746003771, 'subsample': 0.603619878606665, 'reg_alpha': 3.756516342284483, 'reg_lambda': 0.7527603468346422}. Best is trial 75 with value: 0.7725514640071602.\u001b[0m\n"
     ]
    },
    {
     "name": "stdout",
     "output_type": "stream",
     "text": [
      "[100]\tvalid_0's binary_logloss: 0.014889\n",
      "[200]\tvalid_0's binary_logloss: 0.0148874\n",
      "[300]\tvalid_0's binary_logloss: 0.0148859\n",
      "[400]\tvalid_0's binary_logloss: 0.0148845\n",
      "[500]\tvalid_0's binary_logloss: 0.0148829\n",
      "[600]\tvalid_0's binary_logloss: 0.0148814\n",
      "[700]\tvalid_0's binary_logloss: 0.0148798\n",
      "[800]\tvalid_0's binary_logloss: 0.0148783\n",
      "[900]\tvalid_0's binary_logloss: 0.0148768\n",
      "[1000]\tvalid_0's binary_logloss: 0.0148753\n",
      "[1100]\tvalid_0's binary_logloss: 0.0148739\n",
      "[1200]\tvalid_0's binary_logloss: 0.0148724\n",
      "[1300]\tvalid_0's binary_logloss: 0.0148709\n",
      "[1400]\tvalid_0's binary_logloss: 0.0148694\n"
     ]
    },
    {
     "name": "stderr",
     "output_type": "stream",
     "text": [
      "\u001b[32m[I 2022-07-09 17:52:46,201]\u001b[0m Trial 156 finished with value: 0.4997363518121419 and parameters: {'max_depth': 4, 'learning_rate': 3.3137671079312483e-07, 'n_estimators': 1439, 'num_leaves': 236, 'colsample_bytree': 0.738944415832196, 'subsample': 0.6091543951948095, 'reg_alpha': 3.482873603953247, 'reg_lambda': 1.1000567256855833}. Best is trial 75 with value: 0.7725514640071602.\u001b[0m\n"
     ]
    },
    {
     "name": "stdout",
     "output_type": "stream",
     "text": [
      "[100]\tvalid_0's binary_logloss: 0.0133779\n",
      "[200]\tvalid_0's binary_logloss: 0.0127799\n",
      "[300]\tvalid_0's binary_logloss: 0.0124681\n",
      "[400]\tvalid_0's binary_logloss: 0.0122827\n",
      "[500]\tvalid_0's binary_logloss: 0.0121773\n",
      "[600]\tvalid_0's binary_logloss: 0.0121357\n",
      "[700]\tvalid_0's binary_logloss: 0.0121401\n",
      "[800]\tvalid_0's binary_logloss: 0.0121853\n",
      "[900]\tvalid_0's binary_logloss: 0.0122637\n",
      "[1000]\tvalid_0's binary_logloss: 0.0123708\n",
      "[1100]\tvalid_0's binary_logloss: 0.0125006\n",
      "[1200]\tvalid_0's binary_logloss: 0.0126582\n",
      "[1300]\tvalid_0's binary_logloss: 0.0128289\n",
      "[1400]\tvalid_0's binary_logloss: 0.0130102\n",
      "[1500]\tvalid_0's binary_logloss: 0.0132044\n",
      "[1600]\tvalid_0's binary_logloss: 0.0134067\n",
      "[1700]\tvalid_0's binary_logloss: 0.0136166\n"
     ]
    },
    {
     "name": "stderr",
     "output_type": "stream",
     "text": [
      "\u001b[32m[I 2022-07-09 17:52:56,776]\u001b[0m Trial 157 finished with value: 0.5880885746452782 and parameters: {'max_depth': 3, 'learning_rate': 0.0007453423871862039, 'n_estimators': 1717, 'num_leaves': 274, 'colsample_bytree': 0.6786215954435423, 'subsample': 0.5920029426502416, 'reg_alpha': 2.9278629086620467, 'reg_lambda': 1.4129708647186316}. Best is trial 75 with value: 0.7725514640071602.\u001b[0m\n"
     ]
    },
    {
     "name": "stdout",
     "output_type": "stream",
     "text": [
      "[100]\tvalid_0's binary_logloss: 0.0141722\n",
      "[200]\tvalid_0's binary_logloss: 0.0136901\n",
      "[300]\tvalid_0's binary_logloss: 0.0133415\n",
      "[400]\tvalid_0's binary_logloss: 0.013079\n",
      "[500]\tvalid_0's binary_logloss: 0.012873\n",
      "[600]\tvalid_0's binary_logloss: 0.0127096\n",
      "[700]\tvalid_0's binary_logloss: 0.0125733\n",
      "[800]\tvalid_0's binary_logloss: 0.012461\n",
      "[900]\tvalid_0's binary_logloss: 0.0123679\n",
      "[1000]\tvalid_0's binary_logloss: 0.0122886\n",
      "[1100]\tvalid_0's binary_logloss: 0.0122228\n",
      "[1200]\tvalid_0's binary_logloss: 0.0121691\n",
      "[1300]\tvalid_0's binary_logloss: 0.0121252\n",
      "[1400]\tvalid_0's binary_logloss: 0.0120907\n",
      "[1500]\tvalid_0's binary_logloss: 0.0120648\n",
      "[1600]\tvalid_0's binary_logloss: 0.0120455\n"
     ]
    },
    {
     "name": "stderr",
     "output_type": "stream",
     "text": [
      "\u001b[32m[I 2022-07-09 17:53:10,234]\u001b[0m Trial 158 finished with value: 0.4997363518121419 and parameters: {'max_depth': 4, 'learning_rate': 0.0002596497667594117, 'n_estimators': 1614, 'num_leaves': 153, 'colsample_bytree': 0.6301609319706876, 'subsample': 0.5517692071096812, 'reg_alpha': 3.0663006872433565, 'reg_lambda': 2.153326568558757}. Best is trial 75 with value: 0.7725514640071602.\u001b[0m\n"
     ]
    },
    {
     "name": "stdout",
     "output_type": "stream",
     "text": [
      "[100]\tvalid_0's binary_logloss: 0.0136086\n",
      "[200]\tvalid_0's binary_logloss: 0.0130552\n",
      "[300]\tvalid_0's binary_logloss: 0.0127331\n",
      "[400]\tvalid_0's binary_logloss: 0.0125196\n",
      "[500]\tvalid_0's binary_logloss: 0.012367\n",
      "[600]\tvalid_0's binary_logloss: 0.0122627\n",
      "[700]\tvalid_0's binary_logloss: 0.0121877\n",
      "[800]\tvalid_0's binary_logloss: 0.0121422\n",
      "[900]\tvalid_0's binary_logloss: 0.0121178\n",
      "[1000]\tvalid_0's binary_logloss: 0.0121144\n",
      "[1100]\tvalid_0's binary_logloss: 0.0121289\n",
      "[1200]\tvalid_0's binary_logloss: 0.0121571\n",
      "[1300]\tvalid_0's binary_logloss: 0.0121984\n",
      "[1400]\tvalid_0's binary_logloss: 0.0122535\n",
      "[1500]\tvalid_0's binary_logloss: 0.0123194\n"
     ]
    },
    {
     "name": "stderr",
     "output_type": "stream",
     "text": [
      "\u001b[32m[I 2022-07-09 17:53:21,174]\u001b[0m Trial 159 finished with value: 0.6355184469003317 and parameters: {'max_depth': 3, 'learning_rate': 0.0004726559733916107, 'n_estimators': 1543, 'num_leaves': 254, 'colsample_bytree': 0.6899410165410185, 'subsample': 0.5744144777827884, 'reg_alpha': 3.6269048743161854, 'reg_lambda': 0.4787079725004712}. Best is trial 75 with value: 0.7725514640071602.\u001b[0m\n"
     ]
    },
    {
     "name": "stdout",
     "output_type": "stream",
     "text": [
      "[100]\tvalid_0's binary_logloss: 0.012861\n",
      "[200]\tvalid_0's binary_logloss: 0.0122893\n",
      "[300]\tvalid_0's binary_logloss: 0.0120284\n",
      "[400]\tvalid_0's binary_logloss: 0.0119332\n",
      "[500]\tvalid_0's binary_logloss: 0.011939\n",
      "[600]\tvalid_0's binary_logloss: 0.0120278\n",
      "[700]\tvalid_0's binary_logloss: 0.0121794\n",
      "[800]\tvalid_0's binary_logloss: 0.0123812\n",
      "[900]\tvalid_0's binary_logloss: 0.0126273\n",
      "[1000]\tvalid_0's binary_logloss: 0.0129088\n",
      "[1100]\tvalid_0's binary_logloss: 0.0132264\n",
      "[1200]\tvalid_0's binary_logloss: 0.0135712\n",
      "[1300]\tvalid_0's binary_logloss: 0.0139315\n"
     ]
    },
    {
     "name": "stderr",
     "output_type": "stream",
     "text": [
      "\u001b[32m[I 2022-07-09 17:53:34,983]\u001b[0m Trial 160 finished with value: 0.5788101694066329 and parameters: {'max_depth': 7, 'learning_rate': 0.0010206480799531841, 'n_estimators': 1397, 'num_leaves': 248, 'colsample_bytree': 0.7044483834607004, 'subsample': 0.5731189703599617, 'reg_alpha': 3.839372536827643, 'reg_lambda': 0.4771539725009567}. Best is trial 75 with value: 0.7725514640071602.\u001b[0m\n"
     ]
    },
    {
     "name": "stdout",
     "output_type": "stream",
     "text": [
      "[100]\tvalid_0's binary_logloss: 0.0135938\n",
      "[200]\tvalid_0's binary_logloss: 0.0130338\n",
      "[300]\tvalid_0's binary_logloss: 0.0127158\n",
      "[400]\tvalid_0's binary_logloss: 0.0125108\n",
      "[500]\tvalid_0's binary_logloss: 0.0123587\n",
      "[600]\tvalid_0's binary_logloss: 0.0122575\n",
      "[700]\tvalid_0's binary_logloss: 0.0121846\n",
      "[800]\tvalid_0's binary_logloss: 0.0121429\n",
      "[900]\tvalid_0's binary_logloss: 0.0121247\n",
      "[1000]\tvalid_0's binary_logloss: 0.0121285\n",
      "[1100]\tvalid_0's binary_logloss: 0.012148\n",
      "[1200]\tvalid_0's binary_logloss: 0.0121857\n",
      "[1300]\tvalid_0's binary_logloss: 0.0122377\n",
      "[1400]\tvalid_0's binary_logloss: 0.0123001\n",
      "[1500]\tvalid_0's binary_logloss: 0.0123759\n"
     ]
    },
    {
     "name": "stderr",
     "output_type": "stream",
     "text": [
      "\u001b[32m[I 2022-07-09 17:53:45,989]\u001b[0m Trial 161 finished with value: 0.6250366692036734 and parameters: {'max_depth': 3, 'learning_rate': 0.0004899749674719398, 'n_estimators': 1535, 'num_leaves': 205, 'colsample_bytree': 0.6467487584586917, 'subsample': 0.5663247136333167, 'reg_alpha': 3.6172271095210853, 'reg_lambda': 0.6023304897228332}. Best is trial 75 with value: 0.7725514640071602.\u001b[0m\n"
     ]
    },
    {
     "name": "stdout",
     "output_type": "stream",
     "text": [
      "[100]\tvalid_0's binary_logloss: 0.0134561\n",
      "[200]\tvalid_0's binary_logloss: 0.0129008\n",
      "[300]\tvalid_0's binary_logloss: 0.012592\n",
      "[400]\tvalid_0's binary_logloss: 0.0123883\n",
      "[500]\tvalid_0's binary_logloss: 0.0122565\n",
      "[600]\tvalid_0's binary_logloss: 0.0121709\n",
      "[700]\tvalid_0's binary_logloss: 0.0121192\n",
      "[800]\tvalid_0's binary_logloss: 0.0121001\n",
      "[900]\tvalid_0's binary_logloss: 0.0121068\n",
      "[1000]\tvalid_0's binary_logloss: 0.0121342\n",
      "[1100]\tvalid_0's binary_logloss: 0.0121815\n",
      "[1200]\tvalid_0's binary_logloss: 0.0122466\n",
      "[1300]\tvalid_0's binary_logloss: 0.0123245\n",
      "[1400]\tvalid_0's binary_logloss: 0.0124207\n",
      "[1500]\tvalid_0's binary_logloss: 0.0125307\n"
     ]
    },
    {
     "name": "stderr",
     "output_type": "stream",
     "text": [
      "\u001b[32m[I 2022-07-09 17:53:57,150]\u001b[0m Trial 162 finished with value: 0.6215501531674203 and parameters: {'max_depth': 3, 'learning_rate': 0.0005531186211993157, 'n_estimators': 1516, 'num_leaves': 188, 'colsample_bytree': 0.691379369074481, 'subsample': 0.5663450381487395, 'reg_alpha': 3.6561369080471016, 'reg_lambda': 0.3593048574248574}. Best is trial 75 with value: 0.7725514640071602.\u001b[0m\n"
     ]
    },
    {
     "name": "stdout",
     "output_type": "stream",
     "text": [
      "[100]\tvalid_0's binary_logloss: 0.0138769\n",
      "[200]\tvalid_0's binary_logloss: 0.0133615\n",
      "[300]\tvalid_0's binary_logloss: 0.0130317\n",
      "[400]\tvalid_0's binary_logloss: 0.0128067\n",
      "[500]\tvalid_0's binary_logloss: 0.0126396\n",
      "[600]\tvalid_0's binary_logloss: 0.0125094\n",
      "[700]\tvalid_0's binary_logloss: 0.0124014\n",
      "[800]\tvalid_0's binary_logloss: 0.0123183\n",
      "[900]\tvalid_0's binary_logloss: 0.0122517\n",
      "[1000]\tvalid_0's binary_logloss: 0.0122011\n",
      "[1100]\tvalid_0's binary_logloss: 0.0121644\n",
      "[1200]\tvalid_0's binary_logloss: 0.0121407\n",
      "[1300]\tvalid_0's binary_logloss: 0.0121256\n",
      "[1400]\tvalid_0's binary_logloss: 0.01212\n"
     ]
    },
    {
     "name": "stderr",
     "output_type": "stream",
     "text": [
      "\u001b[32m[I 2022-07-09 17:54:06,349]\u001b[0m Trial 163 finished with value: 0.4997363518121419 and parameters: {'max_depth': 3, 'learning_rate': 0.0003274985512400568, 'n_estimators': 1457, 'num_leaves': 233, 'colsample_bytree': 0.6567152015121264, 'subsample': 0.5845837399927714, 'reg_alpha': 4.089838872228292, 'reg_lambda': 0.5917263315983269}. Best is trial 75 with value: 0.7725514640071602.\u001b[0m\n"
     ]
    },
    {
     "name": "stdout",
     "output_type": "stream",
     "text": [
      "[100]\tvalid_0's binary_logloss: 0.0134093\n",
      "[200]\tvalid_0's binary_logloss: 0.0128275\n",
      "[300]\tvalid_0's binary_logloss: 0.0125167\n",
      "[400]\tvalid_0's binary_logloss: 0.0123243\n",
      "[500]\tvalid_0's binary_logloss: 0.0122039\n",
      "[600]\tvalid_0's binary_logloss: 0.0121398\n",
      "[700]\tvalid_0's binary_logloss: 0.0121144\n",
      "[800]\tvalid_0's binary_logloss: 0.0121239\n",
      "[900]\tvalid_0's binary_logloss: 0.0121615\n",
      "[1000]\tvalid_0's binary_logloss: 0.0122253\n",
      "[1100]\tvalid_0's binary_logloss: 0.0123104\n",
      "[1200]\tvalid_0's binary_logloss: 0.012417\n",
      "[1300]\tvalid_0's binary_logloss: 0.0125433\n",
      "[1400]\tvalid_0's binary_logloss: 0.012686\n",
      "[1500]\tvalid_0's binary_logloss: 0.0128353\n"
     ]
    },
    {
     "name": "stderr",
     "output_type": "stream",
     "text": [
      "\u001b[32m[I 2022-07-09 17:54:27,168]\u001b[0m Trial 164 finished with value: 0.6049028511851757 and parameters: {'max_depth': 3, 'learning_rate': 0.0006467458591305988, 'n_estimators': 1509, 'num_leaves': 202, 'colsample_bytree': 0.6921739807828818, 'subsample': 0.5727364611385973, 'reg_alpha': 3.8671225376355403, 'reg_lambda': 0.7280500433592394}. Best is trial 75 with value: 0.7725514640071602.\u001b[0m\n"
     ]
    },
    {
     "name": "stdout",
     "output_type": "stream",
     "text": [
      "[100]\tvalid_0's binary_logloss: 0.0148904\n",
      "[200]\tvalid_0's binary_logloss: 0.0148903\n",
      "[300]\tvalid_0's binary_logloss: 0.0148902\n",
      "[400]\tvalid_0's binary_logloss: 0.0148902\n",
      "[500]\tvalid_0's binary_logloss: 0.0148901\n",
      "[600]\tvalid_0's binary_logloss: 0.01489\n",
      "[700]\tvalid_0's binary_logloss: 0.0148899\n",
      "[800]\tvalid_0's binary_logloss: 0.0148899\n",
      "[900]\tvalid_0's binary_logloss: 0.0148898\n",
      "[1000]\tvalid_0's binary_logloss: 0.0148897\n",
      "[1100]\tvalid_0's binary_logloss: 0.0148897\n",
      "[1200]\tvalid_0's binary_logloss: 0.0148896\n",
      "[1300]\tvalid_0's binary_logloss: 0.0148895\n",
      "[1400]\tvalid_0's binary_logloss: 0.0148895\n",
      "[1500]\tvalid_0's binary_logloss: 0.0148894\n"
     ]
    },
    {
     "name": "stderr",
     "output_type": "stream",
     "text": [
      "\u001b[32m[I 2022-07-09 17:54:36,840]\u001b[0m Trial 165 finished with value: 0.4997363518121419 and parameters: {'max_depth': 3, 'learning_rate': 1.3590501353313308e-08, 'n_estimators': 1538, 'num_leaves': 264, 'colsample_bytree': 0.6393691739277629, 'subsample': 0.5962260491127198, 'reg_alpha': 3.583506817326303, 'reg_lambda': 0.20497044136011514}. Best is trial 75 with value: 0.7725514640071602.\u001b[0m\n"
     ]
    },
    {
     "name": "stdout",
     "output_type": "stream",
     "text": [
      "[100]\tvalid_0's binary_logloss: 0.0136639\n",
      "[200]\tvalid_0's binary_logloss: 0.0131068\n",
      "[300]\tvalid_0's binary_logloss: 0.0127691\n",
      "[400]\tvalid_0's binary_logloss: 0.0125419\n",
      "[500]\tvalid_0's binary_logloss: 0.0123756\n",
      "[600]\tvalid_0's binary_logloss: 0.0122496\n",
      "[700]\tvalid_0's binary_logloss: 0.0121553\n",
      "[800]\tvalid_0's binary_logloss: 0.0120904\n",
      "[900]\tvalid_0's binary_logloss: 0.0120481\n",
      "[1000]\tvalid_0's binary_logloss: 0.0120259\n",
      "[1100]\tvalid_0's binary_logloss: 0.0120189\n",
      "[1200]\tvalid_0's binary_logloss: 0.0120248\n",
      "[1300]\tvalid_0's binary_logloss: 0.0120468\n",
      "[1400]\tvalid_0's binary_logloss: 0.0120771\n",
      "[1500]\tvalid_0's binary_logloss: 0.0121208\n"
     ]
    },
    {
     "name": "stderr",
     "output_type": "stream",
     "text": [
      "\u001b[32m[I 2022-07-09 17:54:48,334]\u001b[0m Trial 166 finished with value: 0.7379018553027905 and parameters: {'max_depth': 4, 'learning_rate': 0.0004197062569785473, 'n_estimators': 1562, 'num_leaves': 286, 'colsample_bytree': 0.6698794687555468, 'subsample': 0.5570711639560052, 'reg_alpha': 2.790213797254858, 'reg_lambda': 0.6392192860236229}. Best is trial 75 with value: 0.7725514640071602.\u001b[0m\n"
     ]
    },
    {
     "name": "stdout",
     "output_type": "stream",
     "text": [
      "[100]\tvalid_0's binary_logloss: 0.0141244\n",
      "[200]\tvalid_0's binary_logloss: 0.0136732\n",
      "[300]\tvalid_0's binary_logloss: 0.0133621\n",
      "[400]\tvalid_0's binary_logloss: 0.0131299\n",
      "[500]\tvalid_0's binary_logloss: 0.0129459\n",
      "[600]\tvalid_0's binary_logloss: 0.012803\n",
      "[700]\tvalid_0's binary_logloss: 0.0126843\n",
      "[800]\tvalid_0's binary_logloss: 0.012587\n",
      "[900]\tvalid_0's binary_logloss: 0.0125062\n",
      "[1000]\tvalid_0's binary_logloss: 0.0124317\n",
      "[1100]\tvalid_0's binary_logloss: 0.0123697\n",
      "[1200]\tvalid_0's binary_logloss: 0.0123169\n",
      "[1300]\tvalid_0's binary_logloss: 0.0122698\n",
      "[1400]\tvalid_0's binary_logloss: 0.0122309\n",
      "[1500]\tvalid_0's binary_logloss: 0.0121997\n"
     ]
    },
    {
     "name": "stderr",
     "output_type": "stream",
     "text": [
      "\u001b[32m[I 2022-07-09 17:54:57,769]\u001b[0m Trial 167 finished with value: 0.4997363518121419 and parameters: {'max_depth': 3, 'learning_rate': 0.00021740442791261244, 'n_estimators': 1562, 'num_leaves': 284, 'colsample_bytree': 0.6696589125431575, 'subsample': 0.5490490069751486, 'reg_alpha': 2.8309043118962167, 'reg_lambda': 0.6430259535033555}. Best is trial 75 with value: 0.7725514640071602.\u001b[0m\n"
     ]
    },
    {
     "name": "stdout",
     "output_type": "stream",
     "text": [
      "[100]\tvalid_0's binary_logloss: 0.0132288\n",
      "[200]\tvalid_0's binary_logloss: 0.0126419\n",
      "[300]\tvalid_0's binary_logloss: 0.0123294\n",
      "[400]\tvalid_0's binary_logloss: 0.0121443\n",
      "[500]\tvalid_0's binary_logloss: 0.0120508\n",
      "[600]\tvalid_0's binary_logloss: 0.0120202\n",
      "[700]\tvalid_0's binary_logloss: 0.0120352\n",
      "[800]\tvalid_0's binary_logloss: 0.012091\n",
      "[900]\tvalid_0's binary_logloss: 0.0121837\n",
      "[1000]\tvalid_0's binary_logloss: 0.012307\n",
      "[1100]\tvalid_0's binary_logloss: 0.0124589\n",
      "[1200]\tvalid_0's binary_logloss: 0.0126305\n",
      "[1300]\tvalid_0's binary_logloss: 0.0128261\n",
      "[1400]\tvalid_0's binary_logloss: 0.0130373\n"
     ]
    },
    {
     "name": "stderr",
     "output_type": "stream",
     "text": [
      "\u001b[32m[I 2022-07-09 17:55:09,314]\u001b[0m Trial 168 finished with value: 0.5851620116770323 and parameters: {'max_depth': 4, 'learning_rate': 0.0007597114004981496, 'n_estimators': 1491, 'num_leaves': 228, 'colsample_bytree': 0.7126311120738684, 'subsample': 0.5569794556269281, 'reg_alpha': 2.5602876545128965, 'reg_lambda': 0.8336071115550581}. Best is trial 75 with value: 0.7725514640071602.\u001b[0m\n"
     ]
    },
    {
     "name": "stdout",
     "output_type": "stream",
     "text": [
      "[100]\tvalid_0's binary_logloss: 0.0137325\n",
      "[200]\tvalid_0's binary_logloss: 0.0131962\n",
      "[300]\tvalid_0's binary_logloss: 0.0128707\n",
      "[400]\tvalid_0's binary_logloss: 0.0126549\n",
      "[500]\tvalid_0's binary_logloss: 0.0124941\n",
      "[600]\tvalid_0's binary_logloss: 0.0123732\n",
      "[700]\tvalid_0's binary_logloss: 0.0122819\n",
      "[800]\tvalid_0's binary_logloss: 0.0122148\n",
      "[900]\tvalid_0's binary_logloss: 0.012167\n",
      "[1000]\tvalid_0's binary_logloss: 0.0121392\n",
      "[1100]\tvalid_0's binary_logloss: 0.0121272\n",
      "[1200]\tvalid_0's binary_logloss: 0.0121279\n",
      "[1300]\tvalid_0's binary_logloss: 0.0121384\n",
      "[1400]\tvalid_0's binary_logloss: 0.0121587\n"
     ]
    },
    {
     "name": "stderr",
     "output_type": "stream",
     "text": [
      "\u001b[32m[I 2022-07-09 17:55:19,456]\u001b[0m Trial 169 finished with value: 0.4997363518121419 and parameters: {'max_depth': 3, 'learning_rate': 0.00039571672353525163, 'n_estimators': 1449, 'num_leaves': 206, 'colsample_bytree': 0.682514990024623, 'subsample': 0.5872279958671929, 'reg_alpha': 2.7865037921190066, 'reg_lambda': 0.5177733478546894}. Best is trial 75 with value: 0.7725514640071602.\u001b[0m\n"
     ]
    },
    {
     "name": "stdout",
     "output_type": "stream",
     "text": [
      "[100]\tvalid_0's binary_logloss: 0.0144068\n",
      "[200]\tvalid_0's binary_logloss: 0.0140651\n",
      "[300]\tvalid_0's binary_logloss: 0.0138066\n",
      "[400]\tvalid_0's binary_logloss: 0.0136063\n",
      "[500]\tvalid_0's binary_logloss: 0.0134321\n",
      "[600]\tvalid_0's binary_logloss: 0.0132877\n",
      "[700]\tvalid_0's binary_logloss: 0.013159\n",
      "[800]\tvalid_0's binary_logloss: 0.0130494\n",
      "[900]\tvalid_0's binary_logloss: 0.0129524\n",
      "[1000]\tvalid_0's binary_logloss: 0.0128682\n",
      "[1100]\tvalid_0's binary_logloss: 0.0127932\n",
      "[1200]\tvalid_0's binary_logloss: 0.0127259\n",
      "[1300]\tvalid_0's binary_logloss: 0.0126655\n",
      "[1400]\tvalid_0's binary_logloss: 0.0126096\n",
      "[1500]\tvalid_0's binary_logloss: 0.0125597\n"
     ]
    },
    {
     "name": "stderr",
     "output_type": "stream",
     "text": [
      "\u001b[32m[I 2022-07-09 17:55:28,820]\u001b[0m Trial 170 finished with value: 0.4997363518121419 and parameters: {'max_depth': 3, 'learning_rate': 0.00012051120285967829, 'n_estimators': 1589, 'num_leaves': 254, 'colsample_bytree': 0.6168515771115766, 'subsample': 0.5773984050654569, 'reg_alpha': 2.9784498392925975, 'reg_lambda': 0.6900104743000182}. Best is trial 75 with value: 0.7725514640071602.\u001b[0m\n"
     ]
    },
    {
     "name": "stdout",
     "output_type": "stream",
     "text": [
      "[100]\tvalid_0's binary_logloss: 0.0134442\n",
      "[200]\tvalid_0's binary_logloss: 0.0128807\n",
      "[300]\tvalid_0's binary_logloss: 0.0125601\n",
      "[400]\tvalid_0's binary_logloss: 0.012352\n",
      "[500]\tvalid_0's binary_logloss: 0.0122059\n",
      "[600]\tvalid_0's binary_logloss: 0.0121187\n",
      "[700]\tvalid_0's binary_logloss: 0.0120634\n",
      "[800]\tvalid_0's binary_logloss: 0.012039\n",
      "[900]\tvalid_0's binary_logloss: 0.012036\n",
      "[1000]\tvalid_0's binary_logloss: 0.0120591\n",
      "[1100]\tvalid_0's binary_logloss: 0.0121027\n",
      "[1200]\tvalid_0's binary_logloss: 0.0121629\n",
      "[1300]\tvalid_0's binary_logloss: 0.0122412\n",
      "[1400]\tvalid_0's binary_logloss: 0.0123315\n",
      "[1500]\tvalid_0's binary_logloss: 0.0124377\n",
      "[1600]\tvalid_0's binary_logloss: 0.0125544\n"
     ]
    },
    {
     "name": "stderr",
     "output_type": "stream",
     "text": [
      "\u001b[32m[I 2022-07-09 17:55:53,225]\u001b[0m Trial 171 finished with value: 0.6037123083695285 and parameters: {'max_depth': 4, 'learning_rate': 0.000539497721081724, 'n_estimators': 1641, 'num_leaves': 182, 'colsample_bytree': 0.6464716653868511, 'subsample': 0.5623031945555622, 'reg_alpha': 3.4565657005174604, 'reg_lambda': 0.4304978293744436}. Best is trial 75 with value: 0.7725514640071602.\u001b[0m\n"
     ]
    },
    {
     "name": "stdout",
     "output_type": "stream",
     "text": [
      "[100]\tvalid_0's binary_logloss: 0.013824\n",
      "[200]\tvalid_0's binary_logloss: 0.0133153\n",
      "[300]\tvalid_0's binary_logloss: 0.0129862\n",
      "[400]\tvalid_0's binary_logloss: 0.0127562\n",
      "[500]\tvalid_0's binary_logloss: 0.0125815\n",
      "[600]\tvalid_0's binary_logloss: 0.0124472\n",
      "[700]\tvalid_0's binary_logloss: 0.0123367\n",
      "[800]\tvalid_0's binary_logloss: 0.0122477\n",
      "[900]\tvalid_0's binary_logloss: 0.0121787\n",
      "[1000]\tvalid_0's binary_logloss: 0.0121283\n",
      "[1100]\tvalid_0's binary_logloss: 0.012091\n",
      "[1200]\tvalid_0's binary_logloss: 0.012062\n",
      "[1300]\tvalid_0's binary_logloss: 0.0120434\n",
      "[1400]\tvalid_0's binary_logloss: 0.012033\n",
      "[1500]\tvalid_0's binary_logloss: 0.01203\n"
     ]
    },
    {
     "name": "stderr",
     "output_type": "stream",
     "text": [
      "\u001b[32m[I 2022-07-09 17:56:04,653]\u001b[0m Trial 172 finished with value: 0.4997363518121419 and parameters: {'max_depth': 4, 'learning_rate': 0.00031044305344951, 'n_estimators': 1548, 'num_leaves': 249, 'colsample_bytree': 0.6363076324621079, 'subsample': 0.5466845658200243, 'reg_alpha': 3.6942570065231446, 'reg_lambda': 0.3480073032950962}. Best is trial 75 with value: 0.7725514640071602.\u001b[0m\n"
     ]
    },
    {
     "name": "stdout",
     "output_type": "stream",
     "text": [
      "[100]\tvalid_0's binary_logloss: 0.0133416\n",
      "[200]\tvalid_0's binary_logloss: 0.0128009\n",
      "[300]\tvalid_0's binary_logloss: 0.0125054\n",
      "[400]\tvalid_0's binary_logloss: 0.0123162\n",
      "[500]\tvalid_0's binary_logloss: 0.0121971\n",
      "[600]\tvalid_0's binary_logloss: 0.0121279\n",
      "[700]\tvalid_0's binary_logloss: 0.012096\n",
      "[800]\tvalid_0's binary_logloss: 0.0120968\n",
      "[900]\tvalid_0's binary_logloss: 0.0121236\n",
      "[1000]\tvalid_0's binary_logloss: 0.012173\n",
      "[1100]\tvalid_0's binary_logloss: 0.0122449\n",
      "[1200]\tvalid_0's binary_logloss: 0.0123336\n",
      "[1300]\tvalid_0's binary_logloss: 0.0124397\n",
      "[1400]\tvalid_0's binary_logloss: 0.0125639\n",
      "[1500]\tvalid_0's binary_logloss: 0.0126952\n"
     ]
    },
    {
     "name": "stderr",
     "output_type": "stream",
     "text": [
      "\u001b[32m[I 2022-07-09 17:56:25,187]\u001b[0m Trial 173 finished with value: 0.6119499847299551 and parameters: {'max_depth': 3, 'learning_rate': 0.0006012019416830427, 'n_estimators': 1515, 'num_leaves': 196, 'colsample_bytree': 0.6867747910536933, 'subsample': 0.5709751498146037, 'reg_alpha': 2.6525163596155914, 'reg_lambda': 0.12727985323958613}. Best is trial 75 with value: 0.7725514640071602.\u001b[0m\n"
     ]
    },
    {
     "name": "stdout",
     "output_type": "stream",
     "text": [
      "[100]\tvalid_0's binary_logloss: 0.0135645\n",
      "[200]\tvalid_0's binary_logloss: 0.0129865\n",
      "[300]\tvalid_0's binary_logloss: 0.0126415\n",
      "[400]\tvalid_0's binary_logloss: 0.0124055\n",
      "[500]\tvalid_0's binary_logloss: 0.0122366\n",
      "[600]\tvalid_0's binary_logloss: 0.0121174\n",
      "[700]\tvalid_0's binary_logloss: 0.0120361\n",
      "[800]\tvalid_0's binary_logloss: 0.0119872\n",
      "[900]\tvalid_0's binary_logloss: 0.0119622\n",
      "[1000]\tvalid_0's binary_logloss: 0.0119562\n",
      "[1100]\tvalid_0's binary_logloss: 0.0119685\n",
      "[1200]\tvalid_0's binary_logloss: 0.0119971\n",
      "[1300]\tvalid_0's binary_logloss: 0.0120388\n",
      "[1400]\tvalid_0's binary_logloss: 0.0120931\n",
      "[1500]\tvalid_0's binary_logloss: 0.0121603\n",
      "[1600]\tvalid_0's binary_logloss: 0.01224\n"
     ]
    },
    {
     "name": "stderr",
     "output_type": "stream",
     "text": [
      "\u001b[32m[I 2022-07-09 17:56:38,915]\u001b[0m Trial 174 finished with value: 0.6093327141415921 and parameters: {'max_depth': 5, 'learning_rate': 0.0004648183799866317, 'n_estimators': 1601, 'num_leaves': 290, 'colsample_bytree': 0.6567979255315287, 'subsample': 0.5376365994986491, 'reg_alpha': 2.932689510954102, 'reg_lambda': 0.5966502812678107}. Best is trial 75 with value: 0.7725514640071602.\u001b[0m\n"
     ]
    },
    {
     "name": "stdout",
     "output_type": "stream",
     "text": [
      "[100]\tvalid_0's binary_logloss: 0.0137161\n",
      "[200]\tvalid_0's binary_logloss: 0.0131511\n",
      "[300]\tvalid_0's binary_logloss: 0.0128048\n",
      "[400]\tvalid_0's binary_logloss: 0.0125693\n",
      "[500]\tvalid_0's binary_logloss: 0.0123974\n",
      "[600]\tvalid_0's binary_logloss: 0.0122676\n",
      "[700]\tvalid_0's binary_logloss: 0.0121725\n",
      "[800]\tvalid_0's binary_logloss: 0.0121037\n",
      "[900]\tvalid_0's binary_logloss: 0.0120586\n",
      "[1000]\tvalid_0's binary_logloss: 0.0120338\n",
      "[1100]\tvalid_0's binary_logloss: 0.0120249\n",
      "[1200]\tvalid_0's binary_logloss: 0.0120297\n",
      "[1300]\tvalid_0's binary_logloss: 0.0120479\n",
      "[1400]\tvalid_0's binary_logloss: 0.0120759\n",
      "[1500]\tvalid_0's binary_logloss: 0.0121164\n",
      "[1600]\tvalid_0's binary_logloss: 0.0121681\n"
     ]
    },
    {
     "name": "stderr",
     "output_type": "stream",
     "text": [
      "\u001b[32m[I 2022-07-09 17:56:51,506]\u001b[0m Trial 175 finished with value: 0.6395093017934773 and parameters: {'max_depth': 4, 'learning_rate': 0.0004165995542952297, 'n_estimators': 1653, 'num_leaves': 219, 'colsample_bytree': 0.6719404279337986, 'subsample': 0.5602991458439903, 'reg_alpha': 3.182517451673146, 'reg_lambda': 0.9045507415919168}. Best is trial 75 with value: 0.7725514640071602.\u001b[0m\n"
     ]
    },
    {
     "name": "stdout",
     "output_type": "stream",
     "text": [
      "[100]\tvalid_0's binary_logloss: 0.0140177\n",
      "[200]\tvalid_0's binary_logloss: 0.0135241\n",
      "[300]\tvalid_0's binary_logloss: 0.0131946\n",
      "[400]\tvalid_0's binary_logloss: 0.0129578\n",
      "[500]\tvalid_0's binary_logloss: 0.0127785\n",
      "[600]\tvalid_0's binary_logloss: 0.0126397\n",
      "[700]\tvalid_0's binary_logloss: 0.0125272\n",
      "[800]\tvalid_0's binary_logloss: 0.0124313\n",
      "[900]\tvalid_0's binary_logloss: 0.0123541\n",
      "[1000]\tvalid_0's binary_logloss: 0.0122906\n",
      "[1100]\tvalid_0's binary_logloss: 0.0122401\n",
      "[1200]\tvalid_0's binary_logloss: 0.0121996\n",
      "[1300]\tvalid_0's binary_logloss: 0.0121684\n",
      "[1400]\tvalid_0's binary_logloss: 0.0121455\n",
      "[1500]\tvalid_0's binary_logloss: 0.0121312\n"
     ]
    },
    {
     "name": "stderr",
     "output_type": "stream",
     "text": [
      "\u001b[32m[I 2022-07-09 17:57:05,875]\u001b[0m Trial 176 finished with value: 0.4997363518121419 and parameters: {'max_depth': 3, 'learning_rate': 0.00027833969945612004, 'n_estimators': 1568, 'num_leaves': 227, 'colsample_bytree': 0.6723915514085829, 'subsample': 0.6169305975915592, 'reg_alpha': 3.13889793437914, 'reg_lambda': 0.8866494334275827}. Best is trial 75 with value: 0.7725514640071602.\u001b[0m\n"
     ]
    },
    {
     "name": "stdout",
     "output_type": "stream",
     "text": [
      "[100]\tvalid_0's binary_logloss: 0.0130503\n",
      "[200]\tvalid_0's binary_logloss: 0.0124848\n",
      "[300]\tvalid_0's binary_logloss: 0.0122033\n",
      "[400]\tvalid_0's binary_logloss: 0.0120643\n",
      "[500]\tvalid_0's binary_logloss: 0.0120253\n",
      "[600]\tvalid_0's binary_logloss: 0.012056\n",
      "[700]\tvalid_0's binary_logloss: 0.0121413\n",
      "[800]\tvalid_0's binary_logloss: 0.0122785\n",
      "[900]\tvalid_0's binary_logloss: 0.0124549\n",
      "[1000]\tvalid_0's binary_logloss: 0.0126643\n",
      "[1100]\tvalid_0's binary_logloss: 0.0129029\n",
      "[1200]\tvalid_0's binary_logloss: 0.0131656\n",
      "[1300]\tvalid_0's binary_logloss: 0.0134463\n",
      "[1400]\tvalid_0's binary_logloss: 0.0137367\n"
     ]
    },
    {
     "name": "stderr",
     "output_type": "stream",
     "text": [
      "\u001b[32m[I 2022-07-09 17:57:18,583]\u001b[0m Trial 177 finished with value: 0.5868553057231967 and parameters: {'max_depth': 4, 'learning_rate': 0.0009228879097014972, 'n_estimators': 1479, 'num_leaves': 212, 'colsample_bytree': 0.6680878527271977, 'subsample': 0.5937546444312327, 'reg_alpha': 3.0504991160292256, 'reg_lambda': 0.7946501708323042}. Best is trial 75 with value: 0.7725514640071602.\u001b[0m\n"
     ]
    },
    {
     "name": "stdout",
     "output_type": "stream",
     "text": [
      "[100]\tvalid_0's binary_logloss: 0.0137928\n",
      "[200]\tvalid_0's binary_logloss: 0.0132448\n",
      "[300]\tvalid_0's binary_logloss: 0.0129083\n",
      "[400]\tvalid_0's binary_logloss: 0.0126846\n",
      "[500]\tvalid_0's binary_logloss: 0.0125148\n",
      "[600]\tvalid_0's binary_logloss: 0.0123902\n",
      "[700]\tvalid_0's binary_logloss: 0.0122962\n",
      "[800]\tvalid_0's binary_logloss: 0.012227\n",
      "[900]\tvalid_0's binary_logloss: 0.0121769\n",
      "[1000]\tvalid_0's binary_logloss: 0.0121467\n",
      "[1100]\tvalid_0's binary_logloss: 0.0121329\n",
      "[1200]\tvalid_0's binary_logloss: 0.0121323\n",
      "[1300]\tvalid_0's binary_logloss: 0.0121416\n",
      "[1400]\tvalid_0's binary_logloss: 0.0121615\n",
      "[1500]\tvalid_0's binary_logloss: 0.0121929\n",
      "[1600]\tvalid_0's binary_logloss: 0.0122358\n"
     ]
    },
    {
     "name": "stderr",
     "output_type": "stream",
     "text": [
      "\u001b[32m[I 2022-07-09 17:57:31,992]\u001b[0m Trial 178 finished with value: 0.5170602751449289 and parameters: {'max_depth': 3, 'learning_rate': 0.00039920808813929997, 'n_estimators': 1687, 'num_leaves': 269, 'colsample_bytree': 0.6559334518499689, 'subsample': 0.5565223456274189, 'reg_alpha': 2.7400600261243766, 'reg_lambda': 0.9369290874043347}. Best is trial 75 with value: 0.7725514640071602.\u001b[0m\n"
     ]
    },
    {
     "name": "stdout",
     "output_type": "stream",
     "text": [
      "[100]\tvalid_0's binary_logloss: 0.0132943\n",
      "[200]\tvalid_0's binary_logloss: 0.0127158\n",
      "[300]\tvalid_0's binary_logloss: 0.012403\n",
      "[400]\tvalid_0's binary_logloss: 0.012206\n",
      "[500]\tvalid_0's binary_logloss: 0.0120951\n",
      "[600]\tvalid_0's binary_logloss: 0.0120396\n",
      "[700]\tvalid_0's binary_logloss: 0.0120288\n",
      "[800]\tvalid_0's binary_logloss: 0.0120564\n",
      "[900]\tvalid_0's binary_logloss: 0.0121148\n",
      "[1000]\tvalid_0's binary_logloss: 0.0122006\n",
      "[1100]\tvalid_0's binary_logloss: 0.0123102\n",
      "[1200]\tvalid_0's binary_logloss: 0.012441\n",
      "[1300]\tvalid_0's binary_logloss: 0.0125938\n",
      "[1400]\tvalid_0's binary_logloss: 0.0127625\n"
     ]
    },
    {
     "name": "stderr",
     "output_type": "stream",
     "text": [
      "\u001b[32m[I 2022-07-09 17:57:43,526]\u001b[0m Trial 179 finished with value: 0.5965632104324882 and parameters: {'max_depth': 4, 'learning_rate': 0.0006832037135801782, 'n_estimators': 1409, 'num_leaves': 237, 'colsample_bytree': 0.6299016416025138, 'subsample': 0.5412510699914732, 'reg_alpha': 3.223030857359038, 'reg_lambda': 0.7022128703026375}. Best is trial 75 with value: 0.7725514640071602.\u001b[0m\n"
     ]
    },
    {
     "name": "stdout",
     "output_type": "stream",
     "text": [
      "[100]\tvalid_0's binary_logloss: 0.0126851\n",
      "[200]\tvalid_0's binary_logloss: 0.0122409\n",
      "[300]\tvalid_0's binary_logloss: 0.0121309\n",
      "[400]\tvalid_0's binary_logloss: 0.0122092\n",
      "[500]\tvalid_0's binary_logloss: 0.0124144\n",
      "[600]\tvalid_0's binary_logloss: 0.0127275\n",
      "[700]\tvalid_0's binary_logloss: 0.0130935\n",
      "[800]\tvalid_0's binary_logloss: 0.0135046\n",
      "[900]\tvalid_0's binary_logloss: 0.0139542\n",
      "[1000]\tvalid_0's binary_logloss: 0.0144128\n",
      "[1100]\tvalid_0's binary_logloss: 0.0148721\n",
      "[1200]\tvalid_0's binary_logloss: 0.0153248\n",
      "[1300]\tvalid_0's binary_logloss: 0.0157601\n"
     ]
    },
    {
     "name": "stderr",
     "output_type": "stream",
     "text": [
      "\u001b[32m[I 2022-07-09 17:57:53,486]\u001b[0m Trial 180 finished with value: 0.5782113354103791 and parameters: {'max_depth': 3, 'learning_rate': 0.0015057044180668423, 'n_estimators': 1337, 'num_leaves': 422, 'colsample_bytree': 0.676656589109176, 'subsample': 0.5779748044507927, 'reg_alpha': 2.8197920018319365, 'reg_lambda': 0.4820476722033238}. Best is trial 75 with value: 0.7725514640071602.\u001b[0m\n"
     ]
    },
    {
     "name": "stdout",
     "output_type": "stream",
     "text": [
      "[100]\tvalid_0's binary_logloss: 0.0134401\n",
      "[200]\tvalid_0's binary_logloss: 0.0128914\n",
      "[300]\tvalid_0's binary_logloss: 0.0125849\n",
      "[400]\tvalid_0's binary_logloss: 0.0123824\n",
      "[500]\tvalid_0's binary_logloss: 0.0122526\n",
      "[600]\tvalid_0's binary_logloss: 0.0121681\n",
      "[700]\tvalid_0's binary_logloss: 0.0121181\n",
      "[800]\tvalid_0's binary_logloss: 0.0121008\n",
      "[900]\tvalid_0's binary_logloss: 0.0121087\n",
      "[1000]\tvalid_0's binary_logloss: 0.0121373\n",
      "[1100]\tvalid_0's binary_logloss: 0.0121858\n",
      "[1200]\tvalid_0's binary_logloss: 0.0122521\n",
      "[1300]\tvalid_0's binary_logloss: 0.0123317\n",
      "[1400]\tvalid_0's binary_logloss: 0.0124291\n",
      "[1500]\tvalid_0's binary_logloss: 0.0125399\n"
     ]
    },
    {
     "name": "stderr",
     "output_type": "stream",
     "text": [
      "\u001b[32m[I 2022-07-09 17:58:04,523]\u001b[0m Trial 181 finished with value: 0.619970964111988 and parameters: {'max_depth': 3, 'learning_rate': 0.0005542755609763501, 'n_estimators': 1529, 'num_leaves': 185, 'colsample_bytree': 0.6991303843769513, 'subsample': 0.5659717018402389, 'reg_alpha': 3.5286985285722543, 'reg_lambda': 0.27322017771248663}. Best is trial 75 with value: 0.7725514640071602.\u001b[0m\n"
     ]
    },
    {
     "name": "stdout",
     "output_type": "stream",
     "text": [
      "[100]\tvalid_0's binary_logloss: 0.0137063\n",
      "[200]\tvalid_0's binary_logloss: 0.0131596\n",
      "[300]\tvalid_0's binary_logloss: 0.0128225\n",
      "[400]\tvalid_0's binary_logloss: 0.0125925\n",
      "[500]\tvalid_0's binary_logloss: 0.0124223\n",
      "[600]\tvalid_0's binary_logloss: 0.0122948\n",
      "[700]\tvalid_0's binary_logloss: 0.0121941\n",
      "[800]\tvalid_0's binary_logloss: 0.012128\n",
      "[900]\tvalid_0's binary_logloss: 0.0120825\n",
      "[1000]\tvalid_0's binary_logloss: 0.0120519\n",
      "[1100]\tvalid_0's binary_logloss: 0.0120357\n",
      "[1200]\tvalid_0's binary_logloss: 0.012034\n",
      "[1300]\tvalid_0's binary_logloss: 0.012044\n",
      "[1400]\tvalid_0's binary_logloss: 0.012065\n",
      "[1500]\tvalid_0's binary_logloss: 0.0120977\n",
      "[1600]\tvalid_0's binary_logloss: 0.0121394\n"
     ]
    },
    {
     "name": "stderr",
     "output_type": "stream",
     "text": [
      "\u001b[32m[I 2022-07-09 17:58:20,975]\u001b[0m Trial 182 finished with value: 0.7030820840915222 and parameters: {'max_depth': 4, 'learning_rate': 0.00039362652561856137, 'n_estimators': 1662, 'num_leaves': 257, 'colsample_bytree': 0.641025518596165, 'subsample': 0.5554274709571801, 'reg_alpha': 3.40660730183098, 'reg_lambda': 0.5990884723703573}. Best is trial 75 with value: 0.7725514640071602.\u001b[0m\n"
     ]
    },
    {
     "name": "stdout",
     "output_type": "stream",
     "text": [
      "[100]\tvalid_0's binary_logloss: 0.0139183\n",
      "[200]\tvalid_0's binary_logloss: 0.0133629\n",
      "[300]\tvalid_0's binary_logloss: 0.0129965\n",
      "[400]\tvalid_0's binary_logloss: 0.01274\n",
      "[500]\tvalid_0's binary_logloss: 0.0125492\n",
      "[600]\tvalid_0's binary_logloss: 0.0124038\n",
      "[700]\tvalid_0's binary_logloss: 0.0122873\n",
      "[800]\tvalid_0's binary_logloss: 0.0121965\n",
      "[900]\tvalid_0's binary_logloss: 0.0121281\n",
      "[1000]\tvalid_0's binary_logloss: 0.0120794\n",
      "[1100]\tvalid_0's binary_logloss: 0.0120458\n",
      "[1200]\tvalid_0's binary_logloss: 0.0120249\n",
      "[1300]\tvalid_0's binary_logloss: 0.0120171\n",
      "[1400]\tvalid_0's binary_logloss: 0.0120177\n",
      "[1500]\tvalid_0's binary_logloss: 0.0120297\n",
      "[1600]\tvalid_0's binary_logloss: 0.0120514\n"
     ]
    },
    {
     "name": "stderr",
     "output_type": "stream",
     "text": [
      "\u001b[32m[I 2022-07-09 17:58:34,088]\u001b[0m Trial 183 finished with value: 0.4997363518121419 and parameters: {'max_depth': 4, 'learning_rate': 0.00035971333676530613, 'n_estimators': 1629, 'num_leaves': 254, 'colsample_bytree': 0.6630449660527569, 'subsample': 0.5526561965202547, 'reg_alpha': 3.360468278933832, 'reg_lambda': 1.6456049722318042}. Best is trial 75 with value: 0.7725514640071602.\u001b[0m\n"
     ]
    },
    {
     "name": "stdout",
     "output_type": "stream",
     "text": [
      "[100]\tvalid_0's binary_logloss: 0.014028\n",
      "[200]\tvalid_0's binary_logloss: 0.0135461\n",
      "[300]\tvalid_0's binary_logloss: 0.0132166\n",
      "[400]\tvalid_0's binary_logloss: 0.0129707\n",
      "[500]\tvalid_0's binary_logloss: 0.0127796\n",
      "[600]\tvalid_0's binary_logloss: 0.0126273\n",
      "[700]\tvalid_0's binary_logloss: 0.0124984\n",
      "[800]\tvalid_0's binary_logloss: 0.0123919\n",
      "[900]\tvalid_0's binary_logloss: 0.0123017\n",
      "[1000]\tvalid_0's binary_logloss: 0.0122256\n",
      "[1100]\tvalid_0's binary_logloss: 0.0121612\n",
      "[1200]\tvalid_0's binary_logloss: 0.0121098\n",
      "[1300]\tvalid_0's binary_logloss: 0.0120678\n",
      "[1400]\tvalid_0's binary_logloss: 0.0120328\n",
      "[1500]\tvalid_0's binary_logloss: 0.0120066\n"
     ]
    },
    {
     "name": "stderr",
     "output_type": "stream",
     "text": [
      "\u001b[32m[I 2022-07-09 17:58:49,072]\u001b[0m Trial 184 finished with value: 0.4997363518121419 and parameters: {'max_depth': 5, 'learning_rate': 0.00023677225774923656, 'n_estimators': 1592, 'num_leaves': 222, 'colsample_bytree': 0.6457452153060157, 'subsample': 0.5339038655592638, 'reg_alpha': 3.2242838171480925, 'reg_lambda': 0.5950185399457064}. Best is trial 75 with value: 0.7725514640071602.\u001b[0m\n"
     ]
    },
    {
     "name": "stdout",
     "output_type": "stream",
     "text": [
      "[100]\tvalid_0's binary_logloss: 0.0131956\n",
      "[200]\tvalid_0's binary_logloss: 0.0126183\n",
      "[300]\tvalid_0's binary_logloss: 0.0123165\n",
      "[400]\tvalid_0's binary_logloss: 0.0121383\n",
      "[500]\tvalid_0's binary_logloss: 0.0120495\n",
      "[600]\tvalid_0's binary_logloss: 0.0120257\n",
      "[700]\tvalid_0's binary_logloss: 0.0120482\n",
      "[800]\tvalid_0's binary_logloss: 0.0121137\n",
      "[900]\tvalid_0's binary_logloss: 0.012216\n",
      "[1000]\tvalid_0's binary_logloss: 0.0123489\n",
      "[1100]\tvalid_0's binary_logloss: 0.0125064\n",
      "[1200]\tvalid_0's binary_logloss: 0.0126887\n",
      "[1300]\tvalid_0's binary_logloss: 0.0128951\n",
      "[1400]\tvalid_0's binary_logloss: 0.0131126\n",
      "[1500]\tvalid_0's binary_logloss: 0.0133475\n",
      "[1600]\tvalid_0's binary_logloss: 0.0135897\n"
     ]
    },
    {
     "name": "stderr",
     "output_type": "stream",
     "text": [
      "\u001b[32m[I 2022-07-09 17:59:01,646]\u001b[0m Trial 185 finished with value: 0.5884852084280676 and parameters: {'max_depth': 4, 'learning_rate': 0.0007789367635094892, 'n_estimators': 1648, 'num_leaves': 467, 'colsample_bytree': 0.655352899339215, 'subsample': 0.5851913260287737, 'reg_alpha': 3.4174593024683633, 'reg_lambda': 0.7863964908417578}. Best is trial 75 with value: 0.7725514640071602.\u001b[0m\n"
     ]
    },
    {
     "name": "stdout",
     "output_type": "stream",
     "text": [
      "[100]\tvalid_0's binary_logloss: 0.0137537\n",
      "[200]\tvalid_0's binary_logloss: 0.0132097\n",
      "[300]\tvalid_0's binary_logloss: 0.0128802\n",
      "[400]\tvalid_0's binary_logloss: 0.0126612\n",
      "[500]\tvalid_0's binary_logloss: 0.0125008\n",
      "[600]\tvalid_0's binary_logloss: 0.0123808\n",
      "[700]\tvalid_0's binary_logloss: 0.0122861\n",
      "[800]\tvalid_0's binary_logloss: 0.0122184\n",
      "[900]\tvalid_0's binary_logloss: 0.0121704\n",
      "[1000]\tvalid_0's binary_logloss: 0.0121413\n",
      "[1100]\tvalid_0's binary_logloss: 0.0121269\n",
      "[1200]\tvalid_0's binary_logloss: 0.0121269\n",
      "[1300]\tvalid_0's binary_logloss: 0.012139\n",
      "[1400]\tvalid_0's binary_logloss: 0.01216\n",
      "[1500]\tvalid_0's binary_logloss: 0.0121919\n",
      "[1600]\tvalid_0's binary_logloss: 0.0122351\n",
      "[1700]\tvalid_0's binary_logloss: 0.0122852\n"
     ]
    },
    {
     "name": "stderr",
     "output_type": "stream",
     "text": [
      "\u001b[32m[I 2022-07-09 17:59:12,047]\u001b[0m Trial 186 finished with value: 0.6407894163811454 and parameters: {'max_depth': 3, 'learning_rate': 0.0003974292875150664, 'n_estimators': 1733, 'num_leaves': 277, 'colsample_bytree': 0.6231502447326646, 'subsample': 0.5577184521294483, 'reg_alpha': 3.02616091365243, 'reg_lambda': 0.6796890956795386}. Best is trial 75 with value: 0.7725514640071602.\u001b[0m\n"
     ]
    },
    {
     "name": "stdout",
     "output_type": "stream",
     "text": [
      "[100]\tvalid_0's binary_logloss: 0.0138451\n",
      "[200]\tvalid_0's binary_logloss: 0.0133189\n",
      "[300]\tvalid_0's binary_logloss: 0.0129849\n",
      "[400]\tvalid_0's binary_logloss: 0.0127589\n",
      "[500]\tvalid_0's binary_logloss: 0.0125915\n",
      "[600]\tvalid_0's binary_logloss: 0.0124653\n",
      "[700]\tvalid_0's binary_logloss: 0.0123615\n",
      "[800]\tvalid_0's binary_logloss: 0.0122831\n",
      "[900]\tvalid_0's binary_logloss: 0.0122221\n",
      "[1000]\tvalid_0's binary_logloss: 0.0121786\n",
      "[1100]\tvalid_0's binary_logloss: 0.0121483\n",
      "[1200]\tvalid_0's binary_logloss: 0.0121314\n",
      "[1300]\tvalid_0's binary_logloss: 0.0121251\n",
      "[1400]\tvalid_0's binary_logloss: 0.0121277\n",
      "[1500]\tvalid_0's binary_logloss: 0.01214\n",
      "[1600]\tvalid_0's binary_logloss: 0.0121618\n",
      "[1700]\tvalid_0's binary_logloss: 0.0121896\n",
      "[1800]\tvalid_0's binary_logloss: 0.0122254\n"
     ]
    },
    {
     "name": "stderr",
     "output_type": "stream",
     "text": [
      "\u001b[32m[I 2022-07-09 17:59:23,555]\u001b[0m Trial 187 finished with value: 0.4996659986639947 and parameters: {'max_depth': 3, 'learning_rate': 0.0003491740348196623, 'n_estimators': 1833, 'num_leaves': 281, 'colsample_bytree': 0.6266455996945225, 'subsample': 0.556865023683965, 'reg_alpha': 3.041683458803695, 'reg_lambda': 0.7042925718064096}. Best is trial 75 with value: 0.7725514640071602.\u001b[0m\n"
     ]
    },
    {
     "name": "stdout",
     "output_type": "stream",
     "text": [
      "[100]\tvalid_0's binary_logloss: 0.0142684\n",
      "[200]\tvalid_0's binary_logloss: 0.013863\n",
      "[300]\tvalid_0's binary_logloss: 0.0135691\n",
      "[400]\tvalid_0's binary_logloss: 0.0133419\n",
      "[500]\tvalid_0's binary_logloss: 0.0131538\n",
      "[600]\tvalid_0's binary_logloss: 0.0130024\n",
      "[700]\tvalid_0's binary_logloss: 0.0128752\n",
      "[800]\tvalid_0's binary_logloss: 0.0127705\n",
      "[900]\tvalid_0's binary_logloss: 0.0126783\n",
      "[1000]\tvalid_0's binary_logloss: 0.0125987\n",
      "[1100]\tvalid_0's binary_logloss: 0.0125297\n",
      "[1200]\tvalid_0's binary_logloss: 0.0124691\n",
      "[1300]\tvalid_0's binary_logloss: 0.0124159\n",
      "[1400]\tvalid_0's binary_logloss: 0.0123683\n",
      "[1500]\tvalid_0's binary_logloss: 0.0123272\n",
      "[1600]\tvalid_0's binary_logloss: 0.0122893\n",
      "[1700]\tvalid_0's binary_logloss: 0.0122551\n"
     ]
    },
    {
     "name": "stderr",
     "output_type": "stream",
     "text": [
      "\u001b[32m[I 2022-07-09 17:59:35,302]\u001b[0m Trial 188 finished with value: 0.4997363518121419 and parameters: {'max_depth': 3, 'learning_rate': 0.0001751630621713378, 'n_estimators': 1790, 'num_leaves': 257, 'colsample_bytree': 0.6117026576985614, 'subsample': 0.5472812623037508, 'reg_alpha': 3.186644452894781, 'reg_lambda': 0.8749582510934519}. Best is trial 75 with value: 0.7725514640071602.\u001b[0m\n"
     ]
    },
    {
     "name": "stdout",
     "output_type": "stream",
     "text": [
      "[100]\tvalid_0's binary_logloss: 0.014018\n",
      "[200]\tvalid_0's binary_logloss: 0.0135383\n",
      "[300]\tvalid_0's binary_logloss: 0.0132195\n",
      "[400]\tvalid_0's binary_logloss: 0.0129881\n",
      "[500]\tvalid_0's binary_logloss: 0.0128109\n",
      "[600]\tvalid_0's binary_logloss: 0.0126729\n",
      "[700]\tvalid_0's binary_logloss: 0.0125605\n",
      "[800]\tvalid_0's binary_logloss: 0.0124693\n",
      "[900]\tvalid_0's binary_logloss: 0.0123922\n",
      "[1000]\tvalid_0's binary_logloss: 0.0123264\n",
      "[1100]\tvalid_0's binary_logloss: 0.0122714\n",
      "[1200]\tvalid_0's binary_logloss: 0.0122263\n",
      "[1300]\tvalid_0's binary_logloss: 0.0121901\n",
      "[1400]\tvalid_0's binary_logloss: 0.0121611\n",
      "[1500]\tvalid_0's binary_logloss: 0.012141\n",
      "[1600]\tvalid_0's binary_logloss: 0.012128\n",
      "[1700]\tvalid_0's binary_logloss: 0.0121198\n"
     ]
    },
    {
     "name": "stderr",
     "output_type": "stream",
     "text": [
      "\u001b[32m[I 2022-07-09 17:59:46,559]\u001b[0m Trial 189 finished with value: 0.4997363518121419 and parameters: {'max_depth': 3, 'learning_rate': 0.00025536591155448545, 'n_estimators': 1735, 'num_leaves': 326, 'colsample_bytree': 0.6353595515584649, 'subsample': 0.5731119013650949, 'reg_alpha': 3.5781720714609584, 'reg_lambda': 0.5300399082551059}. Best is trial 75 with value: 0.7725514640071602.\u001b[0m\n"
     ]
    },
    {
     "name": "stdout",
     "output_type": "stream",
     "text": [
      "[100]\tvalid_0's binary_logloss: 0.013722\n",
      "[200]\tvalid_0's binary_logloss: 0.0131742\n",
      "[300]\tvalid_0's binary_logloss: 0.0128464\n",
      "[400]\tvalid_0's binary_logloss: 0.0126307\n",
      "[500]\tvalid_0's binary_logloss: 0.0124735\n",
      "[600]\tvalid_0's binary_logloss: 0.0123552\n",
      "[700]\tvalid_0's binary_logloss: 0.0122637\n",
      "[800]\tvalid_0's binary_logloss: 0.0122009\n",
      "[900]\tvalid_0's binary_logloss: 0.0121576\n",
      "[1000]\tvalid_0's binary_logloss: 0.0121338\n",
      "[1100]\tvalid_0's binary_logloss: 0.0121262\n",
      "[1200]\tvalid_0's binary_logloss: 0.0121325\n",
      "[1300]\tvalid_0's binary_logloss: 0.0121509\n",
      "[1400]\tvalid_0's binary_logloss: 0.0121789\n",
      "[1500]\tvalid_0's binary_logloss: 0.0122189\n",
      "[1600]\tvalid_0's binary_logloss: 0.0122691\n",
      "[1700]\tvalid_0's binary_logloss: 0.0123265\n"
     ]
    },
    {
     "name": "stderr",
     "output_type": "stream",
     "text": [
      "\u001b[32m[I 2022-07-09 17:59:57,646]\u001b[0m Trial 190 finished with value: 0.6360039895167608 and parameters: {'max_depth': 3, 'learning_rate': 0.0004142777787424089, 'n_estimators': 1708, 'num_leaves': 295, 'colsample_bytree': 0.6182190768923745, 'subsample': 0.529371638832354, 'reg_alpha': 3.7617049618454583, 'reg_lambda': 0.6322129969935631}. Best is trial 75 with value: 0.7725514640071602.\u001b[0m\n"
     ]
    },
    {
     "name": "stdout",
     "output_type": "stream",
     "text": [
      "[100]\tvalid_0's binary_logloss: 0.0136226\n",
      "[200]\tvalid_0's binary_logloss: 0.0130631\n",
      "[300]\tvalid_0's binary_logloss: 0.0127435\n",
      "[400]\tvalid_0's binary_logloss: 0.0125358\n",
      "[500]\tvalid_0's binary_logloss: 0.0123807\n",
      "[600]\tvalid_0's binary_logloss: 0.0122753\n",
      "[700]\tvalid_0's binary_logloss: 0.0121983\n",
      "[800]\tvalid_0's binary_logloss: 0.0121521\n",
      "[900]\tvalid_0's binary_logloss: 0.0121292\n",
      "[1000]\tvalid_0's binary_logloss: 0.0121265\n",
      "[1100]\tvalid_0's binary_logloss: 0.0121404\n",
      "[1200]\tvalid_0's binary_logloss: 0.012171\n",
      "[1300]\tvalid_0's binary_logloss: 0.0122157\n",
      "[1400]\tvalid_0's binary_logloss: 0.0122711\n",
      "[1500]\tvalid_0's binary_logloss: 0.01234\n",
      "[1600]\tvalid_0's binary_logloss: 0.0124194\n"
     ]
    },
    {
     "name": "stderr",
     "output_type": "stream",
     "text": [
      "\u001b[32m[I 2022-07-09 18:00:08,442]\u001b[0m Trial 191 finished with value: 0.6319425278055806 and parameters: {'max_depth': 3, 'learning_rate': 0.0004753273806407779, 'n_estimators': 1695, 'num_leaves': 287, 'colsample_bytree': 0.6209009524163382, 'subsample': 0.5197489406184024, 'reg_alpha': 3.740260990401532, 'reg_lambda': 0.6180185673428245}. Best is trial 75 with value: 0.7725514640071602.\u001b[0m\n"
     ]
    },
    {
     "name": "stdout",
     "output_type": "stream",
     "text": [
      "[100]\tvalid_0's binary_logloss: 0.0136558\n",
      "[200]\tvalid_0's binary_logloss: 0.0131077\n",
      "[300]\tvalid_0's binary_logloss: 0.0127812\n",
      "[400]\tvalid_0's binary_logloss: 0.0125675\n",
      "[500]\tvalid_0's binary_logloss: 0.0124142\n",
      "[600]\tvalid_0's binary_logloss: 0.0123029\n",
      "[700]\tvalid_0's binary_logloss: 0.0122185\n",
      "[800]\tvalid_0's binary_logloss: 0.0121644\n",
      "[900]\tvalid_0's binary_logloss: 0.0121318\n",
      "[1000]\tvalid_0's binary_logloss: 0.0121208\n",
      "[1100]\tvalid_0's binary_logloss: 0.0121261\n",
      "[1200]\tvalid_0's binary_logloss: 0.0121448\n",
      "[1300]\tvalid_0's binary_logloss: 0.012179\n",
      "[1400]\tvalid_0's binary_logloss: 0.0122222\n",
      "[1500]\tvalid_0's binary_logloss: 0.012278\n",
      "[1600]\tvalid_0's binary_logloss: 0.0123449\n",
      "[1700]\tvalid_0's binary_logloss: 0.0124197\n"
     ]
    },
    {
     "name": "stderr",
     "output_type": "stream",
     "text": [
      "\u001b[32m[I 2022-07-09 18:00:20,213]\u001b[0m Trial 192 finished with value: 0.6285894732307841 and parameters: {'max_depth': 3, 'learning_rate': 0.00044957406614400645, 'n_estimators': 1753, 'num_leaves': 297, 'colsample_bytree': 0.5941517785849952, 'subsample': 0.5173069989626011, 'reg_alpha': 3.824097874522711, 'reg_lambda': 0.6296330590522072}. Best is trial 75 with value: 0.7725514640071602.\u001b[0m\n"
     ]
    },
    {
     "name": "stdout",
     "output_type": "stream",
     "text": [
      "[100]\tvalid_0's binary_logloss: 0.0137491\n",
      "[200]\tvalid_0's binary_logloss: 0.0132129\n",
      "[300]\tvalid_0's binary_logloss: 0.0128821\n",
      "[400]\tvalid_0's binary_logloss: 0.0126607\n",
      "[500]\tvalid_0's binary_logloss: 0.0124992\n",
      "[600]\tvalid_0's binary_logloss: 0.0123812\n",
      "[700]\tvalid_0's binary_logloss: 0.0122875\n",
      "[800]\tvalid_0's binary_logloss: 0.0122194\n",
      "[900]\tvalid_0's binary_logloss: 0.0121699\n",
      "[1000]\tvalid_0's binary_logloss: 0.0121405\n",
      "[1100]\tvalid_0's binary_logloss: 0.0121267\n",
      "[1200]\tvalid_0's binary_logloss: 0.0121254\n",
      "[1300]\tvalid_0's binary_logloss: 0.0121366\n",
      "[1400]\tvalid_0's binary_logloss: 0.0121576\n",
      "[1500]\tvalid_0's binary_logloss: 0.0121897\n",
      "[1600]\tvalid_0's binary_logloss: 0.0122331\n",
      "[1700]\tvalid_0's binary_logloss: 0.0122825\n"
     ]
    },
    {
     "name": "stderr",
     "output_type": "stream",
     "text": [
      "\u001b[32m[I 2022-07-09 18:00:31,756]\u001b[0m Trial 193 finished with value: 0.6339466060162998 and parameters: {'max_depth': 3, 'learning_rate': 0.0003954575268490872, 'n_estimators': 1750, 'num_leaves': 299, 'colsample_bytree': 0.5983008474802223, 'subsample': 0.5321608352556668, 'reg_alpha': 3.779705875332973, 'reg_lambda': 0.6367506036078102}. Best is trial 75 with value: 0.7725514640071602.\u001b[0m\n"
     ]
    },
    {
     "name": "stdout",
     "output_type": "stream",
     "text": [
      "[100]\tvalid_0's binary_logloss: 0.0138098\n",
      "[200]\tvalid_0's binary_logloss: 0.0132908\n",
      "[300]\tvalid_0's binary_logloss: 0.0129576\n",
      "[400]\tvalid_0's binary_logloss: 0.0127319\n",
      "[500]\tvalid_0's binary_logloss: 0.0125645\n",
      "[600]\tvalid_0's binary_logloss: 0.0124393\n",
      "[700]\tvalid_0's binary_logloss: 0.0123391\n",
      "[800]\tvalid_0's binary_logloss: 0.0122655\n",
      "[900]\tvalid_0's binary_logloss: 0.0122049\n",
      "[1000]\tvalid_0's binary_logloss: 0.0121628\n",
      "[1100]\tvalid_0's binary_logloss: 0.0121353\n",
      "[1200]\tvalid_0's binary_logloss: 0.0121191\n",
      "[1300]\tvalid_0's binary_logloss: 0.0121134\n",
      "[1400]\tvalid_0's binary_logloss: 0.0121181\n",
      "[1500]\tvalid_0's binary_logloss: 0.0121329\n",
      "[1600]\tvalid_0's binary_logloss: 0.0121585\n",
      "[1700]\tvalid_0's binary_logloss: 0.0121897\n"
     ]
    },
    {
     "name": "stderr",
     "output_type": "stream",
     "text": [
      "\u001b[32m[I 2022-07-09 18:00:53,854]\u001b[0m Trial 194 finished with value: 0.49965720312912015 and parameters: {'max_depth': 3, 'learning_rate': 0.00035476831739846774, 'n_estimators': 1749, 'num_leaves': 298, 'colsample_bytree': 0.5806577409381868, 'subsample': 0.5281260243464718, 'reg_alpha': 3.79435033083965, 'reg_lambda': 0.5571074286522133}. Best is trial 75 with value: 0.7725514640071602.\u001b[0m\n"
     ]
    },
    {
     "name": "stdout",
     "output_type": "stream",
     "text": [
      "[100]\tvalid_0's binary_logloss: 0.0139228\n",
      "[200]\tvalid_0's binary_logloss: 0.013429\n",
      "[300]\tvalid_0's binary_logloss: 0.0131038\n",
      "[400]\tvalid_0's binary_logloss: 0.0128762\n",
      "[500]\tvalid_0's binary_logloss: 0.0127032\n",
      "[600]\tvalid_0's binary_logloss: 0.0125709\n",
      "[700]\tvalid_0's binary_logloss: 0.0124624\n",
      "[800]\tvalid_0's binary_logloss: 0.0123779\n",
      "[900]\tvalid_0's binary_logloss: 0.012308\n",
      "[1000]\tvalid_0's binary_logloss: 0.0122506\n",
      "[1100]\tvalid_0's binary_logloss: 0.0122046\n",
      "[1200]\tvalid_0's binary_logloss: 0.0121692\n",
      "[1300]\tvalid_0's binary_logloss: 0.0121436\n",
      "[1400]\tvalid_0's binary_logloss: 0.0121259\n",
      "[1500]\tvalid_0's binary_logloss: 0.012117\n",
      "[1600]\tvalid_0's binary_logloss: 0.0121167\n",
      "[1700]\tvalid_0's binary_logloss: 0.0121221\n",
      "[1800]\tvalid_0's binary_logloss: 0.0121332\n"
     ]
    },
    {
     "name": "stderr",
     "output_type": "stream",
     "text": [
      "\u001b[32m[I 2022-07-09 18:01:06,457]\u001b[0m Trial 195 finished with value: 0.4997363518121419 and parameters: {'max_depth': 3, 'learning_rate': 0.0002900647076377093, 'n_estimators': 1892, 'num_leaves': 328, 'colsample_bytree': 0.5981464415136214, 'subsample': 0.5150757571562113, 'reg_alpha': 3.8661384574714397, 'reg_lambda': 0.43804797971561693}. Best is trial 75 with value: 0.7725514640071602.\u001b[0m\n"
     ]
    },
    {
     "name": "stdout",
     "output_type": "stream",
     "text": [
      "[100]\tvalid_0's binary_logloss: 0.0137182\n",
      "[200]\tvalid_0's binary_logloss: 0.0131769\n",
      "[300]\tvalid_0's binary_logloss: 0.0128461\n",
      "[400]\tvalid_0's binary_logloss: 0.0126265\n",
      "[500]\tvalid_0's binary_logloss: 0.0124676\n",
      "[600]\tvalid_0's binary_logloss: 0.0123521\n",
      "[700]\tvalid_0's binary_logloss: 0.0122612\n",
      "[800]\tvalid_0's binary_logloss: 0.0121989\n",
      "[900]\tvalid_0's binary_logloss: 0.0121556\n",
      "[1000]\tvalid_0's binary_logloss: 0.0121327\n",
      "[1100]\tvalid_0's binary_logloss: 0.012127\n",
      "[1200]\tvalid_0's binary_logloss: 0.0121334\n",
      "[1300]\tvalid_0's binary_logloss: 0.0121532\n",
      "[1400]\tvalid_0's binary_logloss: 0.0121831\n",
      "[1500]\tvalid_0's binary_logloss: 0.012224\n",
      "[1600]\tvalid_0's binary_logloss: 0.012276\n",
      "[1700]\tvalid_0's binary_logloss: 0.0123348\n"
     ]
    },
    {
     "name": "stderr",
     "output_type": "stream",
     "text": [
      "\u001b[32m[I 2022-07-09 18:01:16,880]\u001b[0m Trial 196 finished with value: 0.6252670384235024 and parameters: {'max_depth': 3, 'learning_rate': 0.0004165852193024326, 'n_estimators': 1721, 'num_leaves': 286, 'colsample_bytree': 0.5910239328741138, 'subsample': 0.5251369967916254, 'reg_alpha': 3.7685998750355023, 'reg_lambda': 0.6667335146898633}. Best is trial 75 with value: 0.7725514640071602.\u001b[0m\n"
     ]
    },
    {
     "name": "stdout",
     "output_type": "stream",
     "text": [
      "[100]\tvalid_0's binary_logloss: 0.014165\n",
      "[200]\tvalid_0's binary_logloss: 0.0137338\n",
      "[300]\tvalid_0's binary_logloss: 0.013427\n",
      "[400]\tvalid_0's binary_logloss: 0.0131967\n",
      "[500]\tvalid_0's binary_logloss: 0.0130108\n",
      "[600]\tvalid_0's binary_logloss: 0.012865\n",
      "[700]\tvalid_0's binary_logloss: 0.0127399\n",
      "[800]\tvalid_0's binary_logloss: 0.0126405\n",
      "[900]\tvalid_0's binary_logloss: 0.0125507\n",
      "[1000]\tvalid_0's binary_logloss: 0.0124753\n",
      "[1100]\tvalid_0's binary_logloss: 0.0124108\n",
      "[1200]\tvalid_0's binary_logloss: 0.012355\n",
      "[1300]\tvalid_0's binary_logloss: 0.0123076\n",
      "[1400]\tvalid_0's binary_logloss: 0.0122669\n",
      "[1500]\tvalid_0's binary_logloss: 0.0122334\n",
      "[1600]\tvalid_0's binary_logloss: 0.0122022\n",
      "[1700]\tvalid_0's binary_logloss: 0.0121763\n"
     ]
    },
    {
     "name": "stderr",
     "output_type": "stream",
     "text": [
      "\u001b[32m[I 2022-07-09 18:01:29,086]\u001b[0m Trial 197 finished with value: 0.4997363518121419 and parameters: {'max_depth': 3, 'learning_rate': 0.00020364416586302343, 'n_estimators': 1778, 'num_leaves': 349, 'colsample_bytree': 0.580878842506629, 'subsample': 0.5160928417279371, 'reg_alpha': 3.9554506806982843, 'reg_lambda': 0.6720173645510178}. Best is trial 75 with value: 0.7725514640071602.\u001b[0m\n"
     ]
    },
    {
     "name": "stdout",
     "output_type": "stream",
     "text": [
      "[100]\tvalid_0's binary_logloss: 0.0136781\n",
      "[200]\tvalid_0's binary_logloss: 0.0131377\n",
      "[300]\tvalid_0's binary_logloss: 0.0128054\n",
      "[400]\tvalid_0's binary_logloss: 0.0125768\n",
      "[500]\tvalid_0's binary_logloss: 0.012407\n",
      "[600]\tvalid_0's binary_logloss: 0.0122832\n",
      "[700]\tvalid_0's binary_logloss: 0.0121864\n",
      "[800]\tvalid_0's binary_logloss: 0.0121232\n",
      "[900]\tvalid_0's binary_logloss: 0.0120777\n",
      "[1000]\tvalid_0's binary_logloss: 0.0120502\n",
      "[1100]\tvalid_0's binary_logloss: 0.0120379\n",
      "[1200]\tvalid_0's binary_logloss: 0.0120391\n",
      "[1300]\tvalid_0's binary_logloss: 0.0120519\n",
      "[1400]\tvalid_0's binary_logloss: 0.0120759\n",
      "[1500]\tvalid_0's binary_logloss: 0.0121104\n",
      "[1600]\tvalid_0's binary_logloss: 0.0121559\n",
      "[1700]\tvalid_0's binary_logloss: 0.0122096\n",
      "[1800]\tvalid_0's binary_logloss: 0.0122704\n"
     ]
    },
    {
     "name": "stderr",
     "output_type": "stream",
     "text": [
      "\u001b[32m[I 2022-07-09 18:01:57,958]\u001b[0m Trial 198 finished with value: 0.6250366692036734 and parameters: {'max_depth': 4, 'learning_rate': 0.00039925619105127724, 'n_estimators': 1820, 'num_leaves': 304, 'colsample_bytree': 0.5922348804271866, 'subsample': 0.5219616453492724, 'reg_alpha': 3.7335309368633425, 'reg_lambda': 0.49037675964964533}. Best is trial 75 with value: 0.7725514640071602.\u001b[0m\n"
     ]
    },
    {
     "name": "stdout",
     "output_type": "stream",
     "text": [
      "[100]\tvalid_0's binary_logloss: 0.0139437\n",
      "[200]\tvalid_0's binary_logloss: 0.013448\n",
      "[300]\tvalid_0's binary_logloss: 0.0131182\n",
      "[400]\tvalid_0's binary_logloss: 0.0128855\n",
      "[500]\tvalid_0's binary_logloss: 0.0127086\n",
      "[600]\tvalid_0's binary_logloss: 0.0125741\n",
      "[700]\tvalid_0's binary_logloss: 0.012462\n",
      "[800]\tvalid_0's binary_logloss: 0.0123762\n",
      "[900]\tvalid_0's binary_logloss: 0.0123043\n",
      "[1000]\tvalid_0's binary_logloss: 0.0122487\n",
      "[1100]\tvalid_0's binary_logloss: 0.0122017\n",
      "[1200]\tvalid_0's binary_logloss: 0.0121656\n",
      "[1300]\tvalid_0's binary_logloss: 0.0121395\n",
      "[1400]\tvalid_0's binary_logloss: 0.0121226\n",
      "[1500]\tvalid_0's binary_logloss: 0.0121151\n",
      "[1600]\tvalid_0's binary_logloss: 0.0121154\n",
      "[1700]\tvalid_0's binary_logloss: 0.0121217\n"
     ]
    },
    {
     "name": "stderr",
     "output_type": "stream",
     "text": [
      "\u001b[32m[I 2022-07-09 18:02:09,133]\u001b[0m Trial 199 finished with value: 0.4997363518121419 and parameters: {'max_depth': 3, 'learning_rate': 0.00029592302746682603, 'n_estimators': 1710, 'num_leaves': 281, 'colsample_bytree': 0.5660146865616346, 'subsample': 0.5323223844493876, 'reg_alpha': 4.1631036790790565, 'reg_lambda': 0.6376520844004635}. Best is trial 75 with value: 0.7725514640071602.\u001b[0m\n"
     ]
    }
   ],
   "source": [
    "study = optuna.create_study(direction='maximize', sampler=sampler)\n",
    "study.optimize(objective, n_trials=200)"
   ]
  },
  {
   "cell_type": "code",
   "execution_count": 26,
   "metadata": {},
   "outputs": [
    {
     "name": "stdout",
     "output_type": "stream",
     "text": [
      "Best model:\n",
      "  F1-score: 0.7726\n",
      "  params  : {'max_depth': 3, 'learning_rate': 0.0005320502362980809, 'n_estimators': 1202, 'num_leaves': 409, 'colsample_bytree': 0.6822670702134966, 'subsample': 0.6968505503703223, 'reg_alpha': 1.7758721383692797, 'reg_lambda': 0.2537070327857336}\n"
     ]
    }
   ],
   "source": [
    "best_model = study.best_trial\n",
    "best_params = best_model.params\n",
    "\n",
    "print(\"Best model:\")\n",
    "print(\"  F1-score: {}\".format(round(best_model.value, 4)))\n",
    "print(\"  params  : {}\".format(best_params))"
   ]
  },
  {
   "cell_type": "code",
   "execution_count": 27,
   "metadata": {},
   "outputs": [
    {
     "name": "stdout",
     "output_type": "stream",
     "text": [
      "[100]\tvalid_0's binary_logloss: 0.0134457\n",
      "[200]\tvalid_0's binary_logloss: 0.0129045\n",
      "[300]\tvalid_0's binary_logloss: 0.0125956\n",
      "[400]\tvalid_0's binary_logloss: 0.0124055\n",
      "[500]\tvalid_0's binary_logloss: 0.0122773\n",
      "[600]\tvalid_0's binary_logloss: 0.0121883\n",
      "[700]\tvalid_0's binary_logloss: 0.0121355\n",
      "[800]\tvalid_0's binary_logloss: 0.0121129\n",
      "[900]\tvalid_0's binary_logloss: 0.0121142\n",
      "[1000]\tvalid_0's binary_logloss: 0.012135\n",
      "[1100]\tvalid_0's binary_logloss: 0.0121756\n",
      "[1200]\tvalid_0's binary_logloss: 0.0122324\n"
     ]
    },
    {
     "data": {
      "text/plain": [
       "LGBMClassifier(boosting_type='gbdt', class_weight=None,\n",
       "               colsample_bytree=0.6822670702134966, importance_type='split',\n",
       "               learning_rate=0.0005320502362980809, max_depth=3,\n",
       "               min_child_samples=20, min_child_weight=0.001, min_split_gain=0.0,\n",
       "               n_estimators=1202, n_jobs=-1, num_leaves=409, objective=None,\n",
       "               random_state=None, reg_alpha=1.7758721383692797,\n",
       "               reg_lambda=0.2537070327857336, silent='warn',\n",
       "               subsample=0.6968505503703223, subsample_for_bin=200000,\n",
       "               subsample_freq=0)"
      ]
     },
     "execution_count": 27,
     "metadata": {},
     "output_type": "execute_result"
    }
   ],
   "source": [
    "model = LGBMClassifier(**best_params)\n",
    "model.fit(X_train, y_train, eval_set=[(X_valid, y_valid)], eval_metric='logloss', verbose=100)"
   ]
  },
  {
   "cell_type": "code",
   "execution_count": 28,
   "metadata": {},
   "outputs": [
    {
     "data": {
      "text/plain": [
       "array([0, 0, 0, ..., 0, 0, 0], dtype=int64)"
      ]
     },
     "execution_count": 28,
     "metadata": {},
     "output_type": "execute_result"
    }
   ],
   "source": [
    "y_valid_pred = model.predict(X_valid)\n",
    "y_valid_pred"
   ]
  },
  {
   "cell_type": "code",
   "execution_count": 29,
   "metadata": {},
   "outputs": [
    {
     "name": "stdout",
     "output_type": "stream",
     "text": [
      "Precision: 0.4333\n",
      "Recall   : 0.4333\n",
      "F1-score : 0.7164\n"
     ]
    }
   ],
   "source": [
    "print(\"Precision: {:.4f}\".format(precision_score(y_valid, y_valid_pred)))\n",
    "print(\"Recall   : {:.4f}\".format(recall_score(y_valid, y_valid_pred)))\n",
    "print(\"F1-score : {:.4f}\".format(f1_score(y_valid, y_valid_pred, average=\"macro\")))"
   ]
  },
  {
   "cell_type": "markdown",
   "metadata": {},
   "source": [
    "## 최종 결과 생성"
   ]
  },
  {
   "cell_type": "markdown",
   "metadata": {},
   "source": [
    "#### 예측값 생성"
   ]
  },
  {
   "cell_type": "code",
   "execution_count": 30,
   "metadata": {},
   "outputs": [],
   "source": [
    "test = pd.read_csv(\"../data/test.csv\")\n",
    "X_test = test.drop(columns=['ID'])\n",
    "y_test_pred = model.predict(X_test)"
   ]
  },
  {
   "cell_type": "markdown",
   "metadata": {},
   "source": [
    "#### 제출 파일 저장"
   ]
  },
  {
   "cell_type": "code",
   "execution_count": 31,
   "metadata": {},
   "outputs": [],
   "source": [
    "submit = pd.read_csv(\"../data/sample_submission.csv\")\n",
    "submit['Class'] = y_test_pred\n",
    "submit.to_csv(\"./submit.csv\", index=False)"
   ]
  }
 ],
 "metadata": {
  "kernelspec": {
   "display_name": "Python 3",
   "language": "python",
   "name": "python3"
  },
  "language_info": {
   "codemirror_mode": {
    "name": "ipython",
    "version": 3
   },
   "file_extension": ".py",
   "mimetype": "text/x-python",
   "name": "python",
   "nbconvert_exporter": "python",
   "pygments_lexer": "ipython3",
   "version": "3.7.6"
  },
  "toc": {
   "base_numbering": 1,
   "nav_menu": {},
   "number_sections": false,
   "sideBar": true,
   "skip_h1_title": false,
   "title_cell": "Table of Contents",
   "title_sidebar": "Contents",
   "toc_cell": false,
   "toc_position": {},
   "toc_section_display": true,
   "toc_window_display": false
  },
  "varInspector": {
   "cols": {
    "lenName": 16,
    "lenType": 16,
    "lenVar": 40
   },
   "kernels_config": {
    "python": {
     "delete_cmd_postfix": "",
     "delete_cmd_prefix": "del ",
     "library": "var_list.py",
     "varRefreshCmd": "print(var_dic_list())"
    },
    "r": {
     "delete_cmd_postfix": ") ",
     "delete_cmd_prefix": "rm(",
     "library": "var_list.r",
     "varRefreshCmd": "cat(var_dic_list()) "
    }
   },
   "types_to_exclude": [
    "module",
    "function",
    "builtin_function_or_method",
    "instance",
    "_Feature"
   ],
   "window_display": false
  }
 },
 "nbformat": 4,
 "nbformat_minor": 2
}
